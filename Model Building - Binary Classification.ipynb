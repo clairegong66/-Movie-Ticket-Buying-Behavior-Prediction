{
 "cells": [
  {
   "cell_type": "markdown",
   "metadata": {},
   "source": [
    "## Model Building - Binary Classification\n",
    "1. Logistic Regression\n",
    "2. Random Forest\n",
    "3. XGBoost"
   ]
  },
  {
   "cell_type": "code",
   "execution_count": 1,
   "metadata": {},
   "outputs": [],
   "source": [
    "# Import necessary packages\n",
    "import pandas as pd\n",
    "import numpy as np\n",
    "from sklearn.linear_model import LogisticRegression\n",
    "from sklearn.model_selection import train_test_split\n",
    "import matplotlib.pyplot as plt\n",
    "import time\n",
    "from sklearn.metrics import classification_report\n",
    "from sklearn.cross_validation import cross_val_score\n",
    "\n",
    "# Set seed to unify training and testing datasets from various models\n",
    "np.random.seed(666)"
   ]
  },
  {
   "cell_type": "markdown",
   "metadata": {},
   "source": [
    "### Preparing dataset for modeling"
   ]
  },
  {
   "cell_type": "code",
   "execution_count": 2,
   "metadata": {},
   "outputs": [],
   "source": [
    "# Read in datasets\n",
    "data_for_model = pd.read_csv('modeling_data_v2.csv')\n",
    "oot_data = pd.read_csv('oot_data_v2.csv')"
   ]
  },
  {
   "cell_type": "code",
   "execution_count": 3,
   "metadata": {
    "scrolled": true
   },
   "outputs": [
    {
     "name": "stdout",
     "output_type": "stream",
     "text": [
      "<class 'pandas.core.frame.DataFrame'>\n",
      "RangeIndex: 1781036 entries, 0 to 1781035\n",
      "Data columns (total 119 columns):\n",
      "HASHED_ATOM_CUSTOMER_ID                        1781036 non-null object\n",
      "OS_TYPE_e                                      1781036 non-null object\n",
      "PRODUCTION_ID                                  1781036 non-null int64\n",
      "RATINGS                                        1781036 non-null int64\n",
      "MOVIE_DETAILS_PAGES_VIEWED_BY_CUSTOMER         1781036 non-null int64\n",
      "MOVIE_DETAILS_PAGES_VIEWED_BY_ALL_CUSTOMERS    1781036 non-null int64\n",
      "USER_SHARE_OF_ALL_MOVIE_DETAIL_PAGES           1781036 non-null float64\n",
      "WANT_TO_SEE_CLICKS                             1781036 non-null int64\n",
      "TRAILER_VIEWS                                  1781036 non-null int64\n",
      "TICKETS                                        1781036 non-null float64\n",
      "RELEASE_DATE                                   1781036 non-null object\n",
      "DATE                                           1781036 non-null object\n",
      "mean_HASHED_ATOM_CUSTOMER_ID_1d_pages          1781036 non-null float64\n",
      "mean_HASHED_ATOM_CUSTOMER_ID_3d_pages          1781036 non-null float64\n",
      "mean_HASHED_ATOM_CUSTOMER_ID_7d_pages          1781036 non-null float64\n",
      "mean_HASHED_ATOM_CUSTOMER_ID_14d_pages         1781036 non-null float64\n",
      "mean_HASHED_ATOM_CUSTOMER_ID_30d_pages         1781036 non-null float64\n",
      "max_HASHED_ATOM_CUSTOMER_ID_1d_pages           1781036 non-null float64\n",
      "max_HASHED_ATOM_CUSTOMER_ID_3d_pages           1781036 non-null float64\n",
      "max_HASHED_ATOM_CUSTOMER_ID_7d_pages           1781036 non-null float64\n",
      "max_HASHED_ATOM_CUSTOMER_ID_14d_pages          1781036 non-null float64\n",
      "max_HASHED_ATOM_CUSTOMER_ID_30d_pages          1781036 non-null float64\n",
      "median_HASHED_ATOM_CUSTOMER_ID_1d_pages        1781036 non-null float64\n",
      "median_HASHED_ATOM_CUSTOMER_ID_3d_pages        1781036 non-null float64\n",
      "median_HASHED_ATOM_CUSTOMER_ID_7d_pages        1781036 non-null float64\n",
      "median_HASHED_ATOM_CUSTOMER_ID_14d_pages       1781036 non-null float64\n",
      "median_HASHED_ATOM_CUSTOMER_ID_30d_pages       1781036 non-null float64\n",
      "sum_HASHED_ATOM_CUSTOMER_ID_1d_pages           1781036 non-null float64\n",
      "sum_HASHED_ATOM_CUSTOMER_ID_3d_pages           1781036 non-null float64\n",
      "sum_HASHED_ATOM_CUSTOMER_ID_7d_pages           1781036 non-null float64\n",
      "sum_HASHED_ATOM_CUSTOMER_ID_14d_pages          1781036 non-null float64\n",
      "sum_HASHED_ATOM_CUSTOMER_ID_30d_pages          1781036 non-null float64\n",
      "count_HASHED_ATOM_CUSTOMER_ID_1d_pages         1781036 non-null float64\n",
      "count_HASHED_ATOM_CUSTOMER_ID_3d_pages         1781036 non-null float64\n",
      "count_HASHED_ATOM_CUSTOMER_ID_7d_pages         1781036 non-null float64\n",
      "count_HASHED_ATOM_CUSTOMER_ID_14d_pages        1781036 non-null float64\n",
      "count_HASHED_ATOM_CUSTOMER_ID_30d_pages        1781036 non-null float64\n",
      "DATE_TO_RELEASE                                1781036 non-null object\n",
      "CNT_ENGAGE                                     1781036 non-null int64\n",
      "CNT_WANT_TO_SEE_CLICKS                         1781036 non-null int64\n",
      "CNT_TRAILER_VIEWS                              1781036 non-null int64\n",
      "CNT_MOVIE_ENGAGEMENT                           1781036 non-null int64\n",
      "TICKETS_CLASS                                  1781036 non-null float64\n",
      "WEEKDAY_OF_ENGAGEMENT                          1781036 non-null int64\n",
      "mean_HASHED_ATOM_CUSTOMER_ID_28d_pages         1781036 non-null float64\n",
      "mean_HASHED_ATOM_CUSTOMER_ID_35d_pages         1781036 non-null float64\n",
      "mean_HASHED_ATOM_CUSTOMER_ID_42d_pages         1781036 non-null float64\n",
      "mean_HASHED_ATOM_CUSTOMER_ID_49d_pages         1781036 non-null float64\n",
      "mean_HASHED_ATOM_CUSTOMER_ID_56d_pages         1781036 non-null float64\n",
      "max_HASHED_ATOM_CUSTOMER_ID_28d_pages          1781036 non-null float64\n",
      "max_HASHED_ATOM_CUSTOMER_ID_35d_pages          1781036 non-null float64\n",
      "max_HASHED_ATOM_CUSTOMER_ID_42d_pages          1781036 non-null float64\n",
      "max_HASHED_ATOM_CUSTOMER_ID_49d_pages          1781036 non-null float64\n",
      "max_HASHED_ATOM_CUSTOMER_ID_56d_pages          1781036 non-null float64\n",
      "median_HASHED_ATOM_CUSTOMER_ID_28d_pages       1781036 non-null float64\n",
      "median_HASHED_ATOM_CUSTOMER_ID_35d_pages       1781036 non-null float64\n",
      "median_HASHED_ATOM_CUSTOMER_ID_42d_pages       1781036 non-null float64\n",
      "median_HASHED_ATOM_CUSTOMER_ID_49d_pages       1781036 non-null float64\n",
      "median_HASHED_ATOM_CUSTOMER_ID_56d_pages       1781036 non-null float64\n",
      "sum_HASHED_ATOM_CUSTOMER_ID_28d_pages          1781036 non-null float64\n",
      "sum_HASHED_ATOM_CUSTOMER_ID_35d_pages          1781036 non-null float64\n",
      "sum_HASHED_ATOM_CUSTOMER_ID_42d_pages          1781036 non-null float64\n",
      "sum_HASHED_ATOM_CUSTOMER_ID_49d_pages          1781036 non-null float64\n",
      "sum_HASHED_ATOM_CUSTOMER_ID_56d_pages          1781036 non-null float64\n",
      "count_HASHED_ATOM_CUSTOMER_ID_28d_pages        1781036 non-null float64\n",
      "count_HASHED_ATOM_CUSTOMER_ID_35d_pages        1781036 non-null float64\n",
      "count_HASHED_ATOM_CUSTOMER_ID_42d_pages        1781036 non-null float64\n",
      "count_HASHED_ATOM_CUSTOMER_ID_49d_pages        1781036 non-null float64\n",
      "count_HASHED_ATOM_CUSTOMER_ID_56d_pages        1781036 non-null float64\n",
      "mean_HASHED_ATOM_CUSTOMER_ID_1d_ratings        1781036 non-null float64\n",
      "mean_HASHED_ATOM_CUSTOMER_ID_3d_ratings        1781036 non-null float64\n",
      "mean_HASHED_ATOM_CUSTOMER_ID_7d_ratings        1781036 non-null float64\n",
      "mean_HASHED_ATOM_CUSTOMER_ID_14d_ratings       1781036 non-null float64\n",
      "mean_HASHED_ATOM_CUSTOMER_ID_28d_ratings       1781036 non-null float64\n",
      "mean_HASHED_ATOM_CUSTOMER_ID_30d_ratings       1781036 non-null float64\n",
      "mean_HASHED_ATOM_CUSTOMER_ID_35d_ratings       1781036 non-null float64\n",
      "mean_HASHED_ATOM_CUSTOMER_ID_42d_ratings       1781036 non-null float64\n",
      "mean_HASHED_ATOM_CUSTOMER_ID_49d_ratings       1781036 non-null float64\n",
      "mean_HASHED_ATOM_CUSTOMER_ID_56d_ratings       1781036 non-null float64\n",
      "max_HASHED_ATOM_CUSTOMER_ID_1d_ratings         1781036 non-null float64\n",
      "max_HASHED_ATOM_CUSTOMER_ID_3d_ratings         1781036 non-null float64\n",
      "max_HASHED_ATOM_CUSTOMER_ID_7d_ratings         1781036 non-null float64\n",
      "max_HASHED_ATOM_CUSTOMER_ID_14d_ratings        1781036 non-null float64\n",
      "max_HASHED_ATOM_CUSTOMER_ID_28d_ratings        1781036 non-null float64\n",
      "max_HASHED_ATOM_CUSTOMER_ID_30d_ratings        1781036 non-null float64\n",
      "max_HASHED_ATOM_CUSTOMER_ID_35d_ratings        1781036 non-null float64\n",
      "max_HASHED_ATOM_CUSTOMER_ID_42d_ratings        1781036 non-null float64\n",
      "max_HASHED_ATOM_CUSTOMER_ID_49d_ratings        1781036 non-null float64\n",
      "max_HASHED_ATOM_CUSTOMER_ID_56d_ratings        1781036 non-null float64\n",
      "median_HASHED_ATOM_CUSTOMER_ID_1d_ratings      1781036 non-null float64\n",
      "median_HASHED_ATOM_CUSTOMER_ID_3d_ratings      1781036 non-null float64\n",
      "median_HASHED_ATOM_CUSTOMER_ID_7d_ratings      1781036 non-null float64\n",
      "median_HASHED_ATOM_CUSTOMER_ID_14d_ratings     1781036 non-null float64\n",
      "median_HASHED_ATOM_CUSTOMER_ID_28d_ratings     1781036 non-null float64\n",
      "median_HASHED_ATOM_CUSTOMER_ID_30d_ratings     1781036 non-null float64\n",
      "median_HASHED_ATOM_CUSTOMER_ID_35d_ratings     1781036 non-null float64\n",
      "median_HASHED_ATOM_CUSTOMER_ID_42d_ratings     1781036 non-null float64\n",
      "median_HASHED_ATOM_CUSTOMER_ID_49d_ratings     1781036 non-null float64\n",
      "median_HASHED_ATOM_CUSTOMER_ID_56d_ratings     1781036 non-null float64\n",
      "sum_HASHED_ATOM_CUSTOMER_ID_1d_ratings         1781036 non-null float64\n",
      "sum_HASHED_ATOM_CUSTOMER_ID_3d_ratings         1781036 non-null float64\n",
      "sum_HASHED_ATOM_CUSTOMER_ID_7d_ratings         1781036 non-null float64\n",
      "sum_HASHED_ATOM_CUSTOMER_ID_14d_ratings        1781036 non-null float64\n",
      "sum_HASHED_ATOM_CUSTOMER_ID_28d_ratings        1781036 non-null float64\n",
      "sum_HASHED_ATOM_CUSTOMER_ID_30d_ratings        1781036 non-null float64\n",
      "sum_HASHED_ATOM_CUSTOMER_ID_35d_ratings        1781036 non-null float64\n",
      "sum_HASHED_ATOM_CUSTOMER_ID_42d_ratings        1781036 non-null float64\n",
      "sum_HASHED_ATOM_CUSTOMER_ID_49d_ratings        1781036 non-null float64\n",
      "sum_HASHED_ATOM_CUSTOMER_ID_56d_ratings        1781036 non-null float64\n",
      "count_HASHED_ATOM_CUSTOMER_ID_1d_ratings       1781036 non-null float64\n",
      "count_HASHED_ATOM_CUSTOMER_ID_3d_ratings       1781036 non-null float64\n",
      "count_HASHED_ATOM_CUSTOMER_ID_7d_ratings       1781036 non-null float64\n",
      "count_HASHED_ATOM_CUSTOMER_ID_14d_ratings      1781036 non-null float64\n",
      "count_HASHED_ATOM_CUSTOMER_ID_28d_ratings      1781036 non-null float64\n",
      "count_HASHED_ATOM_CUSTOMER_ID_30d_ratings      1781036 non-null float64\n",
      "count_HASHED_ATOM_CUSTOMER_ID_35d_ratings      1781036 non-null float64\n",
      "count_HASHED_ATOM_CUSTOMER_ID_42d_ratings      1781036 non-null float64\n",
      "count_HASHED_ATOM_CUSTOMER_ID_49d_ratings      1781036 non-null float64\n",
      "count_HASHED_ATOM_CUSTOMER_ID_56d_ratings      1781036 non-null float64\n",
      "dtypes: float64(103), int64(11), object(5)\n",
      "memory usage: 1.6+ GB\n"
     ]
    }
   ],
   "source": [
    "data_for_model.info(verbose = True, null_counts = True)"
   ]
  },
  {
   "cell_type": "code",
   "execution_count": 4,
   "metadata": {},
   "outputs": [],
   "source": [
    "# Drop variable TICKETS_CLASS \n",
    "data_binary = data_for_model.drop(columns = ['TICKETS_CLASS'])"
   ]
  },
  {
   "cell_type": "code",
   "execution_count": 5,
   "metadata": {},
   "outputs": [
    {
     "data": {
      "text/plain": [
       "array([  0.,   1.,   2.,   8.,   4.,   3.,   5.,   6.,   7.,  20.,  10.,\n",
       "         9.,  12.,  18.,  37.,  15.,  16.,  22.,  11.,  24.,  13.,  14.,\n",
       "        88., 138., 140.,  30.,  42.,  21., 100.,  80., 120.,  60., 130.,\n",
       "        90.,  70.,  23.,  32.,  51.,  38.,  25.,  27.,  26.,  29.,  17.,\n",
       "        19.,  28.,  40.,  46.,  74.,  48.,  71.,  36.,  34.,  50.,  53.,\n",
       "        65.,  66.,  44.])"
      ]
     },
     "execution_count": 5,
     "metadata": {},
     "output_type": "execute_result"
    }
   ],
   "source": [
    "# Check unique values in dependent variable TICKETS\n",
    "data_binary['TICKETS'].unique()"
   ]
  },
  {
   "cell_type": "code",
   "execution_count": 6,
   "metadata": {},
   "outputs": [],
   "source": [
    "# Replace all values > 0 to 1\n",
    "data_binary['TICKETS'] = data_binary['TICKETS'].apply(lambda x: 1 if x > 0 else x)"
   ]
  },
  {
   "cell_type": "code",
   "execution_count": 7,
   "metadata": {},
   "outputs": [
    {
     "data": {
      "text/plain": [
       "array([0., 1.])"
      ]
     },
     "execution_count": 7,
     "metadata": {},
     "output_type": "execute_result"
    }
   ],
   "source": [
    "# Check replacement correctness\n",
    "data_binary['TICKETS'].unique()"
   ]
  },
  {
   "cell_type": "code",
   "execution_count": 8,
   "metadata": {},
   "outputs": [],
   "source": [
    "# Deal with categorical variables\n",
    "\n",
    "## Drop useless columns\n",
    "data_binary.drop(columns = ['PRODUCTION_ID','RELEASE_DATE','DATE','HASHED_ATOM_CUSTOMER_ID'], inplace = True)"
   ]
  },
  {
   "cell_type": "code",
   "execution_count": 9,
   "metadata": {},
   "outputs": [],
   "source": [
    "## One-hot encoding for 'WEEKDAY_OF_ENGAGEMENT','OS_TYPE_e'\n",
    "data_binary = pd.get_dummies(data_binary, prefix_sep = '_', columns = ['WEEKDAY_OF_ENGAGEMENT','OS_TYPE_e'])"
   ]
  },
  {
   "cell_type": "code",
   "execution_count": 10,
   "metadata": {},
   "outputs": [],
   "source": [
    "## Convert DATE_TO_RELEASE to numeric\n",
    "data_binary[\"DATE_TO_RELEASE\"]=data_binary[\"DATE_TO_RELEASE\"].str.replace('+','')\n",
    "data_binary[\"DATE_TO_RELEASE\"]=data_binary[\"DATE_TO_RELEASE\"].str.replace(' days 00:00:00.000000000','').astype(int)"
   ]
  },
  {
   "cell_type": "code",
   "execution_count": 11,
   "metadata": {},
   "outputs": [
    {
     "name": "stdout",
     "output_type": "stream",
     "text": [
      "<class 'pandas.core.frame.DataFrame'>\n",
      "RangeIndex: 1781036 entries, 0 to 1781035\n",
      "Data columns (total 122 columns):\n",
      "RATINGS                                        1781036 non-null int64\n",
      "MOVIE_DETAILS_PAGES_VIEWED_BY_CUSTOMER         1781036 non-null int64\n",
      "MOVIE_DETAILS_PAGES_VIEWED_BY_ALL_CUSTOMERS    1781036 non-null int64\n",
      "USER_SHARE_OF_ALL_MOVIE_DETAIL_PAGES           1781036 non-null float64\n",
      "WANT_TO_SEE_CLICKS                             1781036 non-null int64\n",
      "TRAILER_VIEWS                                  1781036 non-null int64\n",
      "TICKETS                                        1781036 non-null float64\n",
      "mean_HASHED_ATOM_CUSTOMER_ID_1d_pages          1781036 non-null float64\n",
      "mean_HASHED_ATOM_CUSTOMER_ID_3d_pages          1781036 non-null float64\n",
      "mean_HASHED_ATOM_CUSTOMER_ID_7d_pages          1781036 non-null float64\n",
      "mean_HASHED_ATOM_CUSTOMER_ID_14d_pages         1781036 non-null float64\n",
      "mean_HASHED_ATOM_CUSTOMER_ID_30d_pages         1781036 non-null float64\n",
      "max_HASHED_ATOM_CUSTOMER_ID_1d_pages           1781036 non-null float64\n",
      "max_HASHED_ATOM_CUSTOMER_ID_3d_pages           1781036 non-null float64\n",
      "max_HASHED_ATOM_CUSTOMER_ID_7d_pages           1781036 non-null float64\n",
      "max_HASHED_ATOM_CUSTOMER_ID_14d_pages          1781036 non-null float64\n",
      "max_HASHED_ATOM_CUSTOMER_ID_30d_pages          1781036 non-null float64\n",
      "median_HASHED_ATOM_CUSTOMER_ID_1d_pages        1781036 non-null float64\n",
      "median_HASHED_ATOM_CUSTOMER_ID_3d_pages        1781036 non-null float64\n",
      "median_HASHED_ATOM_CUSTOMER_ID_7d_pages        1781036 non-null float64\n",
      "median_HASHED_ATOM_CUSTOMER_ID_14d_pages       1781036 non-null float64\n",
      "median_HASHED_ATOM_CUSTOMER_ID_30d_pages       1781036 non-null float64\n",
      "sum_HASHED_ATOM_CUSTOMER_ID_1d_pages           1781036 non-null float64\n",
      "sum_HASHED_ATOM_CUSTOMER_ID_3d_pages           1781036 non-null float64\n",
      "sum_HASHED_ATOM_CUSTOMER_ID_7d_pages           1781036 non-null float64\n",
      "sum_HASHED_ATOM_CUSTOMER_ID_14d_pages          1781036 non-null float64\n",
      "sum_HASHED_ATOM_CUSTOMER_ID_30d_pages          1781036 non-null float64\n",
      "count_HASHED_ATOM_CUSTOMER_ID_1d_pages         1781036 non-null float64\n",
      "count_HASHED_ATOM_CUSTOMER_ID_3d_pages         1781036 non-null float64\n",
      "count_HASHED_ATOM_CUSTOMER_ID_7d_pages         1781036 non-null float64\n",
      "count_HASHED_ATOM_CUSTOMER_ID_14d_pages        1781036 non-null float64\n",
      "count_HASHED_ATOM_CUSTOMER_ID_30d_pages        1781036 non-null float64\n",
      "DATE_TO_RELEASE                                1781036 non-null int64\n",
      "CNT_ENGAGE                                     1781036 non-null int64\n",
      "CNT_WANT_TO_SEE_CLICKS                         1781036 non-null int64\n",
      "CNT_TRAILER_VIEWS                              1781036 non-null int64\n",
      "CNT_MOVIE_ENGAGEMENT                           1781036 non-null int64\n",
      "mean_HASHED_ATOM_CUSTOMER_ID_28d_pages         1781036 non-null float64\n",
      "mean_HASHED_ATOM_CUSTOMER_ID_35d_pages         1781036 non-null float64\n",
      "mean_HASHED_ATOM_CUSTOMER_ID_42d_pages         1781036 non-null float64\n",
      "mean_HASHED_ATOM_CUSTOMER_ID_49d_pages         1781036 non-null float64\n",
      "mean_HASHED_ATOM_CUSTOMER_ID_56d_pages         1781036 non-null float64\n",
      "max_HASHED_ATOM_CUSTOMER_ID_28d_pages          1781036 non-null float64\n",
      "max_HASHED_ATOM_CUSTOMER_ID_35d_pages          1781036 non-null float64\n",
      "max_HASHED_ATOM_CUSTOMER_ID_42d_pages          1781036 non-null float64\n",
      "max_HASHED_ATOM_CUSTOMER_ID_49d_pages          1781036 non-null float64\n",
      "max_HASHED_ATOM_CUSTOMER_ID_56d_pages          1781036 non-null float64\n",
      "median_HASHED_ATOM_CUSTOMER_ID_28d_pages       1781036 non-null float64\n",
      "median_HASHED_ATOM_CUSTOMER_ID_35d_pages       1781036 non-null float64\n",
      "median_HASHED_ATOM_CUSTOMER_ID_42d_pages       1781036 non-null float64\n",
      "median_HASHED_ATOM_CUSTOMER_ID_49d_pages       1781036 non-null float64\n",
      "median_HASHED_ATOM_CUSTOMER_ID_56d_pages       1781036 non-null float64\n",
      "sum_HASHED_ATOM_CUSTOMER_ID_28d_pages          1781036 non-null float64\n",
      "sum_HASHED_ATOM_CUSTOMER_ID_35d_pages          1781036 non-null float64\n",
      "sum_HASHED_ATOM_CUSTOMER_ID_42d_pages          1781036 non-null float64\n",
      "sum_HASHED_ATOM_CUSTOMER_ID_49d_pages          1781036 non-null float64\n",
      "sum_HASHED_ATOM_CUSTOMER_ID_56d_pages          1781036 non-null float64\n",
      "count_HASHED_ATOM_CUSTOMER_ID_28d_pages        1781036 non-null float64\n",
      "count_HASHED_ATOM_CUSTOMER_ID_35d_pages        1781036 non-null float64\n",
      "count_HASHED_ATOM_CUSTOMER_ID_42d_pages        1781036 non-null float64\n",
      "count_HASHED_ATOM_CUSTOMER_ID_49d_pages        1781036 non-null float64\n",
      "count_HASHED_ATOM_CUSTOMER_ID_56d_pages        1781036 non-null float64\n",
      "mean_HASHED_ATOM_CUSTOMER_ID_1d_ratings        1781036 non-null float64\n",
      "mean_HASHED_ATOM_CUSTOMER_ID_3d_ratings        1781036 non-null float64\n",
      "mean_HASHED_ATOM_CUSTOMER_ID_7d_ratings        1781036 non-null float64\n",
      "mean_HASHED_ATOM_CUSTOMER_ID_14d_ratings       1781036 non-null float64\n",
      "mean_HASHED_ATOM_CUSTOMER_ID_28d_ratings       1781036 non-null float64\n",
      "mean_HASHED_ATOM_CUSTOMER_ID_30d_ratings       1781036 non-null float64\n",
      "mean_HASHED_ATOM_CUSTOMER_ID_35d_ratings       1781036 non-null float64\n",
      "mean_HASHED_ATOM_CUSTOMER_ID_42d_ratings       1781036 non-null float64\n",
      "mean_HASHED_ATOM_CUSTOMER_ID_49d_ratings       1781036 non-null float64\n",
      "mean_HASHED_ATOM_CUSTOMER_ID_56d_ratings       1781036 non-null float64\n",
      "max_HASHED_ATOM_CUSTOMER_ID_1d_ratings         1781036 non-null float64\n",
      "max_HASHED_ATOM_CUSTOMER_ID_3d_ratings         1781036 non-null float64\n",
      "max_HASHED_ATOM_CUSTOMER_ID_7d_ratings         1781036 non-null float64\n",
      "max_HASHED_ATOM_CUSTOMER_ID_14d_ratings        1781036 non-null float64\n",
      "max_HASHED_ATOM_CUSTOMER_ID_28d_ratings        1781036 non-null float64\n",
      "max_HASHED_ATOM_CUSTOMER_ID_30d_ratings        1781036 non-null float64\n",
      "max_HASHED_ATOM_CUSTOMER_ID_35d_ratings        1781036 non-null float64\n",
      "max_HASHED_ATOM_CUSTOMER_ID_42d_ratings        1781036 non-null float64\n",
      "max_HASHED_ATOM_CUSTOMER_ID_49d_ratings        1781036 non-null float64\n",
      "max_HASHED_ATOM_CUSTOMER_ID_56d_ratings        1781036 non-null float64\n",
      "median_HASHED_ATOM_CUSTOMER_ID_1d_ratings      1781036 non-null float64\n",
      "median_HASHED_ATOM_CUSTOMER_ID_3d_ratings      1781036 non-null float64\n",
      "median_HASHED_ATOM_CUSTOMER_ID_7d_ratings      1781036 non-null float64\n",
      "median_HASHED_ATOM_CUSTOMER_ID_14d_ratings     1781036 non-null float64\n",
      "median_HASHED_ATOM_CUSTOMER_ID_28d_ratings     1781036 non-null float64\n",
      "median_HASHED_ATOM_CUSTOMER_ID_30d_ratings     1781036 non-null float64\n",
      "median_HASHED_ATOM_CUSTOMER_ID_35d_ratings     1781036 non-null float64\n",
      "median_HASHED_ATOM_CUSTOMER_ID_42d_ratings     1781036 non-null float64\n",
      "median_HASHED_ATOM_CUSTOMER_ID_49d_ratings     1781036 non-null float64\n",
      "median_HASHED_ATOM_CUSTOMER_ID_56d_ratings     1781036 non-null float64\n",
      "sum_HASHED_ATOM_CUSTOMER_ID_1d_ratings         1781036 non-null float64\n",
      "sum_HASHED_ATOM_CUSTOMER_ID_3d_ratings         1781036 non-null float64\n",
      "sum_HASHED_ATOM_CUSTOMER_ID_7d_ratings         1781036 non-null float64\n",
      "sum_HASHED_ATOM_CUSTOMER_ID_14d_ratings        1781036 non-null float64\n",
      "sum_HASHED_ATOM_CUSTOMER_ID_28d_ratings        1781036 non-null float64\n",
      "sum_HASHED_ATOM_CUSTOMER_ID_30d_ratings        1781036 non-null float64\n",
      "sum_HASHED_ATOM_CUSTOMER_ID_35d_ratings        1781036 non-null float64\n",
      "sum_HASHED_ATOM_CUSTOMER_ID_42d_ratings        1781036 non-null float64\n",
      "sum_HASHED_ATOM_CUSTOMER_ID_49d_ratings        1781036 non-null float64\n",
      "sum_HASHED_ATOM_CUSTOMER_ID_56d_ratings        1781036 non-null float64\n",
      "count_HASHED_ATOM_CUSTOMER_ID_1d_ratings       1781036 non-null float64\n",
      "count_HASHED_ATOM_CUSTOMER_ID_3d_ratings       1781036 non-null float64\n",
      "count_HASHED_ATOM_CUSTOMER_ID_7d_ratings       1781036 non-null float64\n",
      "count_HASHED_ATOM_CUSTOMER_ID_14d_ratings      1781036 non-null float64\n",
      "count_HASHED_ATOM_CUSTOMER_ID_28d_ratings      1781036 non-null float64\n",
      "count_HASHED_ATOM_CUSTOMER_ID_30d_ratings      1781036 non-null float64\n",
      "count_HASHED_ATOM_CUSTOMER_ID_35d_ratings      1781036 non-null float64\n",
      "count_HASHED_ATOM_CUSTOMER_ID_42d_ratings      1781036 non-null float64\n",
      "count_HASHED_ATOM_CUSTOMER_ID_49d_ratings      1781036 non-null float64\n",
      "count_HASHED_ATOM_CUSTOMER_ID_56d_ratings      1781036 non-null float64\n",
      "WEEKDAY_OF_ENGAGEMENT_0                        1781036 non-null uint8\n",
      "WEEKDAY_OF_ENGAGEMENT_1                        1781036 non-null uint8\n",
      "WEEKDAY_OF_ENGAGEMENT_2                        1781036 non-null uint8\n",
      "WEEKDAY_OF_ENGAGEMENT_3                        1781036 non-null uint8\n",
      "WEEKDAY_OF_ENGAGEMENT_4                        1781036 non-null uint8\n",
      "WEEKDAY_OF_ENGAGEMENT_5                        1781036 non-null uint8\n",
      "WEEKDAY_OF_ENGAGEMENT_6                        1781036 non-null uint8\n",
      "OS_TYPE_e_Android                              1781036 non-null uint8\n",
      "OS_TYPE_e_iOS                                  1781036 non-null uint8\n",
      "OS_TYPE_e_web                                  1781036 non-null uint8\n",
      "dtypes: float64(102), int64(10), uint8(10)\n",
      "memory usage: 1.5 GB\n"
     ]
    }
   ],
   "source": [
    "data_binary.info(verbose = True, null_counts = True) #121 independent variables"
   ]
  },
  {
   "cell_type": "markdown",
   "metadata": {},
   "source": [
    "### Repeat the process for oot dataset"
   ]
  },
  {
   "cell_type": "code",
   "execution_count": 12,
   "metadata": {},
   "outputs": [],
   "source": [
    "# Drop variable TICKETS_CLASS \n",
    "oot_data = oot_data.drop(columns = ['TICKETS_CLASS'])"
   ]
  },
  {
   "cell_type": "code",
   "execution_count": 13,
   "metadata": {},
   "outputs": [
    {
     "data": {
      "text/plain": [
       "array([ 0.,  1.,  2.,  3.,  4.,  9., 12.,  5.,  6., 10.,  7.,  8., 60.,\n",
       "       18., 11., 17., 14., 13., 20., 24., 29., 16., 22., 28., 25., 15.,\n",
       "       54., 19., 34., 36., 68., 50.])"
      ]
     },
     "execution_count": 13,
     "metadata": {},
     "output_type": "execute_result"
    }
   ],
   "source": [
    "# Check unique values in dependent variable TICKETS\n",
    "oot_data['TICKETS'].unique()"
   ]
  },
  {
   "cell_type": "code",
   "execution_count": 14,
   "metadata": {},
   "outputs": [],
   "source": [
    "# Replace all values > 0 to 1\n",
    "oot_data['TICKETS'] = oot_data['TICKETS'].apply(lambda x: 1 if x > 0 else x)"
   ]
  },
  {
   "cell_type": "code",
   "execution_count": 15,
   "metadata": {},
   "outputs": [
    {
     "data": {
      "text/plain": [
       "array([0., 1.])"
      ]
     },
     "execution_count": 15,
     "metadata": {},
     "output_type": "execute_result"
    }
   ],
   "source": [
    "# Check replacement correctness\n",
    "oot_data['TICKETS'].unique()"
   ]
  },
  {
   "cell_type": "code",
   "execution_count": 16,
   "metadata": {},
   "outputs": [],
   "source": [
    "# Deal with categorical variables\n",
    "\n",
    "## Drop useless columns\n",
    "oot_data.drop(columns = ['PRODUCTION_ID','RELEASE_DATE','DATE','HASHED_ATOM_CUSTOMER_ID'], inplace = True)"
   ]
  },
  {
   "cell_type": "code",
   "execution_count": 17,
   "metadata": {},
   "outputs": [],
   "source": [
    "## One-hot encoding for 'WEEKDAY_OF_ENGAGEMENT','OS_TYPE_e'\n",
    "oot_data = pd.get_dummies(oot_data, prefix_sep = '_', columns = ['WEEKDAY_OF_ENGAGEMENT','OS_TYPE_e'])"
   ]
  },
  {
   "cell_type": "code",
   "execution_count": 18,
   "metadata": {},
   "outputs": [],
   "source": [
    "## Convert DATE_TO_RELEASE to numeric\n",
    "oot_data[\"DATE_TO_RELEASE\"] = oot_data[\"DATE_TO_RELEASE\"].str.replace('+','')\n",
    "oot_data[\"DATE_TO_RELEASE\"] = oot_data[\"DATE_TO_RELEASE\"].str.replace(' days 00:00:00.000000000','').astype(int)"
   ]
  },
  {
   "cell_type": "markdown",
   "metadata": {},
   "source": [
    "### Dividing training and testing sets\n",
    "Ramdomly divide dataset (excluding oot dataset) into training (70%) and testing (30%) sets\n"
   ]
  },
  {
   "cell_type": "code",
   "execution_count": 19,
   "metadata": {},
   "outputs": [
    {
     "name": "stdout",
     "output_type": "stream",
     "text": [
      "(1246725, 121) (1246725,)\n",
      "(534311, 121) (534311,)\n"
     ]
    }
   ],
   "source": [
    "### Set dependent variable\n",
    "y = data_binary.TICKETS\n",
    "\n",
    "### Drop dependent variable\n",
    "data_binary.drop(columns = ['TICKETS'], inplace = True)\n",
    "\n",
    "### Split the dataset into training and testing\n",
    "X_binary_train, X_binary_test, y_binary_train, y_binary_test = train_test_split(data_binary, y, test_size = 0.3)\n",
    "print (X_binary_train.shape, y_binary_train.shape)\n",
    "print (X_binary_test.shape, y_binary_test.shape)"
   ]
  },
  {
   "cell_type": "code",
   "execution_count": 20,
   "metadata": {},
   "outputs": [],
   "source": [
    "### Set dependent variable for oot\n",
    "oot_y = oot_data.TICKETS\n",
    "oot_X = oot_data.drop(columns = ['TICKETS'])"
   ]
  },
  {
   "cell_type": "markdown",
   "metadata": {},
   "source": [
    "### Feature Selection"
   ]
  },
  {
   "cell_type": "markdown",
   "metadata": {},
   "source": [
    "#### Recursive Feature Elimination"
   ]
  },
  {
   "cell_type": "code",
   "execution_count": 22,
   "metadata": {
    "scrolled": true
   },
   "outputs": [
    {
     "name": "stdout",
     "output_type": "stream",
     "text": [
      "Fitting estimator with 121 features.\n",
      "Fitting estimator with 120 features.\n",
      "Fitting estimator with 119 features.\n",
      "Fitting estimator with 118 features.\n",
      "Fitting estimator with 117 features.\n",
      "Fitting estimator with 116 features.\n",
      "Fitting estimator with 115 features.\n",
      "Fitting estimator with 114 features.\n",
      "Fitting estimator with 113 features.\n",
      "Fitting estimator with 112 features.\n",
      "Fitting estimator with 111 features.\n",
      "Fitting estimator with 110 features.\n",
      "Fitting estimator with 109 features.\n",
      "Fitting estimator with 108 features.\n",
      "Fitting estimator with 107 features.\n",
      "Fitting estimator with 106 features.\n",
      "Fitting estimator with 105 features.\n",
      "Fitting estimator with 104 features.\n",
      "Fitting estimator with 103 features.\n",
      "Fitting estimator with 102 features.\n",
      "Fitting estimator with 101 features.\n",
      "Fitting estimator with 100 features.\n",
      "Fitting estimator with 99 features.\n",
      "Fitting estimator with 98 features.\n",
      "Fitting estimator with 97 features.\n",
      "Fitting estimator with 96 features.\n",
      "Fitting estimator with 95 features.\n",
      "Fitting estimator with 94 features.\n",
      "Fitting estimator with 93 features.\n",
      "Fitting estimator with 92 features.\n",
      "Fitting estimator with 91 features.\n",
      "Fitting estimator with 90 features.\n",
      "Fitting estimator with 89 features.\n",
      "Fitting estimator with 88 features.\n",
      "Fitting estimator with 87 features.\n",
      "Fitting estimator with 86 features.\n",
      "Fitting estimator with 85 features.\n",
      "Fitting estimator with 84 features.\n",
      "Fitting estimator with 83 features.\n",
      "Fitting estimator with 82 features.\n",
      "Fitting estimator with 81 features.\n",
      "Fitting estimator with 80 features.\n",
      "Fitting estimator with 79 features.\n",
      "Fitting estimator with 78 features.\n",
      "Fitting estimator with 77 features.\n",
      "Fitting estimator with 76 features.\n",
      "Fitting estimator with 75 features.\n",
      "Fitting estimator with 74 features.\n",
      "Fitting estimator with 73 features.\n",
      "Fitting estimator with 72 features.\n",
      "Fitting estimator with 71 features.\n",
      "Fitting estimator with 70 features.\n",
      "Fitting estimator with 69 features.\n",
      "Fitting estimator with 68 features.\n",
      "Fitting estimator with 67 features.\n",
      "Fitting estimator with 66 features.\n",
      "Fitting estimator with 65 features.\n",
      "Fitting estimator with 64 features.\n",
      "Fitting estimator with 63 features.\n",
      "Fitting estimator with 62 features.\n",
      "Fitting estimator with 61 features.\n",
      "Fitting estimator with 60 features.\n",
      "Fitting estimator with 59 features.\n",
      "Fitting estimator with 58 features.\n",
      "Fitting estimator with 57 features.\n",
      "Fitting estimator with 56 features.\n",
      "Fitting estimator with 55 features.\n",
      "Fitting estimator with 54 features.\n",
      "Fitting estimator with 53 features.\n",
      "Fitting estimator with 52 features.\n",
      "Fitting estimator with 51 features.\n",
      "Fitting estimator with 50 features.\n",
      "Fitting estimator with 49 features.\n",
      "Fitting estimator with 48 features.\n",
      "Fitting estimator with 47 features.\n",
      "Fitting estimator with 46 features.\n",
      "Fitting estimator with 45 features.\n",
      "Fitting estimator with 44 features.\n",
      "Fitting estimator with 43 features.\n",
      "Fitting estimator with 42 features.\n",
      "Fitting estimator with 41 features.\n",
      "--- 5751.404181957245 seconds ---\n",
      "[ True False False False False  True  True False False False False  True\n",
      " False  True False False False False False False False False False False\n",
      " False False  True False False False  True False False False False False\n",
      " False False False False False False False False False False False False\n",
      " False False False False False False False False  True False False False\n",
      " False  True  True  True  True  True False  True  True  True  True  True\n",
      "  True  True  True False False  True False  True False  True False False\n",
      " False False  True False  True  True False False  True  True False  True\n",
      "  True False False  True  True False False False False False  True False\n",
      " False False False False False  True  True False  True  True False  True\n",
      "  True]\n",
      "[ 1 56 80 82 81  1  1 43 67 74 63  1 55  1 40 70 24 47 75 61 57 28 48 41\n",
      " 59 35  1 16 27 53  1 45 78 72 79 73 36 58 46 37 18 65 68 52 49 33 77 54\n",
      " 69 71 51 29 76 64 50 19  1 25 12 30 66  1  1  1  1  1 23  1  1  1  1  1\n",
      "  1  1  1 13 20  1  7  1  3  1  2 15 21  6  1  9  1  1 31 11  1  1  5  1\n",
      "  1  4 14  1  1 17 38 42 60 39  1  8 10 44 62 34 22  1  1 26  1  1 32  1\n",
      "  1]\n"
     ]
    }
   ],
   "source": [
    "# Implementing the Recursive Feature Elimination method of feature ranking via the use of basic Logistic Regression\n",
    "from sklearn.feature_selection import RFE\n",
    "from sklearn.linear_model import LogisticRegression\n",
    "logreg = LogisticRegression()\n",
    "\n",
    "start_time = time.time()\n",
    "rfe = RFE(logreg, n_features_to_select = 40, verbose = 3)\n",
    "rfe = rfe.fit(X_binary_train, y_binary_train.values.ravel())\n",
    "print(\"--- %s seconds ---\" % (time.time() - start_time))\n",
    "\n",
    "print(rfe.support_) # True refer to the columns that are selected\n",
    "print(rfe.ranking_) # rank 1 means the column is selected"
   ]
  },
  {
   "cell_type": "code",
   "execution_count": 23,
   "metadata": {
    "scrolled": false
   },
   "outputs": [
    {
     "name": "stdout",
     "output_type": "stream",
     "text": [
      "40 features are selected after the Recursive Feature Elimination (RFE):\n",
      "['RATINGS' 'TRAILER_VIEWS' 'mean_HASHED_ATOM_CUSTOMER_ID_1d_pages'\n",
      " 'max_HASHED_ATOM_CUSTOMER_ID_1d_pages'\n",
      " 'max_HASHED_ATOM_CUSTOMER_ID_7d_pages'\n",
      " 'count_HASHED_ATOM_CUSTOMER_ID_1d_pages'\n",
      " 'count_HASHED_ATOM_CUSTOMER_ID_30d_pages'\n",
      " 'count_HASHED_ATOM_CUSTOMER_ID_28d_pages'\n",
      " 'mean_HASHED_ATOM_CUSTOMER_ID_1d_ratings'\n",
      " 'mean_HASHED_ATOM_CUSTOMER_ID_3d_ratings'\n",
      " 'mean_HASHED_ATOM_CUSTOMER_ID_7d_ratings'\n",
      " 'mean_HASHED_ATOM_CUSTOMER_ID_14d_ratings'\n",
      " 'mean_HASHED_ATOM_CUSTOMER_ID_28d_ratings'\n",
      " 'mean_HASHED_ATOM_CUSTOMER_ID_35d_ratings'\n",
      " 'mean_HASHED_ATOM_CUSTOMER_ID_42d_ratings'\n",
      " 'mean_HASHED_ATOM_CUSTOMER_ID_49d_ratings'\n",
      " 'mean_HASHED_ATOM_CUSTOMER_ID_56d_ratings'\n",
      " 'max_HASHED_ATOM_CUSTOMER_ID_1d_ratings'\n",
      " 'max_HASHED_ATOM_CUSTOMER_ID_3d_ratings'\n",
      " 'max_HASHED_ATOM_CUSTOMER_ID_7d_ratings'\n",
      " 'max_HASHED_ATOM_CUSTOMER_ID_14d_ratings'\n",
      " 'max_HASHED_ATOM_CUSTOMER_ID_35d_ratings'\n",
      " 'max_HASHED_ATOM_CUSTOMER_ID_49d_ratings'\n",
      " 'median_HASHED_ATOM_CUSTOMER_ID_1d_ratings'\n",
      " 'median_HASHED_ATOM_CUSTOMER_ID_30d_ratings'\n",
      " 'median_HASHED_ATOM_CUSTOMER_ID_42d_ratings'\n",
      " 'median_HASHED_ATOM_CUSTOMER_ID_49d_ratings'\n",
      " 'sum_HASHED_ATOM_CUSTOMER_ID_3d_ratings'\n",
      " 'sum_HASHED_ATOM_CUSTOMER_ID_7d_ratings'\n",
      " 'sum_HASHED_ATOM_CUSTOMER_ID_28d_ratings'\n",
      " 'sum_HASHED_ATOM_CUSTOMER_ID_30d_ratings'\n",
      " 'sum_HASHED_ATOM_CUSTOMER_ID_49d_ratings'\n",
      " 'sum_HASHED_ATOM_CUSTOMER_ID_56d_ratings'\n",
      " 'count_HASHED_ATOM_CUSTOMER_ID_30d_ratings' 'WEEKDAY_OF_ENGAGEMENT_2'\n",
      " 'WEEKDAY_OF_ENGAGEMENT_3' 'WEEKDAY_OF_ENGAGEMENT_5'\n",
      " 'WEEKDAY_OF_ENGAGEMENT_6' 'OS_TYPE_e_iOS' 'OS_TYPE_e_web']\n"
     ]
    }
   ],
   "source": [
    "print(len(X_binary_train.columns[rfe.support_]), \"features are selected after the Recursive Feature Elimination (RFE):\")\n",
    "print(X_binary_train.columns[rfe.support_].values)"
   ]
  },
  {
   "cell_type": "code",
   "execution_count": 141,
   "metadata": {},
   "outputs": [],
   "source": [
    "# Inputing only columns that are selected by RFE into the model\n",
    "X_train_lr = X_binary_train[X_binary_train.columns[rfe.support_]]\n",
    "X_test_lr = X_binary_test[X_binary_test.columns[rfe.support_]]\n",
    "oot_X_lr = oot_X[oot_X.columns[rfe.support_]]"
   ]
  },
  {
   "cell_type": "markdown",
   "metadata": {},
   "source": [
    "### Logistic Regression Model Fitting"
   ]
  },
  {
   "cell_type": "code",
   "execution_count": 85,
   "metadata": {},
   "outputs": [
    {
     "data": {
      "text/plain": [
       "LogisticRegression(C=1.0, class_weight=None, dual=False, fit_intercept=True,\n",
       "          intercept_scaling=1, max_iter=100, multi_class='ovr', n_jobs=1,\n",
       "          penalty='l2', random_state=None, solver='liblinear', tol=0.0001,\n",
       "          verbose=0, warm_start=False)"
      ]
     },
     "execution_count": 85,
     "metadata": {},
     "output_type": "execute_result"
    }
   ],
   "source": [
    "# Model Fitting\n",
    "logreg = LogisticRegression()\n",
    "logreg.fit(X_train_lr, y_binary_train)"
   ]
  },
  {
   "cell_type": "code",
   "execution_count": 86,
   "metadata": {},
   "outputs": [
    {
     "name": "stderr",
     "output_type": "stream",
     "text": [
      "/Users/joannaouyang/anaconda3/lib/python3.6/site-packages/sklearn/cross_validation.py:41: DeprecationWarning: This module was deprecated in version 0.18 in favor of the model_selection module into which all the refactored classes and functions are moved. Also note that the interface of the new CV iterators are different from that of this module. This module will be removed in 0.20.\n",
      "  \"This module will be removed in 0.20.\", DeprecationWarning)\n"
     ]
    },
    {
     "name": "stdout",
     "output_type": "stream",
     "text": [
      "0.39679376499438873\n"
     ]
    }
   ],
   "source": [
    "# Cross-validation on training\n",
    "logreg_scores = cross_val_score(logreg, X_train_lr, y_binary_train, cv = 5, scoring = 'f1')\n",
    "print(logreg_scores.mean()) #0.39679376499438873"
   ]
  },
  {
   "cell_type": "code",
   "execution_count": 88,
   "metadata": {},
   "outputs": [
    {
     "name": "stdout",
     "output_type": "stream",
     "text": [
      "             precision    recall  f1-score   support\n",
      "\n",
      "        0.0       0.86      0.99      0.92    440791\n",
      "        1.0       0.82      0.26      0.40     93520\n",
      "\n",
      "avg / total       0.86      0.86      0.83    534311\n",
      "\n"
     ]
    }
   ],
   "source": [
    "# Evaluate model accuracy on test set\n",
    "lr_predictions = logreg.predict(X_test_lr)\n",
    "\n",
    "print(classification_report(y_binary_test, lr_predictions))"
   ]
  },
  {
   "cell_type": "code",
   "execution_count": 145,
   "metadata": {},
   "outputs": [
    {
     "name": "stdout",
     "output_type": "stream",
     "text": [
      "             precision    recall  f1-score   support\n",
      "\n",
      "        0.0       0.75      0.52      0.62    327793\n",
      "        1.0       0.28      0.51      0.36    117246\n",
      "\n",
      "avg / total       0.62      0.52      0.55    445039\n",
      "\n"
     ]
    }
   ],
   "source": [
    "# Evaluate model accuracy on oot set\n",
    "lr_predictions_oot = logreg.predict(oot_X_lr)\n",
    "\n",
    "print(classification_report(oot_y, lr_predictions_oot))"
   ]
  },
  {
   "cell_type": "code",
   "execution_count": 51,
   "metadata": {},
   "outputs": [
    {
     "data": {
      "text/plain": [
       "array([[435355,   5436],\n",
       "       [ 69040,  24480]])"
      ]
     },
     "execution_count": 51,
     "metadata": {},
     "output_type": "execute_result"
    }
   ],
   "source": [
    "# Confusion Matrix\n",
    "predictions = logreg.predict(X_test_lr)\n",
    "\n",
    "from sklearn.metrics import confusion_matrix\n",
    "confusion_matrix(y_binary_test, predictions)"
   ]
  },
  {
   "cell_type": "markdown",
   "metadata": {},
   "source": [
    "### Random Forest\n",
    "1. Include all variables in RF model to output feature importance\n",
    "2. Use only top 40 variables to build model and predict on test set\n",
    "3. Tune parameters\n",
    "3. Final Predictions on both test and oot set"
   ]
  },
  {
   "cell_type": "code",
   "execution_count": 89,
   "metadata": {
    "scrolled": true
   },
   "outputs": [
    {
     "name": "stdout",
     "output_type": "stream",
     "text": [
      "building tree 1 of 50\n"
     ]
    },
    {
     "name": "stderr",
     "output_type": "stream",
     "text": [
      "[Parallel(n_jobs=1)]: Done   1 out of   1 | elapsed:    5.2s remaining:    0.0s\n"
     ]
    },
    {
     "name": "stdout",
     "output_type": "stream",
     "text": [
      "building tree 2 of 50\n"
     ]
    },
    {
     "name": "stderr",
     "output_type": "stream",
     "text": [
      "[Parallel(n_jobs=1)]: Done   2 out of   2 | elapsed:   10.4s remaining:    0.0s\n"
     ]
    },
    {
     "name": "stdout",
     "output_type": "stream",
     "text": [
      "building tree 3 of 50\n",
      "building tree 4 of 50\n",
      "building tree 5 of 50\n",
      "building tree 6 of 50\n",
      "building tree 7 of 50\n",
      "building tree 8 of 50\n",
      "building tree 9 of 50\n",
      "building tree 10 of 50\n",
      "building tree 11 of 50\n",
      "building tree 12 of 50\n",
      "building tree 13 of 50\n",
      "building tree 14 of 50\n",
      "building tree 15 of 50\n",
      "building tree 16 of 50\n",
      "building tree 17 of 50\n",
      "building tree 18 of 50\n",
      "building tree 19 of 50\n",
      "building tree 20 of 50\n",
      "building tree 21 of 50\n",
      "building tree 22 of 50\n",
      "building tree 23 of 50\n",
      "building tree 24 of 50\n",
      "building tree 25 of 50\n",
      "building tree 26 of 50\n",
      "building tree 27 of 50\n",
      "building tree 28 of 50\n",
      "building tree 29 of 50\n",
      "building tree 30 of 50\n",
      "building tree 31 of 50\n",
      "building tree 32 of 50\n",
      "building tree 33 of 50\n",
      "building tree 34 of 50\n",
      "building tree 35 of 50\n",
      "building tree 36 of 50\n",
      "building tree 37 of 50\n",
      "building tree 38 of 50\n",
      "building tree 39 of 50\n",
      "building tree 40 of 50\n",
      "building tree 41 of 50\n",
      "building tree 42 of 50\n",
      "building tree 43 of 50\n",
      "building tree 44 of 50\n",
      "building tree 45 of 50\n",
      "building tree 46 of 50\n",
      "building tree 47 of 50\n",
      "building tree 48 of 50\n",
      "building tree 49 of 50\n",
      "building tree 50 of 50\n"
     ]
    },
    {
     "name": "stderr",
     "output_type": "stream",
     "text": [
      "[Parallel(n_jobs=1)]: Done  50 out of  50 | elapsed:  4.8min finished\n"
     ]
    },
    {
     "data": {
      "text/plain": [
       "RandomForestClassifier(bootstrap=True, class_weight=None, criterion='entropy',\n",
       "            max_depth=None, max_features='auto', max_leaf_nodes=None,\n",
       "            min_impurity_decrease=0.0, min_impurity_split=None,\n",
       "            min_samples_leaf=1, min_samples_split=2,\n",
       "            min_weight_fraction_leaf=0.0, n_estimators=50, n_jobs=1,\n",
       "            oob_score=False, random_state=0, verbose=3, warm_start=False)"
      ]
     },
     "execution_count": 89,
     "metadata": {},
     "output_type": "execute_result"
    }
   ],
   "source": [
    "# use rf's build-in feature selection\n",
    "from sklearn.ensemble import RandomForestClassifier\n",
    "\n",
    "RF = RandomForestClassifier(n_estimators = 50, criterion = 'entropy', random_state = 0, verbose = 3)\n",
    "RF.fit(X_binary_train, y_binary_train)"
   ]
  },
  {
   "cell_type": "code",
   "execution_count": 90,
   "metadata": {},
   "outputs": [
    {
     "name": "stderr",
     "output_type": "stream",
     "text": [
      "[Parallel(n_jobs=1)]: Done   1 out of   1 | elapsed:    0.3s remaining:    0.0s\n",
      "[Parallel(n_jobs=1)]: Done   2 out of   2 | elapsed:    0.5s remaining:    0.0s\n",
      "[Parallel(n_jobs=1)]: Done  50 out of  50 | elapsed:   10.8s finished\n"
     ]
    },
    {
     "name": "stdout",
     "output_type": "stream",
     "text": [
      "             precision    recall  f1-score   support\n",
      "\n",
      "        0.0       0.93      0.95      0.94    440791\n",
      "        1.0       0.73      0.64      0.68     93520\n",
      "\n",
      "avg / total       0.89      0.90      0.89    534311\n",
      "\n"
     ]
    }
   ],
   "source": [
    "# Predicting the test set results\n",
    "rf_predictions = RF.predict(X_binary_test)\n",
    "\n",
    "# Evaluate model accuracy\n",
    "## n_estimators: 100->0.5\n",
    "from sklearn.metrics import classification_report\n",
    "print(classification_report(y_binary_test, rf_predictions))"
   ]
  },
  {
   "cell_type": "code",
   "execution_count": 97,
   "metadata": {},
   "outputs": [
    {
     "data": {
      "image/png": "[encoded data removed]",
      "text/plain": [
       "<matplotlib.figure.Figure at 0x1a1f61dd68>"
      ]
     },
     "metadata": {},
     "output_type": "display_data"
    }
   ],
   "source": [
    "# Plot the feature importance\n",
    "feat_importances = pd.Series(RF.feature_importances_, index = X_binary_train.columns)\n",
    "feat_importances.nlargest(40).plot(kind = 'barh')\n",
    "plt.show()"
   ]
  },
  {
   "cell_type": "code",
   "execution_count": 92,
   "metadata": {
    "scrolled": true
   },
   "outputs": [
    {
     "name": "stdout",
     "output_type": "stream",
     "text": [
      "Rank top 40 in random forest feature importance:\n",
      "['RATINGS' 'TRAILER_VIEWS' 'mean_HASHED_ATOM_CUSTOMER_ID_1d_pages'\n",
      " 'max_HASHED_ATOM_CUSTOMER_ID_1d_pages'\n",
      " 'max_HASHED_ATOM_CUSTOMER_ID_7d_pages'\n",
      " 'count_HASHED_ATOM_CUSTOMER_ID_1d_pages'\n",
      " 'count_HASHED_ATOM_CUSTOMER_ID_30d_pages'\n",
      " 'count_HASHED_ATOM_CUSTOMER_ID_28d_pages'\n",
      " 'mean_HASHED_ATOM_CUSTOMER_ID_1d_ratings'\n",
      " 'mean_HASHED_ATOM_CUSTOMER_ID_3d_ratings'\n",
      " 'mean_HASHED_ATOM_CUSTOMER_ID_7d_ratings'\n",
      " 'mean_HASHED_ATOM_CUSTOMER_ID_14d_ratings'\n",
      " 'mean_HASHED_ATOM_CUSTOMER_ID_28d_ratings'\n",
      " 'mean_HASHED_ATOM_CUSTOMER_ID_35d_ratings'\n",
      " 'mean_HASHED_ATOM_CUSTOMER_ID_42d_ratings'\n",
      " 'mean_HASHED_ATOM_CUSTOMER_ID_49d_ratings'\n",
      " 'mean_HASHED_ATOM_CUSTOMER_ID_56d_ratings'\n",
      " 'max_HASHED_ATOM_CUSTOMER_ID_1d_ratings'\n",
      " 'max_HASHED_ATOM_CUSTOMER_ID_3d_ratings'\n",
      " 'max_HASHED_ATOM_CUSTOMER_ID_7d_ratings'\n",
      " 'max_HASHED_ATOM_CUSTOMER_ID_14d_ratings'\n",
      " 'max_HASHED_ATOM_CUSTOMER_ID_35d_ratings'\n",
      " 'max_HASHED_ATOM_CUSTOMER_ID_49d_ratings'\n",
      " 'median_HASHED_ATOM_CUSTOMER_ID_1d_ratings'\n",
      " 'median_HASHED_ATOM_CUSTOMER_ID_30d_ratings'\n",
      " 'median_HASHED_ATOM_CUSTOMER_ID_42d_ratings'\n",
      " 'median_HASHED_ATOM_CUSTOMER_ID_49d_ratings'\n",
      " 'sum_HASHED_ATOM_CUSTOMER_ID_3d_ratings'\n",
      " 'sum_HASHED_ATOM_CUSTOMER_ID_7d_ratings'\n",
      " 'sum_HASHED_ATOM_CUSTOMER_ID_28d_ratings'\n",
      " 'sum_HASHED_ATOM_CUSTOMER_ID_30d_ratings'\n",
      " 'sum_HASHED_ATOM_CUSTOMER_ID_49d_ratings'\n",
      " 'sum_HASHED_ATOM_CUSTOMER_ID_56d_ratings'\n",
      " 'count_HASHED_ATOM_CUSTOMER_ID_30d_ratings' 'WEEKDAY_OF_ENGAGEMENT_2'\n",
      " 'WEEKDAY_OF_ENGAGEMENT_3' 'WEEKDAY_OF_ENGAGEMENT_5'\n",
      " 'WEEKDAY_OF_ENGAGEMENT_6' 'OS_TYPE_e_iOS' 'OS_TYPE_e_web']\n"
     ]
    }
   ],
   "source": [
    "print(\"Rank top 40 in random forest feature importance:\")\n",
    "print(X_binary_train.columns[rfe.support_].values)"
   ]
  },
  {
   "cell_type": "code",
   "execution_count": 108,
   "metadata": {
    "scrolled": true
   },
   "outputs": [
    {
     "data": {
      "text/html": [
       "<div>\n",
       "<style scoped>\n",
       "    .dataframe tbody tr th:only-of-type {\n",
       "        vertical-align: middle;\n",
       "    }\n",
       "\n",
       "    .dataframe tbody tr th {\n",
       "        vertical-align: top;\n",
       "    }\n",
       "\n",
       "    .dataframe thead th {\n",
       "        text-align: right;\n",
       "    }\n",
       "</style>\n",
       "<table border=\"1\" class=\"dataframe\">\n",
       "  <thead>\n",
       "    <tr style=\"text-align: right;\">\n",
       "      <th></th>\n",
       "      <th>importance</th>\n",
       "    </tr>\n",
       "  </thead>\n",
       "  <tbody>\n",
       "    <tr>\n",
       "      <th>CNT_TRAILER_VIEWS</th>\n",
       "      <td>0.167823</td>\n",
       "    </tr>\n",
       "    <tr>\n",
       "      <th>CNT_WANT_TO_SEE_CLICKS</th>\n",
       "      <td>0.126579</td>\n",
       "    </tr>\n",
       "    <tr>\n",
       "      <th>OS_TYPE_e_web</th>\n",
       "      <td>0.066889</td>\n",
       "    </tr>\n",
       "    <tr>\n",
       "      <th>DATE_TO_RELEASE</th>\n",
       "      <td>0.046229</td>\n",
       "    </tr>\n",
       "    <tr>\n",
       "      <th>MOVIE_DETAILS_PAGES_VIEWED_BY_ALL_CUSTOMERS</th>\n",
       "      <td>0.043304</td>\n",
       "    </tr>\n",
       "    <tr>\n",
       "      <th>count_HASHED_ATOM_CUSTOMER_ID_7d_pages</th>\n",
       "      <td>0.029826</td>\n",
       "    </tr>\n",
       "    <tr>\n",
       "      <th>OS_TYPE_e_iOS</th>\n",
       "      <td>0.027736</td>\n",
       "    </tr>\n",
       "    <tr>\n",
       "      <th>count_HASHED_ATOM_CUSTOMER_ID_14d_pages</th>\n",
       "      <td>0.020947</td>\n",
       "    </tr>\n",
       "    <tr>\n",
       "      <th>count_HASHED_ATOM_CUSTOMER_ID_56d_pages</th>\n",
       "      <td>0.019982</td>\n",
       "    </tr>\n",
       "    <tr>\n",
       "      <th>CNT_MOVIE_ENGAGEMENT</th>\n",
       "      <td>0.014408</td>\n",
       "    </tr>\n",
       "    <tr>\n",
       "      <th>count_HASHED_ATOM_CUSTOMER_ID_49d_ratings</th>\n",
       "      <td>0.013164</td>\n",
       "    </tr>\n",
       "    <tr>\n",
       "      <th>count_HASHED_ATOM_CUSTOMER_ID_14d_ratings</th>\n",
       "      <td>0.012312</td>\n",
       "    </tr>\n",
       "    <tr>\n",
       "      <th>sum_HASHED_ATOM_CUSTOMER_ID_7d_pages</th>\n",
       "      <td>0.011143</td>\n",
       "    </tr>\n",
       "    <tr>\n",
       "      <th>CNT_ENGAGE</th>\n",
       "      <td>0.010499</td>\n",
       "    </tr>\n",
       "    <tr>\n",
       "      <th>OS_TYPE_e_Android</th>\n",
       "      <td>0.009768</td>\n",
       "    </tr>\n",
       "    <tr>\n",
       "      <th>sum_HASHED_ATOM_CUSTOMER_ID_3d_pages</th>\n",
       "      <td>0.009292</td>\n",
       "    </tr>\n",
       "    <tr>\n",
       "      <th>count_HASHED_ATOM_CUSTOMER_ID_1d_ratings</th>\n",
       "      <td>0.009189</td>\n",
       "    </tr>\n",
       "    <tr>\n",
       "      <th>RATINGS</th>\n",
       "      <td>0.008953</td>\n",
       "    </tr>\n",
       "    <tr>\n",
       "      <th>count_HASHED_ATOM_CUSTOMER_ID_7d_ratings</th>\n",
       "      <td>0.008802</td>\n",
       "    </tr>\n",
       "    <tr>\n",
       "      <th>count_HASHED_ATOM_CUSTOMER_ID_49d_pages</th>\n",
       "      <td>0.008771</td>\n",
       "    </tr>\n",
       "    <tr>\n",
       "      <th>TRAILER_VIEWS</th>\n",
       "      <td>0.008630</td>\n",
       "    </tr>\n",
       "    <tr>\n",
       "      <th>mean_HASHED_ATOM_CUSTOMER_ID_7d_ratings</th>\n",
       "      <td>0.008109</td>\n",
       "    </tr>\n",
       "    <tr>\n",
       "      <th>count_HASHED_ATOM_CUSTOMER_ID_42d_ratings</th>\n",
       "      <td>0.008003</td>\n",
       "    </tr>\n",
       "    <tr>\n",
       "      <th>count_HASHED_ATOM_CUSTOMER_ID_3d_pages</th>\n",
       "      <td>0.007856</td>\n",
       "    </tr>\n",
       "    <tr>\n",
       "      <th>sum_HASHED_ATOM_CUSTOMER_ID_30d_pages</th>\n",
       "      <td>0.007832</td>\n",
       "    </tr>\n",
       "    <tr>\n",
       "      <th>count_HASHED_ATOM_CUSTOMER_ID_30d_ratings</th>\n",
       "      <td>0.007760</td>\n",
       "    </tr>\n",
       "    <tr>\n",
       "      <th>sum_HASHED_ATOM_CUSTOMER_ID_14d_pages</th>\n",
       "      <td>0.007609</td>\n",
       "    </tr>\n",
       "    <tr>\n",
       "      <th>count_HASHED_ATOM_CUSTOMER_ID_30d_pages</th>\n",
       "      <td>0.007157</td>\n",
       "    </tr>\n",
       "    <tr>\n",
       "      <th>max_HASHED_ATOM_CUSTOMER_ID_1d_ratings</th>\n",
       "      <td>0.007092</td>\n",
       "    </tr>\n",
       "    <tr>\n",
       "      <th>sum_HASHED_ATOM_CUSTOMER_ID_1d_pages</th>\n",
       "      <td>0.006901</td>\n",
       "    </tr>\n",
       "    <tr>\n",
       "      <th>...</th>\n",
       "      <td>...</td>\n",
       "    </tr>\n",
       "    <tr>\n",
       "      <th>max_HASHED_ATOM_CUSTOMER_ID_14d_ratings</th>\n",
       "      <td>0.002017</td>\n",
       "    </tr>\n",
       "    <tr>\n",
       "      <th>mean_HASHED_ATOM_CUSTOMER_ID_42d_ratings</th>\n",
       "      <td>0.001989</td>\n",
       "    </tr>\n",
       "    <tr>\n",
       "      <th>WEEKDAY_OF_ENGAGEMENT_0</th>\n",
       "      <td>0.001965</td>\n",
       "    </tr>\n",
       "    <tr>\n",
       "      <th>max_HASHED_ATOM_CUSTOMER_ID_7d_ratings</th>\n",
       "      <td>0.001911</td>\n",
       "    </tr>\n",
       "    <tr>\n",
       "      <th>max_HASHED_ATOM_CUSTOMER_ID_56d_ratings</th>\n",
       "      <td>0.001862</td>\n",
       "    </tr>\n",
       "    <tr>\n",
       "      <th>USER_SHARE_OF_ALL_MOVIE_DETAIL_PAGES</th>\n",
       "      <td>0.001782</td>\n",
       "    </tr>\n",
       "    <tr>\n",
       "      <th>max_HASHED_ATOM_CUSTOMER_ID_35d_ratings</th>\n",
       "      <td>0.001624</td>\n",
       "    </tr>\n",
       "    <tr>\n",
       "      <th>max_HASHED_ATOM_CUSTOMER_ID_49d_ratings</th>\n",
       "      <td>0.001316</td>\n",
       "    </tr>\n",
       "    <tr>\n",
       "      <th>median_HASHED_ATOM_CUSTOMER_ID_1d_ratings</th>\n",
       "      <td>0.001159</td>\n",
       "    </tr>\n",
       "    <tr>\n",
       "      <th>mean_HASHED_ATOM_CUSTOMER_ID_35d_ratings</th>\n",
       "      <td>0.001134</td>\n",
       "    </tr>\n",
       "    <tr>\n",
       "      <th>sum_HASHED_ATOM_CUSTOMER_ID_42d_ratings</th>\n",
       "      <td>0.001075</td>\n",
       "    </tr>\n",
       "    <tr>\n",
       "      <th>max_HASHED_ATOM_CUSTOMER_ID_30d_ratings</th>\n",
       "      <td>0.001033</td>\n",
       "    </tr>\n",
       "    <tr>\n",
       "      <th>mean_HASHED_ATOM_CUSTOMER_ID_49d_ratings</th>\n",
       "      <td>0.001007</td>\n",
       "    </tr>\n",
       "    <tr>\n",
       "      <th>mean_HASHED_ATOM_CUSTOMER_ID_30d_ratings</th>\n",
       "      <td>0.001003</td>\n",
       "    </tr>\n",
       "    <tr>\n",
       "      <th>median_HASHED_ATOM_CUSTOMER_ID_28d_ratings</th>\n",
       "      <td>0.000923</td>\n",
       "    </tr>\n",
       "    <tr>\n",
       "      <th>median_HASHED_ATOM_CUSTOMER_ID_35d_ratings</th>\n",
       "      <td>0.000888</td>\n",
       "    </tr>\n",
       "    <tr>\n",
       "      <th>max_HASHED_ATOM_CUSTOMER_ID_3d_ratings</th>\n",
       "      <td>0.000772</td>\n",
       "    </tr>\n",
       "    <tr>\n",
       "      <th>sum_HASHED_ATOM_CUSTOMER_ID_14d_ratings</th>\n",
       "      <td>0.000718</td>\n",
       "    </tr>\n",
       "    <tr>\n",
       "      <th>mean_HASHED_ATOM_CUSTOMER_ID_28d_ratings</th>\n",
       "      <td>0.000703</td>\n",
       "    </tr>\n",
       "    <tr>\n",
       "      <th>sum_HASHED_ATOM_CUSTOMER_ID_30d_ratings</th>\n",
       "      <td>0.000552</td>\n",
       "    </tr>\n",
       "    <tr>\n",
       "      <th>sum_HASHED_ATOM_CUSTOMER_ID_56d_ratings</th>\n",
       "      <td>0.000340</td>\n",
       "    </tr>\n",
       "    <tr>\n",
       "      <th>median_HASHED_ATOM_CUSTOMER_ID_56d_ratings</th>\n",
       "      <td>0.000293</td>\n",
       "    </tr>\n",
       "    <tr>\n",
       "      <th>sum_HASHED_ATOM_CUSTOMER_ID_49d_ratings</th>\n",
       "      <td>0.000277</td>\n",
       "    </tr>\n",
       "    <tr>\n",
       "      <th>max_HASHED_ATOM_CUSTOMER_ID_42d_ratings</th>\n",
       "      <td>0.000199</td>\n",
       "    </tr>\n",
       "    <tr>\n",
       "      <th>sum_HASHED_ATOM_CUSTOMER_ID_35d_ratings</th>\n",
       "      <td>0.000146</td>\n",
       "    </tr>\n",
       "    <tr>\n",
       "      <th>sum_HASHED_ATOM_CUSTOMER_ID_28d_ratings</th>\n",
       "      <td>0.000109</td>\n",
       "    </tr>\n",
       "    <tr>\n",
       "      <th>median_HASHED_ATOM_CUSTOMER_ID_49d_ratings</th>\n",
       "      <td>0.000080</td>\n",
       "    </tr>\n",
       "    <tr>\n",
       "      <th>median_HASHED_ATOM_CUSTOMER_ID_42d_ratings</th>\n",
       "      <td>0.000059</td>\n",
       "    </tr>\n",
       "    <tr>\n",
       "      <th>sum_HASHED_ATOM_CUSTOMER_ID_7d_ratings</th>\n",
       "      <td>0.000054</td>\n",
       "    </tr>\n",
       "    <tr>\n",
       "      <th>median_HASHED_ATOM_CUSTOMER_ID_14d_ratings</th>\n",
       "      <td>0.000044</td>\n",
       "    </tr>\n",
       "  </tbody>\n",
       "</table>\n",
       "<p>121 rows × 1 columns</p>\n",
       "</div>"
      ],
      "text/plain": [
       "                                             importance\n",
       "CNT_TRAILER_VIEWS                              0.167823\n",
       "CNT_WANT_TO_SEE_CLICKS                         0.126579\n",
       "OS_TYPE_e_web                                  0.066889\n",
       "DATE_TO_RELEASE                                0.046229\n",
       "MOVIE_DETAILS_PAGES_VIEWED_BY_ALL_CUSTOMERS    0.043304\n",
       "count_HASHED_ATOM_CUSTOMER_ID_7d_pages         0.029826\n",
       "OS_TYPE_e_iOS                                  0.027736\n",
       "count_HASHED_ATOM_CUSTOMER_ID_14d_pages        0.020947\n",
       "count_HASHED_ATOM_CUSTOMER_ID_56d_pages        0.019982\n",
       "CNT_MOVIE_ENGAGEMENT                           0.014408\n",
       "count_HASHED_ATOM_CUSTOMER_ID_49d_ratings      0.013164\n",
       "count_HASHED_ATOM_CUSTOMER_ID_14d_ratings      0.012312\n",
       "sum_HASHED_ATOM_CUSTOMER_ID_7d_pages           0.011143\n",
       "CNT_ENGAGE                                     0.010499\n",
       "OS_TYPE_e_Android                              0.009768\n",
       "sum_HASHED_ATOM_CUSTOMER_ID_3d_pages           0.009292\n",
       "count_HASHED_ATOM_CUSTOMER_ID_1d_ratings       0.009189\n",
       "RATINGS                                        0.008953\n",
       "count_HASHED_ATOM_CUSTOMER_ID_7d_ratings       0.008802\n",
       "count_HASHED_ATOM_CUSTOMER_ID_49d_pages        0.008771\n",
       "TRAILER_VIEWS                                  0.008630\n",
       "mean_HASHED_ATOM_CUSTOMER_ID_7d_ratings        0.008109\n",
       "count_HASHED_ATOM_CUSTOMER_ID_42d_ratings      0.008003\n",
       "count_HASHED_ATOM_CUSTOMER_ID_3d_pages         0.007856\n",
       "sum_HASHED_ATOM_CUSTOMER_ID_30d_pages          0.007832\n",
       "count_HASHED_ATOM_CUSTOMER_ID_30d_ratings      0.007760\n",
       "sum_HASHED_ATOM_CUSTOMER_ID_14d_pages          0.007609\n",
       "count_HASHED_ATOM_CUSTOMER_ID_30d_pages        0.007157\n",
       "max_HASHED_ATOM_CUSTOMER_ID_1d_ratings         0.007092\n",
       "sum_HASHED_ATOM_CUSTOMER_ID_1d_pages           0.006901\n",
       "...                                                 ...\n",
       "max_HASHED_ATOM_CUSTOMER_ID_14d_ratings        0.002017\n",
       "mean_HASHED_ATOM_CUSTOMER_ID_42d_ratings       0.001989\n",
       "WEEKDAY_OF_ENGAGEMENT_0                        0.001965\n",
       "max_HASHED_ATOM_CUSTOMER_ID_7d_ratings         0.001911\n",
       "max_HASHED_ATOM_CUSTOMER_ID_56d_ratings        0.001862\n",
       "USER_SHARE_OF_ALL_MOVIE_DETAIL_PAGES           0.001782\n",
       "max_HASHED_ATOM_CUSTOMER_ID_35d_ratings        0.001624\n",
       "max_HASHED_ATOM_CUSTOMER_ID_49d_ratings        0.001316\n",
       "median_HASHED_ATOM_CUSTOMER_ID_1d_ratings      0.001159\n",
       "mean_HASHED_ATOM_CUSTOMER_ID_35d_ratings       0.001134\n",
       "sum_HASHED_ATOM_CUSTOMER_ID_42d_ratings        0.001075\n",
       "max_HASHED_ATOM_CUSTOMER_ID_30d_ratings        0.001033\n",
       "mean_HASHED_ATOM_CUSTOMER_ID_49d_ratings       0.001007\n",
       "mean_HASHED_ATOM_CUSTOMER_ID_30d_ratings       0.001003\n",
       "median_HASHED_ATOM_CUSTOMER_ID_28d_ratings     0.000923\n",
       "median_HASHED_ATOM_CUSTOMER_ID_35d_ratings     0.000888\n",
       "max_HASHED_ATOM_CUSTOMER_ID_3d_ratings         0.000772\n",
       "sum_HASHED_ATOM_CUSTOMER_ID_14d_ratings        0.000718\n",
       "mean_HASHED_ATOM_CUSTOMER_ID_28d_ratings       0.000703\n",
       "sum_HASHED_ATOM_CUSTOMER_ID_30d_ratings        0.000552\n",
       "sum_HASHED_ATOM_CUSTOMER_ID_56d_ratings        0.000340\n",
       "median_HASHED_ATOM_CUSTOMER_ID_56d_ratings     0.000293\n",
       "sum_HASHED_ATOM_CUSTOMER_ID_49d_ratings        0.000277\n",
       "max_HASHED_ATOM_CUSTOMER_ID_42d_ratings        0.000199\n",
       "sum_HASHED_ATOM_CUSTOMER_ID_35d_ratings        0.000146\n",
       "sum_HASHED_ATOM_CUSTOMER_ID_28d_ratings        0.000109\n",
       "median_HASHED_ATOM_CUSTOMER_ID_49d_ratings     0.000080\n",
       "median_HASHED_ATOM_CUSTOMER_ID_42d_ratings     0.000059\n",
       "sum_HASHED_ATOM_CUSTOMER_ID_7d_ratings         0.000054\n",
       "median_HASHED_ATOM_CUSTOMER_ID_14d_ratings     0.000044\n",
       "\n",
       "[121 rows x 1 columns]"
      ]
     },
     "execution_count": 108,
     "metadata": {},
     "output_type": "execute_result"
    }
   ],
   "source": [
    "import pandas as pd\n",
    "feature_importances = pd.DataFrame(RF.feature_importances_,\n",
    "                                   index = X_binary_train.columns,\n",
    "                                   columns = ['importance']).sort_values('importance', ascending = False)\n",
    "feature_importances"
   ]
  },
  {
   "cell_type": "code",
   "execution_count": 109,
   "metadata": {},
   "outputs": [],
   "source": [
    "# Output feature importance file\n",
    "# feature_importances.to_csv('rf feature importance.csv')"
   ]
  },
  {
   "cell_type": "code",
   "execution_count": 98,
   "metadata": {},
   "outputs": [],
   "source": [
    "# # Use only top 40 variables in the model\n",
    "# feat_importances.nlargest(40).index\n",
    "X_train_rf = X_binary_train[feat_importances.nlargest(40).index]\n",
    "X_test_rf = X_binary_test[feat_importances.nlargest(40).index]\n",
    "oot_X_rf = oot_X[feat_importances.nlargest(40).index]"
   ]
  },
  {
   "cell_type": "code",
   "execution_count": 99,
   "metadata": {
    "scrolled": true
   },
   "outputs": [
    {
     "name": "stdout",
     "output_type": "stream",
     "text": [
      "building tree 1 of 50\n"
     ]
    },
    {
     "name": "stderr",
     "output_type": "stream",
     "text": [
      "[Parallel(n_jobs=1)]: Done   1 out of   1 | elapsed:    2.8s remaining:    0.0s\n"
     ]
    },
    {
     "name": "stdout",
     "output_type": "stream",
     "text": [
      "building tree 2 of 50\n"
     ]
    },
    {
     "name": "stderr",
     "output_type": "stream",
     "text": [
      "[Parallel(n_jobs=1)]: Done   2 out of   2 | elapsed:    5.5s remaining:    0.0s\n"
     ]
    },
    {
     "name": "stdout",
     "output_type": "stream",
     "text": [
      "building tree 3 of 50\n",
      "building tree 4 of 50\n",
      "building tree 5 of 50\n",
      "building tree 6 of 50\n",
      "building tree 7 of 50\n",
      "building tree 8 of 50\n",
      "building tree 9 of 50\n",
      "building tree 10 of 50\n",
      "building tree 11 of 50\n",
      "building tree 12 of 50\n",
      "building tree 13 of 50\n",
      "building tree 14 of 50\n",
      "building tree 15 of 50\n",
      "building tree 16 of 50\n",
      "building tree 17 of 50\n",
      "building tree 18 of 50\n",
      "building tree 19 of 50\n",
      "building tree 20 of 50\n",
      "building tree 21 of 50\n",
      "building tree 22 of 50\n",
      "building tree 23 of 50\n",
      "building tree 24 of 50\n",
      "building tree 25 of 50\n",
      "building tree 26 of 50\n",
      "building tree 27 of 50\n",
      "building tree 28 of 50\n",
      "building tree 29 of 50\n",
      "building tree 30 of 50\n",
      "building tree 31 of 50\n",
      "building tree 32 of 50\n",
      "building tree 33 of 50\n",
      "building tree 34 of 50\n",
      "building tree 35 of 50\n",
      "building tree 36 of 50\n",
      "building tree 37 of 50\n",
      "building tree 38 of 50\n",
      "building tree 39 of 50\n",
      "building tree 40 of 50\n",
      "building tree 41 of 50\n",
      "building tree 42 of 50\n",
      "building tree 43 of 50\n",
      "building tree 44 of 50\n",
      "building tree 45 of 50\n",
      "building tree 46 of 50\n",
      "building tree 47 of 50\n",
      "building tree 48 of 50\n",
      "building tree 49 of 50\n",
      "building tree 50 of 50\n"
     ]
    },
    {
     "name": "stderr",
     "output_type": "stream",
     "text": [
      "[Parallel(n_jobs=1)]: Done  50 out of  50 | elapsed:  2.4min finished\n",
      "[Parallel(n_jobs=1)]: Done   1 out of   1 | elapsed:    0.1s remaining:    0.0s\n",
      "[Parallel(n_jobs=1)]: Done   2 out of   2 | elapsed:    0.2s remaining:    0.0s\n",
      "[Parallel(n_jobs=1)]: Done  50 out of  50 | elapsed:    3.9s finished\n"
     ]
    },
    {
     "name": "stdout",
     "output_type": "stream",
     "text": [
      "building tree 1 of 50\n"
     ]
    },
    {
     "name": "stderr",
     "output_type": "stream",
     "text": [
      "[Parallel(n_jobs=1)]: Done   1 out of   1 | elapsed:    3.0s remaining:    0.0s\n"
     ]
    },
    {
     "name": "stdout",
     "output_type": "stream",
     "text": [
      "building tree 2 of 50\n"
     ]
    },
    {
     "name": "stderr",
     "output_type": "stream",
     "text": [
      "[Parallel(n_jobs=1)]: Done   2 out of   2 | elapsed:    5.8s remaining:    0.0s\n"
     ]
    },
    {
     "name": "stdout",
     "output_type": "stream",
     "text": [
      "building tree 3 of 50\n",
      "building tree 4 of 50\n",
      "building tree 5 of 50\n",
      "building tree 6 of 50\n",
      "building tree 7 of 50\n",
      "building tree 8 of 50\n",
      "building tree 9 of 50\n",
      "building tree 10 of 50\n",
      "building tree 11 of 50\n",
      "building tree 12 of 50\n",
      "building tree 13 of 50\n",
      "building tree 14 of 50\n",
      "building tree 15 of 50\n",
      "building tree 16 of 50\n",
      "building tree 17 of 50\n",
      "building tree 18 of 50\n",
      "building tree 19 of 50\n",
      "building tree 20 of 50\n",
      "building tree 21 of 50\n",
      "building tree 22 of 50\n",
      "building tree 23 of 50\n",
      "building tree 24 of 50\n",
      "building tree 25 of 50\n",
      "building tree 26 of 50\n",
      "building tree 27 of 50\n",
      "building tree 28 of 50\n",
      "building tree 29 of 50\n",
      "building tree 30 of 50\n",
      "building tree 31 of 50\n",
      "building tree 32 of 50\n",
      "building tree 33 of 50\n",
      "building tree 34 of 50\n",
      "building tree 35 of 50\n",
      "building tree 36 of 50\n",
      "building tree 37 of 50\n",
      "building tree 38 of 50\n",
      "building tree 39 of 50\n",
      "building tree 40 of 50\n",
      "building tree 41 of 50\n",
      "building tree 42 of 50\n",
      "building tree 43 of 50\n",
      "building tree 44 of 50\n",
      "building tree 45 of 50\n",
      "building tree 46 of 50\n",
      "building tree 47 of 50\n",
      "building tree 48 of 50\n",
      "building tree 49 of 50\n",
      "building tree 50 of 50\n"
     ]
    },
    {
     "name": "stderr",
     "output_type": "stream",
     "text": [
      "[Parallel(n_jobs=1)]: Done  50 out of  50 | elapsed:  2.4min finished\n",
      "[Parallel(n_jobs=1)]: Done   1 out of   1 | elapsed:    0.1s remaining:    0.0s\n",
      "[Parallel(n_jobs=1)]: Done   2 out of   2 | elapsed:    0.2s remaining:    0.0s\n",
      "[Parallel(n_jobs=1)]: Done  50 out of  50 | elapsed:    4.8s finished\n"
     ]
    },
    {
     "name": "stdout",
     "output_type": "stream",
     "text": [
      "building tree 1 of 50\n"
     ]
    },
    {
     "name": "stderr",
     "output_type": "stream",
     "text": [
      "[Parallel(n_jobs=1)]: Done   1 out of   1 | elapsed:    3.1s remaining:    0.0s\n"
     ]
    },
    {
     "name": "stdout",
     "output_type": "stream",
     "text": [
      "building tree 2 of 50\n"
     ]
    },
    {
     "name": "stderr",
     "output_type": "stream",
     "text": [
      "[Parallel(n_jobs=1)]: Done   2 out of   2 | elapsed:    6.3s remaining:    0.0s\n"
     ]
    },
    {
     "name": "stdout",
     "output_type": "stream",
     "text": [
      "building tree 3 of 50\n",
      "building tree 4 of 50\n",
      "building tree 5 of 50\n",
      "building tree 6 of 50\n",
      "building tree 7 of 50\n",
      "building tree 8 of 50\n",
      "building tree 9 of 50\n",
      "building tree 10 of 50\n",
      "building tree 11 of 50\n",
      "building tree 12 of 50\n",
      "building tree 13 of 50\n",
      "building tree 14 of 50\n",
      "building tree 15 of 50\n",
      "building tree 16 of 50\n",
      "building tree 17 of 50\n",
      "building tree 18 of 50\n",
      "building tree 19 of 50\n",
      "building tree 20 of 50\n",
      "building tree 21 of 50\n",
      "building tree 22 of 50\n",
      "building tree 23 of 50\n",
      "building tree 24 of 50\n",
      "building tree 25 of 50\n",
      "building tree 26 of 50\n",
      "building tree 27 of 50\n",
      "building tree 28 of 50\n",
      "building tree 29 of 50\n",
      "building tree 30 of 50\n",
      "building tree 31 of 50\n",
      "building tree 32 of 50\n",
      "building tree 33 of 50\n",
      "building tree 34 of 50\n",
      "building tree 35 of 50\n",
      "building tree 36 of 50\n",
      "building tree 37 of 50\n",
      "building tree 38 of 50\n",
      "building tree 39 of 50\n",
      "building tree 40 of 50\n",
      "building tree 41 of 50\n",
      "building tree 42 of 50\n",
      "building tree 43 of 50\n",
      "building tree 44 of 50\n",
      "building tree 45 of 50\n",
      "building tree 46 of 50\n",
      "building tree 47 of 50\n",
      "building tree 48 of 50\n",
      "building tree 49 of 50\n",
      "building tree 50 of 50\n"
     ]
    },
    {
     "name": "stderr",
     "output_type": "stream",
     "text": [
      "[Parallel(n_jobs=1)]: Done  50 out of  50 | elapsed:  2.4min finished\n",
      "[Parallel(n_jobs=1)]: Done   1 out of   1 | elapsed:    0.1s remaining:    0.0s\n",
      "[Parallel(n_jobs=1)]: Done   2 out of   2 | elapsed:    0.2s remaining:    0.0s\n",
      "[Parallel(n_jobs=1)]: Done  50 out of  50 | elapsed:    3.9s finished\n"
     ]
    },
    {
     "name": "stdout",
     "output_type": "stream",
     "text": [
      "building tree 1 of 50\n"
     ]
    },
    {
     "name": "stderr",
     "output_type": "stream",
     "text": [
      "[Parallel(n_jobs=1)]: Done   1 out of   1 | elapsed:    2.9s remaining:    0.0s\n"
     ]
    },
    {
     "name": "stdout",
     "output_type": "stream",
     "text": [
      "building tree 2 of 50\n"
     ]
    },
    {
     "name": "stderr",
     "output_type": "stream",
     "text": [
      "[Parallel(n_jobs=1)]: Done   2 out of   2 | elapsed:    5.7s remaining:    0.0s\n"
     ]
    },
    {
     "name": "stdout",
     "output_type": "stream",
     "text": [
      "building tree 3 of 50\n",
      "building tree 4 of 50\n",
      "building tree 5 of 50\n",
      "building tree 6 of 50\n",
      "building tree 7 of 50\n",
      "building tree 8 of 50\n",
      "building tree 9 of 50\n",
      "building tree 10 of 50\n",
      "building tree 11 of 50\n",
      "building tree 12 of 50\n",
      "building tree 13 of 50\n",
      "building tree 14 of 50\n",
      "building tree 15 of 50\n",
      "building tree 16 of 50\n",
      "building tree 17 of 50\n",
      "building tree 18 of 50\n",
      "building tree 19 of 50\n",
      "building tree 20 of 50\n",
      "building tree 21 of 50\n",
      "building tree 22 of 50\n",
      "building tree 23 of 50\n",
      "building tree 24 of 50\n",
      "building tree 25 of 50\n",
      "building tree 26 of 50\n",
      "building tree 27 of 50\n",
      "building tree 28 of 50\n",
      "building tree 29 of 50\n",
      "building tree 30 of 50\n",
      "building tree 31 of 50\n",
      "building tree 32 of 50\n",
      "building tree 33 of 50\n",
      "building tree 34 of 50\n",
      "building tree 35 of 50\n",
      "building tree 36 of 50\n",
      "building tree 37 of 50\n",
      "building tree 38 of 50\n",
      "building tree 39 of 50\n",
      "building tree 40 of 50\n",
      "building tree 41 of 50\n",
      "building tree 42 of 50\n",
      "building tree 43 of 50\n",
      "building tree 44 of 50\n",
      "building tree 45 of 50\n",
      "building tree 46 of 50\n",
      "building tree 47 of 50\n",
      "building tree 48 of 50\n",
      "building tree 49 of 50\n",
      "building tree 50 of 50\n"
     ]
    },
    {
     "name": "stderr",
     "output_type": "stream",
     "text": [
      "[Parallel(n_jobs=1)]: Done  50 out of  50 | elapsed:  2.3min finished\n",
      "[Parallel(n_jobs=1)]: Done   1 out of   1 | elapsed:    0.1s remaining:    0.0s\n",
      "[Parallel(n_jobs=1)]: Done   2 out of   2 | elapsed:    0.2s remaining:    0.0s\n",
      "[Parallel(n_jobs=1)]: Done  50 out of  50 | elapsed:    5.5s finished\n"
     ]
    },
    {
     "name": "stdout",
     "output_type": "stream",
     "text": [
      "building tree 1 of 50\n"
     ]
    },
    {
     "name": "stderr",
     "output_type": "stream",
     "text": [
      "[Parallel(n_jobs=1)]: Done   1 out of   1 | elapsed:    2.9s remaining:    0.0s\n"
     ]
    },
    {
     "name": "stdout",
     "output_type": "stream",
     "text": [
      "building tree 2 of 50\n"
     ]
    },
    {
     "name": "stderr",
     "output_type": "stream",
     "text": [
      "[Parallel(n_jobs=1)]: Done   2 out of   2 | elapsed:    6.0s remaining:    0.0s\n"
     ]
    },
    {
     "name": "stdout",
     "output_type": "stream",
     "text": [
      "building tree 3 of 50\n",
      "building tree 4 of 50\n",
      "building tree 5 of 50\n",
      "building tree 6 of 50\n",
      "building tree 7 of 50\n",
      "building tree 8 of 50\n",
      "building tree 9 of 50\n",
      "building tree 10 of 50\n",
      "building tree 11 of 50\n",
      "building tree 12 of 50\n",
      "building tree 13 of 50\n",
      "building tree 14 of 50\n",
      "building tree 15 of 50\n",
      "building tree 16 of 50\n",
      "building tree 17 of 50\n",
      "building tree 18 of 50\n",
      "building tree 19 of 50\n",
      "building tree 20 of 50\n",
      "building tree 21 of 50\n",
      "building tree 22 of 50\n",
      "building tree 23 of 50\n",
      "building tree 24 of 50\n",
      "building tree 25 of 50\n",
      "building tree 26 of 50\n",
      "building tree 27 of 50\n",
      "building tree 28 of 50\n",
      "building tree 29 of 50\n",
      "building tree 30 of 50\n",
      "building tree 31 of 50\n",
      "building tree 32 of 50\n",
      "building tree 33 of 50\n",
      "building tree 34 of 50\n",
      "building tree 35 of 50\n",
      "building tree 36 of 50\n",
      "building tree 37 of 50\n",
      "building tree 38 of 50\n",
      "building tree 39 of 50\n",
      "building tree 40 of 50\n",
      "building tree 41 of 50\n",
      "building tree 42 of 50\n",
      "building tree 43 of 50\n",
      "building tree 44 of 50\n",
      "building tree 45 of 50\n",
      "building tree 46 of 50\n",
      "building tree 47 of 50\n",
      "building tree 48 of 50\n",
      "building tree 49 of 50\n",
      "building tree 50 of 50\n"
     ]
    },
    {
     "name": "stderr",
     "output_type": "stream",
     "text": [
      "[Parallel(n_jobs=1)]: Done  50 out of  50 | elapsed:  2.3min finished\n",
      "[Parallel(n_jobs=1)]: Done   1 out of   1 | elapsed:    0.1s remaining:    0.0s\n",
      "[Parallel(n_jobs=1)]: Done   2 out of   2 | elapsed:    0.2s remaining:    0.0s\n"
     ]
    },
    {
     "name": "stdout",
     "output_type": "stream",
     "text": [
      "0.6844243574243999\n"
     ]
    },
    {
     "name": "stderr",
     "output_type": "stream",
     "text": [
      "[Parallel(n_jobs=1)]: Done  50 out of  50 | elapsed:    4.0s finished\n"
     ]
    }
   ],
   "source": [
    "# Cross-validation\n",
    "from sklearn.cross_validation import cross_val_score\n",
    "rf_scores = cross_val_score(RF, X_train_rf, y_binary_train, cv = 5, scoring = 'f1')\n",
    "print(rf_scores.mean()) #0.6844243574243999"
   ]
  },
  {
   "cell_type": "code",
   "execution_count": 31,
   "metadata": {
    "scrolled": true
   },
   "outputs": [
    {
     "name": "stdout",
     "output_type": "stream",
     "text": [
      "building tree 1 of 50\n"
     ]
    },
    {
     "name": "stderr",
     "output_type": "stream",
     "text": [
      "[Parallel(n_jobs=1)]: Done   1 out of   1 | elapsed:    4.6s remaining:    0.0s\n"
     ]
    },
    {
     "name": "stdout",
     "output_type": "stream",
     "text": [
      "building tree 2 of 50\n"
     ]
    },
    {
     "name": "stderr",
     "output_type": "stream",
     "text": [
      "[Parallel(n_jobs=1)]: Done   2 out of   2 | elapsed:    9.0s remaining:    0.0s\n"
     ]
    },
    {
     "name": "stdout",
     "output_type": "stream",
     "text": [
      "building tree 3 of 50\n",
      "building tree 4 of 50\n",
      "building tree 5 of 50\n",
      "building tree 6 of 50\n",
      "building tree 7 of 50\n",
      "building tree 8 of 50\n",
      "building tree 9 of 50\n",
      "building tree 10 of 50\n",
      "building tree 11 of 50\n",
      "building tree 12 of 50\n",
      "building tree 13 of 50\n",
      "building tree 14 of 50\n",
      "building tree 15 of 50\n",
      "building tree 16 of 50\n",
      "building tree 17 of 50\n",
      "building tree 18 of 50\n",
      "building tree 19 of 50\n",
      "building tree 20 of 50\n",
      "building tree 21 of 50\n",
      "building tree 22 of 50\n",
      "building tree 23 of 50\n",
      "building tree 24 of 50\n",
      "building tree 25 of 50\n",
      "building tree 26 of 50\n",
      "building tree 27 of 50\n",
      "building tree 28 of 50\n",
      "building tree 29 of 50\n",
      "building tree 30 of 50\n",
      "building tree 31 of 50\n",
      "building tree 32 of 50\n",
      "building tree 33 of 50\n",
      "building tree 34 of 50\n",
      "building tree 35 of 50\n",
      "building tree 36 of 50\n",
      "building tree 37 of 50\n",
      "building tree 38 of 50\n",
      "building tree 39 of 50\n",
      "building tree 40 of 50\n",
      "building tree 41 of 50\n",
      "building tree 42 of 50\n",
      "building tree 43 of 50\n",
      "building tree 44 of 50\n",
      "building tree 45 of 50\n",
      "building tree 46 of 50\n",
      "building tree 47 of 50\n",
      "building tree 48 of 50\n",
      "building tree 49 of 50\n",
      "building tree 50 of 50\n"
     ]
    },
    {
     "name": "stderr",
     "output_type": "stream",
     "text": [
      "[Parallel(n_jobs=1)]: Done  50 out of  50 | elapsed:  3.4min finished\n"
     ]
    },
    {
     "data": {
      "text/plain": [
       "RandomForestClassifier(bootstrap=True, class_weight=None, criterion='entropy',\n",
       "            max_depth=None, max_features='auto', max_leaf_nodes=None,\n",
       "            min_impurity_decrease=0.0, min_impurity_split=None,\n",
       "            min_samples_leaf=1, min_samples_split=2,\n",
       "            min_weight_fraction_leaf=0.0, n_estimators=50, n_jobs=1,\n",
       "            oob_score=False, random_state=0, verbose=3, warm_start=False)"
      ]
     },
     "execution_count": 31,
     "metadata": {},
     "output_type": "execute_result"
    }
   ],
   "source": [
    "# fit to top 40 features\n",
    "RF.fit(X_train_rf, y_binary_train)"
   ]
  },
  {
   "cell_type": "code",
   "execution_count": 32,
   "metadata": {},
   "outputs": [
    {
     "name": "stderr",
     "output_type": "stream",
     "text": [
      "[Parallel(n_jobs=1)]: Done   1 out of   1 | elapsed:    0.2s remaining:    0.0s\n",
      "[Parallel(n_jobs=1)]: Done   2 out of   2 | elapsed:    0.3s remaining:    0.0s\n"
     ]
    },
    {
     "name": "stdout",
     "output_type": "stream",
     "text": [
      "             precision    recall  f1-score   support\n",
      "\n",
      "        0.0       0.93      0.95      0.94    440791\n",
      "        1.0       0.73      0.65      0.68     93520\n",
      "\n",
      "avg / total       0.89      0.90      0.89    534311\n",
      "\n"
     ]
    },
    {
     "name": "stderr",
     "output_type": "stream",
     "text": [
      "[Parallel(n_jobs=1)]: Done  50 out of  50 | elapsed:    8.4s finished\n"
     ]
    }
   ],
   "source": [
    "# Predicting the test set results\n",
    "predictions = RF.predict(X_test_rf)\n",
    "\n",
    "# Evaluate model accuracy\n",
    "## n_estimators: 100->0.5\n",
    "from sklearn.metrics import classification_report\n",
    "print(classification_report(y_binary_test, predictions))"
   ]
  },
  {
   "cell_type": "code",
   "execution_count": 33,
   "metadata": {},
   "outputs": [
    {
     "name": "stderr",
     "output_type": "stream",
     "text": [
      "[Parallel(n_jobs=1)]: Done   1 out of   1 | elapsed:    0.1s remaining:    0.0s\n",
      "[Parallel(n_jobs=1)]: Done   2 out of   2 | elapsed:    0.2s remaining:    0.0s\n"
     ]
    },
    {
     "name": "stdout",
     "output_type": "stream",
     "text": [
      "             precision    recall  f1-score   support\n",
      "\n",
      "        0.0       0.80      0.98      0.88    327793\n",
      "        1.0       0.82      0.32      0.46    117246\n",
      "\n",
      "avg / total       0.81      0.80      0.77    445039\n",
      "\n"
     ]
    },
    {
     "name": "stderr",
     "output_type": "stream",
     "text": [
      "[Parallel(n_jobs=1)]: Done  50 out of  50 | elapsed:    4.9s finished\n"
     ]
    }
   ],
   "source": [
    "# Predicting the oot set results\n",
    "oot_predictions = RF.predict(oot_X_rf)\n",
    "\n",
    "# Evaluate model accuracy\n",
    "## n_estimators: 100->0.5\n",
    "from sklearn.metrics import classification_report\n",
    "print(classification_report(oot_y, oot_predictions))"
   ]
  },
  {
   "cell_type": "markdown",
   "metadata": {},
   "source": [
    "### RF Randomized Search for parameters\n",
    "1. **N_estimators**: n_estimators represents the number of trees in the forest. Usually the higher the number of trees the better to learn the data. However, adding a lot of trees can slow down the training process considerably\n",
    "2. **max_depth**: max_depth represents the depth of each tree in the forest. The deeper the tree, the more splits it has and it captures more information about the data. \n",
    "3. **min_samples_split**: min_samples_split represents the minimum number of samples required to split an internal node. This can vary between considering at least one sample at each node to considering all of the samples at each node. When we increase this parameter, each tree in the forest becomes more constrained as it has to consider more samples at each node.\n",
    "4. **min_samples_leaf**: min_samples_leaf is The minimum number of samples required to be at a leaf node. This parameter is similar to min_samples_splits, however, this describe the minimum number of samples of samples at the leafs, the base of the tree.\n",
    "5. **max_features**: max_features represents the number of features to consider when looking for the best split."
   ]
  },
  {
   "cell_type": "code",
   "execution_count": 113,
   "metadata": {},
   "outputs": [
    {
     "name": "stdout",
     "output_type": "stream",
     "text": [
      "{'n_estimators': [10, 50, 90, 130, 170, 210], 'max_features': [0.2, 0.4, 0.6, 0.8, 1.0, 'sqrt'], 'max_depth': [5, 16, 27, 38, 50, None], 'min_samples_split': [2, 5, 10], 'min_samples_leaf': [1, 2, 4], 'bootstrap': [True, False]}\n"
     ]
    }
   ],
   "source": [
    "from sklearn.model_selection import RandomizedSearchCV\n",
    "# Number of trees in random forest\n",
    "n_estimators = [int(x) for x in np.linspace(start = 10, stop = 210, num = 6)]\n",
    "\n",
    "# Number of features to consider at every split\n",
    "max_features = [round(x, 2) for x in np.linspace(start = 0.2, stop = 1, num = 5)]\n",
    "max_features.append('sqrt')\n",
    "## Empirical good default values are max_features=n_features for regression problems, \n",
    "## and max_features = sqrt(n_features) for classification tasks\n",
    "\n",
    "# Maximum number of levels in tree\n",
    "max_depth = [int(x) for x in np.linspace(5, 50, num = 5)]\n",
    "max_depth.append(None)\n",
    "\n",
    "# Minimum number of samples required to split a node\n",
    "min_samples_split = [2, 5, 10]\n",
    "\n",
    "# Minimum number of samples required at each leaf node\n",
    "min_samples_leaf = [1, 2, 4]\n",
    "\n",
    "# Method of selecting samples for training each tree\n",
    "bootstrap = [True, False]\n",
    "\n",
    "# Create the random grid\n",
    "random_grid = {'n_estimators': n_estimators,\n",
    "               'max_features': max_features,\n",
    "               'max_depth': max_depth,\n",
    "               'min_samples_split': min_samples_split,\n",
    "               'min_samples_leaf': min_samples_leaf,\n",
    "               'bootstrap': bootstrap}\n",
    "print(random_grid)"
   ]
  },
  {
   "cell_type": "code",
   "execution_count": 114,
   "metadata": {
    "scrolled": true
   },
   "outputs": [
    {
     "name": "stdout",
     "output_type": "stream",
     "text": [
      "Fitting 3 folds for each of 100 candidates, totalling 300 fits\n",
      "[CV] n_estimators=130, min_samples_split=2, min_samples_leaf=1, max_features=0.6, max_depth=None, bootstrap=True \n",
      "[CV] n_estimators=130, min_samples_split=2, min_samples_leaf=1, max_features=0.6, max_depth=None, bootstrap=True \n",
      "[CV] n_estimators=130, min_samples_split=2, min_samples_leaf=1, max_features=0.6, max_depth=None, bootstrap=True \n",
      "[CV] n_estimators=50, min_samples_split=10, min_samples_leaf=4, max_features=0.8, max_depth=27, bootstrap=False \n",
      "[CV]  n_estimators=50, min_samples_split=10, min_samples_leaf=4, max_features=0.8, max_depth=27, bootstrap=False, total=16.9min\n",
      "[CV] n_estimators=50, min_samples_split=10, min_samples_leaf=4, max_features=0.8, max_depth=27, bootstrap=False \n",
      "[CV]  n_estimators=130, min_samples_split=2, min_samples_leaf=1, max_features=0.6, max_depth=None, bootstrap=True, total=26.1min\n",
      "[CV] n_estimators=50, min_samples_split=10, min_samples_leaf=4, max_features=0.8, max_depth=27, bootstrap=False \n",
      "[CV]  n_estimators=130, min_samples_split=2, min_samples_leaf=1, max_features=0.6, max_depth=None, bootstrap=True, total=26.2min\n",
      "[CV] n_estimators=90, min_samples_split=10, min_samples_leaf=1, max_features=1.0, max_depth=27, bootstrap=False \n",
      "[CV]  n_estimators=130, min_samples_split=2, min_samples_leaf=1, max_features=0.6, max_depth=None, bootstrap=True, total=26.2min\n",
      "[CV] n_estimators=90, min_samples_split=10, min_samples_leaf=1, max_features=1.0, max_depth=27, bootstrap=False \n",
      "[CV]  n_estimators=50, min_samples_split=10, min_samples_leaf=4, max_features=0.8, max_depth=27, bootstrap=False, total=14.1min\n",
      "[CV] n_estimators=90, min_samples_split=10, min_samples_leaf=1, max_features=1.0, max_depth=27, bootstrap=False \n",
      "[CV]  n_estimators=50, min_samples_split=10, min_samples_leaf=4, max_features=0.8, max_depth=27, bootstrap=False, total=13.2min\n",
      "[CV] n_estimators=170, min_samples_split=2, min_samples_leaf=1, max_features=0.2, max_depth=50, bootstrap=False \n",
      "[CV]  n_estimators=170, min_samples_split=2, min_samples_leaf=1, max_features=0.2, max_depth=50, bootstrap=False, total=15.4min\n",
      "[CV] n_estimators=170, min_samples_split=2, min_samples_leaf=1, max_features=0.2, max_depth=50, bootstrap=False \n",
      "[CV]  n_estimators=90, min_samples_split=10, min_samples_leaf=1, max_features=1.0, max_depth=27, bootstrap=False, total=29.8min\n",
      "[CV] n_estimators=170, min_samples_split=2, min_samples_leaf=1, max_features=0.2, max_depth=50, bootstrap=False \n",
      "[CV]  n_estimators=90, min_samples_split=10, min_samples_leaf=1, max_features=1.0, max_depth=27, bootstrap=False, total=30.0min\n",
      "[CV] n_estimators=50, min_samples_split=2, min_samples_leaf=4, max_features=1.0, max_depth=50, bootstrap=True \n",
      "[CV]  n_estimators=90, min_samples_split=10, min_samples_leaf=1, max_features=1.0, max_depth=27, bootstrap=False, total=29.5min\n",
      "[CV] n_estimators=50, min_samples_split=2, min_samples_leaf=4, max_features=1.0, max_depth=50, bootstrap=True \n",
      "[CV]  n_estimators=50, min_samples_split=2, min_samples_leaf=4, max_features=1.0, max_depth=50, bootstrap=True, total=13.3min\n",
      "[CV] n_estimators=50, min_samples_split=2, min_samples_leaf=4, max_features=1.0, max_depth=50, bootstrap=True \n",
      "[CV]  n_estimators=170, min_samples_split=2, min_samples_leaf=1, max_features=0.2, max_depth=50, bootstrap=False, total=16.4min\n",
      "[CV] n_estimators=10, min_samples_split=5, min_samples_leaf=1, max_features=sqrt, max_depth=27, bootstrap=True \n",
      "[CV]  n_estimators=170, min_samples_split=2, min_samples_leaf=1, max_features=0.2, max_depth=50, bootstrap=False, total=16.4min\n",
      "[CV] n_estimators=10, min_samples_split=5, min_samples_leaf=1, max_features=sqrt, max_depth=27, bootstrap=True \n",
      "[CV]  n_estimators=50, min_samples_split=2, min_samples_leaf=4, max_features=1.0, max_depth=50, bootstrap=True, total=13.6min\n",
      "[CV] n_estimators=10, min_samples_split=5, min_samples_leaf=1, max_features=sqrt, max_depth=27, bootstrap=True \n",
      "[CV]  n_estimators=10, min_samples_split=5, min_samples_leaf=1, max_features=sqrt, max_depth=27, bootstrap=True, total=  40.0s\n",
      "[CV] n_estimators=90, min_samples_split=10, min_samples_leaf=1, max_features=0.8, max_depth=5, bootstrap=True \n",
      "[CV]  n_estimators=10, min_samples_split=5, min_samples_leaf=1, max_features=sqrt, max_depth=27, bootstrap=True, total=  39.1s\n",
      "[CV] n_estimators=90, min_samples_split=10, min_samples_leaf=1, max_features=0.8, max_depth=5, bootstrap=True \n",
      "[CV]  n_estimators=10, min_samples_split=5, min_samples_leaf=1, max_features=sqrt, max_depth=27, bootstrap=True, total=  38.7s\n",
      "[CV] n_estimators=90, min_samples_split=10, min_samples_leaf=1, max_features=0.8, max_depth=5, bootstrap=True \n",
      "[CV]  n_estimators=90, min_samples_split=10, min_samples_leaf=1, max_features=0.8, max_depth=5, bootstrap=True, total= 8.3min\n",
      "[CV] n_estimators=130, min_samples_split=5, min_samples_leaf=1, max_features=0.4, max_depth=27, bootstrap=True \n",
      "[CV]  n_estimators=90, min_samples_split=10, min_samples_leaf=1, max_features=0.8, max_depth=5, bootstrap=True, total= 8.3min\n",
      "[CV] n_estimators=130, min_samples_split=5, min_samples_leaf=1, max_features=0.4, max_depth=27, bootstrap=True \n",
      "[CV]  n_estimators=90, min_samples_split=10, min_samples_leaf=1, max_features=0.8, max_depth=5, bootstrap=True, total= 8.3min\n",
      "[CV] n_estimators=130, min_samples_split=5, min_samples_leaf=1, max_features=0.4, max_depth=27, bootstrap=True \n",
      "[CV]  n_estimators=50, min_samples_split=2, min_samples_leaf=4, max_features=1.0, max_depth=50, bootstrap=True, total=14.0min\n",
      "[CV] n_estimators=10, min_samples_split=2, min_samples_leaf=2, max_features=sqrt, max_depth=16, bootstrap=True \n",
      "[CV]  n_estimators=10, min_samples_split=2, min_samples_leaf=2, max_features=sqrt, max_depth=16, bootstrap=True, total=  34.0s\n",
      "[CV] n_estimators=10, min_samples_split=2, min_samples_leaf=2, max_features=sqrt, max_depth=16, bootstrap=True \n",
      "[CV]  n_estimators=10, min_samples_split=2, min_samples_leaf=2, max_features=sqrt, max_depth=16, bootstrap=True, total=  36.1s\n",
      "[CV] n_estimators=10, min_samples_split=2, min_samples_leaf=2, max_features=sqrt, max_depth=16, bootstrap=True \n",
      "[CV]  n_estimators=10, min_samples_split=2, min_samples_leaf=2, max_features=sqrt, max_depth=16, bootstrap=True, total=  36.6s\n",
      "[CV] n_estimators=210, min_samples_split=2, min_samples_leaf=1, max_features=sqrt, max_depth=38, bootstrap=True \n",
      "[CV]  n_estimators=130, min_samples_split=5, min_samples_leaf=1, max_features=0.4, max_depth=27, bootstrap=True, total=18.5min\n",
      "[CV] n_estimators=210, min_samples_split=2, min_samples_leaf=1, max_features=sqrt, max_depth=38, bootstrap=True \n",
      "[CV]  n_estimators=130, min_samples_split=5, min_samples_leaf=1, max_features=0.4, max_depth=27, bootstrap=True, total=18.6min\n",
      "[CV] n_estimators=210, min_samples_split=2, min_samples_leaf=1, max_features=sqrt, max_depth=38, bootstrap=True \n",
      "[CV]  n_estimators=130, min_samples_split=5, min_samples_leaf=1, max_features=0.4, max_depth=27, bootstrap=True, total=18.5min\n",
      "[CV] n_estimators=10, min_samples_split=10, min_samples_leaf=1, max_features=sqrt, max_depth=27, bootstrap=True \n",
      "[CV]  n_estimators=10, min_samples_split=10, min_samples_leaf=1, max_features=sqrt, max_depth=27, bootstrap=True, total=  45.6s\n",
      "[CV] n_estimators=10, min_samples_split=10, min_samples_leaf=1, max_features=sqrt, max_depth=27, bootstrap=True \n",
      "[CV]  n_estimators=210, min_samples_split=2, min_samples_leaf=1, max_features=sqrt, max_depth=38, bootstrap=True, total=16.0min\n",
      "[CV] n_estimators=10, min_samples_split=10, min_samples_leaf=1, max_features=sqrt, max_depth=27, bootstrap=True \n",
      "[CV]  n_estimators=10, min_samples_split=10, min_samples_leaf=1, max_features=sqrt, max_depth=27, bootstrap=True, total=  48.8s\n",
      "[CV] n_estimators=170, min_samples_split=2, min_samples_leaf=1, max_features=1.0, max_depth=50, bootstrap=False \n",
      "[CV]  n_estimators=10, min_samples_split=10, min_samples_leaf=1, max_features=sqrt, max_depth=27, bootstrap=True, total=  48.3s\n",
      "[CV] n_estimators=170, min_samples_split=2, min_samples_leaf=1, max_features=1.0, max_depth=50, bootstrap=False \n",
      "[CV]  n_estimators=210, min_samples_split=2, min_samples_leaf=1, max_features=sqrt, max_depth=38, bootstrap=True, total=16.0min\n",
      "[CV] n_estimators=170, min_samples_split=2, min_samples_leaf=1, max_features=1.0, max_depth=50, bootstrap=False \n",
      "[CV]  n_estimators=210, min_samples_split=2, min_samples_leaf=1, max_features=sqrt, max_depth=38, bootstrap=True, total=16.0min\n"
     ]
    },
    {
     "name": "stderr",
     "output_type": "stream",
     "text": [
      "[Parallel(n_jobs=-1)]: Done  33 tasks      | elapsed: 121.5min\n"
     ]
    },
    {
     "name": "stdout",
     "output_type": "stream",
     "text": [
      "[CV] n_estimators=10, min_samples_split=10, min_samples_leaf=4, max_features=0.6, max_depth=5, bootstrap=False \n",
      "[CV]  n_estimators=10, min_samples_split=10, min_samples_leaf=4, max_features=0.6, max_depth=5, bootstrap=False, total=  44.6s\n",
      "[CV] n_estimators=10, min_samples_split=10, min_samples_leaf=4, max_features=0.6, max_depth=5, bootstrap=False \n",
      "[CV]  n_estimators=10, min_samples_split=10, min_samples_leaf=4, max_features=0.6, max_depth=5, bootstrap=False, total=  43.5s\n",
      "[CV] n_estimators=10, min_samples_split=10, min_samples_leaf=4, max_features=0.6, max_depth=5, bootstrap=False \n",
      "[CV]  n_estimators=10, min_samples_split=10, min_samples_leaf=4, max_features=0.6, max_depth=5, bootstrap=False, total=  44.2s\n",
      "[CV] n_estimators=50, min_samples_split=5, min_samples_leaf=4, max_features=0.6, max_depth=5, bootstrap=True \n",
      "[CV]  n_estimators=50, min_samples_split=5, min_samples_leaf=4, max_features=0.6, max_depth=5, bootstrap=True, total= 3.3min\n",
      "[CV] n_estimators=50, min_samples_split=5, min_samples_leaf=4, max_features=0.6, max_depth=5, bootstrap=True \n",
      "[CV]  n_estimators=50, min_samples_split=5, min_samples_leaf=4, max_features=0.6, max_depth=5, bootstrap=True, total= 3.3min\n",
      "[CV] n_estimators=50, min_samples_split=5, min_samples_leaf=4, max_features=0.6, max_depth=5, bootstrap=True \n",
      "[CV]  n_estimators=50, min_samples_split=5, min_samples_leaf=4, max_features=0.6, max_depth=5, bootstrap=True, total= 3.2min\n",
      "[CV] n_estimators=90, min_samples_split=10, min_samples_leaf=1, max_features=1.0, max_depth=None, bootstrap=False \n",
      "[CV]  n_estimators=90, min_samples_split=10, min_samples_leaf=1, max_features=1.0, max_depth=None, bootstrap=False, total=32.2min\n",
      "[CV] n_estimators=90, min_samples_split=10, min_samples_leaf=1, max_features=1.0, max_depth=None, bootstrap=False \n",
      "[CV]  n_estimators=170, min_samples_split=2, min_samples_leaf=1, max_features=1.0, max_depth=50, bootstrap=False, total=62.8min\n",
      "[CV] n_estimators=90, min_samples_split=10, min_samples_leaf=1, max_features=1.0, max_depth=None, bootstrap=False \n",
      "[CV]  n_estimators=170, min_samples_split=2, min_samples_leaf=1, max_features=1.0, max_depth=50, bootstrap=False, total=63.9min\n",
      "[CV] n_estimators=130, min_samples_split=2, min_samples_leaf=1, max_features=1.0, max_depth=50, bootstrap=True \n",
      "[CV]  n_estimators=170, min_samples_split=2, min_samples_leaf=1, max_features=1.0, max_depth=50, bootstrap=False, total=62.2min\n",
      "[CV] n_estimators=130, min_samples_split=2, min_samples_leaf=1, max_features=1.0, max_depth=50, bootstrap=True \n",
      "[CV]  n_estimators=90, min_samples_split=10, min_samples_leaf=1, max_features=1.0, max_depth=None, bootstrap=False, total=35.5min\n",
      "[CV] n_estimators=130, min_samples_split=2, min_samples_leaf=1, max_features=1.0, max_depth=50, bootstrap=True \n",
      "[CV]  n_estimators=90, min_samples_split=10, min_samples_leaf=1, max_features=1.0, max_depth=None, bootstrap=False, total=35.4min\n",
      "[CV] n_estimators=10, min_samples_split=2, min_samples_leaf=4, max_features=0.8, max_depth=None, bootstrap=False \n",
      "[CV]  n_estimators=10, min_samples_split=2, min_samples_leaf=4, max_features=0.8, max_depth=None, bootstrap=False, total= 2.9min\n",
      "[CV] n_estimators=10, min_samples_split=2, min_samples_leaf=4, max_features=0.8, max_depth=None, bootstrap=False \n",
      "[CV]  n_estimators=130, min_samples_split=2, min_samples_leaf=1, max_features=1.0, max_depth=50, bootstrap=True, total=39.1min\n",
      "[CV] n_estimators=10, min_samples_split=2, min_samples_leaf=4, max_features=0.8, max_depth=None, bootstrap=False \n",
      "[CV]  n_estimators=10, min_samples_split=2, min_samples_leaf=4, max_features=0.8, max_depth=None, bootstrap=False, total= 2.8min\n",
      "[CV] n_estimators=90, min_samples_split=2, min_samples_leaf=1, max_features=1.0, max_depth=16, bootstrap=False \n",
      "[CV]  n_estimators=10, min_samples_split=2, min_samples_leaf=4, max_features=0.8, max_depth=None, bootstrap=False, total= 2.8min\n",
      "[CV] n_estimators=90, min_samples_split=2, min_samples_leaf=1, max_features=1.0, max_depth=16, bootstrap=False \n",
      "[CV]  n_estimators=130, min_samples_split=2, min_samples_leaf=1, max_features=1.0, max_depth=50, bootstrap=True, total=37.1min\n",
      "[CV] n_estimators=90, min_samples_split=2, min_samples_leaf=1, max_features=1.0, max_depth=16, bootstrap=False \n",
      "[CV]  n_estimators=90, min_samples_split=2, min_samples_leaf=1, max_features=1.0, max_depth=16, bootstrap=False, total=25.9min\n",
      "[CV] n_estimators=10, min_samples_split=5, min_samples_leaf=1, max_features=0.4, max_depth=5, bootstrap=True \n",
      "[CV]  n_estimators=130, min_samples_split=2, min_samples_leaf=1, max_features=1.0, max_depth=50, bootstrap=True, total=34.9min\n",
      "[CV] n_estimators=10, min_samples_split=5, min_samples_leaf=1, max_features=0.4, max_depth=5, bootstrap=True \n",
      "[CV]  n_estimators=10, min_samples_split=5, min_samples_leaf=1, max_features=0.4, max_depth=5, bootstrap=True, total=  27.7s\n",
      "[CV] n_estimators=10, min_samples_split=5, min_samples_leaf=1, max_features=0.4, max_depth=5, bootstrap=True \n",
      "[CV]  n_estimators=10, min_samples_split=5, min_samples_leaf=1, max_features=0.4, max_depth=5, bootstrap=True, total=  28.3s\n",
      "[CV] n_estimators=90, min_samples_split=2, min_samples_leaf=1, max_features=0.6, max_depth=27, bootstrap=True \n",
      "[CV]  n_estimators=10, min_samples_split=5, min_samples_leaf=1, max_features=0.4, max_depth=5, bootstrap=True, total=  27.8s\n",
      "[CV] n_estimators=90, min_samples_split=2, min_samples_leaf=1, max_features=0.6, max_depth=27, bootstrap=True \n",
      "[CV]  n_estimators=90, min_samples_split=2, min_samples_leaf=1, max_features=1.0, max_depth=16, bootstrap=False, total=25.6min\n",
      "[CV] n_estimators=90, min_samples_split=2, min_samples_leaf=1, max_features=0.6, max_depth=27, bootstrap=True \n",
      "[CV]  n_estimators=90, min_samples_split=2, min_samples_leaf=1, max_features=1.0, max_depth=16, bootstrap=False, total=25.6min\n",
      "[CV] n_estimators=170, min_samples_split=5, min_samples_leaf=2, max_features=0.4, max_depth=5, bootstrap=True \n",
      "[CV]  n_estimators=90, min_samples_split=2, min_samples_leaf=1, max_features=0.6, max_depth=27, bootstrap=True, total=15.4min\n",
      "[CV] n_estimators=170, min_samples_split=5, min_samples_leaf=2, max_features=0.4, max_depth=5, bootstrap=True \n",
      "[CV]  n_estimators=90, min_samples_split=2, min_samples_leaf=1, max_features=0.6, max_depth=27, bootstrap=True, total=15.6min\n",
      "[CV] n_estimators=170, min_samples_split=5, min_samples_leaf=2, max_features=0.4, max_depth=5, bootstrap=True \n",
      "[CV]  n_estimators=90, min_samples_split=2, min_samples_leaf=1, max_features=0.6, max_depth=27, bootstrap=True, total=15.5min\n",
      "[CV] n_estimators=90, min_samples_split=5, min_samples_leaf=2, max_features=1.0, max_depth=None, bootstrap=True \n",
      "[CV]  n_estimators=170, min_samples_split=5, min_samples_leaf=2, max_features=0.4, max_depth=5, bootstrap=True, total= 7.8min\n",
      "[CV] n_estimators=90, min_samples_split=5, min_samples_leaf=2, max_features=1.0, max_depth=None, bootstrap=True \n",
      "[CV]  n_estimators=170, min_samples_split=5, min_samples_leaf=2, max_features=0.4, max_depth=5, bootstrap=True, total= 7.8min\n",
      "[CV] n_estimators=90, min_samples_split=5, min_samples_leaf=2, max_features=1.0, max_depth=None, bootstrap=True \n",
      "[CV]  n_estimators=170, min_samples_split=5, min_samples_leaf=2, max_features=0.4, max_depth=5, bootstrap=True, total= 7.7min\n",
      "[CV] n_estimators=210, min_samples_split=2, min_samples_leaf=4, max_features=0.4, max_depth=16, bootstrap=True \n",
      "[CV]  n_estimators=90, min_samples_split=5, min_samples_leaf=2, max_features=1.0, max_depth=None, bootstrap=True, total=25.1min\n",
      "[CV] n_estimators=210, min_samples_split=2, min_samples_leaf=4, max_features=0.4, max_depth=16, bootstrap=True \n",
      "[CV]  n_estimators=90, min_samples_split=5, min_samples_leaf=2, max_features=1.0, max_depth=None, bootstrap=True, total=25.2min\n",
      "[CV] n_estimators=210, min_samples_split=2, min_samples_leaf=4, max_features=0.4, max_depth=16, bootstrap=True \n",
      "[CV]  n_estimators=210, min_samples_split=2, min_samples_leaf=4, max_features=0.4, max_depth=16, bootstrap=True, total=23.4min\n",
      "[CV] n_estimators=50, min_samples_split=5, min_samples_leaf=1, max_features=0.8, max_depth=50, bootstrap=False \n",
      "[CV]  n_estimators=90, min_samples_split=5, min_samples_leaf=2, max_features=1.0, max_depth=None, bootstrap=True, total=26.4min\n",
      "[CV] n_estimators=50, min_samples_split=5, min_samples_leaf=1, max_features=0.8, max_depth=50, bootstrap=False \n"
     ]
    },
    {
     "name": "stdout",
     "output_type": "stream",
     "text": [
      "[CV]  n_estimators=50, min_samples_split=5, min_samples_leaf=1, max_features=0.8, max_depth=50, bootstrap=False, total=16.4min\n",
      "[CV] n_estimators=50, min_samples_split=5, min_samples_leaf=1, max_features=0.8, max_depth=50, bootstrap=False \n",
      "[CV]  n_estimators=50, min_samples_split=5, min_samples_leaf=1, max_features=0.8, max_depth=50, bootstrap=False, total=16.1min\n",
      "[CV] n_estimators=50, min_samples_split=5, min_samples_leaf=4, max_features=0.8, max_depth=38, bootstrap=False \n",
      "[CV]  n_estimators=210, min_samples_split=2, min_samples_leaf=4, max_features=0.4, max_depth=16, bootstrap=True, total=24.9min\n",
      "[CV] n_estimators=50, min_samples_split=5, min_samples_leaf=4, max_features=0.8, max_depth=38, bootstrap=False \n",
      "[CV]  n_estimators=210, min_samples_split=2, min_samples_leaf=4, max_features=0.4, max_depth=16, bootstrap=True, total=24.5min\n",
      "[CV] n_estimators=50, min_samples_split=5, min_samples_leaf=4, max_features=0.8, max_depth=38, bootstrap=False \n",
      "[CV]  n_estimators=50, min_samples_split=5, min_samples_leaf=1, max_features=0.8, max_depth=50, bootstrap=False, total=16.3min\n",
      "[CV] n_estimators=170, min_samples_split=5, min_samples_leaf=1, max_features=0.8, max_depth=None, bootstrap=True \n",
      "[CV]  n_estimators=50, min_samples_split=5, min_samples_leaf=4, max_features=0.8, max_depth=38, bootstrap=False, total=15.8min\n",
      "[CV] n_estimators=170, min_samples_split=5, min_samples_leaf=1, max_features=0.8, max_depth=None, bootstrap=True \n",
      "[CV]  n_estimators=50, min_samples_split=5, min_samples_leaf=4, max_features=0.8, max_depth=38, bootstrap=False, total=15.6min\n",
      "[CV] n_estimators=170, min_samples_split=5, min_samples_leaf=1, max_features=0.8, max_depth=None, bootstrap=True \n",
      "[CV]  n_estimators=50, min_samples_split=5, min_samples_leaf=4, max_features=0.8, max_depth=38, bootstrap=False, total=15.8min\n",
      "[CV] n_estimators=130, min_samples_split=5, min_samples_leaf=1, max_features=0.2, max_depth=50, bootstrap=False \n",
      "[CV]  n_estimators=130, min_samples_split=5, min_samples_leaf=1, max_features=0.2, max_depth=50, bootstrap=False, total=14.4min\n",
      "[CV] n_estimators=130, min_samples_split=5, min_samples_leaf=1, max_features=0.2, max_depth=50, bootstrap=False \n",
      "[CV]  n_estimators=130, min_samples_split=5, min_samples_leaf=1, max_features=0.2, max_depth=50, bootstrap=False, total=14.3min\n",
      "[CV] n_estimators=130, min_samples_split=5, min_samples_leaf=1, max_features=0.2, max_depth=50, bootstrap=False \n",
      "[CV]  n_estimators=170, min_samples_split=5, min_samples_leaf=1, max_features=0.8, max_depth=None, bootstrap=True, total=44.1min\n",
      "[CV] n_estimators=90, min_samples_split=10, min_samples_leaf=4, max_features=0.4, max_depth=50, bootstrap=False \n",
      "[CV]  n_estimators=170, min_samples_split=5, min_samples_leaf=1, max_features=0.8, max_depth=None, bootstrap=True, total=44.2min\n",
      "[CV] n_estimators=90, min_samples_split=10, min_samples_leaf=4, max_features=0.4, max_depth=50, bootstrap=False \n",
      "[CV]  n_estimators=170, min_samples_split=5, min_samples_leaf=1, max_features=0.8, max_depth=None, bootstrap=True, total=44.0min\n",
      "[CV] n_estimators=90, min_samples_split=10, min_samples_leaf=4, max_features=0.4, max_depth=50, bootstrap=False \n",
      "[CV]  n_estimators=130, min_samples_split=5, min_samples_leaf=1, max_features=0.2, max_depth=50, bootstrap=False, total=14.0min\n",
      "[CV] n_estimators=170, min_samples_split=10, min_samples_leaf=1, max_features=0.2, max_depth=50, bootstrap=False \n",
      "[CV]  n_estimators=90, min_samples_split=10, min_samples_leaf=4, max_features=0.4, max_depth=50, bootstrap=False, total=13.8min\n",
      "[CV] n_estimators=170, min_samples_split=10, min_samples_leaf=1, max_features=0.2, max_depth=50, bootstrap=False \n",
      "[CV]  n_estimators=90, min_samples_split=10, min_samples_leaf=4, max_features=0.4, max_depth=50, bootstrap=False, total=13.8min\n",
      "[CV] n_estimators=170, min_samples_split=10, min_samples_leaf=1, max_features=0.2, max_depth=50, bootstrap=False \n",
      "[CV]  n_estimators=90, min_samples_split=10, min_samples_leaf=4, max_features=0.4, max_depth=50, bootstrap=False, total=13.6min\n",
      "[CV] n_estimators=130, min_samples_split=2, min_samples_leaf=4, max_features=0.8, max_depth=38, bootstrap=False \n",
      "[CV]  n_estimators=170, min_samples_split=10, min_samples_leaf=1, max_features=0.2, max_depth=50, bootstrap=False, total=15.4min\n",
      "[CV] n_estimators=130, min_samples_split=2, min_samples_leaf=4, max_features=0.8, max_depth=38, bootstrap=False \n",
      "[CV]  n_estimators=170, min_samples_split=10, min_samples_leaf=1, max_features=0.2, max_depth=50, bootstrap=False, total=15.0min\n",
      "[CV] n_estimators=130, min_samples_split=2, min_samples_leaf=4, max_features=0.8, max_depth=38, bootstrap=False \n",
      "[CV]  n_estimators=170, min_samples_split=10, min_samples_leaf=1, max_features=0.2, max_depth=50, bootstrap=False, total=14.9min\n",
      "[CV] n_estimators=210, min_samples_split=2, min_samples_leaf=2, max_features=0.2, max_depth=27, bootstrap=False \n",
      "[CV]  n_estimators=210, min_samples_split=2, min_samples_leaf=2, max_features=0.2, max_depth=27, bootstrap=False, total=18.1min\n",
      "[CV] n_estimators=210, min_samples_split=2, min_samples_leaf=2, max_features=0.2, max_depth=27, bootstrap=False \n",
      "[CV]  n_estimators=130, min_samples_split=2, min_samples_leaf=4, max_features=0.8, max_depth=38, bootstrap=False, total=35.3min\n",
      "[CV] n_estimators=210, min_samples_split=2, min_samples_leaf=2, max_features=0.2, max_depth=27, bootstrap=False \n",
      "[CV]  n_estimators=130, min_samples_split=2, min_samples_leaf=4, max_features=0.8, max_depth=38, bootstrap=False, total=35.3min\n",
      "[CV] n_estimators=170, min_samples_split=10, min_samples_leaf=1, max_features=1.0, max_depth=5, bootstrap=False \n",
      "[CV]  n_estimators=130, min_samples_split=2, min_samples_leaf=4, max_features=0.8, max_depth=38, bootstrap=False, total=35.5min\n",
      "[CV] n_estimators=170, min_samples_split=10, min_samples_leaf=1, max_features=1.0, max_depth=5, bootstrap=False \n",
      "[CV]  n_estimators=210, min_samples_split=2, min_samples_leaf=2, max_features=0.2, max_depth=27, bootstrap=False, total=18.2min\n",
      "[CV] n_estimators=170, min_samples_split=10, min_samples_leaf=1, max_features=1.0, max_depth=5, bootstrap=False \n",
      "[CV]  n_estimators=210, min_samples_split=2, min_samples_leaf=2, max_features=0.2, max_depth=27, bootstrap=False, total=17.9min\n",
      "[CV] n_estimators=50, min_samples_split=2, min_samples_leaf=1, max_features=0.6, max_depth=16, bootstrap=True \n",
      "[CV]  n_estimators=170, min_samples_split=10, min_samples_leaf=1, max_features=1.0, max_depth=5, bootstrap=False, total=18.9min\n",
      "[CV] n_estimators=50, min_samples_split=2, min_samples_leaf=1, max_features=0.6, max_depth=16, bootstrap=True \n",
      "[CV]  n_estimators=50, min_samples_split=2, min_samples_leaf=1, max_features=0.6, max_depth=16, bootstrap=True, total= 7.0min\n",
      "[CV] n_estimators=50, min_samples_split=2, min_samples_leaf=1, max_features=0.6, max_depth=16, bootstrap=True \n",
      "[CV]  n_estimators=50, min_samples_split=2, min_samples_leaf=1, max_features=0.6, max_depth=16, bootstrap=True, total= 7.3min\n",
      "[CV] n_estimators=170, min_samples_split=5, min_samples_leaf=1, max_features=0.2, max_depth=27, bootstrap=False \n",
      "[CV]  n_estimators=50, min_samples_split=2, min_samples_leaf=1, max_features=0.6, max_depth=16, bootstrap=True, total= 7.1min\n",
      "[CV] n_estimators=170, min_samples_split=5, min_samples_leaf=1, max_features=0.2, max_depth=27, bootstrap=False \n",
      "[CV]  n_estimators=170, min_samples_split=10, min_samples_leaf=1, max_features=1.0, max_depth=5, bootstrap=False, total=19.1min\n",
      "[CV] n_estimators=170, min_samples_split=5, min_samples_leaf=1, max_features=0.2, max_depth=27, bootstrap=False \n",
      "[CV]  n_estimators=170, min_samples_split=10, min_samples_leaf=1, max_features=1.0, max_depth=5, bootstrap=False, total=19.3min\n",
      "[CV] n_estimators=10, min_samples_split=5, min_samples_leaf=1, max_features=0.4, max_depth=16, bootstrap=True \n",
      "[CV]  n_estimators=10, min_samples_split=5, min_samples_leaf=1, max_features=0.4, max_depth=16, bootstrap=True, total= 1.1min\n",
      "[CV] n_estimators=10, min_samples_split=5, min_samples_leaf=1, max_features=0.4, max_depth=16, bootstrap=True \n",
      "[CV]  n_estimators=10, min_samples_split=5, min_samples_leaf=1, max_features=0.4, max_depth=16, bootstrap=True, total= 1.0min\n",
      "[CV] n_estimators=10, min_samples_split=5, min_samples_leaf=1, max_features=0.4, max_depth=16, bootstrap=True \n",
      "[CV]  n_estimators=10, min_samples_split=5, min_samples_leaf=1, max_features=0.4, max_depth=16, bootstrap=True, total= 1.1min\n"
     ]
    },
    {
     "name": "stdout",
     "output_type": "stream",
     "text": [
      "[CV] n_estimators=90, min_samples_split=10, min_samples_leaf=1, max_features=sqrt, max_depth=27, bootstrap=True \n",
      "[CV]  n_estimators=170, min_samples_split=5, min_samples_leaf=1, max_features=0.2, max_depth=27, bootstrap=False, total=14.6min\n",
      "[CV] n_estimators=90, min_samples_split=10, min_samples_leaf=1, max_features=sqrt, max_depth=27, bootstrap=True \n",
      "[CV]  n_estimators=90, min_samples_split=10, min_samples_leaf=1, max_features=sqrt, max_depth=27, bootstrap=True, total= 5.3min\n",
      "[CV] n_estimators=90, min_samples_split=10, min_samples_leaf=1, max_features=sqrt, max_depth=27, bootstrap=True \n",
      "[CV]  n_estimators=170, min_samples_split=5, min_samples_leaf=1, max_features=0.2, max_depth=27, bootstrap=False, total=14.5min\n",
      "[CV] n_estimators=210, min_samples_split=2, min_samples_leaf=2, max_features=1.0, max_depth=None, bootstrap=True \n",
      "[CV]  n_estimators=170, min_samples_split=5, min_samples_leaf=1, max_features=0.2, max_depth=27, bootstrap=False, total=14.5min\n",
      "[CV] n_estimators=210, min_samples_split=2, min_samples_leaf=2, max_features=1.0, max_depth=None, bootstrap=True \n",
      "[CV]  n_estimators=90, min_samples_split=10, min_samples_leaf=1, max_features=sqrt, max_depth=27, bootstrap=True, total= 5.4min\n",
      "[CV] n_estimators=210, min_samples_split=2, min_samples_leaf=2, max_features=1.0, max_depth=None, bootstrap=True \n",
      "[CV]  n_estimators=90, min_samples_split=10, min_samples_leaf=1, max_features=sqrt, max_depth=27, bootstrap=True, total= 5.4min\n",
      "[CV] n_estimators=170, min_samples_split=10, min_samples_leaf=4, max_features=0.6, max_depth=16, bootstrap=False \n",
      "[CV]  n_estimators=170, min_samples_split=10, min_samples_leaf=4, max_features=0.6, max_depth=16, bootstrap=False, total=31.8min\n",
      "[CV] n_estimators=170, min_samples_split=10, min_samples_leaf=4, max_features=0.6, max_depth=16, bootstrap=False \n",
      "[CV]  n_estimators=210, min_samples_split=2, min_samples_leaf=2, max_features=1.0, max_depth=None, bootstrap=True, total=57.4min\n",
      "[CV] n_estimators=170, min_samples_split=10, min_samples_leaf=4, max_features=0.6, max_depth=16, bootstrap=False \n",
      "[CV]  n_estimators=210, min_samples_split=2, min_samples_leaf=2, max_features=1.0, max_depth=None, bootstrap=True, total=57.5min\n",
      "[CV] n_estimators=50, min_samples_split=5, min_samples_leaf=4, max_features=1.0, max_depth=38, bootstrap=False \n",
      "[CV]  n_estimators=210, min_samples_split=2, min_samples_leaf=2, max_features=1.0, max_depth=None, bootstrap=True, total=56.9min\n",
      "[CV] n_estimators=50, min_samples_split=5, min_samples_leaf=4, max_features=1.0, max_depth=38, bootstrap=False \n",
      "[CV]  n_estimators=170, min_samples_split=10, min_samples_leaf=4, max_features=0.6, max_depth=16, bootstrap=False, total=30.6min\n",
      "[CV] n_estimators=50, min_samples_split=5, min_samples_leaf=4, max_features=1.0, max_depth=38, bootstrap=False \n",
      "[CV]  n_estimators=50, min_samples_split=5, min_samples_leaf=4, max_features=1.0, max_depth=38, bootstrap=False, total=16.4min\n",
      "[CV] n_estimators=10, min_samples_split=10, min_samples_leaf=1, max_features=1.0, max_depth=5, bootstrap=True \n",
      "[CV]  n_estimators=10, min_samples_split=10, min_samples_leaf=1, max_features=1.0, max_depth=5, bootstrap=True, total= 1.0min\n",
      "[CV] n_estimators=10, min_samples_split=10, min_samples_leaf=1, max_features=1.0, max_depth=5, bootstrap=True \n",
      "[CV]  n_estimators=10, min_samples_split=10, min_samples_leaf=1, max_features=1.0, max_depth=5, bootstrap=True, total= 1.0min\n",
      "[CV] n_estimators=10, min_samples_split=10, min_samples_leaf=1, max_features=1.0, max_depth=5, bootstrap=True \n",
      "[CV]  n_estimators=50, min_samples_split=5, min_samples_leaf=4, max_features=1.0, max_depth=38, bootstrap=False, total=16.3min\n",
      "[CV] n_estimators=50, min_samples_split=2, min_samples_leaf=4, max_features=sqrt, max_depth=50, bootstrap=False \n",
      "[CV]  n_estimators=10, min_samples_split=10, min_samples_leaf=1, max_features=1.0, max_depth=5, bootstrap=True, total= 1.0min\n",
      "[CV] n_estimators=50, min_samples_split=2, min_samples_leaf=4, max_features=sqrt, max_depth=50, bootstrap=False \n",
      "[CV]  n_estimators=50, min_samples_split=2, min_samples_leaf=4, max_features=sqrt, max_depth=50, bootstrap=False, total= 3.5min\n",
      "[CV] n_estimators=50, min_samples_split=2, min_samples_leaf=4, max_features=sqrt, max_depth=50, bootstrap=False \n",
      "[CV]  n_estimators=50, min_samples_split=2, min_samples_leaf=4, max_features=sqrt, max_depth=50, bootstrap=False, total= 3.5min\n",
      "[CV] n_estimators=10, min_samples_split=2, min_samples_leaf=1, max_features=0.2, max_depth=27, bootstrap=False \n",
      "[CV]  n_estimators=10, min_samples_split=2, min_samples_leaf=1, max_features=0.2, max_depth=27, bootstrap=False, total=  52.9s\n",
      "[CV] n_estimators=10, min_samples_split=2, min_samples_leaf=1, max_features=0.2, max_depth=27, bootstrap=False \n",
      "[CV]  n_estimators=50, min_samples_split=5, min_samples_leaf=4, max_features=1.0, max_depth=38, bootstrap=False, total=16.2min\n",
      "[CV] n_estimators=10, min_samples_split=2, min_samples_leaf=1, max_features=0.2, max_depth=27, bootstrap=False \n",
      "[CV]  n_estimators=10, min_samples_split=2, min_samples_leaf=1, max_features=0.2, max_depth=27, bootstrap=False, total=  51.3s\n",
      "[CV] n_estimators=90, min_samples_split=10, min_samples_leaf=2, max_features=0.4, max_depth=50, bootstrap=False \n",
      "[CV]  n_estimators=10, min_samples_split=2, min_samples_leaf=1, max_features=0.2, max_depth=27, bootstrap=False, total=  51.4s\n",
      "[CV] n_estimators=90, min_samples_split=10, min_samples_leaf=2, max_features=0.4, max_depth=50, bootstrap=False \n",
      "[CV]  n_estimators=50, min_samples_split=2, min_samples_leaf=4, max_features=sqrt, max_depth=50, bootstrap=False, total= 3.4min\n",
      "[CV] n_estimators=90, min_samples_split=10, min_samples_leaf=2, max_features=0.4, max_depth=50, bootstrap=False \n",
      "[CV]  n_estimators=170, min_samples_split=10, min_samples_leaf=4, max_features=0.6, max_depth=16, bootstrap=False, total=28.9min\n",
      "[CV] n_estimators=130, min_samples_split=10, min_samples_leaf=2, max_features=sqrt, max_depth=50, bootstrap=True \n",
      "[CV]  n_estimators=130, min_samples_split=10, min_samples_leaf=2, max_features=sqrt, max_depth=50, bootstrap=True, total= 7.6min\n",
      "[CV] n_estimators=130, min_samples_split=10, min_samples_leaf=2, max_features=sqrt, max_depth=50, bootstrap=True \n",
      "[CV]  n_estimators=90, min_samples_split=10, min_samples_leaf=2, max_features=0.4, max_depth=50, bootstrap=False, total=13.1min\n",
      "[CV] n_estimators=130, min_samples_split=10, min_samples_leaf=2, max_features=sqrt, max_depth=50, bootstrap=True \n",
      "[CV]  n_estimators=90, min_samples_split=10, min_samples_leaf=2, max_features=0.4, max_depth=50, bootstrap=False, total=13.1min\n",
      "[CV] n_estimators=50, min_samples_split=5, min_samples_leaf=1, max_features=sqrt, max_depth=16, bootstrap=True \n",
      "[CV]  n_estimators=90, min_samples_split=10, min_samples_leaf=2, max_features=0.4, max_depth=50, bootstrap=False, total=13.2min\n",
      "[CV] n_estimators=50, min_samples_split=5, min_samples_leaf=1, max_features=sqrt, max_depth=16, bootstrap=True \n",
      "[CV]  n_estimators=50, min_samples_split=5, min_samples_leaf=1, max_features=sqrt, max_depth=16, bootstrap=True, total= 2.5min\n",
      "[CV] n_estimators=50, min_samples_split=5, min_samples_leaf=1, max_features=sqrt, max_depth=16, bootstrap=True \n",
      "[CV]  n_estimators=50, min_samples_split=5, min_samples_leaf=1, max_features=sqrt, max_depth=16, bootstrap=True, total= 2.6min\n",
      "[CV] n_estimators=170, min_samples_split=2, min_samples_leaf=1, max_features=0.4, max_depth=38, bootstrap=False \n",
      "[CV]  n_estimators=50, min_samples_split=5, min_samples_leaf=1, max_features=sqrt, max_depth=16, bootstrap=True, total= 2.5min\n",
      "[CV] n_estimators=170, min_samples_split=2, min_samples_leaf=1, max_features=0.4, max_depth=38, bootstrap=False \n",
      "[CV]  n_estimators=130, min_samples_split=10, min_samples_leaf=2, max_features=sqrt, max_depth=50, bootstrap=True, total= 7.8min\n",
      "[CV] n_estimators=170, min_samples_split=2, min_samples_leaf=1, max_features=0.4, max_depth=38, bootstrap=False \n",
      "[CV]  n_estimators=130, min_samples_split=10, min_samples_leaf=2, max_features=sqrt, max_depth=50, bootstrap=True, total= 7.8min\n",
      "[CV] n_estimators=170, min_samples_split=5, min_samples_leaf=4, max_features=0.6, max_depth=50, bootstrap=True \n",
      "[CV]  n_estimators=170, min_samples_split=2, min_samples_leaf=1, max_features=0.4, max_depth=38, bootstrap=False, total=26.1min\n",
      "[CV] n_estimators=170, min_samples_split=5, min_samples_leaf=4, max_features=0.6, max_depth=50, bootstrap=True \n"
     ]
    },
    {
     "name": "stdout",
     "output_type": "stream",
     "text": [
      "[CV]  n_estimators=170, min_samples_split=2, min_samples_leaf=1, max_features=0.4, max_depth=38, bootstrap=False, total=25.9min\n",
      "[CV] n_estimators=170, min_samples_split=5, min_samples_leaf=4, max_features=0.6, max_depth=50, bootstrap=True \n",
      "[CV]  n_estimators=170, min_samples_split=2, min_samples_leaf=1, max_features=0.4, max_depth=38, bootstrap=False, total=26.1min\n",
      "[CV] n_estimators=170, min_samples_split=5, min_samples_leaf=4, max_features=0.2, max_depth=5, bootstrap=False \n",
      "[CV]  n_estimators=170, min_samples_split=5, min_samples_leaf=4, max_features=0.6, max_depth=50, bootstrap=True, total=27.5min\n",
      "[CV] n_estimators=170, min_samples_split=5, min_samples_leaf=4, max_features=0.2, max_depth=5, bootstrap=False \n",
      "[CV]  n_estimators=170, min_samples_split=5, min_samples_leaf=4, max_features=0.2, max_depth=5, bootstrap=False, total= 4.6min\n",
      "[CV] n_estimators=170, min_samples_split=5, min_samples_leaf=4, max_features=0.2, max_depth=5, bootstrap=False \n",
      "[CV]  n_estimators=170, min_samples_split=5, min_samples_leaf=4, max_features=0.2, max_depth=5, bootstrap=False, total= 4.6min\n",
      "[CV] n_estimators=130, min_samples_split=10, min_samples_leaf=4, max_features=0.4, max_depth=5, bootstrap=False \n",
      "[CV]  n_estimators=170, min_samples_split=5, min_samples_leaf=4, max_features=0.2, max_depth=5, bootstrap=False, total= 4.6min\n",
      "[CV] n_estimators=130, min_samples_split=10, min_samples_leaf=4, max_features=0.4, max_depth=5, bootstrap=False \n",
      "[CV]  n_estimators=130, min_samples_split=10, min_samples_leaf=4, max_features=0.4, max_depth=5, bootstrap=False, total= 6.4min\n",
      "[CV] n_estimators=130, min_samples_split=10, min_samples_leaf=4, max_features=0.4, max_depth=5, bootstrap=False \n",
      "[CV]  n_estimators=130, min_samples_split=10, min_samples_leaf=4, max_features=0.4, max_depth=5, bootstrap=False, total= 6.4min\n",
      "[CV] n_estimators=90, min_samples_split=5, min_samples_leaf=1, max_features=1.0, max_depth=38, bootstrap=False \n",
      "[CV]  n_estimators=130, min_samples_split=10, min_samples_leaf=4, max_features=0.4, max_depth=5, bootstrap=False, total= 6.6min\n",
      "[CV] n_estimators=90, min_samples_split=5, min_samples_leaf=1, max_features=1.0, max_depth=38, bootstrap=False \n",
      "[CV]  n_estimators=170, min_samples_split=5, min_samples_leaf=4, max_features=0.6, max_depth=50, bootstrap=True, total=26.9min\n",
      "[CV] n_estimators=90, min_samples_split=5, min_samples_leaf=1, max_features=1.0, max_depth=38, bootstrap=False \n",
      "[CV]  n_estimators=170, min_samples_split=5, min_samples_leaf=4, max_features=0.6, max_depth=50, bootstrap=True, total=27.0min\n",
      "[CV] n_estimators=10, min_samples_split=10, min_samples_leaf=2, max_features=0.8, max_depth=5, bootstrap=False \n",
      "[CV]  n_estimators=10, min_samples_split=10, min_samples_leaf=2, max_features=0.8, max_depth=5, bootstrap=False, total=  56.3s\n",
      "[CV] n_estimators=10, min_samples_split=10, min_samples_leaf=2, max_features=0.8, max_depth=5, bootstrap=False \n",
      "[CV]  n_estimators=10, min_samples_split=10, min_samples_leaf=2, max_features=0.8, max_depth=5, bootstrap=False, total=  56.7s\n",
      "[CV] n_estimators=10, min_samples_split=10, min_samples_leaf=2, max_features=0.8, max_depth=5, bootstrap=False \n",
      "[CV]  n_estimators=10, min_samples_split=10, min_samples_leaf=2, max_features=0.8, max_depth=5, bootstrap=False, total=  56.3s\n",
      "[CV] n_estimators=10, min_samples_split=2, min_samples_leaf=4, max_features=1.0, max_depth=50, bootstrap=True \n",
      "[CV]  n_estimators=10, min_samples_split=2, min_samples_leaf=4, max_features=1.0, max_depth=50, bootstrap=True, total= 2.6min\n",
      "[CV] n_estimators=10, min_samples_split=2, min_samples_leaf=4, max_features=1.0, max_depth=50, bootstrap=True \n",
      "[CV]  n_estimators=10, min_samples_split=2, min_samples_leaf=4, max_features=1.0, max_depth=50, bootstrap=True, total= 2.6min\n",
      "[CV] n_estimators=10, min_samples_split=2, min_samples_leaf=4, max_features=1.0, max_depth=50, bootstrap=True \n",
      "[CV]  n_estimators=10, min_samples_split=2, min_samples_leaf=4, max_features=1.0, max_depth=50, bootstrap=True, total= 2.6min\n",
      "[CV] n_estimators=90, min_samples_split=10, min_samples_leaf=1, max_features=0.4, max_depth=27, bootstrap=True \n",
      "[CV]  n_estimators=90, min_samples_split=5, min_samples_leaf=1, max_features=1.0, max_depth=38, bootstrap=False, total=31.1min\n"
     ]
    },
    {
     "name": "stderr",
     "output_type": "stream",
     "text": [
      "[Parallel(n_jobs=-1)]: Done 154 tasks      | elapsed: 648.3min\n"
     ]
    },
    {
     "name": "stdout",
     "output_type": "stream",
     "text": [
      "[CV] n_estimators=90, min_samples_split=10, min_samples_leaf=1, max_features=0.4, max_depth=27, bootstrap=True \n",
      "[CV]  n_estimators=90, min_samples_split=10, min_samples_leaf=1, max_features=0.4, max_depth=27, bootstrap=True, total=10.4min\n",
      "[CV] n_estimators=90, min_samples_split=10, min_samples_leaf=1, max_features=0.4, max_depth=27, bootstrap=True \n",
      "[CV]  n_estimators=90, min_samples_split=5, min_samples_leaf=1, max_features=1.0, max_depth=38, bootstrap=False, total=30.7min\n",
      "[CV] n_estimators=10, min_samples_split=2, min_samples_leaf=4, max_features=0.6, max_depth=27, bootstrap=False \n",
      "[CV]  n_estimators=10, min_samples_split=2, min_samples_leaf=4, max_features=0.6, max_depth=27, bootstrap=False, total= 2.1min\n",
      "[CV] n_estimators=10, min_samples_split=2, min_samples_leaf=4, max_features=0.6, max_depth=27, bootstrap=False \n",
      "[CV]  n_estimators=90, min_samples_split=5, min_samples_leaf=1, max_features=1.0, max_depth=38, bootstrap=False, total=30.8min\n",
      "[CV] n_estimators=10, min_samples_split=2, min_samples_leaf=4, max_features=0.6, max_depth=27, bootstrap=False \n",
      "[CV]  n_estimators=10, min_samples_split=2, min_samples_leaf=4, max_features=0.6, max_depth=27, bootstrap=False, total= 2.1min\n",
      "[CV] n_estimators=10, min_samples_split=10, min_samples_leaf=1, max_features=sqrt, max_depth=16, bootstrap=True \n",
      "[CV]  n_estimators=10, min_samples_split=10, min_samples_leaf=1, max_features=sqrt, max_depth=16, bootstrap=True, total=  32.1s\n",
      "[CV] n_estimators=10, min_samples_split=10, min_samples_leaf=1, max_features=sqrt, max_depth=16, bootstrap=True \n",
      "[CV]  n_estimators=10, min_samples_split=10, min_samples_leaf=1, max_features=sqrt, max_depth=16, bootstrap=True, total=  32.0s\n",
      "[CV] n_estimators=10, min_samples_split=10, min_samples_leaf=1, max_features=sqrt, max_depth=16, bootstrap=True \n",
      "[CV]  n_estimators=10, min_samples_split=10, min_samples_leaf=1, max_features=sqrt, max_depth=16, bootstrap=True, total=  31.9s\n",
      "[CV] n_estimators=10, min_samples_split=5, min_samples_leaf=4, max_features=0.4, max_depth=38, bootstrap=False \n",
      "[CV]  n_estimators=10, min_samples_split=2, min_samples_leaf=4, max_features=0.6, max_depth=27, bootstrap=False, total= 2.1min\n",
      "[CV] n_estimators=10, min_samples_split=5, min_samples_leaf=4, max_features=0.4, max_depth=38, bootstrap=False \n",
      "[CV]  n_estimators=90, min_samples_split=10, min_samples_leaf=1, max_features=0.4, max_depth=27, bootstrap=True, total=10.6min\n",
      "[CV] n_estimators=10, min_samples_split=5, min_samples_leaf=4, max_features=0.4, max_depth=38, bootstrap=False \n",
      "[CV]  n_estimators=90, min_samples_split=10, min_samples_leaf=1, max_features=0.4, max_depth=27, bootstrap=True, total=10.6min\n",
      "[CV] n_estimators=10, min_samples_split=2, min_samples_leaf=4, max_features=0.2, max_depth=16, bootstrap=True \n",
      "[CV]  n_estimators=10, min_samples_split=5, min_samples_leaf=4, max_features=0.4, max_depth=38, bootstrap=False, total= 1.4min\n",
      "[CV] n_estimators=10, min_samples_split=2, min_samples_leaf=4, max_features=0.2, max_depth=16, bootstrap=True \n",
      "[CV]  n_estimators=10, min_samples_split=2, min_samples_leaf=4, max_features=0.2, max_depth=16, bootstrap=True, total=  34.9s\n",
      "[CV] n_estimators=10, min_samples_split=2, min_samples_leaf=4, max_features=0.2, max_depth=16, bootstrap=True \n",
      "[CV]  n_estimators=10, min_samples_split=5, min_samples_leaf=4, max_features=0.4, max_depth=38, bootstrap=False, total= 1.4min\n",
      "[CV] n_estimators=10, min_samples_split=5, min_samples_leaf=4, max_features=sqrt, max_depth=50, bootstrap=False \n",
      "[CV]  n_estimators=10, min_samples_split=2, min_samples_leaf=4, max_features=0.2, max_depth=16, bootstrap=True, total=  34.8s\n",
      "[CV] n_estimators=10, min_samples_split=5, min_samples_leaf=4, max_features=sqrt, max_depth=50, bootstrap=False \n",
      "[CV]  n_estimators=10, min_samples_split=5, min_samples_leaf=4, max_features=0.4, max_depth=38, bootstrap=False, total= 1.5min\n",
      "[CV] n_estimators=10, min_samples_split=5, min_samples_leaf=4, max_features=sqrt, max_depth=50, bootstrap=False \n",
      "[CV]  n_estimators=10, min_samples_split=2, min_samples_leaf=4, max_features=0.2, max_depth=16, bootstrap=True, total=  34.8s\n",
      "[CV] n_estimators=50, min_samples_split=2, min_samples_leaf=2, max_features=sqrt, max_depth=16, bootstrap=False \n",
      "[CV]  n_estimators=10, min_samples_split=5, min_samples_leaf=4, max_features=sqrt, max_depth=50, bootstrap=False, total=  43.8s\n",
      "[CV] n_estimators=50, min_samples_split=2, min_samples_leaf=2, max_features=sqrt, max_depth=16, bootstrap=False \n",
      "[CV]  n_estimators=10, min_samples_split=5, min_samples_leaf=4, max_features=sqrt, max_depth=50, bootstrap=False, total=  40.9s\n",
      "[CV] n_estimators=50, min_samples_split=2, min_samples_leaf=2, max_features=sqrt, max_depth=16, bootstrap=False \n",
      "[CV]  n_estimators=10, min_samples_split=5, min_samples_leaf=4, max_features=sqrt, max_depth=50, bootstrap=False, total=  42.4s\n",
      "[CV] n_estimators=90, min_samples_split=10, min_samples_leaf=1, max_features=sqrt, max_depth=27, bootstrap=False \n",
      "[CV]  n_estimators=50, min_samples_split=2, min_samples_leaf=2, max_features=sqrt, max_depth=16, bootstrap=False, total= 2.8min\n",
      "[CV] n_estimators=90, min_samples_split=10, min_samples_leaf=1, max_features=sqrt, max_depth=27, bootstrap=False \n",
      "[CV]  n_estimators=50, min_samples_split=2, min_samples_leaf=2, max_features=sqrt, max_depth=16, bootstrap=False, total= 2.7min\n",
      "[CV] n_estimators=90, min_samples_split=10, min_samples_leaf=1, max_features=sqrt, max_depth=27, bootstrap=False \n",
      "[CV]  n_estimators=50, min_samples_split=2, min_samples_leaf=2, max_features=sqrt, max_depth=16, bootstrap=False, total= 2.7min\n",
      "[CV] n_estimators=50, min_samples_split=10, min_samples_leaf=4, max_features=sqrt, max_depth=27, bootstrap=True \n",
      "[CV]  n_estimators=50, min_samples_split=10, min_samples_leaf=4, max_features=sqrt, max_depth=27, bootstrap=True, total= 2.8min\n",
      "[CV] n_estimators=50, min_samples_split=10, min_samples_leaf=4, max_features=sqrt, max_depth=27, bootstrap=True \n",
      "[CV]  n_estimators=90, min_samples_split=10, min_samples_leaf=1, max_features=sqrt, max_depth=27, bootstrap=False, total= 6.4min\n",
      "[CV] n_estimators=50, min_samples_split=10, min_samples_leaf=4, max_features=sqrt, max_depth=27, bootstrap=True \n",
      "[CV]  n_estimators=50, min_samples_split=10, min_samples_leaf=4, max_features=sqrt, max_depth=27, bootstrap=True, total= 2.8min\n",
      "[CV] n_estimators=50, min_samples_split=10, min_samples_leaf=2, max_features=0.4, max_depth=None, bootstrap=False \n",
      "[CV]  n_estimators=90, min_samples_split=10, min_samples_leaf=1, max_features=sqrt, max_depth=27, bootstrap=False, total= 6.5min\n",
      "[CV] n_estimators=50, min_samples_split=10, min_samples_leaf=2, max_features=0.4, max_depth=None, bootstrap=False \n",
      "[CV]  n_estimators=90, min_samples_split=10, min_samples_leaf=1, max_features=sqrt, max_depth=27, bootstrap=False, total= 6.5min\n",
      "[CV] n_estimators=50, min_samples_split=10, min_samples_leaf=2, max_features=0.4, max_depth=None, bootstrap=False \n",
      "[CV]  n_estimators=50, min_samples_split=10, min_samples_leaf=4, max_features=sqrt, max_depth=27, bootstrap=True, total= 2.7min\n",
      "[CV] n_estimators=50, min_samples_split=5, min_samples_leaf=1, max_features=0.4, max_depth=38, bootstrap=True \n",
      "[CV]  n_estimators=50, min_samples_split=5, min_samples_leaf=1, max_features=0.4, max_depth=38, bootstrap=True, total= 5.9min\n",
      "[CV] n_estimators=50, min_samples_split=5, min_samples_leaf=1, max_features=0.4, max_depth=38, bootstrap=True \n",
      "[CV]  n_estimators=50, min_samples_split=10, min_samples_leaf=2, max_features=0.4, max_depth=None, bootstrap=False, total= 7.3min\n",
      "[CV] n_estimators=50, min_samples_split=5, min_samples_leaf=1, max_features=0.4, max_depth=38, bootstrap=True \n",
      "[CV]  n_estimators=50, min_samples_split=10, min_samples_leaf=2, max_features=0.4, max_depth=None, bootstrap=False, total= 7.3min\n",
      "[CV] n_estimators=130, min_samples_split=2, min_samples_leaf=4, max_features=1.0, max_depth=16, bootstrap=False \n",
      "[CV]  n_estimators=50, min_samples_split=10, min_samples_leaf=2, max_features=0.4, max_depth=None, bootstrap=False, total= 7.3min\n",
      "[CV] n_estimators=130, min_samples_split=2, min_samples_leaf=4, max_features=1.0, max_depth=16, bootstrap=False \n",
      "[CV]  n_estimators=50, min_samples_split=5, min_samples_leaf=1, max_features=0.4, max_depth=38, bootstrap=True, total= 6.0min\n",
      "[CV] n_estimators=130, min_samples_split=2, min_samples_leaf=4, max_features=1.0, max_depth=16, bootstrap=False \n"
     ]
    },
    {
     "name": "stdout",
     "output_type": "stream",
     "text": [
      "[CV]  n_estimators=50, min_samples_split=5, min_samples_leaf=1, max_features=0.4, max_depth=38, bootstrap=True, total= 6.0min\n",
      "[CV] n_estimators=90, min_samples_split=2, min_samples_leaf=2, max_features=0.8, max_depth=27, bootstrap=False \n",
      "[CV]  n_estimators=90, min_samples_split=2, min_samples_leaf=2, max_features=0.8, max_depth=27, bootstrap=False, total=24.1min\n",
      "[CV] n_estimators=90, min_samples_split=2, min_samples_leaf=2, max_features=0.8, max_depth=27, bootstrap=False \n",
      "[CV]  n_estimators=130, min_samples_split=2, min_samples_leaf=4, max_features=1.0, max_depth=16, bootstrap=False, total=36.3min\n",
      "[CV] n_estimators=90, min_samples_split=2, min_samples_leaf=2, max_features=0.8, max_depth=27, bootstrap=False \n",
      "[CV]  n_estimators=130, min_samples_split=2, min_samples_leaf=4, max_features=1.0, max_depth=16, bootstrap=False, total=36.1min\n",
      "[CV] n_estimators=210, min_samples_split=10, min_samples_leaf=1, max_features=sqrt, max_depth=None, bootstrap=True \n",
      "[CV]  n_estimators=130, min_samples_split=2, min_samples_leaf=4, max_features=1.0, max_depth=16, bootstrap=False, total=35.6min\n",
      "[CV] n_estimators=210, min_samples_split=10, min_samples_leaf=1, max_features=sqrt, max_depth=None, bootstrap=True \n",
      "[CV]  n_estimators=210, min_samples_split=10, min_samples_leaf=1, max_features=sqrt, max_depth=None, bootstrap=True, total=12.7min\n",
      "[CV] n_estimators=210, min_samples_split=10, min_samples_leaf=1, max_features=sqrt, max_depth=None, bootstrap=True \n",
      "[CV]  n_estimators=90, min_samples_split=2, min_samples_leaf=2, max_features=0.8, max_depth=27, bootstrap=False, total=24.1min\n",
      "[CV] n_estimators=50, min_samples_split=10, min_samples_leaf=2, max_features=0.2, max_depth=27, bootstrap=False \n",
      "[CV]  n_estimators=210, min_samples_split=10, min_samples_leaf=1, max_features=sqrt, max_depth=None, bootstrap=True, total=12.8min\n",
      "[CV] n_estimators=50, min_samples_split=10, min_samples_leaf=2, max_features=0.2, max_depth=27, bootstrap=False \n",
      "[CV]  n_estimators=50, min_samples_split=10, min_samples_leaf=2, max_features=0.2, max_depth=27, bootstrap=False, total= 4.3min\n",
      "[CV] n_estimators=50, min_samples_split=10, min_samples_leaf=2, max_features=0.2, max_depth=27, bootstrap=False \n",
      "[CV]  n_estimators=50, min_samples_split=10, min_samples_leaf=2, max_features=0.2, max_depth=27, bootstrap=False, total= 4.3min\n",
      "[CV] n_estimators=90, min_samples_split=5, min_samples_leaf=1, max_features=0.2, max_depth=50, bootstrap=False \n",
      "[CV]  n_estimators=90, min_samples_split=2, min_samples_leaf=2, max_features=0.8, max_depth=27, bootstrap=False, total=24.4min\n",
      "[CV] n_estimators=90, min_samples_split=5, min_samples_leaf=1, max_features=0.2, max_depth=50, bootstrap=False \n",
      "[CV]  n_estimators=50, min_samples_split=10, min_samples_leaf=2, max_features=0.2, max_depth=27, bootstrap=False, total= 4.2min\n",
      "[CV] n_estimators=90, min_samples_split=5, min_samples_leaf=1, max_features=0.2, max_depth=50, bootstrap=False \n",
      "[CV]  n_estimators=210, min_samples_split=10, min_samples_leaf=1, max_features=sqrt, max_depth=None, bootstrap=True, total=12.6min\n",
      "[CV] n_estimators=90, min_samples_split=2, min_samples_leaf=2, max_features=1.0, max_depth=5, bootstrap=False \n",
      "[CV]  n_estimators=90, min_samples_split=5, min_samples_leaf=1, max_features=0.2, max_depth=50, bootstrap=False, total= 7.8min\n",
      "[CV] n_estimators=90, min_samples_split=2, min_samples_leaf=2, max_features=1.0, max_depth=5, bootstrap=False \n",
      "[CV]  n_estimators=90, min_samples_split=5, min_samples_leaf=1, max_features=0.2, max_depth=50, bootstrap=False, total= 7.7min\n",
      "[CV] n_estimators=90, min_samples_split=2, min_samples_leaf=2, max_features=1.0, max_depth=5, bootstrap=False \n",
      "[CV]  n_estimators=90, min_samples_split=5, min_samples_leaf=1, max_features=0.2, max_depth=50, bootstrap=False, total= 7.5min\n",
      "[CV] n_estimators=10, min_samples_split=5, min_samples_leaf=1, max_features=0.8, max_depth=38, bootstrap=False \n",
      "[CV]  n_estimators=90, min_samples_split=2, min_samples_leaf=2, max_features=1.0, max_depth=5, bootstrap=False, total= 9.6min\n",
      "[CV] n_estimators=10, min_samples_split=5, min_samples_leaf=1, max_features=0.8, max_depth=38, bootstrap=False \n",
      "[CV]  n_estimators=10, min_samples_split=5, min_samples_leaf=1, max_features=0.8, max_depth=38, bootstrap=False, total= 2.6min\n",
      "[CV] n_estimators=10, min_samples_split=5, min_samples_leaf=1, max_features=0.8, max_depth=38, bootstrap=False \n",
      "[CV]  n_estimators=10, min_samples_split=5, min_samples_leaf=1, max_features=0.8, max_depth=38, bootstrap=False, total= 2.6min\n",
      "[CV] n_estimators=170, min_samples_split=10, min_samples_leaf=1, max_features=0.6, max_depth=50, bootstrap=True \n",
      "[CV]  n_estimators=10, min_samples_split=5, min_samples_leaf=1, max_features=0.8, max_depth=38, bootstrap=False, total= 2.6min\n",
      "[CV] n_estimators=170, min_samples_split=10, min_samples_leaf=1, max_features=0.6, max_depth=50, bootstrap=True \n",
      "[CV]  n_estimators=90, min_samples_split=2, min_samples_leaf=2, max_features=1.0, max_depth=5, bootstrap=False, total= 9.5min\n",
      "[CV] n_estimators=170, min_samples_split=10, min_samples_leaf=1, max_features=0.6, max_depth=50, bootstrap=True \n",
      "[CV]  n_estimators=90, min_samples_split=2, min_samples_leaf=2, max_features=1.0, max_depth=5, bootstrap=False, total= 9.6min\n",
      "[CV] n_estimators=10, min_samples_split=2, min_samples_leaf=1, max_features=0.2, max_depth=16, bootstrap=False \n",
      "[CV]  n_estimators=10, min_samples_split=2, min_samples_leaf=1, max_features=0.2, max_depth=16, bootstrap=False, total=  45.9s\n",
      "[CV] n_estimators=10, min_samples_split=2, min_samples_leaf=1, max_features=0.2, max_depth=16, bootstrap=False \n",
      "[CV]  n_estimators=10, min_samples_split=2, min_samples_leaf=1, max_features=0.2, max_depth=16, bootstrap=False, total=  45.6s\n",
      "[CV] n_estimators=10, min_samples_split=2, min_samples_leaf=1, max_features=0.2, max_depth=16, bootstrap=False \n",
      "[CV]  n_estimators=10, min_samples_split=2, min_samples_leaf=1, max_features=0.2, max_depth=16, bootstrap=False, total=  44.9s\n",
      "[CV] n_estimators=210, min_samples_split=10, min_samples_leaf=1, max_features=0.8, max_depth=27, bootstrap=True \n",
      "[CV]  n_estimators=170, min_samples_split=10, min_samples_leaf=1, max_features=0.6, max_depth=50, bootstrap=True, total=29.9min\n",
      "[CV] n_estimators=210, min_samples_split=10, min_samples_leaf=1, max_features=0.8, max_depth=27, bootstrap=True \n",
      "[CV]  n_estimators=170, min_samples_split=10, min_samples_leaf=1, max_features=0.6, max_depth=50, bootstrap=True, total=29.9min\n",
      "[CV] n_estimators=210, min_samples_split=10, min_samples_leaf=1, max_features=0.8, max_depth=27, bootstrap=True \n",
      "[CV]  n_estimators=170, min_samples_split=10, min_samples_leaf=1, max_features=0.6, max_depth=50, bootstrap=True, total=30.0min\n",
      "[CV] n_estimators=90, min_samples_split=5, min_samples_leaf=2, max_features=0.6, max_depth=None, bootstrap=True \n",
      "[CV]  n_estimators=90, min_samples_split=5, min_samples_leaf=2, max_features=0.6, max_depth=None, bootstrap=True, total=15.9min\n",
      "[CV] n_estimators=90, min_samples_split=5, min_samples_leaf=2, max_features=0.6, max_depth=None, bootstrap=True \n",
      "[CV]  n_estimators=210, min_samples_split=10, min_samples_leaf=1, max_features=0.8, max_depth=27, bootstrap=True, total=47.2min\n",
      "[CV] n_estimators=90, min_samples_split=5, min_samples_leaf=2, max_features=0.6, max_depth=None, bootstrap=True \n",
      "[CV]  n_estimators=90, min_samples_split=5, min_samples_leaf=2, max_features=0.6, max_depth=None, bootstrap=True, total=15.8min\n",
      "[CV] n_estimators=130, min_samples_split=10, min_samples_leaf=4, max_features=0.2, max_depth=16, bootstrap=True \n",
      "[CV]  n_estimators=90, min_samples_split=5, min_samples_leaf=2, max_features=0.6, max_depth=None, bootstrap=True, total=15.9min\n",
      "[CV] n_estimators=130, min_samples_split=10, min_samples_leaf=4, max_features=0.2, max_depth=16, bootstrap=True \n",
      "[CV]  n_estimators=130, min_samples_split=10, min_samples_leaf=4, max_features=0.2, max_depth=16, bootstrap=True, total= 7.9min\n",
      "[CV] n_estimators=130, min_samples_split=10, min_samples_leaf=4, max_features=0.2, max_depth=16, bootstrap=True \n",
      "[CV]  n_estimators=130, min_samples_split=10, min_samples_leaf=4, max_features=0.2, max_depth=16, bootstrap=True, total= 7.9min\n",
      "[CV] n_estimators=10, min_samples_split=2, min_samples_leaf=1, max_features=0.2, max_depth=38, bootstrap=False \n",
      "[CV]  n_estimators=210, min_samples_split=10, min_samples_leaf=1, max_features=0.8, max_depth=27, bootstrap=True, total=46.9min\n"
     ]
    },
    {
     "name": "stdout",
     "output_type": "stream",
     "text": [
      "[CV] n_estimators=10, min_samples_split=2, min_samples_leaf=1, max_features=0.2, max_depth=38, bootstrap=False \n",
      "[CV]  n_estimators=10, min_samples_split=2, min_samples_leaf=1, max_features=0.2, max_depth=38, bootstrap=False, total=  54.1s\n",
      "[CV] n_estimators=10, min_samples_split=2, min_samples_leaf=1, max_features=0.2, max_depth=38, bootstrap=False \n",
      "[CV]  n_estimators=210, min_samples_split=10, min_samples_leaf=1, max_features=0.8, max_depth=27, bootstrap=True, total=46.9min\n",
      "[CV] n_estimators=90, min_samples_split=2, min_samples_leaf=2, max_features=0.6, max_depth=None, bootstrap=True \n",
      "[CV]  n_estimators=10, min_samples_split=2, min_samples_leaf=1, max_features=0.2, max_depth=38, bootstrap=False, total=  59.9s\n",
      "[CV] n_estimators=90, min_samples_split=2, min_samples_leaf=2, max_features=0.6, max_depth=None, bootstrap=True \n",
      "[CV]  n_estimators=10, min_samples_split=2, min_samples_leaf=1, max_features=0.2, max_depth=38, bootstrap=False, total=  58.2s\n",
      "[CV] n_estimators=90, min_samples_split=2, min_samples_leaf=2, max_features=0.6, max_depth=None, bootstrap=True \n",
      "[CV]  n_estimators=130, min_samples_split=10, min_samples_leaf=4, max_features=0.2, max_depth=16, bootstrap=True, total= 7.7min\n",
      "[CV] n_estimators=170, min_samples_split=10, min_samples_leaf=4, max_features=1.0, max_depth=16, bootstrap=False \n",
      "[CV]  n_estimators=90, min_samples_split=2, min_samples_leaf=2, max_features=0.6, max_depth=None, bootstrap=True, total=15.5min\n",
      "[CV] n_estimators=170, min_samples_split=10, min_samples_leaf=4, max_features=1.0, max_depth=16, bootstrap=False \n",
      "[CV]  n_estimators=90, min_samples_split=2, min_samples_leaf=2, max_features=0.6, max_depth=None, bootstrap=True, total=15.5min\n",
      "[CV] n_estimators=170, min_samples_split=10, min_samples_leaf=4, max_features=1.0, max_depth=16, bootstrap=False \n",
      "[CV]  n_estimators=90, min_samples_split=2, min_samples_leaf=2, max_features=0.6, max_depth=None, bootstrap=True, total=15.5min\n",
      "[CV] n_estimators=50, min_samples_split=5, min_samples_leaf=1, max_features=0.2, max_depth=50, bootstrap=False \n",
      "[CV]  n_estimators=50, min_samples_split=5, min_samples_leaf=1, max_features=0.2, max_depth=50, bootstrap=False, total= 4.4min\n",
      "[CV] n_estimators=50, min_samples_split=5, min_samples_leaf=1, max_features=0.2, max_depth=50, bootstrap=False \n",
      "[CV]  n_estimators=50, min_samples_split=5, min_samples_leaf=1, max_features=0.2, max_depth=50, bootstrap=False, total= 4.5min\n",
      "[CV] n_estimators=50, min_samples_split=5, min_samples_leaf=1, max_features=0.2, max_depth=50, bootstrap=False \n",
      "[CV]  n_estimators=50, min_samples_split=5, min_samples_leaf=1, max_features=0.2, max_depth=50, bootstrap=False, total= 4.4min\n",
      "[CV] n_estimators=170, min_samples_split=5, min_samples_leaf=1, max_features=0.8, max_depth=50, bootstrap=True \n",
      "[CV]  n_estimators=170, min_samples_split=10, min_samples_leaf=4, max_features=1.0, max_depth=16, bootstrap=False, total=48.6min\n",
      "[CV] n_estimators=170, min_samples_split=5, min_samples_leaf=1, max_features=0.8, max_depth=50, bootstrap=True \n",
      "[CV]  n_estimators=170, min_samples_split=10, min_samples_leaf=4, max_features=1.0, max_depth=16, bootstrap=False, total=47.3min\n",
      "[CV] n_estimators=170, min_samples_split=5, min_samples_leaf=1, max_features=0.8, max_depth=50, bootstrap=True \n",
      "[CV]  n_estimators=170, min_samples_split=10, min_samples_leaf=4, max_features=1.0, max_depth=16, bootstrap=False, total=47.8min\n",
      "[CV] n_estimators=10, min_samples_split=10, min_samples_leaf=1, max_features=1.0, max_depth=38, bootstrap=False \n",
      "[CV]  n_estimators=10, min_samples_split=10, min_samples_leaf=1, max_features=1.0, max_depth=38, bootstrap=False, total= 3.6min\n",
      "[CV] n_estimators=10, min_samples_split=10, min_samples_leaf=1, max_features=1.0, max_depth=38, bootstrap=False \n",
      "[CV]  n_estimators=170, min_samples_split=5, min_samples_leaf=1, max_features=0.8, max_depth=50, bootstrap=True, total=36.7min\n",
      "[CV] n_estimators=10, min_samples_split=10, min_samples_leaf=1, max_features=1.0, max_depth=38, bootstrap=False \n",
      "[CV]  n_estimators=10, min_samples_split=10, min_samples_leaf=1, max_features=1.0, max_depth=38, bootstrap=False, total= 3.5min\n",
      "[CV] n_estimators=210, min_samples_split=5, min_samples_leaf=1, max_features=0.8, max_depth=16, bootstrap=False \n",
      "[CV]  n_estimators=10, min_samples_split=10, min_samples_leaf=1, max_features=1.0, max_depth=38, bootstrap=False, total= 3.5min\n",
      "[CV] n_estimators=210, min_samples_split=5, min_samples_leaf=1, max_features=0.8, max_depth=16, bootstrap=False \n",
      "[CV]  n_estimators=170, min_samples_split=5, min_samples_leaf=1, max_features=0.8, max_depth=50, bootstrap=True, total=37.2min\n",
      "[CV] n_estimators=210, min_samples_split=5, min_samples_leaf=1, max_features=0.8, max_depth=16, bootstrap=False \n",
      "[CV]  n_estimators=170, min_samples_split=5, min_samples_leaf=1, max_features=0.8, max_depth=50, bootstrap=True, total=37.0min\n",
      "[CV] n_estimators=50, min_samples_split=2, min_samples_leaf=4, max_features=0.2, max_depth=38, bootstrap=False \n",
      "[CV]  n_estimators=50, min_samples_split=2, min_samples_leaf=4, max_features=0.2, max_depth=38, bootstrap=False, total= 4.2min\n",
      "[CV] n_estimators=50, min_samples_split=2, min_samples_leaf=4, max_features=0.2, max_depth=38, bootstrap=False \n",
      "[CV]  n_estimators=50, min_samples_split=2, min_samples_leaf=4, max_features=0.2, max_depth=38, bootstrap=False, total= 4.1min\n",
      "[CV] n_estimators=50, min_samples_split=2, min_samples_leaf=4, max_features=0.2, max_depth=38, bootstrap=False \n",
      "[CV]  n_estimators=50, min_samples_split=2, min_samples_leaf=4, max_features=0.2, max_depth=38, bootstrap=False, total= 4.2min\n",
      "[CV] n_estimators=90, min_samples_split=10, min_samples_leaf=4, max_features=0.2, max_depth=38, bootstrap=False \n",
      "[CV]  n_estimators=210, min_samples_split=5, min_samples_leaf=1, max_features=0.8, max_depth=16, bootstrap=False, total=48.1min\n",
      "[CV] n_estimators=90, min_samples_split=10, min_samples_leaf=4, max_features=0.2, max_depth=38, bootstrap=False \n",
      "[CV]  n_estimators=210, min_samples_split=5, min_samples_leaf=1, max_features=0.8, max_depth=16, bootstrap=False, total=47.8min\n",
      "[CV] n_estimators=90, min_samples_split=10, min_samples_leaf=4, max_features=0.2, max_depth=38, bootstrap=False \n",
      "[CV]  n_estimators=90, min_samples_split=10, min_samples_leaf=4, max_features=0.2, max_depth=38, bootstrap=False, total= 7.3min\n",
      "[CV] n_estimators=170, min_samples_split=10, min_samples_leaf=1, max_features=sqrt, max_depth=38, bootstrap=True \n",
      "[CV]  n_estimators=90, min_samples_split=10, min_samples_leaf=4, max_features=0.2, max_depth=38, bootstrap=False, total= 7.4min\n",
      "[CV] n_estimators=170, min_samples_split=10, min_samples_leaf=1, max_features=sqrt, max_depth=38, bootstrap=True \n",
      "[CV]  n_estimators=90, min_samples_split=10, min_samples_leaf=4, max_features=0.2, max_depth=38, bootstrap=False, total= 7.5min\n",
      "[CV] n_estimators=170, min_samples_split=10, min_samples_leaf=1, max_features=sqrt, max_depth=38, bootstrap=True \n",
      "[CV]  n_estimators=170, min_samples_split=10, min_samples_leaf=1, max_features=sqrt, max_depth=38, bootstrap=True, total=10.3min\n",
      "[CV] n_estimators=130, min_samples_split=10, min_samples_leaf=4, max_features=0.6, max_depth=38, bootstrap=True \n",
      "[CV]  n_estimators=210, min_samples_split=5, min_samples_leaf=1, max_features=0.8, max_depth=16, bootstrap=False, total=47.2min\n",
      "[CV] n_estimators=130, min_samples_split=10, min_samples_leaf=4, max_features=0.6, max_depth=38, bootstrap=True \n",
      "[CV]  n_estimators=170, min_samples_split=10, min_samples_leaf=1, max_features=sqrt, max_depth=38, bootstrap=True, total=10.4min\n",
      "[CV] n_estimators=130, min_samples_split=10, min_samples_leaf=4, max_features=0.6, max_depth=38, bootstrap=True \n",
      "[CV]  n_estimators=170, min_samples_split=10, min_samples_leaf=1, max_features=sqrt, max_depth=38, bootstrap=True, total=10.5min\n",
      "[CV] n_estimators=170, min_samples_split=10, min_samples_leaf=2, max_features=0.8, max_depth=50, bootstrap=True \n",
      "[CV]  n_estimators=130, min_samples_split=10, min_samples_leaf=4, max_features=0.6, max_depth=38, bootstrap=True, total=22.2min\n",
      "[CV] n_estimators=170, min_samples_split=10, min_samples_leaf=2, max_features=0.8, max_depth=50, bootstrap=True \n",
      "[CV]  n_estimators=130, min_samples_split=10, min_samples_leaf=4, max_features=0.6, max_depth=38, bootstrap=True, total=22.3min\n",
      "[CV] n_estimators=170, min_samples_split=10, min_samples_leaf=2, max_features=0.8, max_depth=50, bootstrap=True \n"
     ]
    },
    {
     "name": "stdout",
     "output_type": "stream",
     "text": [
      "[CV]  n_estimators=130, min_samples_split=10, min_samples_leaf=4, max_features=0.6, max_depth=38, bootstrap=True, total=22.3min\n",
      "[CV] n_estimators=130, min_samples_split=5, min_samples_leaf=2, max_features=sqrt, max_depth=None, bootstrap=True \n",
      "[CV]  n_estimators=130, min_samples_split=5, min_samples_leaf=2, max_features=sqrt, max_depth=None, bootstrap=True, total= 8.1min\n",
      "[CV] n_estimators=130, min_samples_split=5, min_samples_leaf=2, max_features=sqrt, max_depth=None, bootstrap=True \n",
      "[CV]  n_estimators=170, min_samples_split=10, min_samples_leaf=2, max_features=0.8, max_depth=50, bootstrap=True, total=39.7min\n",
      "[CV] n_estimators=130, min_samples_split=5, min_samples_leaf=2, max_features=sqrt, max_depth=None, bootstrap=True \n",
      "[CV]  n_estimators=130, min_samples_split=5, min_samples_leaf=2, max_features=sqrt, max_depth=None, bootstrap=True, total= 9.5min\n",
      "[CV] n_estimators=170, min_samples_split=2, min_samples_leaf=1, max_features=0.6, max_depth=16, bootstrap=True \n",
      "[CV]  n_estimators=130, min_samples_split=5, min_samples_leaf=2, max_features=sqrt, max_depth=None, bootstrap=True, total= 9.0min\n",
      "[CV] n_estimators=170, min_samples_split=2, min_samples_leaf=1, max_features=0.6, max_depth=16, bootstrap=True \n",
      "[CV]  n_estimators=170, min_samples_split=10, min_samples_leaf=2, max_features=0.8, max_depth=50, bootstrap=True, total=40.4min\n",
      "[CV] n_estimators=170, min_samples_split=2, min_samples_leaf=1, max_features=0.6, max_depth=16, bootstrap=True \n",
      "[CV]  n_estimators=170, min_samples_split=10, min_samples_leaf=2, max_features=0.8, max_depth=50, bootstrap=True, total=40.1min\n",
      "[CV] n_estimators=130, min_samples_split=10, min_samples_leaf=4, max_features=sqrt, max_depth=38, bootstrap=False \n",
      "[CV]  n_estimators=170, min_samples_split=2, min_samples_leaf=1, max_features=0.6, max_depth=16, bootstrap=True, total=26.0min\n",
      "[CV] n_estimators=130, min_samples_split=10, min_samples_leaf=4, max_features=sqrt, max_depth=38, bootstrap=False \n",
      "[CV]  n_estimators=130, min_samples_split=10, min_samples_leaf=4, max_features=sqrt, max_depth=38, bootstrap=False, total= 9.7min\n",
      "[CV] n_estimators=130, min_samples_split=10, min_samples_leaf=4, max_features=sqrt, max_depth=38, bootstrap=False \n",
      "[CV]  n_estimators=170, min_samples_split=2, min_samples_leaf=1, max_features=0.6, max_depth=16, bootstrap=True, total=25.2min\n",
      "[CV] n_estimators=90, min_samples_split=5, min_samples_leaf=2, max_features=0.6, max_depth=5, bootstrap=True \n",
      "[CV]  n_estimators=130, min_samples_split=10, min_samples_leaf=4, max_features=sqrt, max_depth=38, bootstrap=False, total= 9.2min\n",
      "[CV] n_estimators=90, min_samples_split=5, min_samples_leaf=2, max_features=0.6, max_depth=5, bootstrap=True \n",
      "[CV]  n_estimators=130, min_samples_split=10, min_samples_leaf=4, max_features=sqrt, max_depth=38, bootstrap=False, total= 9.3min\n",
      "[CV] n_estimators=90, min_samples_split=5, min_samples_leaf=2, max_features=0.6, max_depth=5, bootstrap=True \n",
      "[CV]  n_estimators=90, min_samples_split=5, min_samples_leaf=2, max_features=0.6, max_depth=5, bootstrap=True, total= 5.7min\n",
      "[CV] n_estimators=210, min_samples_split=5, min_samples_leaf=1, max_features=0.8, max_depth=50, bootstrap=True \n",
      "[CV]  n_estimators=170, min_samples_split=2, min_samples_leaf=1, max_features=0.6, max_depth=16, bootstrap=True, total=24.6min\n",
      "[CV] n_estimators=210, min_samples_split=5, min_samples_leaf=1, max_features=0.8, max_depth=50, bootstrap=True \n",
      "[CV]  n_estimators=90, min_samples_split=5, min_samples_leaf=2, max_features=0.6, max_depth=5, bootstrap=True, total= 5.6min\n",
      "[CV] n_estimators=210, min_samples_split=5, min_samples_leaf=1, max_features=0.8, max_depth=50, bootstrap=True \n",
      "[CV]  n_estimators=90, min_samples_split=5, min_samples_leaf=2, max_features=0.6, max_depth=5, bootstrap=True, total= 5.9min\n",
      "[CV] n_estimators=10, min_samples_split=5, min_samples_leaf=4, max_features=sqrt, max_depth=27, bootstrap=False \n",
      "[CV]  n_estimators=10, min_samples_split=5, min_samples_leaf=4, max_features=sqrt, max_depth=27, bootstrap=False, total=  46.1s\n",
      "[CV] n_estimators=10, min_samples_split=5, min_samples_leaf=4, max_features=sqrt, max_depth=27, bootstrap=False \n",
      "[CV]  n_estimators=10, min_samples_split=5, min_samples_leaf=4, max_features=sqrt, max_depth=27, bootstrap=False, total=  44.0s\n",
      "[CV] n_estimators=10, min_samples_split=5, min_samples_leaf=4, max_features=sqrt, max_depth=27, bootstrap=False \n",
      "[CV]  n_estimators=10, min_samples_split=5, min_samples_leaf=4, max_features=sqrt, max_depth=27, bootstrap=False, total=  46.1s\n",
      "[CV] n_estimators=90, min_samples_split=5, min_samples_leaf=4, max_features=sqrt, max_depth=50, bootstrap=False \n",
      "[CV]  n_estimators=90, min_samples_split=5, min_samples_leaf=4, max_features=sqrt, max_depth=50, bootstrap=False, total= 6.8min\n",
      "[CV] n_estimators=90, min_samples_split=5, min_samples_leaf=4, max_features=sqrt, max_depth=50, bootstrap=False \n",
      "[CV]  n_estimators=90, min_samples_split=5, min_samples_leaf=4, max_features=sqrt, max_depth=50, bootstrap=False, total= 6.8min\n",
      "[CV] n_estimators=90, min_samples_split=5, min_samples_leaf=4, max_features=sqrt, max_depth=50, bootstrap=False \n",
      "[CV]  n_estimators=90, min_samples_split=5, min_samples_leaf=4, max_features=sqrt, max_depth=50, bootstrap=False, total= 6.8min\n",
      "[CV] n_estimators=50, min_samples_split=5, min_samples_leaf=4, max_features=1.0, max_depth=None, bootstrap=False \n",
      "[CV]  n_estimators=50, min_samples_split=5, min_samples_leaf=4, max_features=1.0, max_depth=None, bootstrap=False, total=17.9min\n",
      "[CV] n_estimators=50, min_samples_split=5, min_samples_leaf=4, max_features=1.0, max_depth=None, bootstrap=False \n",
      "[CV]  n_estimators=210, min_samples_split=5, min_samples_leaf=1, max_features=0.8, max_depth=50, bootstrap=True, total=47.3min\n",
      "[CV] n_estimators=50, min_samples_split=5, min_samples_leaf=4, max_features=1.0, max_depth=None, bootstrap=False \n",
      "[CV]  n_estimators=210, min_samples_split=5, min_samples_leaf=1, max_features=0.8, max_depth=50, bootstrap=True, total=47.3min\n",
      "[CV] n_estimators=10, min_samples_split=5, min_samples_leaf=2, max_features=0.2, max_depth=27, bootstrap=False \n",
      "[CV]  n_estimators=210, min_samples_split=5, min_samples_leaf=1, max_features=0.8, max_depth=50, bootstrap=True, total=47.0min\n",
      "[CV] n_estimators=10, min_samples_split=5, min_samples_leaf=2, max_features=0.2, max_depth=27, bootstrap=False \n",
      "[CV]  n_estimators=10, min_samples_split=5, min_samples_leaf=2, max_features=0.2, max_depth=27, bootstrap=False, total=  53.2s\n",
      "[CV] n_estimators=10, min_samples_split=5, min_samples_leaf=2, max_features=0.2, max_depth=27, bootstrap=False \n",
      "[CV]  n_estimators=10, min_samples_split=5, min_samples_leaf=2, max_features=0.2, max_depth=27, bootstrap=False, total=  53.4s\n",
      "[CV] n_estimators=130, min_samples_split=2, min_samples_leaf=2, max_features=0.8, max_depth=27, bootstrap=True \n",
      "[CV]  n_estimators=10, min_samples_split=5, min_samples_leaf=2, max_features=0.2, max_depth=27, bootstrap=False, total=  52.8s\n",
      "[CV] n_estimators=130, min_samples_split=2, min_samples_leaf=2, max_features=0.8, max_depth=27, bootstrap=True \n",
      "[CV]  n_estimators=50, min_samples_split=5, min_samples_leaf=4, max_features=1.0, max_depth=None, bootstrap=False, total=17.0min\n",
      "[CV] n_estimators=130, min_samples_split=2, min_samples_leaf=2, max_features=0.8, max_depth=27, bootstrap=True \n",
      "[CV]  n_estimators=50, min_samples_split=5, min_samples_leaf=4, max_features=1.0, max_depth=None, bootstrap=False, total=17.0min\n",
      "[CV] n_estimators=90, min_samples_split=5, min_samples_leaf=1, max_features=0.2, max_depth=None, bootstrap=True \n",
      "[CV]  n_estimators=90, min_samples_split=5, min_samples_leaf=1, max_features=0.2, max_depth=None, bootstrap=True, total= 6.9min\n",
      "[CV] n_estimators=90, min_samples_split=5, min_samples_leaf=1, max_features=0.2, max_depth=None, bootstrap=True \n",
      "[CV]  n_estimators=130, min_samples_split=2, min_samples_leaf=2, max_features=0.8, max_depth=27, bootstrap=True, total=28.7min\n",
      "[CV] n_estimators=90, min_samples_split=5, min_samples_leaf=1, max_features=0.2, max_depth=None, bootstrap=True \n",
      "[CV]  n_estimators=90, min_samples_split=5, min_samples_leaf=1, max_features=0.2, max_depth=None, bootstrap=True, total= 6.9min\n",
      "[CV] n_estimators=50, min_samples_split=2, min_samples_leaf=1, max_features=0.8, max_depth=16, bootstrap=False \n",
      "[CV]  n_estimators=130, min_samples_split=2, min_samples_leaf=2, max_features=0.8, max_depth=27, bootstrap=True, total=28.6min\n"
     ]
    },
    {
     "name": "stdout",
     "output_type": "stream",
     "text": [
      "[CV] n_estimators=50, min_samples_split=2, min_samples_leaf=1, max_features=0.8, max_depth=16, bootstrap=False \n",
      "[CV]  n_estimators=90, min_samples_split=5, min_samples_leaf=1, max_features=0.2, max_depth=None, bootstrap=True, total= 6.5min\n",
      "[CV] n_estimators=50, min_samples_split=2, min_samples_leaf=1, max_features=0.8, max_depth=16, bootstrap=False \n",
      "[CV]  n_estimators=50, min_samples_split=2, min_samples_leaf=1, max_features=0.8, max_depth=16, bootstrap=False, total=11.7min\n",
      "[CV] n_estimators=90, min_samples_split=10, min_samples_leaf=4, max_features=0.4, max_depth=5, bootstrap=False \n",
      "[CV]  n_estimators=50, min_samples_split=2, min_samples_leaf=1, max_features=0.8, max_depth=16, bootstrap=False, total=11.6min\n",
      "[CV] n_estimators=90, min_samples_split=10, min_samples_leaf=4, max_features=0.4, max_depth=5, bootstrap=False \n",
      "[CV]  n_estimators=130, min_samples_split=2, min_samples_leaf=2, max_features=0.8, max_depth=27, bootstrap=True, total=28.2min\n",
      "[CV] n_estimators=90, min_samples_split=10, min_samples_leaf=4, max_features=0.4, max_depth=5, bootstrap=False \n",
      "[CV]  n_estimators=90, min_samples_split=10, min_samples_leaf=4, max_features=0.4, max_depth=5, bootstrap=False, total= 4.0min\n",
      "[CV]  n_estimators=90, min_samples_split=10, min_samples_leaf=4, max_features=0.4, max_depth=5, bootstrap=False, total= 3.8min\n",
      "[CV]  n_estimators=90, min_samples_split=10, min_samples_leaf=4, max_features=0.4, max_depth=5, bootstrap=False, total= 3.4min\n",
      "[CV]  n_estimators=50, min_samples_split=2, min_samples_leaf=1, max_features=0.8, max_depth=16, bootstrap=False, total=10.1min\n"
     ]
    },
    {
     "name": "stderr",
     "output_type": "stream",
     "text": [
      "[Parallel(n_jobs=-1)]: Done 300 out of 300 | elapsed: 1156.1min finished\n"
     ]
    },
    {
     "data": {
      "text/plain": [
       "RandomizedSearchCV(cv=3, error_score='raise',\n",
       "          estimator=RandomForestClassifier(bootstrap=True, class_weight=None, criterion='gini',\n",
       "            max_depth=None, max_features='auto', max_leaf_nodes=None,\n",
       "            min_impurity_decrease=0.0, min_impurity_split=None,\n",
       "            min_samples_leaf=1, min_samples_split=2,\n",
       "            min_weight_fraction_leaf=0.0, n_estimators=10, n_jobs=1,\n",
       "            oob_score=False, random_state=None, verbose=0,\n",
       "            warm_start=False),\n",
       "          fit_params=None, iid=True, n_iter=100, n_jobs=-1,\n",
       "          param_distributions={'n_estimators': [10, 50, 90, 130, 170, 210], 'max_features': [0.2, 0.4, 0.6, 0.8, 1.0, 'sqrt'], 'max_depth': [5, 16, 27, 38, 50, None], 'min_samples_split': [2, 5, 10], 'min_samples_leaf': [1, 2, 4], 'bootstrap': [True, False]},\n",
       "          pre_dispatch='2*n_jobs', random_state=None, refit=True,\n",
       "          return_train_score='warn', scoring='f1', verbose=2)"
      ]
     },
     "execution_count": 114,
     "metadata": {},
     "output_type": "execute_result"
    }
   ],
   "source": [
    "# Use the random grid to search for best hyperparameters\n",
    "# First create the base model to tune\n",
    "RF = RandomForestClassifier()\n",
    "\n",
    "# Random search of parameters, using 5 fold cross validation, \n",
    "# search across 100 different combinations, and use all available cores\n",
    "rf_random = RandomizedSearchCV(estimator = RF, \n",
    "                               param_distributions = random_grid, \n",
    "                               n_iter = 100, \n",
    "                               cv = 3, \n",
    "                               verbose = 2,\n",
    "                               scoring = 'f1',\n",
    "                               n_jobs = -1)\n",
    "\n",
    "# Fit the random search model\n",
    "rf_random.fit(X_train_rf, y_binary_train)"
   ]
  },
  {
   "cell_type": "code",
   "execution_count": 115,
   "metadata": {},
   "outputs": [
    {
     "data": {
      "text/plain": [
       "{'bootstrap': True,\n",
       " 'max_depth': 27,\n",
       " 'max_features': 0.4,\n",
       " 'min_samples_leaf': 1,\n",
       " 'min_samples_split': 10,\n",
       " 'n_estimators': 90}"
      ]
     },
     "execution_count": 115,
     "metadata": {},
     "output_type": "execute_result"
    }
   ],
   "source": [
    "rf_random.best_params_"
   ]
  },
  {
   "cell_type": "code",
   "execution_count": 117,
   "metadata": {},
   "outputs": [
    {
     "name": "stdout",
     "output_type": "stream",
     "text": [
      "             precision    recall  f1-score   support\n",
      "\n",
      "        0.0       0.92      0.97      0.95    440791\n",
      "        1.0       0.82      0.63      0.71     93520\n",
      "\n",
      "avg / total       0.91      0.91      0.91    534311\n",
      "\n"
     ]
    }
   ],
   "source": [
    "# Evaluate the new parameters by predicting the test set results\n",
    "best_random = rf_random.best_estimator_\n",
    "best_random_prediction = best_random.predict(X_test_rf)\n",
    "\n",
    "# Evaluate model accuracy on testing set\n",
    "from sklearn.metrics import classification_report\n",
    "print(classification_report(y_binary_test, best_random_prediction))"
   ]
  },
  {
   "cell_type": "code",
   "execution_count": 129,
   "metadata": {},
   "outputs": [
    {
     "name": "stdout",
     "output_type": "stream",
     "text": [
      "             precision    recall  f1-score   support\n",
      "\n",
      "        0.0       0.80      0.98      0.88    327793\n",
      "        1.0       0.84      0.31      0.46    117246\n",
      "\n",
      "avg / total       0.81      0.80      0.77    445039\n",
      "\n"
     ]
    }
   ],
   "source": [
    "# Evaluate model accuracy on OOT\n",
    "best_random_prediction_oot = best_random.predict(oot_X_rf)\n",
    "\n",
    "from sklearn.metrics import classification_report\n",
    "print(classification_report(oot_y, best_random_prediction_oot))"
   ]
  },
  {
   "cell_type": "code",
   "execution_count": 130,
   "metadata": {},
   "outputs": [
    {
     "name": "stdout",
     "output_type": "stream",
     "text": [
      "             precision    recall  f1-score   support\n",
      "\n",
      "        0.0       0.95      0.99      0.97   1026842\n",
      "        1.0       0.93      0.73      0.82    219883\n",
      "\n",
      "avg / total       0.94      0.94      0.94   1246725\n",
      "\n"
     ]
    }
   ],
   "source": [
    "# Evaluate model accuracy on training set\n",
    "best_random_prediction_train = best_random.predict(X_train_rf)\n",
    "\n",
    "from sklearn.metrics import classification_report\n",
    "print(classification_report(y_binary_train, best_random_prediction_train))"
   ]
  },
  {
   "cell_type": "markdown",
   "metadata": {},
   "source": [
    "### RF Grid Search for Parameters"
   ]
  },
  {
   "cell_type": "code",
   "execution_count": 121,
   "metadata": {
    "scrolled": true
   },
   "outputs": [
    {
     "name": "stdout",
     "output_type": "stream",
     "text": [
      "Fitting 3 folds for each of 162 candidates, totalling 486 fits\n",
      "[CV] bootstrap=True, max_depth=20, max_features=0.2, min_samples_leaf=1, min_samples_split=8, n_estimators=70 \n",
      "[CV] bootstrap=True, max_depth=20, max_features=0.2, min_samples_leaf=1, min_samples_split=8, n_estimators=70 \n",
      "[CV] bootstrap=True, max_depth=20, max_features=0.2, min_samples_leaf=1, min_samples_split=8, n_estimators=70 \n",
      "[CV] bootstrap=True, max_depth=20, max_features=0.2, min_samples_leaf=1, min_samples_split=8, n_estimators=90 \n",
      "[CV]  bootstrap=True, max_depth=20, max_features=0.2, min_samples_leaf=1, min_samples_split=8, n_estimators=70, score=0.7074475293142343, total= 5.9min\n",
      "[CV] bootstrap=True, max_depth=20, max_features=0.2, min_samples_leaf=1, min_samples_split=8, n_estimators=90 \n",
      "[CV]  bootstrap=True, max_depth=20, max_features=0.2, min_samples_leaf=1, min_samples_split=8, n_estimators=70, score=0.7087885003736742, total= 5.9min\n",
      "[CV] bootstrap=True, max_depth=20, max_features=0.2, min_samples_leaf=1, min_samples_split=8, n_estimators=90 \n",
      "[CV]  bootstrap=True, max_depth=20, max_features=0.2, min_samples_leaf=1, min_samples_split=8, n_estimators=70, score=0.7080753231081897, total= 5.9min\n",
      "[CV] bootstrap=True, max_depth=20, max_features=0.2, min_samples_leaf=1, min_samples_split=8, n_estimators=110 \n",
      "[CV]  bootstrap=True, max_depth=20, max_features=0.2, min_samples_leaf=1, min_samples_split=8, n_estimators=90, score=0.7077026089867756, total= 7.3min\n",
      "[CV] bootstrap=True, max_depth=20, max_features=0.2, min_samples_leaf=1, min_samples_split=8, n_estimators=110 \n",
      "[CV]  bootstrap=True, max_depth=20, max_features=0.2, min_samples_leaf=1, min_samples_split=8, n_estimators=90, score=0.7090180233205542, total= 7.4min\n",
      "[CV] bootstrap=True, max_depth=20, max_features=0.2, min_samples_leaf=1, min_samples_split=8, n_estimators=110 \n",
      "[CV]  bootstrap=True, max_depth=20, max_features=0.2, min_samples_leaf=1, min_samples_split=8, n_estimators=90, score=0.7078063013284783, total= 7.4min\n",
      "[CV] bootstrap=True, max_depth=20, max_features=0.2, min_samples_leaf=1, min_samples_split=10, n_estimators=70 \n",
      "[CV]  bootstrap=True, max_depth=20, max_features=0.2, min_samples_leaf=1, min_samples_split=8, n_estimators=110, score=0.707804224363474, total= 8.9min\n",
      "[CV] bootstrap=True, max_depth=20, max_features=0.2, min_samples_leaf=1, min_samples_split=10, n_estimators=70 \n",
      "[CV]  bootstrap=True, max_depth=20, max_features=0.2, min_samples_leaf=1, min_samples_split=8, n_estimators=110, score=0.7095276704662883, total= 9.0min\n",
      "[CV] bootstrap=True, max_depth=20, max_features=0.2, min_samples_leaf=1, min_samples_split=10, n_estimators=70 \n",
      "[CV]  bootstrap=True, max_depth=20, max_features=0.2, min_samples_leaf=1, min_samples_split=10, n_estimators=70, score=0.7068391158120102, total= 5.5min\n",
      "[CV] bootstrap=True, max_depth=20, max_features=0.2, min_samples_leaf=1, min_samples_split=10, n_estimators=90 \n",
      "[CV]  bootstrap=True, max_depth=20, max_features=0.2, min_samples_leaf=1, min_samples_split=10, n_estimators=70, score=0.7099071601170036, total= 5.5min\n",
      "[CV] bootstrap=True, max_depth=20, max_features=0.2, min_samples_leaf=1, min_samples_split=10, n_estimators=90 \n",
      "[CV]  bootstrap=True, max_depth=20, max_features=0.2, min_samples_leaf=1, min_samples_split=10, n_estimators=70, score=0.7075524186497528, total= 5.3min\n",
      "[CV] bootstrap=True, max_depth=20, max_features=0.2, min_samples_leaf=1, min_samples_split=10, n_estimators=90 \n",
      "[CV]  bootstrap=True, max_depth=20, max_features=0.2, min_samples_leaf=1, min_samples_split=8, n_estimators=110, score=0.70823037747392, total= 8.5min\n",
      "[CV] bootstrap=True, max_depth=20, max_features=0.2, min_samples_leaf=1, min_samples_split=10, n_estimators=110 \n",
      "[CV]  bootstrap=True, max_depth=20, max_features=0.2, min_samples_leaf=1, min_samples_split=10, n_estimators=90, score=0.7074943937689036, total= 6.7min\n",
      "[CV] bootstrap=True, max_depth=20, max_features=0.2, min_samples_leaf=1, min_samples_split=10, n_estimators=110 \n",
      "[CV]  bootstrap=True, max_depth=20, max_features=0.2, min_samples_leaf=1, min_samples_split=10, n_estimators=90, score=0.7089766035333439, total= 6.8min\n",
      "[CV] bootstrap=True, max_depth=20, max_features=0.2, min_samples_leaf=1, min_samples_split=10, n_estimators=110 \n",
      "[CV]  bootstrap=True, max_depth=20, max_features=0.2, min_samples_leaf=1, min_samples_split=10, n_estimators=90, score=0.7071635973111652, total= 6.8min\n",
      "[CV] bootstrap=True, max_depth=20, max_features=0.2, min_samples_leaf=1, min_samples_split=12, n_estimators=70 \n",
      "[CV]  bootstrap=True, max_depth=20, max_features=0.2, min_samples_leaf=1, min_samples_split=10, n_estimators=110, score=0.7069720686436418, total= 8.2min\n",
      "[CV] bootstrap=True, max_depth=20, max_features=0.2, min_samples_leaf=1, min_samples_split=12, n_estimators=70 \n",
      "[CV]  bootstrap=True, max_depth=20, max_features=0.2, min_samples_leaf=1, min_samples_split=10, n_estimators=110, score=0.7100439182738209, total= 8.4min\n",
      "[CV] bootstrap=True, max_depth=20, max_features=0.2, min_samples_leaf=1, min_samples_split=12, n_estimators=70 \n",
      "[CV]  bootstrap=True, max_depth=20, max_features=0.2, min_samples_leaf=1, min_samples_split=12, n_estimators=70, score=0.7067527404045892, total= 5.5min\n",
      "[CV] bootstrap=True, max_depth=20, max_features=0.2, min_samples_leaf=1, min_samples_split=12, n_estimators=90 \n",
      "[CV]  bootstrap=True, max_depth=20, max_features=0.2, min_samples_leaf=1, min_samples_split=12, n_estimators=70, score=0.7088830954122023, total= 5.7min\n",
      "[CV] bootstrap=True, max_depth=20, max_features=0.2, min_samples_leaf=1, min_samples_split=12, n_estimators=90 \n",
      "[CV]  bootstrap=True, max_depth=20, max_features=0.2, min_samples_leaf=1, min_samples_split=10, n_estimators=110, score=0.7081738025260147, total= 8.6min\n",
      "[CV] bootstrap=True, max_depth=20, max_features=0.2, min_samples_leaf=1, min_samples_split=12, n_estimators=90 \n"
     ]
    },
    {
     "ename": "KeyboardInterrupt",
     "evalue": "",
     "output_type": "error",
     "traceback": [
      "\u001b[0;31m---------------------------------------------------------------------------\u001b[0m",
      "\u001b[0;31mKeyboardInterrupt\u001b[0m                         Traceback (most recent call last)",
      "\u001b[0;32m<ipython-input-121-b7bd535f674f>\u001b[0m in \u001b[0;36m<module>\u001b[0;34m()\u001b[0m\n\u001b[1;32m     20\u001b[0m \u001b[0;34m\u001b[0m\u001b[0m\n\u001b[1;32m     21\u001b[0m \u001b[0;31m# Fit the random search model\u001b[0m\u001b[0;34m\u001b[0m\u001b[0;34m\u001b[0m\u001b[0m\n\u001b[0;32m---> 22\u001b[0;31m \u001b[0mgrid_search\u001b[0m\u001b[0;34m.\u001b[0m\u001b[0mfit\u001b[0m\u001b[0;34m(\u001b[0m\u001b[0mX_train_rf\u001b[0m\u001b[0;34m,\u001b[0m \u001b[0my_binary_train\u001b[0m\u001b[0;34m)\u001b[0m\u001b[0;34m\u001b[0m\u001b[0m\n\u001b[0m",
      "\u001b[0;32m~/anaconda3/lib/python3.6/site-packages/sklearn/model_selection/_search.py\u001b[0m in \u001b[0;36mfit\u001b[0;34m(self, X, y, groups, **fit_params)\u001b[0m\n\u001b[1;32m    637\u001b[0m                                   error_score=self.error_score)\n\u001b[1;32m    638\u001b[0m           for parameters, (train, test) in product(candidate_params,\n\u001b[0;32m--> 639\u001b[0;31m                                                    cv.split(X, y, groups)))\n\u001b[0m\u001b[1;32m    640\u001b[0m \u001b[0;34m\u001b[0m\u001b[0m\n\u001b[1;32m    641\u001b[0m         \u001b[0;31m# if one choose to see train score, \"out\" will contain train score info\u001b[0m\u001b[0;34m\u001b[0m\u001b[0;34m\u001b[0m\u001b[0m\n",
      "\u001b[0;32m~/anaconda3/lib/python3.6/site-packages/sklearn/externals/joblib/parallel.py\u001b[0m in \u001b[0;36m__call__\u001b[0;34m(self, iterable)\u001b[0m\n\u001b[1;32m    787\u001b[0m                 \u001b[0;31m# consumption.\u001b[0m\u001b[0;34m\u001b[0m\u001b[0;34m\u001b[0m\u001b[0m\n\u001b[1;32m    788\u001b[0m                 \u001b[0mself\u001b[0m\u001b[0;34m.\u001b[0m\u001b[0m_iterating\u001b[0m \u001b[0;34m=\u001b[0m \u001b[0;32mFalse\u001b[0m\u001b[0;34m\u001b[0m\u001b[0m\n\u001b[0;32m--> 789\u001b[0;31m             \u001b[0mself\u001b[0m\u001b[0;34m.\u001b[0m\u001b[0mretrieve\u001b[0m\u001b[0;34m(\u001b[0m\u001b[0;34m)\u001b[0m\u001b[0;34m\u001b[0m\u001b[0m\n\u001b[0m\u001b[1;32m    790\u001b[0m             \u001b[0;31m# Make sure that we get a last message telling us we are done\u001b[0m\u001b[0;34m\u001b[0m\u001b[0;34m\u001b[0m\u001b[0m\n\u001b[1;32m    791\u001b[0m             \u001b[0melapsed_time\u001b[0m \u001b[0;34m=\u001b[0m \u001b[0mtime\u001b[0m\u001b[0;34m.\u001b[0m\u001b[0mtime\u001b[0m\u001b[0;34m(\u001b[0m\u001b[0;34m)\u001b[0m \u001b[0;34m-\u001b[0m \u001b[0mself\u001b[0m\u001b[0;34m.\u001b[0m\u001b[0m_start_time\u001b[0m\u001b[0;34m\u001b[0m\u001b[0m\n",
      "\u001b[0;32m~/anaconda3/lib/python3.6/site-packages/sklearn/externals/joblib/parallel.py\u001b[0m in \u001b[0;36mretrieve\u001b[0;34m(self)\u001b[0m\n\u001b[1;32m    697\u001b[0m             \u001b[0;32mtry\u001b[0m\u001b[0;34m:\u001b[0m\u001b[0;34m\u001b[0m\u001b[0m\n\u001b[1;32m    698\u001b[0m                 \u001b[0;32mif\u001b[0m \u001b[0mgetattr\u001b[0m\u001b[0;34m(\u001b[0m\u001b[0mself\u001b[0m\u001b[0;34m.\u001b[0m\u001b[0m_backend\u001b[0m\u001b[0;34m,\u001b[0m \u001b[0;34m'supports_timeout'\u001b[0m\u001b[0;34m,\u001b[0m \u001b[0;32mFalse\u001b[0m\u001b[0;34m)\u001b[0m\u001b[0;34m:\u001b[0m\u001b[0;34m\u001b[0m\u001b[0m\n\u001b[0;32m--> 699\u001b[0;31m                     \u001b[0mself\u001b[0m\u001b[0;34m.\u001b[0m\u001b[0m_output\u001b[0m\u001b[0;34m.\u001b[0m\u001b[0mextend\u001b[0m\u001b[0;34m(\u001b[0m\u001b[0mjob\u001b[0m\u001b[0;34m.\u001b[0m\u001b[0mget\u001b[0m\u001b[0;34m(\u001b[0m\u001b[0mtimeout\u001b[0m\u001b[0;34m=\u001b[0m\u001b[0mself\u001b[0m\u001b[0;34m.\u001b[0m\u001b[0mtimeout\u001b[0m\u001b[0;34m)\u001b[0m\u001b[0;34m)\u001b[0m\u001b[0;34m\u001b[0m\u001b[0m\n\u001b[0m\u001b[1;32m    700\u001b[0m                 \u001b[0;32melse\u001b[0m\u001b[0;34m:\u001b[0m\u001b[0;34m\u001b[0m\u001b[0m\n\u001b[1;32m    701\u001b[0m                     \u001b[0mself\u001b[0m\u001b[0;34m.\u001b[0m\u001b[0m_output\u001b[0m\u001b[0;34m.\u001b[0m\u001b[0mextend\u001b[0m\u001b[0;34m(\u001b[0m\u001b[0mjob\u001b[0m\u001b[0;34m.\u001b[0m\u001b[0mget\u001b[0m\u001b[0;34m(\u001b[0m\u001b[0;34m)\u001b[0m\u001b[0;34m)\u001b[0m\u001b[0;34m\u001b[0m\u001b[0m\n",
      "\u001b[0;32m~/anaconda3/lib/python3.6/multiprocessing/pool.py\u001b[0m in \u001b[0;36mget\u001b[0;34m(self, timeout)\u001b[0m\n\u001b[1;32m    636\u001b[0m \u001b[0;34m\u001b[0m\u001b[0m\n\u001b[1;32m    637\u001b[0m     \u001b[0;32mdef\u001b[0m \u001b[0mget\u001b[0m\u001b[0;34m(\u001b[0m\u001b[0mself\u001b[0m\u001b[0;34m,\u001b[0m \u001b[0mtimeout\u001b[0m\u001b[0;34m=\u001b[0m\u001b[0;32mNone\u001b[0m\u001b[0;34m)\u001b[0m\u001b[0;34m:\u001b[0m\u001b[0;34m\u001b[0m\u001b[0m\n\u001b[0;32m--> 638\u001b[0;31m         \u001b[0mself\u001b[0m\u001b[0;34m.\u001b[0m\u001b[0mwait\u001b[0m\u001b[0;34m(\u001b[0m\u001b[0mtimeout\u001b[0m\u001b[0;34m)\u001b[0m\u001b[0;34m\u001b[0m\u001b[0m\n\u001b[0m\u001b[1;32m    639\u001b[0m         \u001b[0;32mif\u001b[0m \u001b[0;32mnot\u001b[0m \u001b[0mself\u001b[0m\u001b[0;34m.\u001b[0m\u001b[0mready\u001b[0m\u001b[0;34m(\u001b[0m\u001b[0;34m)\u001b[0m\u001b[0;34m:\u001b[0m\u001b[0;34m\u001b[0m\u001b[0m\n\u001b[1;32m    640\u001b[0m             \u001b[0;32mraise\u001b[0m \u001b[0mTimeoutError\u001b[0m\u001b[0;34m\u001b[0m\u001b[0m\n",
      "\u001b[0;32m~/anaconda3/lib/python3.6/multiprocessing/pool.py\u001b[0m in \u001b[0;36mwait\u001b[0;34m(self, timeout)\u001b[0m\n\u001b[1;32m    633\u001b[0m \u001b[0;34m\u001b[0m\u001b[0m\n\u001b[1;32m    634\u001b[0m     \u001b[0;32mdef\u001b[0m \u001b[0mwait\u001b[0m\u001b[0;34m(\u001b[0m\u001b[0mself\u001b[0m\u001b[0;34m,\u001b[0m \u001b[0mtimeout\u001b[0m\u001b[0;34m=\u001b[0m\u001b[0;32mNone\u001b[0m\u001b[0;34m)\u001b[0m\u001b[0;34m:\u001b[0m\u001b[0;34m\u001b[0m\u001b[0m\n\u001b[0;32m--> 635\u001b[0;31m         \u001b[0mself\u001b[0m\u001b[0;34m.\u001b[0m\u001b[0m_event\u001b[0m\u001b[0;34m.\u001b[0m\u001b[0mwait\u001b[0m\u001b[0;34m(\u001b[0m\u001b[0mtimeout\u001b[0m\u001b[0;34m)\u001b[0m\u001b[0;34m\u001b[0m\u001b[0m\n\u001b[0m\u001b[1;32m    636\u001b[0m \u001b[0;34m\u001b[0m\u001b[0m\n\u001b[1;32m    637\u001b[0m     \u001b[0;32mdef\u001b[0m \u001b[0mget\u001b[0m\u001b[0;34m(\u001b[0m\u001b[0mself\u001b[0m\u001b[0;34m,\u001b[0m \u001b[0mtimeout\u001b[0m\u001b[0;34m=\u001b[0m\u001b[0;32mNone\u001b[0m\u001b[0;34m)\u001b[0m\u001b[0;34m:\u001b[0m\u001b[0;34m\u001b[0m\u001b[0m\n",
      "\u001b[0;32m~/anaconda3/lib/python3.6/threading.py\u001b[0m in \u001b[0;36mwait\u001b[0;34m(self, timeout)\u001b[0m\n\u001b[1;32m    549\u001b[0m             \u001b[0msignaled\u001b[0m \u001b[0;34m=\u001b[0m \u001b[0mself\u001b[0m\u001b[0;34m.\u001b[0m\u001b[0m_flag\u001b[0m\u001b[0;34m\u001b[0m\u001b[0m\n\u001b[1;32m    550\u001b[0m             \u001b[0;32mif\u001b[0m \u001b[0;32mnot\u001b[0m \u001b[0msignaled\u001b[0m\u001b[0;34m:\u001b[0m\u001b[0;34m\u001b[0m\u001b[0m\n\u001b[0;32m--> 551\u001b[0;31m                 \u001b[0msignaled\u001b[0m \u001b[0;34m=\u001b[0m \u001b[0mself\u001b[0m\u001b[0;34m.\u001b[0m\u001b[0m_cond\u001b[0m\u001b[0;34m.\u001b[0m\u001b[0mwait\u001b[0m\u001b[0;34m(\u001b[0m\u001b[0mtimeout\u001b[0m\u001b[0;34m)\u001b[0m\u001b[0;34m\u001b[0m\u001b[0m\n\u001b[0m\u001b[1;32m    552\u001b[0m             \u001b[0;32mreturn\u001b[0m \u001b[0msignaled\u001b[0m\u001b[0;34m\u001b[0m\u001b[0m\n\u001b[1;32m    553\u001b[0m \u001b[0;34m\u001b[0m\u001b[0m\n",
      "\u001b[0;32m~/anaconda3/lib/python3.6/threading.py\u001b[0m in \u001b[0;36mwait\u001b[0;34m(self, timeout)\u001b[0m\n\u001b[1;32m    293\u001b[0m         \u001b[0;32mtry\u001b[0m\u001b[0;34m:\u001b[0m    \u001b[0;31m# restore state no matter what (e.g., KeyboardInterrupt)\u001b[0m\u001b[0;34m\u001b[0m\u001b[0m\n\u001b[1;32m    294\u001b[0m             \u001b[0;32mif\u001b[0m \u001b[0mtimeout\u001b[0m \u001b[0;32mis\u001b[0m \u001b[0;32mNone\u001b[0m\u001b[0;34m:\u001b[0m\u001b[0;34m\u001b[0m\u001b[0m\n\u001b[0;32m--> 295\u001b[0;31m                 \u001b[0mwaiter\u001b[0m\u001b[0;34m.\u001b[0m\u001b[0macquire\u001b[0m\u001b[0;34m(\u001b[0m\u001b[0;34m)\u001b[0m\u001b[0;34m\u001b[0m\u001b[0m\n\u001b[0m\u001b[1;32m    296\u001b[0m                 \u001b[0mgotit\u001b[0m \u001b[0;34m=\u001b[0m \u001b[0;32mTrue\u001b[0m\u001b[0;34m\u001b[0m\u001b[0m\n\u001b[1;32m    297\u001b[0m             \u001b[0;32melse\u001b[0m\u001b[0;34m:\u001b[0m\u001b[0;34m\u001b[0m\u001b[0m\n",
      "\u001b[0;31mKeyboardInterrupt\u001b[0m: "
     ]
    }
   ],
   "source": [
    "## Not fully finished due to limited computation power and time. \n",
    "## Running 100 combinations with 3 fold cv costs 20 hours.\n",
    "\n",
    "from sklearn.model_selection import GridSearchCV\n",
    "# Create the parameter grid based on the results of random search \n",
    "param_grid = {\n",
    "    'bootstrap': [True],\n",
    "    'max_depth': [20, 30, 40],\n",
    "    'max_features': [0.2, 0.4, 'sqrt'],\n",
    "    'min_samples_leaf': [1, 2],\n",
    "    'min_samples_split': [8, 10, 12],\n",
    "    'n_estimators': [70, 90, 110]\n",
    "}\n",
    "# Create a based model\n",
    "rf = RandomForestClassifier()\n",
    "# Instantiate the grid search model\n",
    "grid_search = GridSearchCV(estimator = rf, \n",
    "                           param_grid = param_grid,\n",
    "                           cv = 3, \n",
    "                           n_jobs = -1, \n",
    "                           verbose = 3,\n",
    "                           scoring = 'f1')\n",
    "\n",
    "# Fit the random search model\n",
    "grid_search.fit(X_train_rf, y_binary_train)"
   ]
  },
  {
   "cell_type": "markdown",
   "metadata": {},
   "source": [
    "### GBDT (not included in the end because of similarity with XGBoost, which performs better and faster than GBDT)\n",
    "1. Include all variables in GDBT model to output feature importance\n",
    "2. Use only top 40 variables to build model and predict on test set\n",
    "3. Tune parameters\n",
    "3. Final Predictions on both test and oot set"
   ]
  },
  {
   "cell_type": "code",
   "execution_count": 101,
   "metadata": {
    "scrolled": true
   },
   "outputs": [
    {
     "name": "stdout",
     "output_type": "stream",
     "text": [
      "      Iter       Train Loss   Remaining Time \n",
      "         1           0.8696            6.59m\n",
      "         2           0.8261            6.27m\n",
      "         3           0.7921            6.23m\n",
      "         4           0.7588            6.13m\n",
      "         5           0.7299            6.17m\n",
      "         6           0.7088            6.02m\n",
      "         7           0.6877            5.82m\n",
      "         8           0.6703            5.56m\n",
      "         9           0.6529            5.47m\n",
      "        10           0.6406            5.24m\n",
      "        11           0.6273            5.06m\n",
      "        12           0.6145            4.97m\n",
      "        13           0.6057            4.79m\n",
      "        14           0.5954            4.65m\n",
      "        15           0.5848            4.54m\n",
      "        16           0.5786            4.36m\n",
      "        17           0.5718            4.23m\n",
      "        18           0.5637            4.12m\n",
      "        19           0.5592            3.98m\n",
      "        20           0.5535            3.84m\n",
      "        21           0.5477            3.70m\n",
      "        22           0.5433            3.55m\n",
      "        23           0.5398            3.40m\n",
      "        24           0.5351            3.29m\n",
      "        25           0.5322            3.16m\n",
      "        26           0.5280            3.03m\n",
      "        27           0.5250            2.90m\n",
      "        28           0.5207            2.78m\n",
      "        29           0.5186            2.64m\n",
      "        30           0.5159            2.51m\n",
      "        31           0.5124            2.40m\n",
      "        32           0.5104            2.26m\n",
      "        33           0.5085            2.14m\n",
      "        34           0.5057            2.02m\n",
      "        35           0.5040            1.89m\n",
      "        36           0.5021            1.76m\n",
      "        37           0.5003            1.64m\n",
      "        38           0.4985            1.51m\n",
      "        39           0.4968            1.39m\n",
      "        40           0.4957            1.26m\n",
      "        41           0.4940            1.13m\n",
      "        42           0.4927            1.01m\n",
      "        43           0.4916           52.62s\n",
      "        44           0.4901           45.20s\n",
      "        45           0.4889           37.63s\n",
      "        46           0.4878           30.09s\n",
      "        47           0.4867           22.51s\n",
      "        48           0.4854           15.00s\n",
      "        49           0.4846            7.49s\n",
      "        50           0.4838            0.00s\n"
     ]
    },
    {
     "data": {
      "text/plain": [
       "GradientBoostingClassifier(criterion='friedman_mse', init=None,\n",
       "              learning_rate=0.1, loss='deviance', max_depth=3,\n",
       "              max_features=None, max_leaf_nodes=None,\n",
       "              min_impurity_decrease=0.0, min_impurity_split=None,\n",
       "              min_samples_leaf=1, min_samples_split=2,\n",
       "              min_weight_fraction_leaf=0.0, n_estimators=50,\n",
       "              presort='auto', random_state=None, subsample=1.0, verbose=3,\n",
       "              warm_start=False)"
      ]
     },
     "execution_count": 101,
     "metadata": {},
     "output_type": "execute_result"
    }
   ],
   "source": [
    "from sklearn.ensemble import GradientBoostingClassifier\n",
    "GDBT = GradientBoostingClassifier(loss = 'deviance',\n",
    "                           learning_rate = 0.1,\n",
    "                           n_estimators = 50,\n",
    "                           subsample = 1.0,\n",
    "                           criterion = 'friedman_mse',\n",
    "                           min_samples_split = 2,\n",
    "                           min_samples_leaf = 1,\n",
    "                           min_weight_fraction_leaf = 0.0,\n",
    "                           max_depth = 3, verbose = 3\n",
    "#                            min_impurity_decrease = 0.0,\n",
    "#                            min_impurity_split = None,\n",
    "#                            init = None,\n",
    "#                            random_state = None,\n",
    "#                            max_features = None,\n",
    "#                            verbose = 0,\n",
    "#                            max_leaf_nodes = None,\n",
    "#                            warm_start = False,\n",
    "#                            presort = 'auto'.\n",
    "#                            validation_fraction = 0.1,\n",
    "#                            n_iter_no_change = None,\n",
    "#                            tol = 0.0001\n",
    "                           )\n",
    "GDBT.fit(X_binary_train, y_binary_train)"
   ]
  },
  {
   "cell_type": "code",
   "execution_count": 103,
   "metadata": {},
   "outputs": [
    {
     "name": "stdout",
     "output_type": "stream",
     "text": [
      "             precision    recall  f1-score   support\n",
      "\n",
      "        0.0       0.91      0.98      0.94    440791\n",
      "        1.0       0.84      0.54      0.66     93520\n",
      "\n",
      "avg / total       0.90      0.90      0.89    534311\n",
      "\n"
     ]
    }
   ],
   "source": [
    "# Predicting the test set results\n",
    "gdbt_predictions = GDBT.predict(X_binary_test)\n",
    "\n",
    "# Evaluate model accuracy\n",
    "## n_estimators: 100->0.5\n",
    "print(classification_report(y_binary_test, predictions))"
   ]
  },
  {
   "cell_type": "code",
   "execution_count": 104,
   "metadata": {},
   "outputs": [
    {
     "data": {
      "image/png": "[encoded data removed]",
      "text/plain": [
       "<matplotlib.figure.Figure at 0x1a1f5fdd68>"
      ]
     },
     "metadata": {},
     "output_type": "display_data"
    }
   ],
   "source": [
    "# Plot the feature importance\n",
    "feat_importances = pd.Series(GDBT.feature_importances_, index = X_binary_train.columns)\n",
    "feat_importances.nlargest(40).plot(kind = 'barh')\n",
    "plt.show()"
   ]
  },
  {
   "cell_type": "code",
   "execution_count": 105,
   "metadata": {},
   "outputs": [],
   "source": [
    "# Use only top 40 features in the model\n",
    "# feat_importances.nlargest(40).index\n",
    "X_train_gdbt = X_binary_train[feat_importances.nlargest(40).index]\n",
    "X_test_gdbt = X_binary_test[feat_importances.nlargest(40).index]\n",
    "oot_X_gdbt = oot_X[feat_importances.nlargest(40).index]"
   ]
  },
  {
   "cell_type": "code",
   "execution_count": 107,
   "metadata": {
    "scrolled": true
   },
   "outputs": [
    {
     "name": "stdout",
     "output_type": "stream",
     "text": [
      "      Iter       Train Loss   Remaining Time \n",
      "         1           0.8695            1.83m\n",
      "         2           0.8259            1.78m\n",
      "         3           0.7919            1.73m\n",
      "         4           0.7586            1.70m\n",
      "         5           0.7296            1.69m\n",
      "         6           0.7085            1.65m\n",
      "         7           0.6874            1.61m\n",
      "         8           0.6700            1.55m\n",
      "         9           0.6525            1.53m\n",
      "        10           0.6400            1.49m\n",
      "        11           0.6276            1.45m\n",
      "        12           0.6136            1.44m\n",
      "        13           0.6050            1.39m\n",
      "        14           0.5948            1.36m\n",
      "        15           0.5842            1.34m\n",
      "        16           0.5781            1.31m\n",
      "        17           0.5707            1.28m\n",
      "        18           0.5626            1.25m\n",
      "        19           0.5581            1.21m\n",
      "        20           0.5518            1.18m\n",
      "        21           0.5471            1.15m\n",
      "        22           0.5436            1.11m\n",
      "        23           0.5396            1.07m\n",
      "        24           0.5345            1.04m\n",
      "        25           0.5319            1.00m\n",
      "        26           0.5278           57.87s\n",
      "        27           0.5234           55.74s\n",
      "        28           0.5205           53.33s\n",
      "        29           0.5182           50.59s\n",
      "        30           0.5155           48.04s\n",
      "        31           0.5120           45.65s\n",
      "        32           0.5104           43.00s\n",
      "        33           0.5074           40.68s\n",
      "        34           0.5053           38.58s\n",
      "        35           0.5030           36.31s\n",
      "        36           0.5011           34.11s\n",
      "        37           0.4997           31.64s\n",
      "        38           0.4979           29.27s\n",
      "        39           0.4966           26.70s\n",
      "        40           0.4950           24.21s\n",
      "        41           0.4931           21.75s\n",
      "        42           0.4919           19.26s\n",
      "        43           0.4903           16.88s\n",
      "        44           0.4895           14.41s\n",
      "        45           0.4884           11.99s\n",
      "        46           0.4873            9.58s\n",
      "        47           0.4859            7.18s\n",
      "        48           0.4849            4.78s\n",
      "        49           0.4841            2.39s\n",
      "        50           0.4831            0.00s\n",
      "      Iter       Train Loss   Remaining Time \n",
      "         1           0.8697            1.95m\n",
      "         2           0.8262            1.88m\n",
      "         3           0.7922            1.83m\n",
      "         4           0.7590            1.77m\n",
      "         5           0.7300            1.74m\n",
      "         6           0.7090            1.67m\n",
      "         7           0.6879            1.61m\n",
      "         8           0.6691            1.55m\n",
      "         9           0.6543            1.49m\n",
      "        10           0.6410            1.44m\n",
      "        11           0.6308            1.39m\n",
      "        12           0.6161            1.36m\n",
      "        13           0.6061            1.32m\n",
      "        14           0.5957            1.29m\n",
      "        15           0.5887            1.24m\n",
      "        16           0.5822            1.21m\n",
      "        17           0.5766            1.16m\n",
      "        18           0.5700            1.13m\n",
      "        19           0.5621            1.10m\n",
      "        20           0.5573            1.06m\n",
      "        21           0.5533            1.02m\n",
      "        22           0.5470           59.26s\n",
      "        23           0.5430           57.11s\n",
      "        24           0.5376           55.26s\n",
      "        25           0.5344           53.02s\n",
      "        26           0.5296           51.37s\n",
      "        27           0.5271           49.14s\n",
      "        28           0.5240           47.09s\n",
      "        29           0.5199           45.26s\n",
      "        30           0.5176           43.06s\n",
      "        31           0.5156           40.84s\n",
      "        32           0.5125           38.76s\n",
      "        33           0.5095           36.72s\n",
      "        34           0.5076           34.47s\n",
      "        35           0.5057           32.27s\n",
      "        36           0.5035           30.14s\n",
      "        37           0.5013           28.13s\n",
      "        38           0.5000           25.91s\n",
      "        39           0.4982           23.77s\n",
      "        40           0.4966           21.63s\n",
      "        41           0.4948           19.49s\n",
      "        42           0.4934           17.33s\n",
      "        43           0.4922           15.22s\n",
      "        44           0.4911           13.02s\n",
      "        45           0.4901           10.83s\n",
      "        46           0.4890            8.65s\n",
      "        47           0.4877            6.50s\n",
      "        48           0.4868            4.33s\n",
      "        49           0.4857            2.17s\n",
      "        50           0.4849            0.00s\n",
      "      Iter       Train Loss   Remaining Time \n",
      "         1           0.8697            1.80m\n",
      "         2           0.8263            1.78m\n",
      "         3           0.7924            1.76m\n",
      "         4           0.7591            1.71m\n",
      "         5           0.7302            1.69m\n",
      "         6           0.7091            1.64m\n",
      "         7           0.6880            1.59m\n",
      "         8           0.6708            1.53m\n",
      "         9           0.6533            1.52m\n",
      "        10           0.6409            1.46m\n",
      "        11           0.6276            1.43m\n",
      "        12           0.6135            1.41m\n",
      "        13           0.6050            1.37m\n",
      "        14           0.5948            1.34m\n",
      "        15           0.5846            1.31m\n",
      "        16           0.5786            1.26m\n",
      "        17           0.5720            1.23m\n",
      "        18           0.5660            1.19m\n",
      "        19           0.5592            1.16m\n",
      "        20           0.5543            1.11m\n",
      "        21           0.5506            1.07m\n",
      "        22           0.5444            1.04m\n",
      "        23           0.5408            1.00m\n",
      "        24           0.5359           58.25s\n",
      "        25           0.5330           55.73s\n",
      "        26           0.5291           53.74s\n",
      "        27           0.5260           51.41s\n",
      "        28           0.5230           49.26s\n",
      "        29           0.5190           47.20s\n",
      "        30           0.5167           44.78s\n",
      "        31           0.5146           42.40s\n",
      "        32           0.5115           40.30s\n",
      "        33           0.5098           37.94s\n",
      "        34           0.5076           35.72s\n",
      "        35           0.5050           33.78s\n",
      "        36           0.5035           31.48s\n",
      "        37           0.5013           29.48s\n",
      "        38           0.4997           27.25s\n",
      "        39           0.4983           25.09s\n",
      "        40           0.4962           23.04s\n",
      "        41           0.4947           20.87s\n",
      "        42           0.4933           18.54s\n",
      "        43           0.4922           16.17s\n",
      "        44           0.4907           13.87s\n",
      "        45           0.4892           11.56s\n",
      "        46           0.4881            9.24s\n",
      "        47           0.4872            6.91s\n",
      "        48           0.4860            4.62s\n",
      "        49           0.4851            2.30s\n",
      "        50           0.4837            0.00s\n",
      "      Iter       Train Loss   Remaining Time \n",
      "         1           0.8695            1.79m\n",
      "         2           0.8259            1.76m\n",
      "         3           0.7918            1.72m\n",
      "         4           0.7585            1.66m\n",
      "         5           0.7295            1.65m\n",
      "         6           0.7083            1.59m\n",
      "         7           0.6873            1.55m\n",
      "         8           0.6683            1.49m\n",
      "         9           0.6535            1.45m\n",
      "        10           0.6402            1.40m\n",
      "        11           0.6300            1.36m\n",
      "        12           0.6189            1.32m\n",
      "        13           0.6052            1.30m\n",
      "        14           0.5956            1.27m\n",
      "        15           0.5861            1.24m\n",
      "        16           0.5800            1.21m\n",
      "        17           0.5736            1.21m\n",
      "        18           0.5684            1.20m\n",
      "        19           0.5634            1.17m\n",
      "        20           0.5559            1.16m\n",
      "        21           0.5520            1.12m\n",
      "        22           0.5460            1.08m\n",
      "        23           0.5426            1.04m\n",
      "        24           0.5378           59.98s\n",
      "        25           0.5337           57.53s\n",
      "        26           0.5293           55.41s\n",
      "        27           0.5267           52.96s\n",
      "        28           0.5231           50.85s\n"
     ]
    },
    {
     "name": "stdout",
     "output_type": "stream",
     "text": [
      "        29           0.5210           48.43s\n",
      "        30           0.5179           46.06s\n",
      "        31           0.5154           43.81s\n",
      "        32           0.5118           41.74s\n",
      "        33           0.5101           39.27s\n",
      "        34           0.5077           36.92s\n",
      "        35           0.5049           34.77s\n",
      "        36           0.5031           32.41s\n",
      "        37           0.5012           30.10s\n",
      "        38           0.4989           27.88s\n",
      "        39           0.4976           25.48s\n",
      "        40           0.4963           23.14s\n",
      "        41           0.4944           20.88s\n",
      "        42           0.4934           18.55s\n",
      "        43           0.4920           16.26s\n",
      "        44           0.4903           13.93s\n",
      "        45           0.4891           11.59s\n",
      "        46           0.4881            9.25s\n",
      "        47           0.4870            6.93s\n",
      "        48           0.4857            4.67s\n",
      "        49           0.4846            2.33s\n",
      "        50           0.4838            0.00s\n",
      "      Iter       Train Loss   Remaining Time \n",
      "         1           0.8697            1.81m\n",
      "         2           0.8263            1.76m\n",
      "         3           0.7923            1.72m\n",
      "         4           0.7590            1.67m\n",
      "         5           0.7301            1.68m\n",
      "         6           0.7090            1.62m\n",
      "         7           0.6879            1.58m\n",
      "         8           0.6709            1.53m\n",
      "         9           0.6534            1.50m\n",
      "        10           0.6409            1.44m\n",
      "        11           0.6276            1.41m\n",
      "        12           0.6148            1.38m\n",
      "        13           0.6062            1.33m\n",
      "        14           0.5959            1.29m\n",
      "        15           0.5852            1.27m\n",
      "        16           0.5790            1.22m\n",
      "        17           0.5720            1.19m\n",
      "        18           0.5659            1.15m\n",
      "        19           0.5613            1.11m\n",
      "        20           0.5546            1.07m\n",
      "        21           0.5500            1.03m\n",
      "        22           0.5441           59.86s\n",
      "        23           0.5408           57.51s\n",
      "        24           0.5373           55.45s\n",
      "        25           0.5330           53.53s\n",
      "        26           0.5304           51.23s\n",
      "        27           0.5261           49.26s\n",
      "        28           0.5232           47.04s\n",
      "        29           0.5204           44.93s\n",
      "        30           0.5181           42.69s\n",
      "        31           0.5145           40.74s\n",
      "        32           0.5128           38.48s\n",
      "        33           0.5101           36.44s\n",
      "        34           0.5082           34.33s\n",
      "        35           0.5053           32.34s\n",
      "        36           0.5032           30.22s\n",
      "        37           0.5019           28.00s\n",
      "        38           0.4997           25.94s\n",
      "        39           0.4980           23.80s\n",
      "        40           0.4966           21.60s\n",
      "        41           0.4947           19.46s\n",
      "        42           0.4935           17.30s\n",
      "        43           0.4917           15.20s\n",
      "        44           0.4907           13.00s\n",
      "        45           0.4895           10.85s\n",
      "        46           0.4884            8.69s\n",
      "        47           0.4876            6.51s\n",
      "        48           0.4866            4.34s\n",
      "        49           0.4856            2.17s\n",
      "        50           0.4847            0.00s\n",
      "Average f1 score for GBDT models is 0.6585828694214062\n"
     ]
    }
   ],
   "source": [
    "# Cross-validation\n",
    "from sklearn.cross_validation import cross_val_score\n",
    "gbdt_scores = cross_val_score(GDBT, X_train_gdbt, y_binary_train, cv = 5, scoring = 'f1')\n",
    "print('Average f1 score for GBDT models is', gbdt_scores.mean()) #0.6585828694214062"
   ]
  },
  {
   "cell_type": "code",
   "execution_count": 40,
   "metadata": {
    "scrolled": true
   },
   "outputs": [
    {
     "name": "stdout",
     "output_type": "stream",
     "text": [
      "      Iter       Train Loss   Remaining Time \n",
      "         1           0.8696            1.79m\n",
      "         2           0.8262            1.73m\n",
      "         3           0.7922            1.74m\n",
      "         4           0.7589            1.73m\n",
      "         5           0.7300            1.74m\n",
      "         6           0.7090            1.69m\n",
      "         7           0.6879            1.65m\n",
      "         8           0.6705            1.58m\n",
      "         9           0.6532            1.59m\n",
      "        10           0.6409            1.56m\n",
      "        11           0.6278            1.52m\n",
      "        12           0.6150            1.48m\n",
      "        13           0.6062            1.43m\n",
      "        14           0.5959            1.40m\n",
      "        15           0.5853            1.38m\n",
      "        16           0.5791            1.32m\n",
      "        17           0.5716            1.27m\n",
      "        18           0.5655            1.23m\n",
      "        19           0.5588            1.18m\n",
      "        20           0.5547            1.13m\n",
      "        21           0.5501            1.09m\n",
      "        22           0.5446            1.05m\n",
      "        23           0.5411            1.01m\n",
      "        24           0.5363           58.63s\n",
      "        25           0.5326           56.56s\n",
      "        26           0.5301           54.21s\n",
      "        27           0.5263           52.29s\n",
      "        28           0.5234           50.06s\n",
      "        29           0.5211           48.03s\n",
      "        30           0.5183           45.77s\n",
      "        31           0.5146           43.73s\n",
      "        32           0.5129           41.41s\n",
      "        33           0.5106           39.30s\n",
      "        34           0.5087           36.89s\n",
      "        35           0.5055           34.64s\n",
      "        36           0.5034           32.29s\n",
      "        37           0.5011           30.01s\n",
      "        38           0.4996           27.66s\n",
      "        39           0.4982           25.30s\n",
      "        40           0.4970           23.00s\n",
      "        41           0.4955           20.70s\n",
      "        42           0.4936           18.45s\n",
      "        43           0.4920           16.19s\n",
      "        44           0.4910           13.81s\n",
      "        45           0.4899           11.46s\n",
      "        46           0.4887            9.16s\n",
      "        47           0.4872            6.88s\n",
      "        48           0.4862            4.60s\n",
      "        49           0.4854            2.29s\n",
      "        50           0.4840            0.00s\n"
     ]
    },
    {
     "data": {
      "text/plain": [
       "GradientBoostingClassifier(criterion='friedman_mse', init=None,\n",
       "              learning_rate=0.1, loss='deviance', max_depth=3,\n",
       "              max_features=None, max_leaf_nodes=None,\n",
       "              min_impurity_decrease=0.0, min_impurity_split=None,\n",
       "              min_samples_leaf=1, min_samples_split=2,\n",
       "              min_weight_fraction_leaf=0.0, n_estimators=50,\n",
       "              presort='auto', random_state=None, subsample=1.0, verbose=3,\n",
       "              warm_start=False)"
      ]
     },
     "execution_count": 40,
     "metadata": {},
     "output_type": "execute_result"
    }
   ],
   "source": [
    "# fit to top 40 features\n",
    "GDBT.fit(X_train_gdbt, y_binary_train)"
   ]
  },
  {
   "cell_type": "code",
   "execution_count": 46,
   "metadata": {},
   "outputs": [
    {
     "name": "stdout",
     "output_type": "stream",
     "text": [
      "             precision    recall  f1-score   support\n",
      "\n",
      "        0.0       0.91      0.98      0.94    440791\n",
      "        1.0       0.84      0.54      0.66     93520\n",
      "\n",
      "avg / total       0.90      0.90      0.89    534311\n",
      "\n"
     ]
    }
   ],
   "source": [
    "# Predicting the test set results 30 (increasing variables did not increase accuracy)\n",
    "predictions = GDBT.predict(X_test_gdbt)\n",
    "\n",
    "# Evaluate model accuracy\n",
    "## n_estimators: 100->0.5\n",
    "print(classification_report(y_binary_test, predictions))"
   ]
  },
  {
   "cell_type": "markdown",
   "metadata": {},
   "source": [
    "### XGBoost"
   ]
  },
  {
   "cell_type": "code",
   "execution_count": 147,
   "metadata": {},
   "outputs": [
    {
     "data": {
      "text/plain": [
       "XGBClassifier(base_score=0.5, booster='gbtree', colsample_bylevel=1,\n",
       "       colsample_bytree=1, gamma=0, learning_rate=0.1, max_delta_step=0,\n",
       "       max_depth=3, min_child_weight=1, missing=None, n_estimators=100,\n",
       "       n_jobs=1, nthread=None, objective='binary:logistic', random_state=0,\n",
       "       reg_alpha=0, reg_lambda=1, scale_pos_weight=1, seed=None,\n",
       "       silent=True, subsample=1)"
      ]
     },
     "execution_count": 147,
     "metadata": {},
     "output_type": "execute_result"
    }
   ],
   "source": [
    "from xgboost import XGBClassifier\n",
    "xgb = XGBClassifier()\n",
    "xgb.fit(X_binary_train, y_binary_train)"
   ]
  },
  {
   "cell_type": "code",
   "execution_count": 148,
   "metadata": {},
   "outputs": [
    {
     "name": "stderr",
     "output_type": "stream",
     "text": [
      "/Users/joannaouyang/anaconda3/lib/python3.6/site-packages/sklearn/preprocessing/label.py:151: DeprecationWarning: The truth value of an empty array is ambiguous. Returning False, but in future this will result in an error. Use `array.size > 0` to check that an array is not empty.\n",
      "  if diff:\n"
     ]
    },
    {
     "name": "stdout",
     "output_type": "stream",
     "text": [
      "             precision    recall  f1-score   support\n",
      "\n",
      "        0.0       0.91      0.98      0.94    440791\n",
      "        1.0       0.83      0.57      0.67     93520\n",
      "\n",
      "avg / total       0.90      0.90      0.90    534311\n",
      "\n"
     ]
    }
   ],
   "source": [
    "# Predicting the test set results\n",
    "predictions = xgb.predict(X_binary_test)\n",
    "\n",
    "# Evaluate model accuracy\n",
    "## n_estimators: 100->0.5\n",
    "print(classification_report(y_binary_test, predictions))"
   ]
  },
  {
   "cell_type": "code",
   "execution_count": 149,
   "metadata": {},
   "outputs": [
    {
     "data": {
      "image/png": "[encoded data removed]",
      "text/plain": [
       "<matplotlib.figure.Figure at 0x1a40a09240>"
      ]
     },
     "metadata": {},
     "output_type": "display_data"
    }
   ],
   "source": [
    "# Plot the feature importance\n",
    "feat_importances = pd.Series(xgb.feature_importances_, index = X_binary_train.columns)\n",
    "feat_importances.nlargest(10).plot(kind = 'barh')\n",
    "plt.show()"
   ]
  },
  {
   "cell_type": "code",
   "execution_count": 111,
   "metadata": {},
   "outputs": [],
   "source": [
    "# Use only top 40 features in the model\n",
    "# feat_importances.nlargest(40).index\n",
    "X_train_xgb = X_binary_train[feat_importances.nlargest(40).index]\n",
    "X_test_xgb = X_binary_test[feat_importances.nlargest(40).index]\n",
    "oot_X_xgb = oot_X[feat_importances.nlargest(40).index]"
   ]
  },
  {
   "cell_type": "code",
   "execution_count": 112,
   "metadata": {},
   "outputs": [
    {
     "name": "stderr",
     "output_type": "stream",
     "text": [
      "/Users/joannaouyang/anaconda3/lib/python3.6/site-packages/sklearn/preprocessing/label.py:151: DeprecationWarning: The truth value of an empty array is ambiguous. Returning False, but in future this will result in an error. Use `array.size > 0` to check that an array is not empty.\n",
      "  if diff:\n",
      "/Users/joannaouyang/anaconda3/lib/python3.6/site-packages/sklearn/preprocessing/label.py:151: DeprecationWarning: The truth value of an empty array is ambiguous. Returning False, but in future this will result in an error. Use `array.size > 0` to check that an array is not empty.\n",
      "  if diff:\n",
      "/Users/joannaouyang/anaconda3/lib/python3.6/site-packages/sklearn/preprocessing/label.py:151: DeprecationWarning: The truth value of an empty array is ambiguous. Returning False, but in future this will result in an error. Use `array.size > 0` to check that an array is not empty.\n",
      "  if diff:\n",
      "/Users/joannaouyang/anaconda3/lib/python3.6/site-packages/sklearn/preprocessing/label.py:151: DeprecationWarning: The truth value of an empty array is ambiguous. Returning False, but in future this will result in an error. Use `array.size > 0` to check that an array is not empty.\n",
      "  if diff:\n"
     ]
    },
    {
     "name": "stdout",
     "output_type": "stream",
     "text": [
      "Average f1 score for GBDT models is 0.6748738322686687\n"
     ]
    },
    {
     "name": "stderr",
     "output_type": "stream",
     "text": [
      "/Users/joannaouyang/anaconda3/lib/python3.6/site-packages/sklearn/preprocessing/label.py:151: DeprecationWarning: The truth value of an empty array is ambiguous. Returning False, but in future this will result in an error. Use `array.size > 0` to check that an array is not empty.\n",
      "  if diff:\n"
     ]
    }
   ],
   "source": [
    "# Cross-validation\n",
    "from sklearn.cross_validation import cross_val_score\n",
    "xgb_scores = cross_val_score(xgb, X_train_xgb, y_binary_train, cv = 5, scoring = 'f1')\n",
    "print('Average f1 score for XGBoost models is', xgb_scores.mean()) #0.6748738322686687"
   ]
  },
  {
   "cell_type": "markdown",
   "metadata": {},
   "source": [
    "### Random Search for XGBoost"
   ]
  },
  {
   "cell_type": "code",
   "execution_count": 126,
   "metadata": {},
   "outputs": [
    {
     "name": "stdout",
     "output_type": "stream",
     "text": [
      "[0]\tvalidation_0-auc:0.851636\tvalidation_0-error:0.129109\tvalidation_1-auc:0.851596\tvalidation_1-error:0.128143\n",
      "[1]\tvalidation_0-auc:0.859533\tvalidation_0-error:0.132326\tvalidation_1-auc:0.859533\tvalidation_1-error:0.131538\n",
      "[2]\tvalidation_0-auc:0.861932\tvalidation_0-error:0.130242\tvalidation_1-auc:0.861811\tvalidation_1-error:0.129419\n",
      "[3]\tvalidation_0-auc:0.884502\tvalidation_0-error:0.127627\tvalidation_1-auc:0.884718\tvalidation_1-error:0.127018\n",
      "[4]\tvalidation_0-auc:0.883363\tvalidation_0-error:0.122874\tvalidation_1-auc:0.8835\tvalidation_1-error:0.122236\n",
      "[5]\tvalidation_0-auc:0.895753\tvalidation_0-error:0.119552\tvalidation_1-auc:0.896005\tvalidation_1-error:0.118906\n",
      "[6]\tvalidation_0-auc:0.906227\tvalidation_0-error:0.118234\tvalidation_1-auc:0.906524\tvalidation_1-error:0.117637\n",
      "[7]\tvalidation_0-auc:0.906771\tvalidation_0-error:0.11881\tvalidation_1-auc:0.907097\tvalidation_1-error:0.11833\n",
      "[8]\tvalidation_0-auc:0.908001\tvalidation_0-error:0.116857\tvalidation_1-auc:0.908222\tvalidation_1-error:0.116339\n",
      "[9]\tvalidation_0-auc:0.907442\tvalidation_0-error:0.11755\tvalidation_1-auc:0.907632\tvalidation_1-error:0.116951\n",
      "[10]\tvalidation_0-auc:0.908896\tvalidation_0-error:0.117363\tvalidation_1-auc:0.909139\tvalidation_1-error:0.116795\n",
      "[11]\tvalidation_0-auc:0.909332\tvalidation_0-error:0.118486\tvalidation_1-auc:0.909593\tvalidation_1-error:0.118029\n",
      "[12]\tvalidation_0-auc:0.910899\tvalidation_0-error:0.114269\tvalidation_1-auc:0.911144\tvalidation_1-error:0.113791\n",
      "[13]\tvalidation_0-auc:0.911247\tvalidation_0-error:0.113759\tvalidation_1-auc:0.911416\tvalidation_1-error:0.113346\n",
      "[14]\tvalidation_0-auc:0.910777\tvalidation_0-error:0.11224\tvalidation_1-auc:0.910944\tvalidation_1-error:0.111852\n",
      "[15]\tvalidation_0-auc:0.911569\tvalidation_0-error:0.112174\tvalidation_1-auc:0.911833\tvalidation_1-error:0.111764\n",
      "[16]\tvalidation_0-auc:0.911872\tvalidation_0-error:0.111612\tvalidation_1-auc:0.912119\tvalidation_1-error:0.111216\n",
      "[17]\tvalidation_0-auc:0.912601\tvalidation_0-error:0.111027\tvalidation_1-auc:0.91292\tvalidation_1-error:0.110668\n",
      "[18]\tvalidation_0-auc:0.913213\tvalidation_0-error:0.110357\tvalidation_1-auc:0.913515\tvalidation_1-error:0.109979\n",
      "[19]\tvalidation_0-auc:0.913404\tvalidation_0-error:0.110157\tvalidation_1-auc:0.913698\tvalidation_1-error:0.109811\n",
      "[20]\tvalidation_0-auc:0.914588\tvalidation_0-error:0.109975\tvalidation_1-auc:0.914857\tvalidation_1-error:0.109592\n",
      "[21]\tvalidation_0-auc:0.914846\tvalidation_0-error:0.109791\tvalidation_1-auc:0.915074\tvalidation_1-error:0.109302\n",
      "[22]\tvalidation_0-auc:0.915259\tvalidation_0-error:0.10967\tvalidation_1-auc:0.915469\tvalidation_1-error:0.109277\n",
      "[23]\tvalidation_0-auc:0.915621\tvalidation_0-error:0.109024\tvalidation_1-auc:0.915813\tvalidation_1-error:0.108652\n",
      "[24]\tvalidation_0-auc:0.915683\tvalidation_0-error:0.109057\tvalidation_1-auc:0.915887\tvalidation_1-error:0.108652\n",
      "[25]\tvalidation_0-auc:0.916583\tvalidation_0-error:0.108687\tvalidation_1-auc:0.9168\tvalidation_1-error:0.108276\n",
      "[26]\tvalidation_0-auc:0.916864\tvalidation_0-error:0.108349\tvalidation_1-auc:0.917028\tvalidation_1-error:0.107879\n",
      "[27]\tvalidation_0-auc:0.917981\tvalidation_0-error:0.108344\tvalidation_1-auc:0.918175\tvalidation_1-error:0.107943\n",
      "[28]\tvalidation_0-auc:0.918283\tvalidation_0-error:0.108115\tvalidation_1-auc:0.918466\tvalidation_1-error:0.107776\n",
      "[29]\tvalidation_0-auc:0.918819\tvalidation_0-error:0.106813\tvalidation_1-auc:0.918986\tvalidation_1-error:0.106358\n",
      "[30]\tvalidation_0-auc:0.920874\tvalidation_0-error:0.106069\tvalidation_1-auc:0.921149\tvalidation_1-error:0.105588\n",
      "[31]\tvalidation_0-auc:0.921239\tvalidation_0-error:0.105083\tvalidation_1-auc:0.921511\tvalidation_1-error:0.104638\n",
      "[32]\tvalidation_0-auc:0.921746\tvalidation_0-error:0.104751\tvalidation_1-auc:0.922064\tvalidation_1-error:0.104209\n",
      "[33]\tvalidation_0-auc:0.92237\tvalidation_0-error:0.104394\tvalidation_1-auc:0.922707\tvalidation_1-error:0.103812\n",
      "[34]\tvalidation_0-auc:0.922451\tvalidation_0-error:0.10415\tvalidation_1-auc:0.922805\tvalidation_1-error:0.103601\n",
      "[35]\tvalidation_0-auc:0.923256\tvalidation_0-error:0.103761\tvalidation_1-auc:0.923537\tvalidation_1-error:0.103159\n",
      "[36]\tvalidation_0-auc:0.923525\tvalidation_0-error:0.103633\tvalidation_1-auc:0.923847\tvalidation_1-error:0.103082\n",
      "[37]\tvalidation_0-auc:0.92375\tvalidation_0-error:0.103446\tvalidation_1-auc:0.924036\tvalidation_1-error:0.102948\n",
      "[38]\tvalidation_0-auc:0.924054\tvalidation_0-error:0.102967\tvalidation_1-auc:0.924322\tvalidation_1-error:0.102495\n",
      "[39]\tvalidation_0-auc:0.924453\tvalidation_0-error:0.102713\tvalidation_1-auc:0.924732\tvalidation_1-error:0.102298\n",
      "[40]\tvalidation_0-auc:0.924681\tvalidation_0-error:0.102618\tvalidation_1-auc:0.924992\tvalidation_1-error:0.102147\n",
      "[41]\tvalidation_0-auc:0.924912\tvalidation_0-error:0.10244\tvalidation_1-auc:0.925192\tvalidation_1-error:0.101982\n",
      "[42]\tvalidation_0-auc:0.925337\tvalidation_0-error:0.10237\tvalidation_1-auc:0.925589\tvalidation_1-error:0.101986\n",
      "[43]\tvalidation_0-auc:0.925576\tvalidation_0-error:0.102112\tvalidation_1-auc:0.925825\tvalidation_1-error:0.101684\n",
      "[44]\tvalidation_0-auc:0.925832\tvalidation_0-error:0.102013\tvalidation_1-auc:0.926094\tvalidation_1-error:0.101658\n",
      "[45]\tvalidation_0-auc:0.926084\tvalidation_0-error:0.101892\tvalidation_1-auc:0.92632\tvalidation_1-error:0.10151\n",
      "[46]\tvalidation_0-auc:0.926246\tvalidation_0-error:0.101789\tvalidation_1-auc:0.926488\tvalidation_1-error:0.101422\n",
      "[47]\tvalidation_0-auc:0.92665\tvalidation_0-error:0.101709\tvalidation_1-auc:0.926875\tvalidation_1-error:0.101284\n",
      "[48]\tvalidation_0-auc:0.926824\tvalidation_0-error:0.101262\tvalidation_1-auc:0.927022\tvalidation_1-error:0.100891\n",
      "[49]\tvalidation_0-auc:0.926914\tvalidation_0-error:0.101101\tvalidation_1-auc:0.927111\tvalidation_1-error:0.10067\n",
      "[50]\tvalidation_0-auc:0.92711\tvalidation_0-error:0.100905\tvalidation_1-auc:0.927304\tvalidation_1-error:0.100522\n",
      "[51]\tvalidation_0-auc:0.927341\tvalidation_0-error:0.100069\tvalidation_1-auc:0.927539\tvalidation_1-error:0.099712\n",
      "[52]\tvalidation_0-auc:0.927461\tvalidation_0-error:0.099618\tvalidation_1-auc:0.927642\tvalidation_1-error:0.099191\n",
      "[53]\tvalidation_0-auc:0.927657\tvalidation_0-error:0.099422\tvalidation_1-auc:0.927848\tvalidation_1-error:0.098982\n",
      "[54]\tvalidation_0-auc:0.927767\tvalidation_0-error:0.099339\tvalidation_1-auc:0.927937\tvalidation_1-error:0.098935\n",
      "[55]\tvalidation_0-auc:0.927931\tvalidation_0-error:0.098998\tvalidation_1-auc:0.928093\tvalidation_1-error:0.098628\n",
      "[56]\tvalidation_0-auc:0.928011\tvalidation_0-error:0.09904\tvalidation_1-auc:0.92817\tvalidation_1-error:0.09863\n",
      "[57]\tvalidation_0-auc:0.928189\tvalidation_0-error:0.098881\tvalidation_1-auc:0.928349\tvalidation_1-error:0.098488\n",
      "[58]\tvalidation_0-auc:0.928229\tvalidation_0-error:0.098768\tvalidation_1-auc:0.928376\tvalidation_1-error:0.09837\n",
      "[59]\tvalidation_0-auc:0.928383\tvalidation_0-error:0.098715\tvalidation_1-auc:0.928527\tvalidation_1-error:0.098263\n",
      "[60]\tvalidation_0-auc:0.928477\tvalidation_0-error:0.098683\tvalidation_1-auc:0.928607\tvalidation_1-error:0.098229\n",
      "[61]\tvalidation_0-auc:0.928664\tvalidation_0-error:0.098599\tvalidation_1-auc:0.928805\tvalidation_1-error:0.098128\n",
      "[62]\tvalidation_0-auc:0.928932\tvalidation_0-error:0.098488\tvalidation_1-auc:0.929089\tvalidation_1-error:0.098005\n",
      "[63]\tvalidation_0-auc:0.929005\tvalidation_0-error:0.098438\tvalidation_1-auc:0.929148\tvalidation_1-error:0.097945\n",
      "[64]\tvalidation_0-auc:0.929123\tvalidation_0-error:0.09833\tvalidation_1-auc:0.929274\tvalidation_1-error:0.097887\n",
      "[65]\tvalidation_0-auc:0.92924\tvalidation_0-error:0.098165\tvalidation_1-auc:0.92938\tvalidation_1-error:0.097728\n",
      "[66]\tvalidation_0-auc:0.929326\tvalidation_0-error:0.098163\tvalidation_1-auc:0.929478\tvalidation_1-error:0.097715\n",
      "[67]\tvalidation_0-auc:0.929413\tvalidation_0-error:0.098123\tvalidation_1-auc:0.929568\tvalidation_1-error:0.097642\n",
      "[68]\tvalidation_0-auc:0.929519\tvalidation_0-error:0.09805\tvalidation_1-auc:0.92967\tvalidation_1-error:0.097593\n",
      "[69]\tvalidation_0-auc:0.92966\tvalidation_0-error:0.097973\tvalidation_1-auc:0.929815\tvalidation_1-error:0.097524\n",
      "[70]\tvalidation_0-auc:0.929764\tvalidation_0-error:0.097946\tvalidation_1-auc:0.929905\tvalidation_1-error:0.097469\n",
      "[71]\tvalidation_0-auc:0.929873\tvalidation_0-error:0.097852\tvalidation_1-auc:0.930009\tvalidation_1-error:0.097381\n",
      "[72]\tvalidation_0-auc:0.929956\tvalidation_0-error:0.097512\tvalidation_1-auc:0.930084\tvalidation_1-error:0.097052\n"
     ]
    },
    {
     "name": "stdout",
     "output_type": "stream",
     "text": [
      "[73]\tvalidation_0-auc:0.930072\tvalidation_0-error:0.097406\tvalidation_1-auc:0.930202\tvalidation_1-error:0.096975\n",
      "[74]\tvalidation_0-auc:0.930203\tvalidation_0-error:0.097332\tvalidation_1-auc:0.930333\tvalidation_1-error:0.09691\n",
      "[75]\tvalidation_0-auc:0.930262\tvalidation_0-error:0.097288\tvalidation_1-auc:0.930402\tvalidation_1-error:0.096816\n",
      "[76]\tvalidation_0-auc:0.93034\tvalidation_0-error:0.097078\tvalidation_1-auc:0.930473\tvalidation_1-error:0.096618\n",
      "[77]\tvalidation_0-auc:0.930427\tvalidation_0-error:0.097072\tvalidation_1-auc:0.930557\tvalidation_1-error:0.096588\n",
      "[78]\tvalidation_0-auc:0.930499\tvalidation_0-error:0.096982\tvalidation_1-auc:0.93063\tvalidation_1-error:0.096543\n",
      "[79]\tvalidation_0-auc:0.930635\tvalidation_0-error:0.096936\tvalidation_1-auc:0.930757\tvalidation_1-error:0.096468\n",
      "[80]\tvalidation_0-auc:0.930748\tvalidation_0-error:0.096803\tvalidation_1-auc:0.930862\tvalidation_1-error:0.096324\n",
      "[81]\tvalidation_0-auc:0.930833\tvalidation_0-error:0.096785\tvalidation_1-auc:0.930944\tvalidation_1-error:0.096307\n",
      "[82]\tvalidation_0-auc:0.930923\tvalidation_0-error:0.096784\tvalidation_1-auc:0.931018\tvalidation_1-error:0.096307\n",
      "[83]\tvalidation_0-auc:0.930943\tvalidation_0-error:0.096688\tvalidation_1-auc:0.931039\tvalidation_1-error:0.096128\n",
      "[84]\tvalidation_0-auc:0.930997\tvalidation_0-error:0.096666\tvalidation_1-auc:0.931087\tvalidation_1-error:0.096131\n",
      "[85]\tvalidation_0-auc:0.93105\tvalidation_0-error:0.096624\tvalidation_1-auc:0.931133\tvalidation_1-error:0.096081\n",
      "[86]\tvalidation_0-auc:0.931086\tvalidation_0-error:0.09661\tvalidation_1-auc:0.931159\tvalidation_1-error:0.096068\n",
      "[87]\tvalidation_0-auc:0.931192\tvalidation_0-error:0.096588\tvalidation_1-auc:0.931268\tvalidation_1-error:0.096011\n",
      "[88]\tvalidation_0-auc:0.931213\tvalidation_0-error:0.096582\tvalidation_1-auc:0.931288\tvalidation_1-error:0.096028\n",
      "[89]\tvalidation_0-auc:0.931323\tvalidation_0-error:0.09649\tvalidation_1-auc:0.931403\tvalidation_1-error:0.096019\n",
      "[90]\tvalidation_0-auc:0.931364\tvalidation_0-error:0.096467\tvalidation_1-auc:0.931442\tvalidation_1-error:0.095997\n",
      "[91]\tvalidation_0-auc:0.931395\tvalidation_0-error:0.096344\tvalidation_1-auc:0.93147\tvalidation_1-error:0.095914\n",
      "[92]\tvalidation_0-auc:0.931423\tvalidation_0-error:0.096368\tvalidation_1-auc:0.9315\tvalidation_1-error:0.095922\n",
      "[93]\tvalidation_0-auc:0.931519\tvalidation_0-error:0.096283\tvalidation_1-auc:0.931588\tvalidation_1-error:0.095736\n",
      "[94]\tvalidation_0-auc:0.931558\tvalidation_0-error:0.09628\tvalidation_1-auc:0.931634\tvalidation_1-error:0.095755\n",
      "[95]\tvalidation_0-auc:0.931593\tvalidation_0-error:0.096243\tvalidation_1-auc:0.931662\tvalidation_1-error:0.095693\n",
      "[96]\tvalidation_0-auc:0.931616\tvalidation_0-error:0.096246\tvalidation_1-auc:0.931685\tvalidation_1-error:0.095735\n",
      "[97]\tvalidation_0-auc:0.931666\tvalidation_0-error:0.096244\tvalidation_1-auc:0.931733\tvalidation_1-error:0.095738\n",
      "[98]\tvalidation_0-auc:0.931692\tvalidation_0-error:0.096223\tvalidation_1-auc:0.931756\tvalidation_1-error:0.095731\n",
      "[99]\tvalidation_0-auc:0.931726\tvalidation_0-error:0.096223\tvalidation_1-auc:0.931793\tvalidation_1-error:0.095723\n"
     ]
    },
    {
     "data": {
      "text/plain": [
       "XGBClassifier(base_score=0.5, booster='gbtree', colsample_bylevel=1,\n",
       "       colsample_bytree=1, gamma=0, learning_rate=0.1, max_delta_step=0,\n",
       "       max_depth=3, min_child_weight=1, missing=None, n_estimators=100,\n",
       "       n_jobs=1, nthread=None, objective='binary:logistic', random_state=0,\n",
       "       reg_alpha=0, reg_lambda=1, scale_pos_weight=1, seed=None,\n",
       "       silent=True, subsample=1)"
      ]
     },
     "execution_count": 126,
     "metadata": {},
     "output_type": "execute_result"
    }
   ],
   "source": [
    "# Diagnose for n_estimators\n",
    "eval_set = [(X_train_xgb, y_binary_train), (X_test_xgb, y_binary_test)]\n",
    "eval_metric = [\"auc\",\"error\"]\n",
    "xgb.fit(X_train_xgb, y_binary_train, eval_metric = eval_metric, eval_set = eval_set, verbose=True)"
   ]
  },
  {
   "cell_type": "code",
   "execution_count": 151,
   "metadata": {},
   "outputs": [],
   "source": [
    "from sklearn.model_selection import RandomizedSearchCV\n",
    "\n",
    "# Create the random grid\n",
    "random_grid = {\n",
    "    'min_child_weight': [1, 5, 10],\n",
    "    'gamma': [0, 1, 5],\n",
    "    'subsample': [0.6, 0.8, 1.0],\n",
    "    'colsample_bytree': [0.4, 0.6, 0.8, 0.9],\n",
    "    'max_depth': [3, 4, 5, 6],\n",
    "    'learning_rate': [0.01, 0.02, 0.03],\n",
    "    'n_estimators': [80, 100, 300, 500, 800, 1000]\n",
    "        }\n",
    "\n",
    "# from sklearn.metrics import f1_score\n",
    "\n",
    "# # Define f1 score for eval_metric\n",
    "# def f1_eval(y_pred, dtrain):\n",
    "#     y_true = dtrain.get_label()\n",
    "#     err = 1 - f1_score(y_true, np.round(y_pred))\n",
    "#     return 'f1_err', err"
   ]
  },
  {
   "cell_type": "code",
   "execution_count": 152,
   "metadata": {
    "scrolled": true
   },
   "outputs": [
    {
     "name": "stdout",
     "output_type": "stream",
     "text": [
      "Fitting 3 folds for each of 50 candidates, totalling 150 fits\n",
      "[CV] subsample=0.8, n_estimators=500, min_child_weight=5, max_depth=5, learning_rate=0.02, gamma=0, colsample_bytree=0.9 \n",
      "[CV] subsample=0.8, n_estimators=500, min_child_weight=5, max_depth=5, learning_rate=0.02, gamma=0, colsample_bytree=0.9 \n",
      "[CV] subsample=0.8, n_estimators=500, min_child_weight=5, max_depth=5, learning_rate=0.02, gamma=0, colsample_bytree=0.9 \n",
      "[CV] subsample=0.6, n_estimators=100, min_child_weight=10, max_depth=3, learning_rate=0.03, gamma=5, colsample_bytree=0.6 \n"
     ]
    },
    {
     "name": "stderr",
     "output_type": "stream",
     "text": [
      "/Users/joannaouyang/anaconda3/lib/python3.6/site-packages/sklearn/preprocessing/label.py:151: DeprecationWarning: The truth value of an empty array is ambiguous. Returning False, but in future this will result in an error. Use `array.size > 0` to check that an array is not empty.\n",
      "  if diff:\n",
      "/Users/joannaouyang/anaconda3/lib/python3.6/site-packages/sklearn/preprocessing/label.py:151: DeprecationWarning: The truth value of an empty array is ambiguous. Returning False, but in future this will result in an error. Use `array.size > 0` to check that an array is not empty.\n",
      "  if diff:\n"
     ]
    },
    {
     "name": "stdout",
     "output_type": "stream",
     "text": [
      "[CV]  subsample=0.6, n_estimators=100, min_child_weight=10, max_depth=3, learning_rate=0.03, gamma=5, colsample_bytree=0.6, total= 2.3min\n",
      "[CV] subsample=0.6, n_estimators=100, min_child_weight=10, max_depth=3, learning_rate=0.03, gamma=5, colsample_bytree=0.6 \n"
     ]
    },
    {
     "name": "stderr",
     "output_type": "stream",
     "text": [
      "/Users/joannaouyang/anaconda3/lib/python3.6/site-packages/sklearn/preprocessing/label.py:151: DeprecationWarning: The truth value of an empty array is ambiguous. Returning False, but in future this will result in an error. Use `array.size > 0` to check that an array is not empty.\n",
      "  if diff:\n",
      "/Users/joannaouyang/anaconda3/lib/python3.6/site-packages/sklearn/preprocessing/label.py:151: DeprecationWarning: The truth value of an empty array is ambiguous. Returning False, but in future this will result in an error. Use `array.size > 0` to check that an array is not empty.\n",
      "  if diff:\n"
     ]
    },
    {
     "name": "stdout",
     "output_type": "stream",
     "text": [
      "[CV]  subsample=0.6, n_estimators=100, min_child_weight=10, max_depth=3, learning_rate=0.03, gamma=5, colsample_bytree=0.6, total= 2.2min\n",
      "[CV] subsample=0.6, n_estimators=100, min_child_weight=10, max_depth=3, learning_rate=0.03, gamma=5, colsample_bytree=0.6 \n"
     ]
    },
    {
     "name": "stderr",
     "output_type": "stream",
     "text": [
      "/Users/joannaouyang/anaconda3/lib/python3.6/site-packages/sklearn/preprocessing/label.py:151: DeprecationWarning: The truth value of an empty array is ambiguous. Returning False, but in future this will result in an error. Use `array.size > 0` to check that an array is not empty.\n",
      "  if diff:\n",
      "/Users/joannaouyang/anaconda3/lib/python3.6/site-packages/sklearn/preprocessing/label.py:151: DeprecationWarning: The truth value of an empty array is ambiguous. Returning False, but in future this will result in an error. Use `array.size > 0` to check that an array is not empty.\n",
      "  if diff:\n"
     ]
    },
    {
     "name": "stdout",
     "output_type": "stream",
     "text": [
      "[CV]  subsample=0.6, n_estimators=100, min_child_weight=10, max_depth=3, learning_rate=0.03, gamma=5, colsample_bytree=0.6, total= 2.2min\n",
      "[CV] subsample=0.8, n_estimators=300, min_child_weight=10, max_depth=5, learning_rate=0.02, gamma=5, colsample_bytree=0.8 \n"
     ]
    },
    {
     "name": "stderr",
     "output_type": "stream",
     "text": [
      "/Users/joannaouyang/anaconda3/lib/python3.6/site-packages/sklearn/preprocessing/label.py:151: DeprecationWarning: The truth value of an empty array is ambiguous. Returning False, but in future this will result in an error. Use `array.size > 0` to check that an array is not empty.\n",
      "  if diff:\n",
      "/Users/joannaouyang/anaconda3/lib/python3.6/site-packages/sklearn/preprocessing/label.py:151: DeprecationWarning: The truth value of an empty array is ambiguous. Returning False, but in future this will result in an error. Use `array.size > 0` to check that an array is not empty.\n",
      "  if diff:\n"
     ]
    },
    {
     "name": "stdout",
     "output_type": "stream",
     "text": [
      "[CV]  subsample=0.8, n_estimators=300, min_child_weight=10, max_depth=5, learning_rate=0.02, gamma=5, colsample_bytree=0.8, total=13.2min\n",
      "[CV] subsample=0.8, n_estimators=300, min_child_weight=10, max_depth=5, learning_rate=0.02, gamma=5, colsample_bytree=0.8 \n"
     ]
    },
    {
     "name": "stderr",
     "output_type": "stream",
     "text": [
      "/Users/joannaouyang/anaconda3/lib/python3.6/site-packages/sklearn/preprocessing/label.py:151: DeprecationWarning: The truth value of an empty array is ambiguous. Returning False, but in future this will result in an error. Use `array.size > 0` to check that an array is not empty.\n",
      "  if diff:\n",
      "/Users/joannaouyang/anaconda3/lib/python3.6/site-packages/sklearn/preprocessing/label.py:151: DeprecationWarning: The truth value of an empty array is ambiguous. Returning False, but in future this will result in an error. Use `array.size > 0` to check that an array is not empty.\n",
      "  if diff:\n",
      "/Users/joannaouyang/anaconda3/lib/python3.6/site-packages/sklearn/preprocessing/label.py:151: DeprecationWarning: The truth value of an empty array is ambiguous. Returning False, but in future this will result in an error. Use `array.size > 0` to check that an array is not empty.\n",
      "  if diff:\n",
      "/Users/joannaouyang/anaconda3/lib/python3.6/site-packages/sklearn/preprocessing/label.py:151: DeprecationWarning: The truth value of an empty array is ambiguous. Returning False, but in future this will result in an error. Use `array.size > 0` to check that an array is not empty.\n",
      "  if diff:\n"
     ]
    },
    {
     "name": "stdout",
     "output_type": "stream",
     "text": [
      "[CV]  subsample=0.8, n_estimators=500, min_child_weight=5, max_depth=5, learning_rate=0.02, gamma=0, colsample_bytree=0.9, total=24.4min\n",
      "[CV] subsample=0.8, n_estimators=300, min_child_weight=10, max_depth=5, learning_rate=0.02, gamma=5, colsample_bytree=0.8 \n"
     ]
    },
    {
     "name": "stderr",
     "output_type": "stream",
     "text": [
      "/Users/joannaouyang/anaconda3/lib/python3.6/site-packages/sklearn/preprocessing/label.py:151: DeprecationWarning: The truth value of an empty array is ambiguous. Returning False, but in future this will result in an error. Use `array.size > 0` to check that an array is not empty.\n",
      "  if diff:\n"
     ]
    },
    {
     "name": "stdout",
     "output_type": "stream",
     "text": [
      "[CV]  subsample=0.8, n_estimators=500, min_child_weight=5, max_depth=5, learning_rate=0.02, gamma=0, colsample_bytree=0.9, total=24.4min\n",
      "[CV] subsample=0.8, n_estimators=80, min_child_weight=1, max_depth=6, learning_rate=0.03, gamma=0, colsample_bytree=0.6 \n"
     ]
    },
    {
     "name": "stderr",
     "output_type": "stream",
     "text": [
      "/Users/joannaouyang/anaconda3/lib/python3.6/site-packages/sklearn/preprocessing/label.py:151: DeprecationWarning: The truth value of an empty array is ambiguous. Returning False, but in future this will result in an error. Use `array.size > 0` to check that an array is not empty.\n",
      "  if diff:\n"
     ]
    },
    {
     "name": "stdout",
     "output_type": "stream",
     "text": [
      "[CV]  subsample=0.8, n_estimators=500, min_child_weight=5, max_depth=5, learning_rate=0.02, gamma=0, colsample_bytree=0.9, total=24.5min\n",
      "[CV] subsample=0.8, n_estimators=80, min_child_weight=1, max_depth=6, learning_rate=0.03, gamma=0, colsample_bytree=0.6 \n"
     ]
    },
    {
     "name": "stderr",
     "output_type": "stream",
     "text": [
      "/Users/joannaouyang/anaconda3/lib/python3.6/site-packages/sklearn/preprocessing/label.py:151: DeprecationWarning: The truth value of an empty array is ambiguous. Returning False, but in future this will result in an error. Use `array.size > 0` to check that an array is not empty.\n",
      "  if diff:\n",
      "/Users/joannaouyang/anaconda3/lib/python3.6/site-packages/sklearn/preprocessing/label.py:151: DeprecationWarning: The truth value of an empty array is ambiguous. Returning False, but in future this will result in an error. Use `array.size > 0` to check that an array is not empty.\n",
      "  if diff:\n",
      "/Users/joannaouyang/anaconda3/lib/python3.6/site-packages/sklearn/preprocessing/label.py:151: DeprecationWarning: The truth value of an empty array is ambiguous. Returning False, but in future this will result in an error. Use `array.size > 0` to check that an array is not empty.\n",
      "  if diff:\n"
     ]
    },
    {
     "name": "stdout",
     "output_type": "stream",
     "text": [
      "[CV]  subsample=0.8, n_estimators=80, min_child_weight=1, max_depth=6, learning_rate=0.03, gamma=0, colsample_bytree=0.6, total= 3.4min\n",
      "[CV] subsample=0.8, n_estimators=80, min_child_weight=1, max_depth=6, learning_rate=0.03, gamma=0, colsample_bytree=0.6 \n"
     ]
    },
    {
     "name": "stderr",
     "output_type": "stream",
     "text": [
      "/Users/joannaouyang/anaconda3/lib/python3.6/site-packages/sklearn/preprocessing/label.py:151: DeprecationWarning: The truth value of an empty array is ambiguous. Returning False, but in future this will result in an error. Use `array.size > 0` to check that an array is not empty.\n",
      "  if diff:\n"
     ]
    },
    {
     "name": "stdout",
     "output_type": "stream",
     "text": [
      "[CV]  subsample=0.8, n_estimators=80, min_child_weight=1, max_depth=6, learning_rate=0.03, gamma=0, colsample_bytree=0.6, total= 3.4min\n",
      "[CV] subsample=0.8, n_estimators=800, min_child_weight=1, max_depth=4, learning_rate=0.03, gamma=0, colsample_bytree=0.8 \n"
     ]
    },
    {
     "name": "stderr",
     "output_type": "stream",
     "text": [
      "/Users/joannaouyang/anaconda3/lib/python3.6/site-packages/sklearn/preprocessing/label.py:151: DeprecationWarning: The truth value of an empty array is ambiguous. Returning False, but in future this will result in an error. Use `array.size > 0` to check that an array is not empty.\n",
      "  if diff:\n",
      "/Users/joannaouyang/anaconda3/lib/python3.6/site-packages/sklearn/preprocessing/label.py:151: DeprecationWarning: The truth value of an empty array is ambiguous. Returning False, but in future this will result in an error. Use `array.size > 0` to check that an array is not empty.\n",
      "  if diff:\n"
     ]
    },
    {
     "name": "stdout",
     "output_type": "stream",
     "text": [
      "[CV]  subsample=0.8, n_estimators=80, min_child_weight=1, max_depth=6, learning_rate=0.03, gamma=0, colsample_bytree=0.6, total= 3.4min\n",
      "[CV] subsample=0.8, n_estimators=800, min_child_weight=1, max_depth=4, learning_rate=0.03, gamma=0, colsample_bytree=0.8 \n"
     ]
    },
    {
     "name": "stderr",
     "output_type": "stream",
     "text": [
      "/Users/joannaouyang/anaconda3/lib/python3.6/site-packages/sklearn/preprocessing/label.py:151: DeprecationWarning: The truth value of an empty array is ambiguous. Returning False, but in future this will result in an error. Use `array.size > 0` to check that an array is not empty.\n",
      "  if diff:\n",
      "/Users/joannaouyang/anaconda3/lib/python3.6/site-packages/sklearn/preprocessing/label.py:151: DeprecationWarning: The truth value of an empty array is ambiguous. Returning False, but in future this will result in an error. Use `array.size > 0` to check that an array is not empty.\n",
      "  if diff:\n"
     ]
    },
    {
     "name": "stdout",
     "output_type": "stream",
     "text": [
      "[CV]  subsample=0.8, n_estimators=300, min_child_weight=10, max_depth=5, learning_rate=0.02, gamma=5, colsample_bytree=0.8, total=13.2min\n",
      "[CV] subsample=0.8, n_estimators=800, min_child_weight=1, max_depth=4, learning_rate=0.03, gamma=0, colsample_bytree=0.8 \n"
     ]
    },
    {
     "name": "stderr",
     "output_type": "stream",
     "text": [
      "/Users/joannaouyang/anaconda3/lib/python3.6/site-packages/sklearn/preprocessing/label.py:151: DeprecationWarning: The truth value of an empty array is ambiguous. Returning False, but in future this will result in an error. Use `array.size > 0` to check that an array is not empty.\n",
      "  if diff:\n",
      "/Users/joannaouyang/anaconda3/lib/python3.6/site-packages/sklearn/preprocessing/label.py:151: DeprecationWarning: The truth value of an empty array is ambiguous. Returning False, but in future this will result in an error. Use `array.size > 0` to check that an array is not empty.\n",
      "  if diff:\n"
     ]
    },
    {
     "name": "stdout",
     "output_type": "stream",
     "text": [
      "[CV]  subsample=0.8, n_estimators=300, min_child_weight=10, max_depth=5, learning_rate=0.02, gamma=5, colsample_bytree=0.8, total=13.3min\n",
      "[CV] subsample=0.8, n_estimators=800, min_child_weight=5, max_depth=5, learning_rate=0.02, gamma=0, colsample_bytree=0.9 \n"
     ]
    },
    {
     "name": "stderr",
     "output_type": "stream",
     "text": [
      "/Users/joannaouyang/anaconda3/lib/python3.6/site-packages/sklearn/preprocessing/label.py:151: DeprecationWarning: The truth value of an empty array is ambiguous. Returning False, but in future this will result in an error. Use `array.size > 0` to check that an array is not empty.\n",
      "  if diff:\n",
      "/Users/joannaouyang/anaconda3/lib/python3.6/site-packages/sklearn/preprocessing/label.py:151: DeprecationWarning: The truth value of an empty array is ambiguous. Returning False, but in future this will result in an error. Use `array.size > 0` to check that an array is not empty.\n",
      "  if diff:\n"
     ]
    },
    {
     "name": "stdout",
     "output_type": "stream",
     "text": [
      "[CV]  subsample=0.8, n_estimators=800, min_child_weight=1, max_depth=4, learning_rate=0.03, gamma=0, colsample_bytree=0.8, total=28.4min\n",
      "[CV] subsample=0.8, n_estimators=800, min_child_weight=5, max_depth=5, learning_rate=0.02, gamma=0, colsample_bytree=0.9 \n"
     ]
    },
    {
     "name": "stderr",
     "output_type": "stream",
     "text": [
      "/Users/joannaouyang/anaconda3/lib/python3.6/site-packages/sklearn/preprocessing/label.py:151: DeprecationWarning: The truth value of an empty array is ambiguous. Returning False, but in future this will result in an error. Use `array.size > 0` to check that an array is not empty.\n",
      "  if diff:\n",
      "/Users/joannaouyang/anaconda3/lib/python3.6/site-packages/sklearn/preprocessing/label.py:151: DeprecationWarning: The truth value of an empty array is ambiguous. Returning False, but in future this will result in an error. Use `array.size > 0` to check that an array is not empty.\n",
      "  if diff:\n"
     ]
    },
    {
     "name": "stdout",
     "output_type": "stream",
     "text": [
      "[CV]  subsample=0.8, n_estimators=800, min_child_weight=1, max_depth=4, learning_rate=0.03, gamma=0, colsample_bytree=0.8, total=28.2min\n",
      "[CV] subsample=0.8, n_estimators=800, min_child_weight=5, max_depth=5, learning_rate=0.02, gamma=0, colsample_bytree=0.9 \n"
     ]
    },
    {
     "name": "stderr",
     "output_type": "stream",
     "text": [
      "/Users/joannaouyang/anaconda3/lib/python3.6/site-packages/sklearn/preprocessing/label.py:151: DeprecationWarning: The truth value of an empty array is ambiguous. Returning False, but in future this will result in an error. Use `array.size > 0` to check that an array is not empty.\n",
      "  if diff:\n",
      "/Users/joannaouyang/anaconda3/lib/python3.6/site-packages/sklearn/preprocessing/label.py:151: DeprecationWarning: The truth value of an empty array is ambiguous. Returning False, but in future this will result in an error. Use `array.size > 0` to check that an array is not empty.\n",
      "  if diff:\n"
     ]
    },
    {
     "name": "stdout",
     "output_type": "stream",
     "text": [
      "[CV]  subsample=0.8, n_estimators=800, min_child_weight=1, max_depth=4, learning_rate=0.03, gamma=0, colsample_bytree=0.8, total=28.5min\n",
      "[CV] subsample=1.0, n_estimators=300, min_child_weight=10, max_depth=3, learning_rate=0.03, gamma=5, colsample_bytree=0.9 \n"
     ]
    },
    {
     "name": "stderr",
     "output_type": "stream",
     "text": [
      "/Users/joannaouyang/anaconda3/lib/python3.6/site-packages/sklearn/preprocessing/label.py:151: DeprecationWarning: The truth value of an empty array is ambiguous. Returning False, but in future this will result in an error. Use `array.size > 0` to check that an array is not empty.\n",
      "  if diff:\n",
      "/Users/joannaouyang/anaconda3/lib/python3.6/site-packages/sklearn/preprocessing/label.py:151: DeprecationWarning: The truth value of an empty array is ambiguous. Returning False, but in future this will result in an error. Use `array.size > 0` to check that an array is not empty.\n",
      "  if diff:\n"
     ]
    },
    {
     "name": "stdout",
     "output_type": "stream",
     "text": [
      "[CV]  subsample=1.0, n_estimators=300, min_child_weight=10, max_depth=3, learning_rate=0.03, gamma=5, colsample_bytree=0.9, total= 8.8min\n",
      "[CV] subsample=1.0, n_estimators=300, min_child_weight=10, max_depth=3, learning_rate=0.03, gamma=5, colsample_bytree=0.9 \n"
     ]
    },
    {
     "name": "stderr",
     "output_type": "stream",
     "text": [
      "/Users/joannaouyang/anaconda3/lib/python3.6/site-packages/sklearn/preprocessing/label.py:151: DeprecationWarning: The truth value of an empty array is ambiguous. Returning False, but in future this will result in an error. Use `array.size > 0` to check that an array is not empty.\n",
      "  if diff:\n",
      "/Users/joannaouyang/anaconda3/lib/python3.6/site-packages/sklearn/preprocessing/label.py:151: DeprecationWarning: The truth value of an empty array is ambiguous. Returning False, but in future this will result in an error. Use `array.size > 0` to check that an array is not empty.\n",
      "  if diff:\n"
     ]
    },
    {
     "name": "stdout",
     "output_type": "stream",
     "text": [
      "[CV]  subsample=0.8, n_estimators=800, min_child_weight=5, max_depth=5, learning_rate=0.02, gamma=0, colsample_bytree=0.9, total=39.0min\n",
      "[CV] subsample=1.0, n_estimators=300, min_child_weight=10, max_depth=3, learning_rate=0.03, gamma=5, colsample_bytree=0.9 \n"
     ]
    },
    {
     "name": "stderr",
     "output_type": "stream",
     "text": [
      "/Users/joannaouyang/anaconda3/lib/python3.6/site-packages/sklearn/preprocessing/label.py:151: DeprecationWarning: The truth value of an empty array is ambiguous. Returning False, but in future this will result in an error. Use `array.size > 0` to check that an array is not empty.\n",
      "  if diff:\n",
      "/Users/joannaouyang/anaconda3/lib/python3.6/site-packages/sklearn/preprocessing/label.py:151: DeprecationWarning: The truth value of an empty array is ambiguous. Returning False, but in future this will result in an error. Use `array.size > 0` to check that an array is not empty.\n",
      "  if diff:\n"
     ]
    },
    {
     "name": "stdout",
     "output_type": "stream",
     "text": [
      "[CV]  subsample=1.0, n_estimators=300, min_child_weight=10, max_depth=3, learning_rate=0.03, gamma=5, colsample_bytree=0.9, total= 8.8min\n",
      "[CV] subsample=1.0, n_estimators=80, min_child_weight=1, max_depth=3, learning_rate=0.03, gamma=0, colsample_bytree=0.9 \n"
     ]
    },
    {
     "name": "stderr",
     "output_type": "stream",
     "text": [
      "/Users/joannaouyang/anaconda3/lib/python3.6/site-packages/sklearn/preprocessing/label.py:151: DeprecationWarning: The truth value of an empty array is ambiguous. Returning False, but in future this will result in an error. Use `array.size > 0` to check that an array is not empty.\n",
      "  if diff:\n",
      "/Users/joannaouyang/anaconda3/lib/python3.6/site-packages/sklearn/preprocessing/label.py:151: DeprecationWarning: The truth value of an empty array is ambiguous. Returning False, but in future this will result in an error. Use `array.size > 0` to check that an array is not empty.\n",
      "  if diff:\n"
     ]
    },
    {
     "name": "stdout",
     "output_type": "stream",
     "text": [
      "[CV]  subsample=1.0, n_estimators=80, min_child_weight=1, max_depth=3, learning_rate=0.03, gamma=0, colsample_bytree=0.9, total= 2.4min\n",
      "[CV] subsample=1.0, n_estimators=80, min_child_weight=1, max_depth=3, learning_rate=0.03, gamma=0, colsample_bytree=0.9 \n"
     ]
    },
    {
     "name": "stderr",
     "output_type": "stream",
     "text": [
      "/Users/joannaouyang/anaconda3/lib/python3.6/site-packages/sklearn/preprocessing/label.py:151: DeprecationWarning: The truth value of an empty array is ambiguous. Returning False, but in future this will result in an error. Use `array.size > 0` to check that an array is not empty.\n",
      "  if diff:\n",
      "/Users/joannaouyang/anaconda3/lib/python3.6/site-packages/sklearn/preprocessing/label.py:151: DeprecationWarning: The truth value of an empty array is ambiguous. Returning False, but in future this will result in an error. Use `array.size > 0` to check that an array is not empty.\n",
      "  if diff:\n"
     ]
    },
    {
     "name": "stdout",
     "output_type": "stream",
     "text": [
      "[CV]  subsample=1.0, n_estimators=80, min_child_weight=1, max_depth=3, learning_rate=0.03, gamma=0, colsample_bytree=0.9, total= 2.4min\n",
      "[CV] subsample=1.0, n_estimators=80, min_child_weight=1, max_depth=3, learning_rate=0.03, gamma=0, colsample_bytree=0.9 \n"
     ]
    },
    {
     "name": "stderr",
     "output_type": "stream",
     "text": [
      "/Users/joannaouyang/anaconda3/lib/python3.6/site-packages/sklearn/preprocessing/label.py:151: DeprecationWarning: The truth value of an empty array is ambiguous. Returning False, but in future this will result in an error. Use `array.size > 0` to check that an array is not empty.\n",
      "  if diff:\n",
      "/Users/joannaouyang/anaconda3/lib/python3.6/site-packages/sklearn/preprocessing/label.py:151: DeprecationWarning: The truth value of an empty array is ambiguous. Returning False, but in future this will result in an error. Use `array.size > 0` to check that an array is not empty.\n",
      "  if diff:\n"
     ]
    },
    {
     "name": "stdout",
     "output_type": "stream",
     "text": [
      "[CV]  subsample=1.0, n_estimators=300, min_child_weight=10, max_depth=3, learning_rate=0.03, gamma=5, colsample_bytree=0.9, total= 8.9min\n",
      "[CV] subsample=0.8, n_estimators=1000, min_child_weight=1, max_depth=5, learning_rate=0.01, gamma=0, colsample_bytree=0.4 \n"
     ]
    },
    {
     "name": "stderr",
     "output_type": "stream",
     "text": [
      "/Users/joannaouyang/anaconda3/lib/python3.6/site-packages/sklearn/preprocessing/label.py:151: DeprecationWarning: The truth value of an empty array is ambiguous. Returning False, but in future this will result in an error. Use `array.size > 0` to check that an array is not empty.\n",
      "  if diff:\n",
      "/Users/joannaouyang/anaconda3/lib/python3.6/site-packages/sklearn/preprocessing/label.py:151: DeprecationWarning: The truth value of an empty array is ambiguous. Returning False, but in future this will result in an error. Use `array.size > 0` to check that an array is not empty.\n",
      "  if diff:\n"
     ]
    },
    {
     "name": "stdout",
     "output_type": "stream",
     "text": [
      "[CV]  subsample=1.0, n_estimators=80, min_child_weight=1, max_depth=3, learning_rate=0.03, gamma=0, colsample_bytree=0.9, total= 2.4min\n",
      "[CV] subsample=0.8, n_estimators=1000, min_child_weight=1, max_depth=5, learning_rate=0.01, gamma=0, colsample_bytree=0.4 \n"
     ]
    },
    {
     "name": "stderr",
     "output_type": "stream",
     "text": [
      "/Users/joannaouyang/anaconda3/lib/python3.6/site-packages/sklearn/preprocessing/label.py:151: DeprecationWarning: The truth value of an empty array is ambiguous. Returning False, but in future this will result in an error. Use `array.size > 0` to check that an array is not empty.\n",
      "  if diff:\n",
      "/Users/joannaouyang/anaconda3/lib/python3.6/site-packages/sklearn/preprocessing/label.py:151: DeprecationWarning: The truth value of an empty array is ambiguous. Returning False, but in future this will result in an error. Use `array.size > 0` to check that an array is not empty.\n",
      "  if diff:\n"
     ]
    },
    {
     "name": "stdout",
     "output_type": "stream",
     "text": [
      "[CV]  subsample=0.8, n_estimators=800, min_child_weight=5, max_depth=5, learning_rate=0.02, gamma=0, colsample_bytree=0.9, total=38.4min\n",
      "[CV] subsample=0.8, n_estimators=1000, min_child_weight=1, max_depth=5, learning_rate=0.01, gamma=0, colsample_bytree=0.4 \n"
     ]
    },
    {
     "name": "stderr",
     "output_type": "stream",
     "text": [
      "/Users/joannaouyang/anaconda3/lib/python3.6/site-packages/sklearn/preprocessing/label.py:151: DeprecationWarning: The truth value of an empty array is ambiguous. Returning False, but in future this will result in an error. Use `array.size > 0` to check that an array is not empty.\n",
      "  if diff:\n",
      "/Users/joannaouyang/anaconda3/lib/python3.6/site-packages/sklearn/preprocessing/label.py:151: DeprecationWarning: The truth value of an empty array is ambiguous. Returning False, but in future this will result in an error. Use `array.size > 0` to check that an array is not empty.\n",
      "  if diff:\n"
     ]
    },
    {
     "name": "stdout",
     "output_type": "stream",
     "text": [
      "[CV]  subsample=0.8, n_estimators=800, min_child_weight=5, max_depth=5, learning_rate=0.02, gamma=0, colsample_bytree=0.9, total=39.0min\n",
      "[CV] subsample=0.8, n_estimators=100, min_child_weight=5, max_depth=6, learning_rate=0.03, gamma=0, colsample_bytree=0.6 \n"
     ]
    },
    {
     "name": "stderr",
     "output_type": "stream",
     "text": [
      "/Users/joannaouyang/anaconda3/lib/python3.6/site-packages/sklearn/preprocessing/label.py:151: DeprecationWarning: The truth value of an empty array is ambiguous. Returning False, but in future this will result in an error. Use `array.size > 0` to check that an array is not empty.\n",
      "  if diff:\n",
      "/Users/joannaouyang/anaconda3/lib/python3.6/site-packages/sklearn/preprocessing/label.py:151: DeprecationWarning: The truth value of an empty array is ambiguous. Returning False, but in future this will result in an error. Use `array.size > 0` to check that an array is not empty.\n",
      "  if diff:\n"
     ]
    },
    {
     "name": "stdout",
     "output_type": "stream",
     "text": [
      "[CV]  subsample=0.8, n_estimators=100, min_child_weight=5, max_depth=6, learning_rate=0.03, gamma=0, colsample_bytree=0.6, total= 4.7min\n",
      "[CV] subsample=0.8, n_estimators=100, min_child_weight=5, max_depth=6, learning_rate=0.03, gamma=0, colsample_bytree=0.6 \n"
     ]
    },
    {
     "name": "stderr",
     "output_type": "stream",
     "text": [
      "/Users/joannaouyang/anaconda3/lib/python3.6/site-packages/sklearn/preprocessing/label.py:151: DeprecationWarning: The truth value of an empty array is ambiguous. Returning False, but in future this will result in an error. Use `array.size > 0` to check that an array is not empty.\n",
      "  if diff:\n",
      "/Users/joannaouyang/anaconda3/lib/python3.6/site-packages/sklearn/preprocessing/label.py:151: DeprecationWarning: The truth value of an empty array is ambiguous. Returning False, but in future this will result in an error. Use `array.size > 0` to check that an array is not empty.\n",
      "  if diff:\n"
     ]
    },
    {
     "name": "stdout",
     "output_type": "stream",
     "text": [
      "[CV]  subsample=0.8, n_estimators=100, min_child_weight=5, max_depth=6, learning_rate=0.03, gamma=0, colsample_bytree=0.6, total= 4.4min\n",
      "[CV] subsample=0.8, n_estimators=100, min_child_weight=5, max_depth=6, learning_rate=0.03, gamma=0, colsample_bytree=0.6 \n"
     ]
    },
    {
     "name": "stderr",
     "output_type": "stream",
     "text": [
      "/Users/joannaouyang/anaconda3/lib/python3.6/site-packages/sklearn/preprocessing/label.py:151: DeprecationWarning: The truth value of an empty array is ambiguous. Returning False, but in future this will result in an error. Use `array.size > 0` to check that an array is not empty.\n",
      "  if diff:\n",
      "/Users/joannaouyang/anaconda3/lib/python3.6/site-packages/sklearn/preprocessing/label.py:151: DeprecationWarning: The truth value of an empty array is ambiguous. Returning False, but in future this will result in an error. Use `array.size > 0` to check that an array is not empty.\n",
      "  if diff:\n",
      "/Users/joannaouyang/anaconda3/lib/python3.6/site-packages/sklearn/preprocessing/label.py:151: DeprecationWarning: The truth value of an empty array is ambiguous. Returning False, but in future this will result in an error. Use `array.size > 0` to check that an array is not empty.\n",
      "  if diff:\n"
     ]
    },
    {
     "name": "stdout",
     "output_type": "stream",
     "text": [
      "[CV]  subsample=0.8, n_estimators=100, min_child_weight=5, max_depth=6, learning_rate=0.03, gamma=0, colsample_bytree=0.6, total= 4.3min\n",
      "[CV] subsample=0.6, n_estimators=800, min_child_weight=5, max_depth=4, learning_rate=0.02, gamma=5, colsample_bytree=0.4 \n"
     ]
    },
    {
     "name": "stderr",
     "output_type": "stream",
     "text": [
      "/Users/joannaouyang/anaconda3/lib/python3.6/site-packages/sklearn/preprocessing/label.py:151: DeprecationWarning: The truth value of an empty array is ambiguous. Returning False, but in future this will result in an error. Use `array.size > 0` to check that an array is not empty.\n",
      "  if diff:\n"
     ]
    },
    {
     "name": "stdout",
     "output_type": "stream",
     "text": [
      "[CV]  subsample=0.8, n_estimators=1000, min_child_weight=1, max_depth=5, learning_rate=0.01, gamma=0, colsample_bytree=0.4, total=26.6min\n",
      "[CV] subsample=0.6, n_estimators=800, min_child_weight=5, max_depth=4, learning_rate=0.02, gamma=5, colsample_bytree=0.4 \n"
     ]
    },
    {
     "name": "stderr",
     "output_type": "stream",
     "text": [
      "/Users/joannaouyang/anaconda3/lib/python3.6/site-packages/sklearn/preprocessing/label.py:151: DeprecationWarning: The truth value of an empty array is ambiguous. Returning False, but in future this will result in an error. Use `array.size > 0` to check that an array is not empty.\n",
      "  if diff:\n",
      "/Users/joannaouyang/anaconda3/lib/python3.6/site-packages/sklearn/preprocessing/label.py:151: DeprecationWarning: The truth value of an empty array is ambiguous. Returning False, but in future this will result in an error. Use `array.size > 0` to check that an array is not empty.\n",
      "  if diff:\n"
     ]
    },
    {
     "name": "stdout",
     "output_type": "stream",
     "text": [
      "[CV]  subsample=0.8, n_estimators=1000, min_child_weight=1, max_depth=5, learning_rate=0.01, gamma=0, colsample_bytree=0.4, total=26.6min\n",
      "[CV] subsample=0.6, n_estimators=800, min_child_weight=5, max_depth=4, learning_rate=0.02, gamma=5, colsample_bytree=0.4 \n"
     ]
    },
    {
     "name": "stderr",
     "output_type": "stream",
     "text": [
      "/Users/joannaouyang/anaconda3/lib/python3.6/site-packages/sklearn/preprocessing/label.py:151: DeprecationWarning: The truth value of an empty array is ambiguous. Returning False, but in future this will result in an error. Use `array.size > 0` to check that an array is not empty.\n",
      "  if diff:\n",
      "/Users/joannaouyang/anaconda3/lib/python3.6/site-packages/sklearn/preprocessing/label.py:151: DeprecationWarning: The truth value of an empty array is ambiguous. Returning False, but in future this will result in an error. Use `array.size > 0` to check that an array is not empty.\n",
      "  if diff:\n"
     ]
    },
    {
     "name": "stdout",
     "output_type": "stream",
     "text": [
      "[CV]  subsample=0.8, n_estimators=1000, min_child_weight=1, max_depth=5, learning_rate=0.01, gamma=0, colsample_bytree=0.4, total=26.6min\n",
      "[CV] subsample=0.8, n_estimators=500, min_child_weight=10, max_depth=4, learning_rate=0.03, gamma=0, colsample_bytree=0.4 \n"
     ]
    },
    {
     "name": "stderr",
     "output_type": "stream",
     "text": [
      "/Users/joannaouyang/anaconda3/lib/python3.6/site-packages/sklearn/preprocessing/label.py:151: DeprecationWarning: The truth value of an empty array is ambiguous. Returning False, but in future this will result in an error. Use `array.size > 0` to check that an array is not empty.\n",
      "  if diff:\n",
      "/Users/joannaouyang/anaconda3/lib/python3.6/site-packages/sklearn/preprocessing/label.py:151: DeprecationWarning: The truth value of an empty array is ambiguous. Returning False, but in future this will result in an error. Use `array.size > 0` to check that an array is not empty.\n",
      "  if diff:\n",
      "/Users/joannaouyang/anaconda3/lib/python3.6/site-packages/sklearn/preprocessing/label.py:151: DeprecationWarning: The truth value of an empty array is ambiguous. Returning False, but in future this will result in an error. Use `array.size > 0` to check that an array is not empty.\n",
      "  if diff:\n"
     ]
    },
    {
     "name": "stdout",
     "output_type": "stream",
     "text": [
      "[CV]  subsample=0.6, n_estimators=800, min_child_weight=5, max_depth=4, learning_rate=0.02, gamma=5, colsample_bytree=0.4, total=15.9min\n",
      "[CV] subsample=0.8, n_estimators=500, min_child_weight=10, max_depth=4, learning_rate=0.03, gamma=0, colsample_bytree=0.4 \n"
     ]
    },
    {
     "name": "stderr",
     "output_type": "stream",
     "text": [
      "/Users/joannaouyang/anaconda3/lib/python3.6/site-packages/sklearn/preprocessing/label.py:151: DeprecationWarning: The truth value of an empty array is ambiguous. Returning False, but in future this will result in an error. Use `array.size > 0` to check that an array is not empty.\n",
      "  if diff:\n"
     ]
    },
    {
     "name": "stdout",
     "output_type": "stream",
     "text": [
      "[CV]  subsample=0.6, n_estimators=800, min_child_weight=5, max_depth=4, learning_rate=0.02, gamma=5, colsample_bytree=0.4, total=15.9min\n",
      "[CV] subsample=0.8, n_estimators=500, min_child_weight=10, max_depth=4, learning_rate=0.03, gamma=0, colsample_bytree=0.4 \n"
     ]
    },
    {
     "name": "stderr",
     "output_type": "stream",
     "text": [
      "/Users/joannaouyang/anaconda3/lib/python3.6/site-packages/sklearn/preprocessing/label.py:151: DeprecationWarning: The truth value of an empty array is ambiguous. Returning False, but in future this will result in an error. Use `array.size > 0` to check that an array is not empty.\n",
      "  if diff:\n",
      "/Users/joannaouyang/anaconda3/lib/python3.6/site-packages/sklearn/preprocessing/label.py:151: DeprecationWarning: The truth value of an empty array is ambiguous. Returning False, but in future this will result in an error. Use `array.size > 0` to check that an array is not empty.\n",
      "  if diff:\n"
     ]
    },
    {
     "name": "stdout",
     "output_type": "stream",
     "text": [
      "[CV]  subsample=0.6, n_estimators=800, min_child_weight=5, max_depth=4, learning_rate=0.02, gamma=5, colsample_bytree=0.4, total=16.1min\n",
      "[CV] subsample=0.6, n_estimators=100, min_child_weight=10, max_depth=6, learning_rate=0.02, gamma=5, colsample_bytree=0.4 \n"
     ]
    },
    {
     "name": "stderr",
     "output_type": "stream",
     "text": [
      "[Parallel(n_jobs=-1)]: Done  33 tasks      | elapsed: 132.4min\n",
      "/Users/joannaouyang/anaconda3/lib/python3.6/site-packages/sklearn/preprocessing/label.py:151: DeprecationWarning: The truth value of an empty array is ambiguous. Returning False, but in future this will result in an error. Use `array.size > 0` to check that an array is not empty.\n",
      "  if diff:\n",
      "/Users/joannaouyang/anaconda3/lib/python3.6/site-packages/sklearn/preprocessing/label.py:151: DeprecationWarning: The truth value of an empty array is ambiguous. Returning False, but in future this will result in an error. Use `array.size > 0` to check that an array is not empty.\n",
      "  if diff:\n"
     ]
    },
    {
     "name": "stdout",
     "output_type": "stream",
     "text": [
      "[CV]  subsample=0.8, n_estimators=500, min_child_weight=10, max_depth=4, learning_rate=0.03, gamma=0, colsample_bytree=0.4, total=10.0min\n",
      "[CV] subsample=0.6, n_estimators=100, min_child_weight=10, max_depth=6, learning_rate=0.02, gamma=5, colsample_bytree=0.4 \n"
     ]
    },
    {
     "name": "stderr",
     "output_type": "stream",
     "text": [
      "/Users/joannaouyang/anaconda3/lib/python3.6/site-packages/sklearn/preprocessing/label.py:151: DeprecationWarning: The truth value of an empty array is ambiguous. Returning False, but in future this will result in an error. Use `array.size > 0` to check that an array is not empty.\n",
      "  if diff:\n",
      "/Users/joannaouyang/anaconda3/lib/python3.6/site-packages/sklearn/preprocessing/label.py:151: DeprecationWarning: The truth value of an empty array is ambiguous. Returning False, but in future this will result in an error. Use `array.size > 0` to check that an array is not empty.\n",
      "  if diff:\n"
     ]
    },
    {
     "name": "stdout",
     "output_type": "stream",
     "text": [
      "[CV]  subsample=0.6, n_estimators=100, min_child_weight=10, max_depth=6, learning_rate=0.02, gamma=5, colsample_bytree=0.4, total= 3.1min\n",
      "[CV] subsample=0.6, n_estimators=100, min_child_weight=10, max_depth=6, learning_rate=0.02, gamma=5, colsample_bytree=0.4 \n"
     ]
    },
    {
     "name": "stderr",
     "output_type": "stream",
     "text": [
      "/Users/joannaouyang/anaconda3/lib/python3.6/site-packages/sklearn/preprocessing/label.py:151: DeprecationWarning: The truth value of an empty array is ambiguous. Returning False, but in future this will result in an error. Use `array.size > 0` to check that an array is not empty.\n",
      "  if diff:\n",
      "/Users/joannaouyang/anaconda3/lib/python3.6/site-packages/sklearn/preprocessing/label.py:151: DeprecationWarning: The truth value of an empty array is ambiguous. Returning False, but in future this will result in an error. Use `array.size > 0` to check that an array is not empty.\n",
      "  if diff:\n"
     ]
    },
    {
     "name": "stdout",
     "output_type": "stream",
     "text": [
      "[CV]  subsample=0.6, n_estimators=100, min_child_weight=10, max_depth=6, learning_rate=0.02, gamma=5, colsample_bytree=0.4, total= 3.1min\n",
      "[CV] subsample=1.0, n_estimators=100, min_child_weight=1, max_depth=3, learning_rate=0.02, gamma=0, colsample_bytree=0.8 \n"
     ]
    },
    {
     "name": "stderr",
     "output_type": "stream",
     "text": [
      "/Users/joannaouyang/anaconda3/lib/python3.6/site-packages/sklearn/preprocessing/label.py:151: DeprecationWarning: The truth value of an empty array is ambiguous. Returning False, but in future this will result in an error. Use `array.size > 0` to check that an array is not empty.\n",
      "  if diff:\n",
      "/Users/joannaouyang/anaconda3/lib/python3.6/site-packages/sklearn/preprocessing/label.py:151: DeprecationWarning: The truth value of an empty array is ambiguous. Returning False, but in future this will result in an error. Use `array.size > 0` to check that an array is not empty.\n",
      "  if diff:\n"
     ]
    },
    {
     "name": "stdout",
     "output_type": "stream",
     "text": [
      "[CV]  subsample=0.6, n_estimators=100, min_child_weight=10, max_depth=6, learning_rate=0.02, gamma=5, colsample_bytree=0.4, total= 3.1min\n",
      "[CV] subsample=1.0, n_estimators=100, min_child_weight=1, max_depth=3, learning_rate=0.02, gamma=0, colsample_bytree=0.8 \n"
     ]
    },
    {
     "name": "stderr",
     "output_type": "stream",
     "text": [
      "/Users/joannaouyang/anaconda3/lib/python3.6/site-packages/sklearn/preprocessing/label.py:151: DeprecationWarning: The truth value of an empty array is ambiguous. Returning False, but in future this will result in an error. Use `array.size > 0` to check that an array is not empty.\n",
      "  if diff:\n",
      "/Users/joannaouyang/anaconda3/lib/python3.6/site-packages/sklearn/preprocessing/label.py:151: DeprecationWarning: The truth value of an empty array is ambiguous. Returning False, but in future this will result in an error. Use `array.size > 0` to check that an array is not empty.\n",
      "  if diff:\n"
     ]
    },
    {
     "name": "stdout",
     "output_type": "stream",
     "text": [
      "[CV]  subsample=1.0, n_estimators=100, min_child_weight=1, max_depth=3, learning_rate=0.02, gamma=0, colsample_bytree=0.8, total= 2.6min\n",
      "[CV] subsample=1.0, n_estimators=100, min_child_weight=1, max_depth=3, learning_rate=0.02, gamma=0, colsample_bytree=0.8 \n"
     ]
    },
    {
     "name": "stderr",
     "output_type": "stream",
     "text": [
      "/Users/joannaouyang/anaconda3/lib/python3.6/site-packages/sklearn/preprocessing/label.py:151: DeprecationWarning: The truth value of an empty array is ambiguous. Returning False, but in future this will result in an error. Use `array.size > 0` to check that an array is not empty.\n",
      "  if diff:\n",
      "/Users/joannaouyang/anaconda3/lib/python3.6/site-packages/sklearn/preprocessing/label.py:151: DeprecationWarning: The truth value of an empty array is ambiguous. Returning False, but in future this will result in an error. Use `array.size > 0` to check that an array is not empty.\n",
      "  if diff:\n",
      "/Users/joannaouyang/anaconda3/lib/python3.6/site-packages/sklearn/preprocessing/label.py:151: DeprecationWarning: The truth value of an empty array is ambiguous. Returning False, but in future this will result in an error. Use `array.size > 0` to check that an array is not empty.\n",
      "  if diff:\n"
     ]
    },
    {
     "name": "stdout",
     "output_type": "stream",
     "text": [
      "[CV]  subsample=0.8, n_estimators=500, min_child_weight=10, max_depth=4, learning_rate=0.03, gamma=0, colsample_bytree=0.4, total=10.0min\n",
      "[CV] subsample=0.6, n_estimators=1000, min_child_weight=1, max_depth=3, learning_rate=0.03, gamma=5, colsample_bytree=0.6 \n"
     ]
    },
    {
     "name": "stderr",
     "output_type": "stream",
     "text": [
      "/Users/joannaouyang/anaconda3/lib/python3.6/site-packages/sklearn/preprocessing/label.py:151: DeprecationWarning: The truth value of an empty array is ambiguous. Returning False, but in future this will result in an error. Use `array.size > 0` to check that an array is not empty.\n",
      "  if diff:\n",
      "/Users/joannaouyang/anaconda3/lib/python3.6/site-packages/sklearn/preprocessing/label.py:151: DeprecationWarning: The truth value of an empty array is ambiguous. Returning False, but in future this will result in an error. Use `array.size > 0` to check that an array is not empty.\n",
      "  if diff:\n"
     ]
    },
    {
     "name": "stdout",
     "output_type": "stream",
     "text": [
      "[CV]  subsample=1.0, n_estimators=100, min_child_weight=1, max_depth=3, learning_rate=0.02, gamma=0, colsample_bytree=0.8, total= 2.7min\n",
      "[CV] subsample=0.6, n_estimators=1000, min_child_weight=1, max_depth=3, learning_rate=0.03, gamma=5, colsample_bytree=0.6 \n"
     ]
    },
    {
     "name": "stderr",
     "output_type": "stream",
     "text": [
      "/Users/joannaouyang/anaconda3/lib/python3.6/site-packages/sklearn/preprocessing/label.py:151: DeprecationWarning: The truth value of an empty array is ambiguous. Returning False, but in future this will result in an error. Use `array.size > 0` to check that an array is not empty.\n",
      "  if diff:\n"
     ]
    },
    {
     "name": "stdout",
     "output_type": "stream",
     "text": [
      "[CV]  subsample=0.8, n_estimators=500, min_child_weight=10, max_depth=4, learning_rate=0.03, gamma=0, colsample_bytree=0.4, total=10.1min\n",
      "[CV] subsample=0.6, n_estimators=1000, min_child_weight=1, max_depth=3, learning_rate=0.03, gamma=5, colsample_bytree=0.6 \n"
     ]
    },
    {
     "name": "stderr",
     "output_type": "stream",
     "text": [
      "/Users/joannaouyang/anaconda3/lib/python3.6/site-packages/sklearn/preprocessing/label.py:151: DeprecationWarning: The truth value of an empty array is ambiguous. Returning False, but in future this will result in an error. Use `array.size > 0` to check that an array is not empty.\n",
      "  if diff:\n",
      "/Users/joannaouyang/anaconda3/lib/python3.6/site-packages/sklearn/preprocessing/label.py:151: DeprecationWarning: The truth value of an empty array is ambiguous. Returning False, but in future this will result in an error. Use `array.size > 0` to check that an array is not empty.\n",
      "  if diff:\n"
     ]
    },
    {
     "name": "stdout",
     "output_type": "stream",
     "text": [
      "[CV]  subsample=1.0, n_estimators=100, min_child_weight=1, max_depth=3, learning_rate=0.02, gamma=0, colsample_bytree=0.8, total= 2.7min\n",
      "[CV] subsample=0.8, n_estimators=1000, min_child_weight=10, max_depth=6, learning_rate=0.02, gamma=1, colsample_bytree=0.6 \n"
     ]
    },
    {
     "name": "stderr",
     "output_type": "stream",
     "text": [
      "/Users/joannaouyang/anaconda3/lib/python3.6/site-packages/sklearn/preprocessing/label.py:151: DeprecationWarning: The truth value of an empty array is ambiguous. Returning False, but in future this will result in an error. Use `array.size > 0` to check that an array is not empty.\n",
      "  if diff:\n",
      "/Users/joannaouyang/anaconda3/lib/python3.6/site-packages/sklearn/preprocessing/label.py:151: DeprecationWarning: The truth value of an empty array is ambiguous. Returning False, but in future this will result in an error. Use `array.size > 0` to check that an array is not empty.\n",
      "  if diff:\n",
      "/Users/joannaouyang/anaconda3/lib/python3.6/site-packages/sklearn/preprocessing/label.py:151: DeprecationWarning: The truth value of an empty array is ambiguous. Returning False, but in future this will result in an error. Use `array.size > 0` to check that an array is not empty.\n",
      "  if diff:\n",
      "/Users/joannaouyang/anaconda3/lib/python3.6/site-packages/sklearn/preprocessing/label.py:151: DeprecationWarning: The truth value of an empty array is ambiguous. Returning False, but in future this will result in an error. Use `array.size > 0` to check that an array is not empty.\n",
      "  if diff:\n"
     ]
    },
    {
     "name": "stdout",
     "output_type": "stream",
     "text": [
      "[CV]  subsample=0.6, n_estimators=1000, min_child_weight=1, max_depth=3, learning_rate=0.03, gamma=5, colsample_bytree=0.6, total=20.5min\n",
      "[CV] subsample=0.8, n_estimators=1000, min_child_weight=10, max_depth=6, learning_rate=0.02, gamma=1, colsample_bytree=0.6 \n"
     ]
    },
    {
     "name": "stderr",
     "output_type": "stream",
     "text": [
      "/Users/joannaouyang/anaconda3/lib/python3.6/site-packages/sklearn/preprocessing/label.py:151: DeprecationWarning: The truth value of an empty array is ambiguous. Returning False, but in future this will result in an error. Use `array.size > 0` to check that an array is not empty.\n",
      "  if diff:\n"
     ]
    },
    {
     "name": "stdout",
     "output_type": "stream",
     "text": [
      "[CV]  subsample=0.6, n_estimators=1000, min_child_weight=1, max_depth=3, learning_rate=0.03, gamma=5, colsample_bytree=0.6, total=20.4min\n",
      "[CV] subsample=0.8, n_estimators=1000, min_child_weight=10, max_depth=6, learning_rate=0.02, gamma=1, colsample_bytree=0.6 \n"
     ]
    },
    {
     "name": "stderr",
     "output_type": "stream",
     "text": [
      "/Users/joannaouyang/anaconda3/lib/python3.6/site-packages/sklearn/preprocessing/label.py:151: DeprecationWarning: The truth value of an empty array is ambiguous. Returning False, but in future this will result in an error. Use `array.size > 0` to check that an array is not empty.\n",
      "  if diff:\n"
     ]
    },
    {
     "name": "stdout",
     "output_type": "stream",
     "text": [
      "[CV]  subsample=0.6, n_estimators=1000, min_child_weight=1, max_depth=3, learning_rate=0.03, gamma=5, colsample_bytree=0.6, total=20.5min\n",
      "[CV] subsample=0.6, n_estimators=1000, min_child_weight=5, max_depth=5, learning_rate=0.01, gamma=1, colsample_bytree=0.9 \n"
     ]
    },
    {
     "name": "stderr",
     "output_type": "stream",
     "text": [
      "/Users/joannaouyang/anaconda3/lib/python3.6/site-packages/sklearn/preprocessing/label.py:151: DeprecationWarning: The truth value of an empty array is ambiguous. Returning False, but in future this will result in an error. Use `array.size > 0` to check that an array is not empty.\n",
      "  if diff:\n",
      "/Users/joannaouyang/anaconda3/lib/python3.6/site-packages/sklearn/preprocessing/label.py:151: DeprecationWarning: The truth value of an empty array is ambiguous. Returning False, but in future this will result in an error. Use `array.size > 0` to check that an array is not empty.\n",
      "  if diff:\n"
     ]
    },
    {
     "name": "stdout",
     "output_type": "stream",
     "text": [
      "[CV]  subsample=0.8, n_estimators=1000, min_child_weight=10, max_depth=6, learning_rate=0.02, gamma=1, colsample_bytree=0.6, total=42.0min\n",
      "[CV] subsample=0.6, n_estimators=1000, min_child_weight=5, max_depth=5, learning_rate=0.01, gamma=1, colsample_bytree=0.9 \n"
     ]
    },
    {
     "name": "stderr",
     "output_type": "stream",
     "text": [
      "/Users/joannaouyang/anaconda3/lib/python3.6/site-packages/sklearn/preprocessing/label.py:151: DeprecationWarning: The truth value of an empty array is ambiguous. Returning False, but in future this will result in an error. Use `array.size > 0` to check that an array is not empty.\n",
      "  if diff:\n",
      "/Users/joannaouyang/anaconda3/lib/python3.6/site-packages/sklearn/preprocessing/label.py:151: DeprecationWarning: The truth value of an empty array is ambiguous. Returning False, but in future this will result in an error. Use `array.size > 0` to check that an array is not empty.\n",
      "  if diff:\n",
      "/Users/joannaouyang/anaconda3/lib/python3.6/site-packages/sklearn/preprocessing/label.py:151: DeprecationWarning: The truth value of an empty array is ambiguous. Returning False, but in future this will result in an error. Use `array.size > 0` to check that an array is not empty.\n",
      "  if diff:\n"
     ]
    },
    {
     "name": "stdout",
     "output_type": "stream",
     "text": [
      "[CV]  subsample=0.8, n_estimators=1000, min_child_weight=10, max_depth=6, learning_rate=0.02, gamma=1, colsample_bytree=0.6, total=44.7min\n",
      "[CV] subsample=0.6, n_estimators=1000, min_child_weight=5, max_depth=5, learning_rate=0.01, gamma=1, colsample_bytree=0.9 \n"
     ]
    },
    {
     "name": "stderr",
     "output_type": "stream",
     "text": [
      "/Users/joannaouyang/anaconda3/lib/python3.6/site-packages/sklearn/preprocessing/label.py:151: DeprecationWarning: The truth value of an empty array is ambiguous. Returning False, but in future this will result in an error. Use `array.size > 0` to check that an array is not empty.\n",
      "  if diff:\n"
     ]
    },
    {
     "name": "stdout",
     "output_type": "stream",
     "text": [
      "[CV]  subsample=0.8, n_estimators=1000, min_child_weight=10, max_depth=6, learning_rate=0.02, gamma=1, colsample_bytree=0.6, total=45.0min\n",
      "[CV] subsample=1.0, n_estimators=800, min_child_weight=5, max_depth=3, learning_rate=0.03, gamma=1, colsample_bytree=0.6 \n"
     ]
    },
    {
     "name": "stderr",
     "output_type": "stream",
     "text": [
      "/Users/joannaouyang/anaconda3/lib/python3.6/site-packages/sklearn/preprocessing/label.py:151: DeprecationWarning: The truth value of an empty array is ambiguous. Returning False, but in future this will result in an error. Use `array.size > 0` to check that an array is not empty.\n",
      "  if diff:\n",
      "/Users/joannaouyang/anaconda3/lib/python3.6/site-packages/sklearn/preprocessing/label.py:151: DeprecationWarning: The truth value of an empty array is ambiguous. Returning False, but in future this will result in an error. Use `array.size > 0` to check that an array is not empty.\n",
      "  if diff:\n"
     ]
    },
    {
     "name": "stdout",
     "output_type": "stream",
     "text": [
      "[CV]  subsample=0.6, n_estimators=1000, min_child_weight=5, max_depth=5, learning_rate=0.01, gamma=1, colsample_bytree=0.9, total=52.3min\n",
      "[CV] subsample=1.0, n_estimators=800, min_child_weight=5, max_depth=3, learning_rate=0.03, gamma=1, colsample_bytree=0.6 \n"
     ]
    },
    {
     "name": "stderr",
     "output_type": "stream",
     "text": [
      "/Users/joannaouyang/anaconda3/lib/python3.6/site-packages/sklearn/preprocessing/label.py:151: DeprecationWarning: The truth value of an empty array is ambiguous. Returning False, but in future this will result in an error. Use `array.size > 0` to check that an array is not empty.\n",
      "  if diff:\n",
      "/Users/joannaouyang/anaconda3/lib/python3.6/site-packages/sklearn/preprocessing/label.py:151: DeprecationWarning: The truth value of an empty array is ambiguous. Returning False, but in future this will result in an error. Use `array.size > 0` to check that an array is not empty.\n",
      "  if diff:\n"
     ]
    },
    {
     "name": "stdout",
     "output_type": "stream",
     "text": [
      "[CV]  subsample=1.0, n_estimators=800, min_child_weight=5, max_depth=3, learning_rate=0.03, gamma=1, colsample_bytree=0.6, total=19.0min\n",
      "[CV] subsample=1.0, n_estimators=800, min_child_weight=5, max_depth=3, learning_rate=0.03, gamma=1, colsample_bytree=0.6 \n"
     ]
    },
    {
     "name": "stderr",
     "output_type": "stream",
     "text": [
      "/Users/joannaouyang/anaconda3/lib/python3.6/site-packages/sklearn/preprocessing/label.py:151: DeprecationWarning: The truth value of an empty array is ambiguous. Returning False, but in future this will result in an error. Use `array.size > 0` to check that an array is not empty.\n",
      "  if diff:\n",
      "/Users/joannaouyang/anaconda3/lib/python3.6/site-packages/sklearn/preprocessing/label.py:151: DeprecationWarning: The truth value of an empty array is ambiguous. Returning False, but in future this will result in an error. Use `array.size > 0` to check that an array is not empty.\n",
      "  if diff:\n"
     ]
    },
    {
     "name": "stdout",
     "output_type": "stream",
     "text": [
      "[CV]  subsample=1.0, n_estimators=800, min_child_weight=5, max_depth=3, learning_rate=0.03, gamma=1, colsample_bytree=0.6, total=19.2min\n",
      "[CV] subsample=0.6, n_estimators=500, min_child_weight=10, max_depth=4, learning_rate=0.01, gamma=1, colsample_bytree=0.4 \n"
     ]
    },
    {
     "name": "stderr",
     "output_type": "stream",
     "text": [
      "/Users/joannaouyang/anaconda3/lib/python3.6/site-packages/sklearn/preprocessing/label.py:151: DeprecationWarning: The truth value of an empty array is ambiguous. Returning False, but in future this will result in an error. Use `array.size > 0` to check that an array is not empty.\n",
      "  if diff:\n",
      "/Users/joannaouyang/anaconda3/lib/python3.6/site-packages/sklearn/preprocessing/label.py:151: DeprecationWarning: The truth value of an empty array is ambiguous. Returning False, but in future this will result in an error. Use `array.size > 0` to check that an array is not empty.\n",
      "  if diff:\n"
     ]
    },
    {
     "name": "stdout",
     "output_type": "stream",
     "text": [
      "[CV]  subsample=0.6, n_estimators=1000, min_child_weight=5, max_depth=5, learning_rate=0.01, gamma=1, colsample_bytree=0.9, total=55.0min\n",
      "[CV] subsample=0.6, n_estimators=500, min_child_weight=10, max_depth=4, learning_rate=0.01, gamma=1, colsample_bytree=0.4 \n"
     ]
    },
    {
     "name": "stderr",
     "output_type": "stream",
     "text": [
      "/Users/joannaouyang/anaconda3/lib/python3.6/site-packages/sklearn/preprocessing/label.py:151: DeprecationWarning: The truth value of an empty array is ambiguous. Returning False, but in future this will result in an error. Use `array.size > 0` to check that an array is not empty.\n",
      "  if diff:\n",
      "/Users/joannaouyang/anaconda3/lib/python3.6/site-packages/sklearn/preprocessing/label.py:151: DeprecationWarning: The truth value of an empty array is ambiguous. Returning False, but in future this will result in an error. Use `array.size > 0` to check that an array is not empty.\n",
      "  if diff:\n"
     ]
    },
    {
     "name": "stdout",
     "output_type": "stream",
     "text": [
      "[CV]  subsample=0.6, n_estimators=500, min_child_weight=10, max_depth=4, learning_rate=0.01, gamma=1, colsample_bytree=0.4, total=11.9min\n",
      "[CV] subsample=0.6, n_estimators=500, min_child_weight=10, max_depth=4, learning_rate=0.01, gamma=1, colsample_bytree=0.4 \n"
     ]
    },
    {
     "name": "stderr",
     "output_type": "stream",
     "text": [
      "/Users/joannaouyang/anaconda3/lib/python3.6/site-packages/sklearn/preprocessing/label.py:151: DeprecationWarning: The truth value of an empty array is ambiguous. Returning False, but in future this will result in an error. Use `array.size > 0` to check that an array is not empty.\n",
      "  if diff:\n",
      "/Users/joannaouyang/anaconda3/lib/python3.6/site-packages/sklearn/preprocessing/label.py:151: DeprecationWarning: The truth value of an empty array is ambiguous. Returning False, but in future this will result in an error. Use `array.size > 0` to check that an array is not empty.\n",
      "  if diff:\n"
     ]
    },
    {
     "name": "stdout",
     "output_type": "stream",
     "text": [
      "[CV]  subsample=1.0, n_estimators=800, min_child_weight=5, max_depth=3, learning_rate=0.03, gamma=1, colsample_bytree=0.6, total=19.5min\n",
      "[CV] subsample=1.0, n_estimators=1000, min_child_weight=10, max_depth=4, learning_rate=0.03, gamma=5, colsample_bytree=0.4 \n"
     ]
    },
    {
     "name": "stderr",
     "output_type": "stream",
     "text": [
      "/Users/joannaouyang/anaconda3/lib/python3.6/site-packages/sklearn/preprocessing/label.py:151: DeprecationWarning: The truth value of an empty array is ambiguous. Returning False, but in future this will result in an error. Use `array.size > 0` to check that an array is not empty.\n",
      "  if diff:\n",
      "/Users/joannaouyang/anaconda3/lib/python3.6/site-packages/sklearn/preprocessing/label.py:151: DeprecationWarning: The truth value of an empty array is ambiguous. Returning False, but in future this will result in an error. Use `array.size > 0` to check that an array is not empty.\n",
      "  if diff:\n"
     ]
    },
    {
     "name": "stdout",
     "output_type": "stream",
     "text": [
      "[CV]  subsample=0.6, n_estimators=500, min_child_weight=10, max_depth=4, learning_rate=0.01, gamma=1, colsample_bytree=0.4, total=11.5min\n",
      "[CV] subsample=1.0, n_estimators=1000, min_child_weight=10, max_depth=4, learning_rate=0.03, gamma=5, colsample_bytree=0.4 \n"
     ]
    },
    {
     "name": "stderr",
     "output_type": "stream",
     "text": [
      "/Users/joannaouyang/anaconda3/lib/python3.6/site-packages/sklearn/preprocessing/label.py:151: DeprecationWarning: The truth value of an empty array is ambiguous. Returning False, but in future this will result in an error. Use `array.size > 0` to check that an array is not empty.\n",
      "  if diff:\n",
      "/Users/joannaouyang/anaconda3/lib/python3.6/site-packages/sklearn/preprocessing/label.py:151: DeprecationWarning: The truth value of an empty array is ambiguous. Returning False, but in future this will result in an error. Use `array.size > 0` to check that an array is not empty.\n",
      "  if diff:\n"
     ]
    },
    {
     "name": "stdout",
     "output_type": "stream",
     "text": [
      "[CV]  subsample=0.6, n_estimators=500, min_child_weight=10, max_depth=4, learning_rate=0.01, gamma=1, colsample_bytree=0.4, total=11.9min\n",
      "[CV] subsample=1.0, n_estimators=1000, min_child_weight=10, max_depth=4, learning_rate=0.03, gamma=5, colsample_bytree=0.4 \n"
     ]
    },
    {
     "name": "stderr",
     "output_type": "stream",
     "text": [
      "/Users/joannaouyang/anaconda3/lib/python3.6/site-packages/sklearn/preprocessing/label.py:151: DeprecationWarning: The truth value of an empty array is ambiguous. Returning False, but in future this will result in an error. Use `array.size > 0` to check that an array is not empty.\n",
      "  if diff:\n",
      "/Users/joannaouyang/anaconda3/lib/python3.6/site-packages/sklearn/preprocessing/label.py:151: DeprecationWarning: The truth value of an empty array is ambiguous. Returning False, but in future this will result in an error. Use `array.size > 0` to check that an array is not empty.\n",
      "  if diff:\n"
     ]
    },
    {
     "name": "stdout",
     "output_type": "stream",
     "text": [
      "[CV]  subsample=0.6, n_estimators=1000, min_child_weight=5, max_depth=5, learning_rate=0.01, gamma=1, colsample_bytree=0.9, total=56.4min\n",
      "[CV] subsample=0.6, n_estimators=500, min_child_weight=5, max_depth=3, learning_rate=0.01, gamma=1, colsample_bytree=0.6 \n"
     ]
    },
    {
     "name": "stderr",
     "output_type": "stream",
     "text": [
      "/Users/joannaouyang/anaconda3/lib/python3.6/site-packages/sklearn/preprocessing/label.py:151: DeprecationWarning: The truth value of an empty array is ambiguous. Returning False, but in future this will result in an error. Use `array.size > 0` to check that an array is not empty.\n",
      "  if diff:\n",
      "/Users/joannaouyang/anaconda3/lib/python3.6/site-packages/sklearn/preprocessing/label.py:151: DeprecationWarning: The truth value of an empty array is ambiguous. Returning False, but in future this will result in an error. Use `array.size > 0` to check that an array is not empty.\n",
      "  if diff:\n"
     ]
    },
    {
     "name": "stdout",
     "output_type": "stream",
     "text": [
      "[CV]  subsample=1.0, n_estimators=1000, min_child_weight=10, max_depth=4, learning_rate=0.03, gamma=5, colsample_bytree=0.4, total=25.3min\n",
      "[CV] subsample=0.6, n_estimators=500, min_child_weight=5, max_depth=3, learning_rate=0.01, gamma=1, colsample_bytree=0.6 \n"
     ]
    },
    {
     "name": "stderr",
     "output_type": "stream",
     "text": [
      "/Users/joannaouyang/anaconda3/lib/python3.6/site-packages/sklearn/preprocessing/label.py:151: DeprecationWarning: The truth value of an empty array is ambiguous. Returning False, but in future this will result in an error. Use `array.size > 0` to check that an array is not empty.\n",
      "  if diff:\n",
      "/Users/joannaouyang/anaconda3/lib/python3.6/site-packages/sklearn/preprocessing/label.py:151: DeprecationWarning: The truth value of an empty array is ambiguous. Returning False, but in future this will result in an error. Use `array.size > 0` to check that an array is not empty.\n",
      "  if diff:\n",
      "/Users/joannaouyang/anaconda3/lib/python3.6/site-packages/sklearn/preprocessing/label.py:151: DeprecationWarning: The truth value of an empty array is ambiguous. Returning False, but in future this will result in an error. Use `array.size > 0` to check that an array is not empty.\n",
      "  if diff:\n"
     ]
    },
    {
     "name": "stdout",
     "output_type": "stream",
     "text": [
      "[CV]  subsample=0.6, n_estimators=500, min_child_weight=5, max_depth=3, learning_rate=0.01, gamma=1, colsample_bytree=0.6, total=14.9min\n",
      "[CV] subsample=0.6, n_estimators=500, min_child_weight=5, max_depth=3, learning_rate=0.01, gamma=1, colsample_bytree=0.6 \n"
     ]
    },
    {
     "name": "stderr",
     "output_type": "stream",
     "text": [
      "/Users/joannaouyang/anaconda3/lib/python3.6/site-packages/sklearn/preprocessing/label.py:151: DeprecationWarning: The truth value of an empty array is ambiguous. Returning False, but in future this will result in an error. Use `array.size > 0` to check that an array is not empty.\n",
      "  if diff:\n"
     ]
    },
    {
     "name": "stdout",
     "output_type": "stream",
     "text": [
      "[CV]  subsample=1.0, n_estimators=1000, min_child_weight=10, max_depth=4, learning_rate=0.03, gamma=5, colsample_bytree=0.4, total=26.6min\n",
      "[CV] subsample=1.0, n_estimators=500, min_child_weight=1, max_depth=3, learning_rate=0.03, gamma=5, colsample_bytree=0.9 \n"
     ]
    },
    {
     "name": "stderr",
     "output_type": "stream",
     "text": [
      "/Users/joannaouyang/anaconda3/lib/python3.6/site-packages/sklearn/preprocessing/label.py:151: DeprecationWarning: The truth value of an empty array is ambiguous. Returning False, but in future this will result in an error. Use `array.size > 0` to check that an array is not empty.\n",
      "  if diff:\n",
      "/Users/joannaouyang/anaconda3/lib/python3.6/site-packages/sklearn/preprocessing/label.py:151: DeprecationWarning: The truth value of an empty array is ambiguous. Returning False, but in future this will result in an error. Use `array.size > 0` to check that an array is not empty.\n",
      "  if diff:\n"
     ]
    },
    {
     "name": "stdout",
     "output_type": "stream",
     "text": [
      "[CV]  subsample=1.0, n_estimators=1000, min_child_weight=10, max_depth=4, learning_rate=0.03, gamma=5, colsample_bytree=0.4, total=27.8min\n",
      "[CV] subsample=1.0, n_estimators=500, min_child_weight=1, max_depth=3, learning_rate=0.03, gamma=5, colsample_bytree=0.9 \n"
     ]
    },
    {
     "name": "stderr",
     "output_type": "stream",
     "text": [
      "/Users/joannaouyang/anaconda3/lib/python3.6/site-packages/sklearn/preprocessing/label.py:151: DeprecationWarning: The truth value of an empty array is ambiguous. Returning False, but in future this will result in an error. Use `array.size > 0` to check that an array is not empty.\n",
      "  if diff:\n",
      "/Users/joannaouyang/anaconda3/lib/python3.6/site-packages/sklearn/preprocessing/label.py:151: DeprecationWarning: The truth value of an empty array is ambiguous. Returning False, but in future this will result in an error. Use `array.size > 0` to check that an array is not empty.\n",
      "  if diff:\n"
     ]
    },
    {
     "name": "stdout",
     "output_type": "stream",
     "text": [
      "[CV]  subsample=0.6, n_estimators=500, min_child_weight=5, max_depth=3, learning_rate=0.01, gamma=1, colsample_bytree=0.6, total=14.9min\n",
      "[CV] subsample=1.0, n_estimators=500, min_child_weight=1, max_depth=3, learning_rate=0.03, gamma=5, colsample_bytree=0.9 \n"
     ]
    },
    {
     "name": "stderr",
     "output_type": "stream",
     "text": [
      "/Users/joannaouyang/anaconda3/lib/python3.6/site-packages/sklearn/preprocessing/label.py:151: DeprecationWarning: The truth value of an empty array is ambiguous. Returning False, but in future this will result in an error. Use `array.size > 0` to check that an array is not empty.\n",
      "  if diff:\n",
      "/Users/joannaouyang/anaconda3/lib/python3.6/site-packages/sklearn/preprocessing/label.py:151: DeprecationWarning: The truth value of an empty array is ambiguous. Returning False, but in future this will result in an error. Use `array.size > 0` to check that an array is not empty.\n",
      "  if diff:\n"
     ]
    },
    {
     "name": "stdout",
     "output_type": "stream",
     "text": [
      "[CV]  subsample=0.6, n_estimators=500, min_child_weight=5, max_depth=3, learning_rate=0.01, gamma=1, colsample_bytree=0.6, total=14.7min\n",
      "[CV] subsample=0.6, n_estimators=1000, min_child_weight=5, max_depth=4, learning_rate=0.03, gamma=1, colsample_bytree=0.8 \n"
     ]
    },
    {
     "name": "stderr",
     "output_type": "stream",
     "text": [
      "/Users/joannaouyang/anaconda3/lib/python3.6/site-packages/sklearn/preprocessing/label.py:151: DeprecationWarning: The truth value of an empty array is ambiguous. Returning False, but in future this will result in an error. Use `array.size > 0` to check that an array is not empty.\n",
      "  if diff:\n",
      "/Users/joannaouyang/anaconda3/lib/python3.6/site-packages/sklearn/preprocessing/label.py:151: DeprecationWarning: The truth value of an empty array is ambiguous. Returning False, but in future this will result in an error. Use `array.size > 0` to check that an array is not empty.\n",
      "  if diff:\n"
     ]
    },
    {
     "name": "stdout",
     "output_type": "stream",
     "text": [
      "[CV]  subsample=1.0, n_estimators=500, min_child_weight=1, max_depth=3, learning_rate=0.03, gamma=5, colsample_bytree=0.9, total=19.4min\n",
      "[CV] subsample=0.6, n_estimators=1000, min_child_weight=5, max_depth=4, learning_rate=0.03, gamma=1, colsample_bytree=0.8 \n"
     ]
    },
    {
     "name": "stderr",
     "output_type": "stream",
     "text": [
      "/Users/joannaouyang/anaconda3/lib/python3.6/site-packages/sklearn/preprocessing/label.py:151: DeprecationWarning: The truth value of an empty array is ambiguous. Returning False, but in future this will result in an error. Use `array.size > 0` to check that an array is not empty.\n",
      "  if diff:\n",
      "/Users/joannaouyang/anaconda3/lib/python3.6/site-packages/sklearn/preprocessing/label.py:151: DeprecationWarning: The truth value of an empty array is ambiguous. Returning False, but in future this will result in an error. Use `array.size > 0` to check that an array is not empty.\n",
      "  if diff:\n"
     ]
    },
    {
     "name": "stdout",
     "output_type": "stream",
     "text": [
      "[CV]  subsample=1.0, n_estimators=500, min_child_weight=1, max_depth=3, learning_rate=0.03, gamma=5, colsample_bytree=0.9, total=17.5min\n",
      "[CV] subsample=0.6, n_estimators=1000, min_child_weight=5, max_depth=4, learning_rate=0.03, gamma=1, colsample_bytree=0.8 \n"
     ]
    },
    {
     "name": "stderr",
     "output_type": "stream",
     "text": [
      "/Users/joannaouyang/anaconda3/lib/python3.6/site-packages/sklearn/preprocessing/label.py:151: DeprecationWarning: The truth value of an empty array is ambiguous. Returning False, but in future this will result in an error. Use `array.size > 0` to check that an array is not empty.\n",
      "  if diff:\n",
      "/Users/joannaouyang/anaconda3/lib/python3.6/site-packages/sklearn/preprocessing/label.py:151: DeprecationWarning: The truth value of an empty array is ambiguous. Returning False, but in future this will result in an error. Use `array.size > 0` to check that an array is not empty.\n",
      "  if diff:\n"
     ]
    },
    {
     "name": "stdout",
     "output_type": "stream",
     "text": [
      "[CV]  subsample=1.0, n_estimators=500, min_child_weight=1, max_depth=3, learning_rate=0.03, gamma=5, colsample_bytree=0.9, total=17.1min\n",
      "[CV] subsample=1.0, n_estimators=80, min_child_weight=5, max_depth=6, learning_rate=0.02, gamma=1, colsample_bytree=0.9 \n"
     ]
    },
    {
     "name": "stderr",
     "output_type": "stream",
     "text": [
      "/Users/joannaouyang/anaconda3/lib/python3.6/site-packages/sklearn/preprocessing/label.py:151: DeprecationWarning: The truth value of an empty array is ambiguous. Returning False, but in future this will result in an error. Use `array.size > 0` to check that an array is not empty.\n",
      "  if diff:\n",
      "/Users/joannaouyang/anaconda3/lib/python3.6/site-packages/sklearn/preprocessing/label.py:151: DeprecationWarning: The truth value of an empty array is ambiguous. Returning False, but in future this will result in an error. Use `array.size > 0` to check that an array is not empty.\n",
      "  if diff:\n"
     ]
    },
    {
     "name": "stdout",
     "output_type": "stream",
     "text": [
      "[CV]  subsample=1.0, n_estimators=80, min_child_weight=5, max_depth=6, learning_rate=0.02, gamma=1, colsample_bytree=0.9, total= 4.8min\n",
      "[CV] subsample=1.0, n_estimators=80, min_child_weight=5, max_depth=6, learning_rate=0.02, gamma=1, colsample_bytree=0.9 \n"
     ]
    },
    {
     "name": "stderr",
     "output_type": "stream",
     "text": [
      "/Users/joannaouyang/anaconda3/lib/python3.6/site-packages/sklearn/preprocessing/label.py:151: DeprecationWarning: The truth value of an empty array is ambiguous. Returning False, but in future this will result in an error. Use `array.size > 0` to check that an array is not empty.\n",
      "  if diff:\n",
      "/Users/joannaouyang/anaconda3/lib/python3.6/site-packages/sklearn/preprocessing/label.py:151: DeprecationWarning: The truth value of an empty array is ambiguous. Returning False, but in future this will result in an error. Use `array.size > 0` to check that an array is not empty.\n",
      "  if diff:\n"
     ]
    },
    {
     "name": "stdout",
     "output_type": "stream",
     "text": [
      "[CV]  subsample=1.0, n_estimators=80, min_child_weight=5, max_depth=6, learning_rate=0.02, gamma=1, colsample_bytree=0.9, total= 4.8min\n",
      "[CV] subsample=1.0, n_estimators=80, min_child_weight=5, max_depth=6, learning_rate=0.02, gamma=1, colsample_bytree=0.9 \n"
     ]
    },
    {
     "name": "stderr",
     "output_type": "stream",
     "text": [
      "/Users/joannaouyang/anaconda3/lib/python3.6/site-packages/sklearn/preprocessing/label.py:151: DeprecationWarning: The truth value of an empty array is ambiguous. Returning False, but in future this will result in an error. Use `array.size > 0` to check that an array is not empty.\n",
      "  if diff:\n",
      "/Users/joannaouyang/anaconda3/lib/python3.6/site-packages/sklearn/preprocessing/label.py:151: DeprecationWarning: The truth value of an empty array is ambiguous. Returning False, but in future this will result in an error. Use `array.size > 0` to check that an array is not empty.\n",
      "  if diff:\n"
     ]
    },
    {
     "name": "stdout",
     "output_type": "stream",
     "text": [
      "[CV]  subsample=1.0, n_estimators=80, min_child_weight=5, max_depth=6, learning_rate=0.02, gamma=1, colsample_bytree=0.9, total= 4.7min\n",
      "[CV] subsample=1.0, n_estimators=100, min_child_weight=1, max_depth=5, learning_rate=0.03, gamma=0, colsample_bytree=0.4 \n"
     ]
    },
    {
     "name": "stderr",
     "output_type": "stream",
     "text": [
      "/Users/joannaouyang/anaconda3/lib/python3.6/site-packages/sklearn/preprocessing/label.py:151: DeprecationWarning: The truth value of an empty array is ambiguous. Returning False, but in future this will result in an error. Use `array.size > 0` to check that an array is not empty.\n",
      "  if diff:\n",
      "/Users/joannaouyang/anaconda3/lib/python3.6/site-packages/sklearn/preprocessing/label.py:151: DeprecationWarning: The truth value of an empty array is ambiguous. Returning False, but in future this will result in an error. Use `array.size > 0` to check that an array is not empty.\n",
      "  if diff:\n"
     ]
    },
    {
     "name": "stdout",
     "output_type": "stream",
     "text": [
      "[CV]  subsample=1.0, n_estimators=100, min_child_weight=1, max_depth=5, learning_rate=0.03, gamma=0, colsample_bytree=0.4, total= 2.6min\n",
      "[CV] subsample=1.0, n_estimators=100, min_child_weight=1, max_depth=5, learning_rate=0.03, gamma=0, colsample_bytree=0.4 \n"
     ]
    },
    {
     "name": "stderr",
     "output_type": "stream",
     "text": [
      "/Users/joannaouyang/anaconda3/lib/python3.6/site-packages/sklearn/preprocessing/label.py:151: DeprecationWarning: The truth value of an empty array is ambiguous. Returning False, but in future this will result in an error. Use `array.size > 0` to check that an array is not empty.\n",
      "  if diff:\n",
      "/Users/joannaouyang/anaconda3/lib/python3.6/site-packages/sklearn/preprocessing/label.py:151: DeprecationWarning: The truth value of an empty array is ambiguous. Returning False, but in future this will result in an error. Use `array.size > 0` to check that an array is not empty.\n",
      "  if diff:\n"
     ]
    },
    {
     "name": "stdout",
     "output_type": "stream",
     "text": [
      "[CV]  subsample=1.0, n_estimators=100, min_child_weight=1, max_depth=5, learning_rate=0.03, gamma=0, colsample_bytree=0.4, total= 2.5min\n",
      "[CV] subsample=1.0, n_estimators=100, min_child_weight=1, max_depth=5, learning_rate=0.03, gamma=0, colsample_bytree=0.4 \n"
     ]
    },
    {
     "name": "stderr",
     "output_type": "stream",
     "text": [
      "/Users/joannaouyang/anaconda3/lib/python3.6/site-packages/sklearn/preprocessing/label.py:151: DeprecationWarning: The truth value of an empty array is ambiguous. Returning False, but in future this will result in an error. Use `array.size > 0` to check that an array is not empty.\n",
      "  if diff:\n",
      "/Users/joannaouyang/anaconda3/lib/python3.6/site-packages/sklearn/preprocessing/label.py:151: DeprecationWarning: The truth value of an empty array is ambiguous. Returning False, but in future this will result in an error. Use `array.size > 0` to check that an array is not empty.\n",
      "  if diff:\n"
     ]
    },
    {
     "name": "stdout",
     "output_type": "stream",
     "text": [
      "[CV]  subsample=1.0, n_estimators=100, min_child_weight=1, max_depth=5, learning_rate=0.03, gamma=0, colsample_bytree=0.4, total= 2.6min\n",
      "[CV] subsample=0.8, n_estimators=800, min_child_weight=5, max_depth=3, learning_rate=0.03, gamma=5, colsample_bytree=0.8 \n"
     ]
    },
    {
     "name": "stderr",
     "output_type": "stream",
     "text": [
      "/Users/joannaouyang/anaconda3/lib/python3.6/site-packages/sklearn/preprocessing/label.py:151: DeprecationWarning: The truth value of an empty array is ambiguous. Returning False, but in future this will result in an error. Use `array.size > 0` to check that an array is not empty.\n",
      "  if diff:\n",
      "/Users/joannaouyang/anaconda3/lib/python3.6/site-packages/sklearn/preprocessing/label.py:151: DeprecationWarning: The truth value of an empty array is ambiguous. Returning False, but in future this will result in an error. Use `array.size > 0` to check that an array is not empty.\n",
      "  if diff:\n"
     ]
    },
    {
     "name": "stdout",
     "output_type": "stream",
     "text": [
      "[CV]  subsample=0.6, n_estimators=1000, min_child_weight=5, max_depth=4, learning_rate=0.03, gamma=1, colsample_bytree=0.8, total=35.3min\n",
      "[CV] subsample=0.8, n_estimators=800, min_child_weight=5, max_depth=3, learning_rate=0.03, gamma=5, colsample_bytree=0.8 \n"
     ]
    },
    {
     "name": "stderr",
     "output_type": "stream",
     "text": [
      "/Users/joannaouyang/anaconda3/lib/python3.6/site-packages/sklearn/preprocessing/label.py:151: DeprecationWarning: The truth value of an empty array is ambiguous. Returning False, but in future this will result in an error. Use `array.size > 0` to check that an array is not empty.\n",
      "  if diff:\n",
      "/Users/joannaouyang/anaconda3/lib/python3.6/site-packages/sklearn/preprocessing/label.py:151: DeprecationWarning: The truth value of an empty array is ambiguous. Returning False, but in future this will result in an error. Use `array.size > 0` to check that an array is not empty.\n",
      "  if diff:\n"
     ]
    },
    {
     "name": "stdout",
     "output_type": "stream",
     "text": [
      "[CV]  subsample=0.6, n_estimators=1000, min_child_weight=5, max_depth=4, learning_rate=0.03, gamma=1, colsample_bytree=0.8, total=34.6min\n",
      "[CV] subsample=0.8, n_estimators=800, min_child_weight=5, max_depth=3, learning_rate=0.03, gamma=5, colsample_bytree=0.8 \n"
     ]
    },
    {
     "name": "stderr",
     "output_type": "stream",
     "text": [
      "/Users/joannaouyang/anaconda3/lib/python3.6/site-packages/sklearn/preprocessing/label.py:151: DeprecationWarning: The truth value of an empty array is ambiguous. Returning False, but in future this will result in an error. Use `array.size > 0` to check that an array is not empty.\n",
      "  if diff:\n",
      "/Users/joannaouyang/anaconda3/lib/python3.6/site-packages/sklearn/preprocessing/label.py:151: DeprecationWarning: The truth value of an empty array is ambiguous. Returning False, but in future this will result in an error. Use `array.size > 0` to check that an array is not empty.\n",
      "  if diff:\n"
     ]
    },
    {
     "name": "stdout",
     "output_type": "stream",
     "text": [
      "[CV]  subsample=0.6, n_estimators=1000, min_child_weight=5, max_depth=4, learning_rate=0.03, gamma=1, colsample_bytree=0.8, total=34.4min\n",
      "[CV] subsample=0.8, n_estimators=800, min_child_weight=5, max_depth=4, learning_rate=0.03, gamma=5, colsample_bytree=0.4 \n"
     ]
    },
    {
     "name": "stderr",
     "output_type": "stream",
     "text": [
      "/Users/joannaouyang/anaconda3/lib/python3.6/site-packages/sklearn/preprocessing/label.py:151: DeprecationWarning: The truth value of an empty array is ambiguous. Returning False, but in future this will result in an error. Use `array.size > 0` to check that an array is not empty.\n",
      "  if diff:\n",
      "/Users/joannaouyang/anaconda3/lib/python3.6/site-packages/sklearn/preprocessing/label.py:151: DeprecationWarning: The truth value of an empty array is ambiguous. Returning False, but in future this will result in an error. Use `array.size > 0` to check that an array is not empty.\n",
      "  if diff:\n"
     ]
    },
    {
     "name": "stdout",
     "output_type": "stream",
     "text": [
      "[CV]  subsample=0.8, n_estimators=800, min_child_weight=5, max_depth=3, learning_rate=0.03, gamma=5, colsample_bytree=0.8, total=20.7min\n",
      "[CV] subsample=0.8, n_estimators=800, min_child_weight=5, max_depth=4, learning_rate=0.03, gamma=5, colsample_bytree=0.4 \n"
     ]
    },
    {
     "name": "stderr",
     "output_type": "stream",
     "text": [
      "/Users/joannaouyang/anaconda3/lib/python3.6/site-packages/sklearn/preprocessing/label.py:151: DeprecationWarning: The truth value of an empty array is ambiguous. Returning False, but in future this will result in an error. Use `array.size > 0` to check that an array is not empty.\n",
      "  if diff:\n",
      "/Users/joannaouyang/anaconda3/lib/python3.6/site-packages/sklearn/preprocessing/label.py:151: DeprecationWarning: The truth value of an empty array is ambiguous. Returning False, but in future this will result in an error. Use `array.size > 0` to check that an array is not empty.\n",
      "  if diff:\n"
     ]
    },
    {
     "name": "stdout",
     "output_type": "stream",
     "text": [
      "[CV]  subsample=0.8, n_estimators=800, min_child_weight=5, max_depth=3, learning_rate=0.03, gamma=5, colsample_bytree=0.8, total=20.5min\n",
      "[CV] subsample=0.8, n_estimators=800, min_child_weight=5, max_depth=4, learning_rate=0.03, gamma=5, colsample_bytree=0.4 \n"
     ]
    },
    {
     "name": "stderr",
     "output_type": "stream",
     "text": [
      "/Users/joannaouyang/anaconda3/lib/python3.6/site-packages/sklearn/preprocessing/label.py:151: DeprecationWarning: The truth value of an empty array is ambiguous. Returning False, but in future this will result in an error. Use `array.size > 0` to check that an array is not empty.\n",
      "  if diff:\n",
      "/Users/joannaouyang/anaconda3/lib/python3.6/site-packages/sklearn/preprocessing/label.py:151: DeprecationWarning: The truth value of an empty array is ambiguous. Returning False, but in future this will result in an error. Use `array.size > 0` to check that an array is not empty.\n",
      "  if diff:\n",
      "/Users/joannaouyang/anaconda3/lib/python3.6/site-packages/sklearn/preprocessing/label.py:151: DeprecationWarning: The truth value of an empty array is ambiguous. Returning False, but in future this will result in an error. Use `array.size > 0` to check that an array is not empty.\n",
      "  if diff:\n"
     ]
    },
    {
     "name": "stdout",
     "output_type": "stream",
     "text": [
      "[CV]  subsample=0.8, n_estimators=800, min_child_weight=5, max_depth=3, learning_rate=0.03, gamma=5, colsample_bytree=0.8, total=20.7min\n",
      "[CV] subsample=1.0, n_estimators=1000, min_child_weight=1, max_depth=4, learning_rate=0.02, gamma=0, colsample_bytree=0.4 \n"
     ]
    },
    {
     "name": "stderr",
     "output_type": "stream",
     "text": [
      "/Users/joannaouyang/anaconda3/lib/python3.6/site-packages/sklearn/preprocessing/label.py:151: DeprecationWarning: The truth value of an empty array is ambiguous. Returning False, but in future this will result in an error. Use `array.size > 0` to check that an array is not empty.\n",
      "  if diff:\n"
     ]
    },
    {
     "name": "stdout",
     "output_type": "stream",
     "text": [
      "[CV]  subsample=0.8, n_estimators=800, min_child_weight=5, max_depth=4, learning_rate=0.03, gamma=5, colsample_bytree=0.4, total=15.7min\n",
      "[CV] subsample=1.0, n_estimators=1000, min_child_weight=1, max_depth=4, learning_rate=0.02, gamma=0, colsample_bytree=0.4 \n"
     ]
    },
    {
     "name": "stderr",
     "output_type": "stream",
     "text": [
      "/Users/joannaouyang/anaconda3/lib/python3.6/site-packages/sklearn/preprocessing/label.py:151: DeprecationWarning: The truth value of an empty array is ambiguous. Returning False, but in future this will result in an error. Use `array.size > 0` to check that an array is not empty.\n",
      "  if diff:\n",
      "/Users/joannaouyang/anaconda3/lib/python3.6/site-packages/sklearn/preprocessing/label.py:151: DeprecationWarning: The truth value of an empty array is ambiguous. Returning False, but in future this will result in an error. Use `array.size > 0` to check that an array is not empty.\n",
      "  if diff:\n"
     ]
    },
    {
     "name": "stdout",
     "output_type": "stream",
     "text": [
      "[CV]  subsample=0.8, n_estimators=800, min_child_weight=5, max_depth=4, learning_rate=0.03, gamma=5, colsample_bytree=0.4, total=16.3min\n",
      "[CV] subsample=1.0, n_estimators=1000, min_child_weight=1, max_depth=4, learning_rate=0.02, gamma=0, colsample_bytree=0.4 \n"
     ]
    },
    {
     "name": "stderr",
     "output_type": "stream",
     "text": [
      "/Users/joannaouyang/anaconda3/lib/python3.6/site-packages/sklearn/preprocessing/label.py:151: DeprecationWarning: The truth value of an empty array is ambiguous. Returning False, but in future this will result in an error. Use `array.size > 0` to check that an array is not empty.\n",
      "  if diff:\n",
      "/Users/joannaouyang/anaconda3/lib/python3.6/site-packages/sklearn/preprocessing/label.py:151: DeprecationWarning: The truth value of an empty array is ambiguous. Returning False, but in future this will result in an error. Use `array.size > 0` to check that an array is not empty.\n",
      "  if diff:\n"
     ]
    },
    {
     "name": "stdout",
     "output_type": "stream",
     "text": [
      "[CV]  subsample=0.8, n_estimators=800, min_child_weight=5, max_depth=4, learning_rate=0.03, gamma=5, colsample_bytree=0.4, total=16.4min\n",
      "[CV] subsample=0.6, n_estimators=100, min_child_weight=1, max_depth=6, learning_rate=0.02, gamma=1, colsample_bytree=0.9 \n"
     ]
    },
    {
     "name": "stderr",
     "output_type": "stream",
     "text": [
      "/Users/joannaouyang/anaconda3/lib/python3.6/site-packages/sklearn/preprocessing/label.py:151: DeprecationWarning: The truth value of an empty array is ambiguous. Returning False, but in future this will result in an error. Use `array.size > 0` to check that an array is not empty.\n",
      "  if diff:\n",
      "/Users/joannaouyang/anaconda3/lib/python3.6/site-packages/sklearn/preprocessing/label.py:151: DeprecationWarning: The truth value of an empty array is ambiguous. Returning False, but in future this will result in an error. Use `array.size > 0` to check that an array is not empty.\n",
      "  if diff:\n"
     ]
    },
    {
     "name": "stdout",
     "output_type": "stream",
     "text": [
      "[CV]  subsample=0.6, n_estimators=100, min_child_weight=1, max_depth=6, learning_rate=0.02, gamma=1, colsample_bytree=0.9, total= 5.9min\n",
      "[CV] subsample=0.6, n_estimators=100, min_child_weight=1, max_depth=6, learning_rate=0.02, gamma=1, colsample_bytree=0.9 \n"
     ]
    },
    {
     "name": "stderr",
     "output_type": "stream",
     "text": [
      "/Users/joannaouyang/anaconda3/lib/python3.6/site-packages/sklearn/preprocessing/label.py:151: DeprecationWarning: The truth value of an empty array is ambiguous. Returning False, but in future this will result in an error. Use `array.size > 0` to check that an array is not empty.\n",
      "  if diff:\n",
      "/Users/joannaouyang/anaconda3/lib/python3.6/site-packages/sklearn/preprocessing/label.py:151: DeprecationWarning: The truth value of an empty array is ambiguous. Returning False, but in future this will result in an error. Use `array.size > 0` to check that an array is not empty.\n",
      "  if diff:\n",
      "/Users/joannaouyang/anaconda3/lib/python3.6/site-packages/sklearn/preprocessing/label.py:151: DeprecationWarning: The truth value of an empty array is ambiguous. Returning False, but in future this will result in an error. Use `array.size > 0` to check that an array is not empty.\n",
      "  if diff:\n"
     ]
    },
    {
     "name": "stdout",
     "output_type": "stream",
     "text": [
      "[CV]  subsample=1.0, n_estimators=1000, min_child_weight=1, max_depth=4, learning_rate=0.02, gamma=0, colsample_bytree=0.4, total=19.9min\n",
      "[CV] subsample=0.6, n_estimators=100, min_child_weight=1, max_depth=6, learning_rate=0.02, gamma=1, colsample_bytree=0.9 \n"
     ]
    },
    {
     "name": "stderr",
     "output_type": "stream",
     "text": [
      "/Users/joannaouyang/anaconda3/lib/python3.6/site-packages/sklearn/preprocessing/label.py:151: DeprecationWarning: The truth value of an empty array is ambiguous. Returning False, but in future this will result in an error. Use `array.size > 0` to check that an array is not empty.\n",
      "  if diff:\n"
     ]
    },
    {
     "name": "stdout",
     "output_type": "stream",
     "text": [
      "[CV]  subsample=1.0, n_estimators=1000, min_child_weight=1, max_depth=4, learning_rate=0.02, gamma=0, colsample_bytree=0.4, total=20.1min\n",
      "[CV] subsample=0.8, n_estimators=80, min_child_weight=5, max_depth=6, learning_rate=0.01, gamma=1, colsample_bytree=0.6 \n"
     ]
    },
    {
     "name": "stderr",
     "output_type": "stream",
     "text": [
      "/Users/joannaouyang/anaconda3/lib/python3.6/site-packages/sklearn/preprocessing/label.py:151: DeprecationWarning: The truth value of an empty array is ambiguous. Returning False, but in future this will result in an error. Use `array.size > 0` to check that an array is not empty.\n",
      "  if diff:\n",
      "/Users/joannaouyang/anaconda3/lib/python3.6/site-packages/sklearn/preprocessing/label.py:151: DeprecationWarning: The truth value of an empty array is ambiguous. Returning False, but in future this will result in an error. Use `array.size > 0` to check that an array is not empty.\n",
      "  if diff:\n",
      "/Users/joannaouyang/anaconda3/lib/python3.6/site-packages/sklearn/preprocessing/label.py:151: DeprecationWarning: The truth value of an empty array is ambiguous. Returning False, but in future this will result in an error. Use `array.size > 0` to check that an array is not empty.\n",
      "  if diff:\n"
     ]
    },
    {
     "name": "stdout",
     "output_type": "stream",
     "text": [
      "[CV]  subsample=0.8, n_estimators=80, min_child_weight=5, max_depth=6, learning_rate=0.01, gamma=1, colsample_bytree=0.6, total= 3.4min\n",
      "[CV] subsample=0.8, n_estimators=80, min_child_weight=5, max_depth=6, learning_rate=0.01, gamma=1, colsample_bytree=0.6 \n"
     ]
    },
    {
     "name": "stderr",
     "output_type": "stream",
     "text": [
      "/Users/joannaouyang/anaconda3/lib/python3.6/site-packages/sklearn/preprocessing/label.py:151: DeprecationWarning: The truth value of an empty array is ambiguous. Returning False, but in future this will result in an error. Use `array.size > 0` to check that an array is not empty.\n",
      "  if diff:\n"
     ]
    },
    {
     "name": "stdout",
     "output_type": "stream",
     "text": [
      "[CV]  subsample=0.6, n_estimators=100, min_child_weight=1, max_depth=6, learning_rate=0.02, gamma=1, colsample_bytree=0.9, total= 5.9min\n",
      "[CV] subsample=0.8, n_estimators=80, min_child_weight=5, max_depth=6, learning_rate=0.01, gamma=1, colsample_bytree=0.6 \n"
     ]
    },
    {
     "name": "stderr",
     "output_type": "stream",
     "text": [
      "/Users/joannaouyang/anaconda3/lib/python3.6/site-packages/sklearn/preprocessing/label.py:151: DeprecationWarning: The truth value of an empty array is ambiguous. Returning False, but in future this will result in an error. Use `array.size > 0` to check that an array is not empty.\n",
      "  if diff:\n",
      "/Users/joannaouyang/anaconda3/lib/python3.6/site-packages/sklearn/preprocessing/label.py:151: DeprecationWarning: The truth value of an empty array is ambiguous. Returning False, but in future this will result in an error. Use `array.size > 0` to check that an array is not empty.\n",
      "  if diff:\n"
     ]
    },
    {
     "name": "stdout",
     "output_type": "stream",
     "text": [
      "[CV]  subsample=0.6, n_estimators=100, min_child_weight=1, max_depth=6, learning_rate=0.02, gamma=1, colsample_bytree=0.9, total= 5.9min\n",
      "[CV] subsample=0.8, n_estimators=1000, min_child_weight=10, max_depth=4, learning_rate=0.02, gamma=5, colsample_bytree=0.4 \n"
     ]
    },
    {
     "name": "stderr",
     "output_type": "stream",
     "text": [
      "/Users/joannaouyang/anaconda3/lib/python3.6/site-packages/sklearn/preprocessing/label.py:151: DeprecationWarning: The truth value of an empty array is ambiguous. Returning False, but in future this will result in an error. Use `array.size > 0` to check that an array is not empty.\n",
      "  if diff:\n",
      "/Users/joannaouyang/anaconda3/lib/python3.6/site-packages/sklearn/preprocessing/label.py:151: DeprecationWarning: The truth value of an empty array is ambiguous. Returning False, but in future this will result in an error. Use `array.size > 0` to check that an array is not empty.\n",
      "  if diff:\n",
      "/Users/joannaouyang/anaconda3/lib/python3.6/site-packages/sklearn/preprocessing/label.py:151: DeprecationWarning: The truth value of an empty array is ambiguous. Returning False, but in future this will result in an error. Use `array.size > 0` to check that an array is not empty.\n",
      "  if diff:\n"
     ]
    },
    {
     "name": "stdout",
     "output_type": "stream",
     "text": [
      "[CV]  subsample=0.8, n_estimators=80, min_child_weight=5, max_depth=6, learning_rate=0.01, gamma=1, colsample_bytree=0.6, total= 3.4min\n",
      "[CV] subsample=0.8, n_estimators=1000, min_child_weight=10, max_depth=4, learning_rate=0.02, gamma=5, colsample_bytree=0.4 \n"
     ]
    },
    {
     "name": "stderr",
     "output_type": "stream",
     "text": [
      "/Users/joannaouyang/anaconda3/lib/python3.6/site-packages/sklearn/preprocessing/label.py:151: DeprecationWarning: The truth value of an empty array is ambiguous. Returning False, but in future this will result in an error. Use `array.size > 0` to check that an array is not empty.\n",
      "  if diff:\n"
     ]
    },
    {
     "name": "stdout",
     "output_type": "stream",
     "text": [
      "[CV]  subsample=0.8, n_estimators=80, min_child_weight=5, max_depth=6, learning_rate=0.01, gamma=1, colsample_bytree=0.6, total= 3.4min\n",
      "[CV] subsample=0.8, n_estimators=1000, min_child_weight=10, max_depth=4, learning_rate=0.02, gamma=5, colsample_bytree=0.4 \n"
     ]
    },
    {
     "name": "stderr",
     "output_type": "stream",
     "text": [
      "/Users/joannaouyang/anaconda3/lib/python3.6/site-packages/sklearn/preprocessing/label.py:151: DeprecationWarning: The truth value of an empty array is ambiguous. Returning False, but in future this will result in an error. Use `array.size > 0` to check that an array is not empty.\n",
      "  if diff:\n",
      "/Users/joannaouyang/anaconda3/lib/python3.6/site-packages/sklearn/preprocessing/label.py:151: DeprecationWarning: The truth value of an empty array is ambiguous. Returning False, but in future this will result in an error. Use `array.size > 0` to check that an array is not empty.\n",
      "  if diff:\n"
     ]
    },
    {
     "name": "stdout",
     "output_type": "stream",
     "text": [
      "[CV]  subsample=1.0, n_estimators=1000, min_child_weight=1, max_depth=4, learning_rate=0.02, gamma=0, colsample_bytree=0.4, total=19.9min\n",
      "[CV] subsample=0.8, n_estimators=100, min_child_weight=5, max_depth=5, learning_rate=0.03, gamma=0, colsample_bytree=0.6 \n"
     ]
    },
    {
     "name": "stderr",
     "output_type": "stream",
     "text": [
      "/Users/joannaouyang/anaconda3/lib/python3.6/site-packages/sklearn/preprocessing/label.py:151: DeprecationWarning: The truth value of an empty array is ambiguous. Returning False, but in future this will result in an error. Use `array.size > 0` to check that an array is not empty.\n",
      "  if diff:\n",
      "/Users/joannaouyang/anaconda3/lib/python3.6/site-packages/sklearn/preprocessing/label.py:151: DeprecationWarning: The truth value of an empty array is ambiguous. Returning False, but in future this will result in an error. Use `array.size > 0` to check that an array is not empty.\n",
      "  if diff:\n"
     ]
    },
    {
     "name": "stdout",
     "output_type": "stream",
     "text": [
      "[CV]  subsample=0.8, n_estimators=100, min_child_weight=5, max_depth=5, learning_rate=0.03, gamma=0, colsample_bytree=0.6, total= 3.4min\n",
      "[CV] subsample=0.8, n_estimators=100, min_child_weight=5, max_depth=5, learning_rate=0.03, gamma=0, colsample_bytree=0.6 \n"
     ]
    },
    {
     "name": "stderr",
     "output_type": "stream",
     "text": [
      "/Users/joannaouyang/anaconda3/lib/python3.6/site-packages/sklearn/preprocessing/label.py:151: DeprecationWarning: The truth value of an empty array is ambiguous. Returning False, but in future this will result in an error. Use `array.size > 0` to check that an array is not empty.\n",
      "  if diff:\n",
      "/Users/joannaouyang/anaconda3/lib/python3.6/site-packages/sklearn/preprocessing/label.py:151: DeprecationWarning: The truth value of an empty array is ambiguous. Returning False, but in future this will result in an error. Use `array.size > 0` to check that an array is not empty.\n",
      "  if diff:\n"
     ]
    },
    {
     "name": "stdout",
     "output_type": "stream",
     "text": [
      "[CV]  subsample=0.8, n_estimators=100, min_child_weight=5, max_depth=5, learning_rate=0.03, gamma=0, colsample_bytree=0.6, total= 3.5min\n",
      "[CV] subsample=0.8, n_estimators=100, min_child_weight=5, max_depth=5, learning_rate=0.03, gamma=0, colsample_bytree=0.6 \n"
     ]
    },
    {
     "name": "stderr",
     "output_type": "stream",
     "text": [
      "/Users/joannaouyang/anaconda3/lib/python3.6/site-packages/sklearn/preprocessing/label.py:151: DeprecationWarning: The truth value of an empty array is ambiguous. Returning False, but in future this will result in an error. Use `array.size > 0` to check that an array is not empty.\n",
      "  if diff:\n",
      "/Users/joannaouyang/anaconda3/lib/python3.6/site-packages/sklearn/preprocessing/label.py:151: DeprecationWarning: The truth value of an empty array is ambiguous. Returning False, but in future this will result in an error. Use `array.size > 0` to check that an array is not empty.\n",
      "  if diff:\n"
     ]
    },
    {
     "name": "stdout",
     "output_type": "stream",
     "text": [
      "[CV]  subsample=0.8, n_estimators=100, min_child_weight=5, max_depth=5, learning_rate=0.03, gamma=0, colsample_bytree=0.6, total= 3.4min\n",
      "[CV] subsample=0.8, n_estimators=100, min_child_weight=1, max_depth=6, learning_rate=0.01, gamma=0, colsample_bytree=0.9 \n"
     ]
    },
    {
     "name": "stderr",
     "output_type": "stream",
     "text": [
      "/Users/joannaouyang/anaconda3/lib/python3.6/site-packages/sklearn/preprocessing/label.py:151: DeprecationWarning: The truth value of an empty array is ambiguous. Returning False, but in future this will result in an error. Use `array.size > 0` to check that an array is not empty.\n",
      "  if diff:\n",
      "/Users/joannaouyang/anaconda3/lib/python3.6/site-packages/sklearn/preprocessing/label.py:151: DeprecationWarning: The truth value of an empty array is ambiguous. Returning False, but in future this will result in an error. Use `array.size > 0` to check that an array is not empty.\n",
      "  if diff:\n",
      "/Users/joannaouyang/anaconda3/lib/python3.6/site-packages/sklearn/preprocessing/label.py:151: DeprecationWarning: The truth value of an empty array is ambiguous. Returning False, but in future this will result in an error. Use `array.size > 0` to check that an array is not empty.\n",
      "  if diff:\n"
     ]
    },
    {
     "name": "stdout",
     "output_type": "stream",
     "text": [
      "[CV]  subsample=0.8, n_estimators=100, min_child_weight=1, max_depth=6, learning_rate=0.01, gamma=0, colsample_bytree=0.9, total= 5.8min\n",
      "[CV] subsample=0.8, n_estimators=100, min_child_weight=1, max_depth=6, learning_rate=0.01, gamma=0, colsample_bytree=0.9 \n"
     ]
    },
    {
     "name": "stderr",
     "output_type": "stream",
     "text": [
      "/Users/joannaouyang/anaconda3/lib/python3.6/site-packages/sklearn/preprocessing/label.py:151: DeprecationWarning: The truth value of an empty array is ambiguous. Returning False, but in future this will result in an error. Use `array.size > 0` to check that an array is not empty.\n",
      "  if diff:\n"
     ]
    },
    {
     "name": "stdout",
     "output_type": "stream",
     "text": [
      "[CV]  subsample=0.8, n_estimators=1000, min_child_weight=10, max_depth=4, learning_rate=0.02, gamma=5, colsample_bytree=0.4, total=19.7min\n",
      "[CV] subsample=0.8, n_estimators=100, min_child_weight=1, max_depth=6, learning_rate=0.01, gamma=0, colsample_bytree=0.9 \n"
     ]
    },
    {
     "name": "stderr",
     "output_type": "stream",
     "text": [
      "/Users/joannaouyang/anaconda3/lib/python3.6/site-packages/sklearn/preprocessing/label.py:151: DeprecationWarning: The truth value of an empty array is ambiguous. Returning False, but in future this will result in an error. Use `array.size > 0` to check that an array is not empty.\n",
      "  if diff:\n",
      "/Users/joannaouyang/anaconda3/lib/python3.6/site-packages/sklearn/preprocessing/label.py:151: DeprecationWarning: The truth value of an empty array is ambiguous. Returning False, but in future this will result in an error. Use `array.size > 0` to check that an array is not empty.\n",
      "  if diff:\n",
      "/Users/joannaouyang/anaconda3/lib/python3.6/site-packages/sklearn/preprocessing/label.py:151: DeprecationWarning: The truth value of an empty array is ambiguous. Returning False, but in future this will result in an error. Use `array.size > 0` to check that an array is not empty.\n",
      "  if diff:\n"
     ]
    },
    {
     "name": "stdout",
     "output_type": "stream",
     "text": [
      "[CV]  subsample=0.8, n_estimators=1000, min_child_weight=10, max_depth=4, learning_rate=0.02, gamma=5, colsample_bytree=0.4, total=19.8min\n",
      "[CV] subsample=0.6, n_estimators=1000, min_child_weight=10, max_depth=5, learning_rate=0.01, gamma=0, colsample_bytree=0.6 \n"
     ]
    },
    {
     "name": "stderr",
     "output_type": "stream",
     "text": [
      "/Users/joannaouyang/anaconda3/lib/python3.6/site-packages/sklearn/preprocessing/label.py:151: DeprecationWarning: The truth value of an empty array is ambiguous. Returning False, but in future this will result in an error. Use `array.size > 0` to check that an array is not empty.\n",
      "  if diff:\n"
     ]
    },
    {
     "name": "stdout",
     "output_type": "stream",
     "text": [
      "[CV]  subsample=0.8, n_estimators=1000, min_child_weight=10, max_depth=4, learning_rate=0.02, gamma=5, colsample_bytree=0.4, total=19.9min\n",
      "[CV] subsample=0.6, n_estimators=1000, min_child_weight=10, max_depth=5, learning_rate=0.01, gamma=0, colsample_bytree=0.6 \n"
     ]
    },
    {
     "name": "stderr",
     "output_type": "stream",
     "text": [
      "/Users/joannaouyang/anaconda3/lib/python3.6/site-packages/sklearn/preprocessing/label.py:151: DeprecationWarning: The truth value of an empty array is ambiguous. Returning False, but in future this will result in an error. Use `array.size > 0` to check that an array is not empty.\n",
      "  if diff:\n",
      "/Users/joannaouyang/anaconda3/lib/python3.6/site-packages/sklearn/preprocessing/label.py:151: DeprecationWarning: The truth value of an empty array is ambiguous. Returning False, but in future this will result in an error. Use `array.size > 0` to check that an array is not empty.\n",
      "  if diff:\n"
     ]
    },
    {
     "name": "stdout",
     "output_type": "stream",
     "text": [
      "[CV]  subsample=0.8, n_estimators=100, min_child_weight=1, max_depth=6, learning_rate=0.01, gamma=0, colsample_bytree=0.9, total= 5.8min\n",
      "[CV] subsample=0.6, n_estimators=1000, min_child_weight=10, max_depth=5, learning_rate=0.01, gamma=0, colsample_bytree=0.6 \n"
     ]
    },
    {
     "name": "stderr",
     "output_type": "stream",
     "text": [
      "/Users/joannaouyang/anaconda3/lib/python3.6/site-packages/sklearn/preprocessing/label.py:151: DeprecationWarning: The truth value of an empty array is ambiguous. Returning False, but in future this will result in an error. Use `array.size > 0` to check that an array is not empty.\n",
      "  if diff:\n",
      "/Users/joannaouyang/anaconda3/lib/python3.6/site-packages/sklearn/preprocessing/label.py:151: DeprecationWarning: The truth value of an empty array is ambiguous. Returning False, but in future this will result in an error. Use `array.size > 0` to check that an array is not empty.\n",
      "  if diff:\n"
     ]
    },
    {
     "name": "stdout",
     "output_type": "stream",
     "text": [
      "[CV]  subsample=0.8, n_estimators=100, min_child_weight=1, max_depth=6, learning_rate=0.01, gamma=0, colsample_bytree=0.9, total= 5.8min\n",
      "[CV] subsample=1.0, n_estimators=500, min_child_weight=1, max_depth=6, learning_rate=0.01, gamma=5, colsample_bytree=0.9 \n"
     ]
    },
    {
     "name": "stderr",
     "output_type": "stream",
     "text": [
      "/Users/joannaouyang/anaconda3/lib/python3.6/site-packages/sklearn/preprocessing/label.py:151: DeprecationWarning: The truth value of an empty array is ambiguous. Returning False, but in future this will result in an error. Use `array.size > 0` to check that an array is not empty.\n",
      "  if diff:\n",
      "/Users/joannaouyang/anaconda3/lib/python3.6/site-packages/sklearn/preprocessing/label.py:151: DeprecationWarning: The truth value of an empty array is ambiguous. Returning False, but in future this will result in an error. Use `array.size > 0` to check that an array is not empty.\n",
      "  if diff:\n",
      "/Users/joannaouyang/anaconda3/lib/python3.6/site-packages/sklearn/preprocessing/label.py:151: DeprecationWarning: The truth value of an empty array is ambiguous. Returning False, but in future this will result in an error. Use `array.size > 0` to check that an array is not empty.\n",
      "  if diff:\n",
      "/Users/joannaouyang/anaconda3/lib/python3.6/site-packages/sklearn/preprocessing/label.py:151: DeprecationWarning: The truth value of an empty array is ambiguous. Returning False, but in future this will result in an error. Use `array.size > 0` to check that an array is not empty.\n",
      "  if diff:\n"
     ]
    },
    {
     "name": "stdout",
     "output_type": "stream",
     "text": [
      "[CV]  subsample=1.0, n_estimators=500, min_child_weight=1, max_depth=6, learning_rate=0.01, gamma=5, colsample_bytree=0.9, total=29.1min\n",
      "[CV] subsample=1.0, n_estimators=500, min_child_weight=1, max_depth=6, learning_rate=0.01, gamma=5, colsample_bytree=0.9 \n"
     ]
    },
    {
     "name": "stderr",
     "output_type": "stream",
     "text": [
      "/Users/joannaouyang/anaconda3/lib/python3.6/site-packages/sklearn/preprocessing/label.py:151: DeprecationWarning: The truth value of an empty array is ambiguous. Returning False, but in future this will result in an error. Use `array.size > 0` to check that an array is not empty.\n",
      "  if diff:\n"
     ]
    },
    {
     "name": "stdout",
     "output_type": "stream",
     "text": [
      "[CV]  subsample=0.6, n_estimators=1000, min_child_weight=10, max_depth=5, learning_rate=0.01, gamma=0, colsample_bytree=0.6, total=33.9min\n",
      "[CV] subsample=1.0, n_estimators=500, min_child_weight=1, max_depth=6, learning_rate=0.01, gamma=5, colsample_bytree=0.9 \n"
     ]
    },
    {
     "name": "stderr",
     "output_type": "stream",
     "text": [
      "/Users/joannaouyang/anaconda3/lib/python3.6/site-packages/sklearn/preprocessing/label.py:151: DeprecationWarning: The truth value of an empty array is ambiguous. Returning False, but in future this will result in an error. Use `array.size > 0` to check that an array is not empty.\n",
      "  if diff:\n"
     ]
    },
    {
     "name": "stdout",
     "output_type": "stream",
     "text": [
      "[CV]  subsample=0.6, n_estimators=1000, min_child_weight=10, max_depth=5, learning_rate=0.01, gamma=0, colsample_bytree=0.6, total=33.8min\n",
      "[CV] subsample=0.8, n_estimators=500, min_child_weight=5, max_depth=4, learning_rate=0.01, gamma=0, colsample_bytree=0.9 \n"
     ]
    },
    {
     "name": "stderr",
     "output_type": "stream",
     "text": [
      "/Users/joannaouyang/anaconda3/lib/python3.6/site-packages/sklearn/preprocessing/label.py:151: DeprecationWarning: The truth value of an empty array is ambiguous. Returning False, but in future this will result in an error. Use `array.size > 0` to check that an array is not empty.\n",
      "  if diff:\n",
      "/Users/joannaouyang/anaconda3/lib/python3.6/site-packages/sklearn/preprocessing/label.py:151: DeprecationWarning: The truth value of an empty array is ambiguous. Returning False, but in future this will result in an error. Use `array.size > 0` to check that an array is not empty.\n",
      "  if diff:\n"
     ]
    },
    {
     "name": "stdout",
     "output_type": "stream",
     "text": [
      "[CV]  subsample=0.6, n_estimators=1000, min_child_weight=10, max_depth=5, learning_rate=0.01, gamma=0, colsample_bytree=0.6, total=34.1min\n",
      "[CV] subsample=0.8, n_estimators=500, min_child_weight=5, max_depth=4, learning_rate=0.01, gamma=0, colsample_bytree=0.9 \n"
     ]
    },
    {
     "name": "stderr",
     "output_type": "stream",
     "text": [
      "/Users/joannaouyang/anaconda3/lib/python3.6/site-packages/sklearn/preprocessing/label.py:151: DeprecationWarning: The truth value of an empty array is ambiguous. Returning False, but in future this will result in an error. Use `array.size > 0` to check that an array is not empty.\n",
      "  if diff:\n",
      "/Users/joannaouyang/anaconda3/lib/python3.6/site-packages/sklearn/preprocessing/label.py:151: DeprecationWarning: The truth value of an empty array is ambiguous. Returning False, but in future this will result in an error. Use `array.size > 0` to check that an array is not empty.\n",
      "  if diff:\n"
     ]
    },
    {
     "name": "stdout",
     "output_type": "stream",
     "text": [
      "[CV]  subsample=0.8, n_estimators=500, min_child_weight=5, max_depth=4, learning_rate=0.01, gamma=0, colsample_bytree=0.9, total=18.9min\n",
      "[CV] subsample=0.8, n_estimators=500, min_child_weight=5, max_depth=4, learning_rate=0.01, gamma=0, colsample_bytree=0.9 \n"
     ]
    },
    {
     "name": "stderr",
     "output_type": "stream",
     "text": [
      "/Users/joannaouyang/anaconda3/lib/python3.6/site-packages/sklearn/preprocessing/label.py:151: DeprecationWarning: The truth value of an empty array is ambiguous. Returning False, but in future this will result in an error. Use `array.size > 0` to check that an array is not empty.\n",
      "  if diff:\n",
      "/Users/joannaouyang/anaconda3/lib/python3.6/site-packages/sklearn/preprocessing/label.py:151: DeprecationWarning: The truth value of an empty array is ambiguous. Returning False, but in future this will result in an error. Use `array.size > 0` to check that an array is not empty.\n",
      "  if diff:\n"
     ]
    },
    {
     "name": "stdout",
     "output_type": "stream",
     "text": [
      "[CV]  subsample=0.8, n_estimators=500, min_child_weight=5, max_depth=4, learning_rate=0.01, gamma=0, colsample_bytree=0.9, total=18.9min\n",
      "[CV] subsample=0.6, n_estimators=500, min_child_weight=10, max_depth=6, learning_rate=0.02, gamma=5, colsample_bytree=0.8 \n"
     ]
    },
    {
     "name": "stderr",
     "output_type": "stream",
     "text": [
      "/Users/joannaouyang/anaconda3/lib/python3.6/site-packages/sklearn/preprocessing/label.py:151: DeprecationWarning: The truth value of an empty array is ambiguous. Returning False, but in future this will result in an error. Use `array.size > 0` to check that an array is not empty.\n",
      "  if diff:\n",
      "/Users/joannaouyang/anaconda3/lib/python3.6/site-packages/sklearn/preprocessing/label.py:151: DeprecationWarning: The truth value of an empty array is ambiguous. Returning False, but in future this will result in an error. Use `array.size > 0` to check that an array is not empty.\n",
      "  if diff:\n",
      "/Users/joannaouyang/anaconda3/lib/python3.6/site-packages/sklearn/preprocessing/label.py:151: DeprecationWarning: The truth value of an empty array is ambiguous. Returning False, but in future this will result in an error. Use `array.size > 0` to check that an array is not empty.\n",
      "  if diff:\n"
     ]
    },
    {
     "name": "stdout",
     "output_type": "stream",
     "text": [
      "[CV]  subsample=1.0, n_estimators=500, min_child_weight=1, max_depth=6, learning_rate=0.01, gamma=5, colsample_bytree=0.9, total=29.0min\n",
      "[CV] subsample=0.6, n_estimators=500, min_child_weight=10, max_depth=6, learning_rate=0.02, gamma=5, colsample_bytree=0.8 \n"
     ]
    },
    {
     "name": "stderr",
     "output_type": "stream",
     "text": [
      "/Users/joannaouyang/anaconda3/lib/python3.6/site-packages/sklearn/preprocessing/label.py:151: DeprecationWarning: The truth value of an empty array is ambiguous. Returning False, but in future this will result in an error. Use `array.size > 0` to check that an array is not empty.\n",
      "  if diff:\n"
     ]
    },
    {
     "name": "stdout",
     "output_type": "stream",
     "text": [
      "[CV]  subsample=1.0, n_estimators=500, min_child_weight=1, max_depth=6, learning_rate=0.01, gamma=5, colsample_bytree=0.9, total=29.1min\n",
      "[CV] subsample=0.6, n_estimators=500, min_child_weight=10, max_depth=6, learning_rate=0.02, gamma=5, colsample_bytree=0.8 \n"
     ]
    },
    {
     "name": "stderr",
     "output_type": "stream",
     "text": [
      "/Users/joannaouyang/anaconda3/lib/python3.6/site-packages/sklearn/preprocessing/label.py:151: DeprecationWarning: The truth value of an empty array is ambiguous. Returning False, but in future this will result in an error. Use `array.size > 0` to check that an array is not empty.\n",
      "  if diff:\n",
      "/Users/joannaouyang/anaconda3/lib/python3.6/site-packages/sklearn/preprocessing/label.py:151: DeprecationWarning: The truth value of an empty array is ambiguous. Returning False, but in future this will result in an error. Use `array.size > 0` to check that an array is not empty.\n",
      "  if diff:\n"
     ]
    },
    {
     "name": "stdout",
     "output_type": "stream",
     "text": [
      "[CV]  subsample=0.8, n_estimators=500, min_child_weight=5, max_depth=4, learning_rate=0.01, gamma=0, colsample_bytree=0.9, total=19.0min\n",
      "[CV] subsample=0.6, n_estimators=500, min_child_weight=1, max_depth=5, learning_rate=0.01, gamma=1, colsample_bytree=0.9 \n"
     ]
    },
    {
     "name": "stderr",
     "output_type": "stream",
     "text": [
      "/Users/joannaouyang/anaconda3/lib/python3.6/site-packages/sklearn/preprocessing/label.py:151: DeprecationWarning: The truth value of an empty array is ambiguous. Returning False, but in future this will result in an error. Use `array.size > 0` to check that an array is not empty.\n",
      "  if diff:\n",
      "/Users/joannaouyang/anaconda3/lib/python3.6/site-packages/sklearn/preprocessing/label.py:151: DeprecationWarning: The truth value of an empty array is ambiguous. Returning False, but in future this will result in an error. Use `array.size > 0` to check that an array is not empty.\n",
      "  if diff:\n"
     ]
    },
    {
     "name": "stdout",
     "output_type": "stream",
     "text": [
      "[CV]  subsample=0.6, n_estimators=500, min_child_weight=10, max_depth=6, learning_rate=0.02, gamma=5, colsample_bytree=0.8, total=25.8min\n",
      "[CV] subsample=0.6, n_estimators=500, min_child_weight=1, max_depth=5, learning_rate=0.01, gamma=1, colsample_bytree=0.9 \n"
     ]
    },
    {
     "name": "stderr",
     "output_type": "stream",
     "text": [
      "/Users/joannaouyang/anaconda3/lib/python3.6/site-packages/sklearn/preprocessing/label.py:151: DeprecationWarning: The truth value of an empty array is ambiguous. Returning False, but in future this will result in an error. Use `array.size > 0` to check that an array is not empty.\n",
      "  if diff:\n",
      "/Users/joannaouyang/anaconda3/lib/python3.6/site-packages/sklearn/preprocessing/label.py:151: DeprecationWarning: The truth value of an empty array is ambiguous. Returning False, but in future this will result in an error. Use `array.size > 0` to check that an array is not empty.\n",
      "  if diff:\n",
      "/Users/joannaouyang/anaconda3/lib/python3.6/site-packages/sklearn/preprocessing/label.py:151: DeprecationWarning: The truth value of an empty array is ambiguous. Returning False, but in future this will result in an error. Use `array.size > 0` to check that an array is not empty.\n",
      "  if diff:\n"
     ]
    },
    {
     "name": "stdout",
     "output_type": "stream",
     "text": [
      "[CV]  subsample=0.6, n_estimators=500, min_child_weight=10, max_depth=6, learning_rate=0.02, gamma=5, colsample_bytree=0.8, total=25.7min\n",
      "[CV] subsample=0.6, n_estimators=500, min_child_weight=1, max_depth=5, learning_rate=0.01, gamma=1, colsample_bytree=0.9 \n"
     ]
    },
    {
     "name": "stderr",
     "output_type": "stream",
     "text": [
      "/Users/joannaouyang/anaconda3/lib/python3.6/site-packages/sklearn/preprocessing/label.py:151: DeprecationWarning: The truth value of an empty array is ambiguous. Returning False, but in future this will result in an error. Use `array.size > 0` to check that an array is not empty.\n",
      "  if diff:\n"
     ]
    },
    {
     "name": "stdout",
     "output_type": "stream",
     "text": [
      "[CV]  subsample=0.6, n_estimators=500, min_child_weight=10, max_depth=6, learning_rate=0.02, gamma=5, colsample_bytree=0.8, total=25.8min\n",
      "[CV] subsample=1.0, n_estimators=1000, min_child_weight=10, max_depth=5, learning_rate=0.03, gamma=1, colsample_bytree=0.9 \n"
     ]
    },
    {
     "name": "stderr",
     "output_type": "stream",
     "text": [
      "/Users/joannaouyang/anaconda3/lib/python3.6/site-packages/sklearn/preprocessing/label.py:151: DeprecationWarning: The truth value of an empty array is ambiguous. Returning False, but in future this will result in an error. Use `array.size > 0` to check that an array is not empty.\n",
      "  if diff:\n",
      "/Users/joannaouyang/anaconda3/lib/python3.6/site-packages/sklearn/preprocessing/label.py:151: DeprecationWarning: The truth value of an empty array is ambiguous. Returning False, but in future this will result in an error. Use `array.size > 0` to check that an array is not empty.\n",
      "  if diff:\n"
     ]
    },
    {
     "name": "stdout",
     "output_type": "stream",
     "text": [
      "[CV]  subsample=0.6, n_estimators=500, min_child_weight=1, max_depth=5, learning_rate=0.01, gamma=1, colsample_bytree=0.9, total=23.8min\n",
      "[CV] subsample=1.0, n_estimators=1000, min_child_weight=10, max_depth=5, learning_rate=0.03, gamma=1, colsample_bytree=0.9 \n"
     ]
    },
    {
     "name": "stderr",
     "output_type": "stream",
     "text": [
      "/Users/joannaouyang/anaconda3/lib/python3.6/site-packages/sklearn/preprocessing/label.py:151: DeprecationWarning: The truth value of an empty array is ambiguous. Returning False, but in future this will result in an error. Use `array.size > 0` to check that an array is not empty.\n",
      "  if diff:\n",
      "/Users/joannaouyang/anaconda3/lib/python3.6/site-packages/sklearn/preprocessing/label.py:151: DeprecationWarning: The truth value of an empty array is ambiguous. Returning False, but in future this will result in an error. Use `array.size > 0` to check that an array is not empty.\n",
      "  if diff:\n"
     ]
    },
    {
     "name": "stdout",
     "output_type": "stream",
     "text": [
      "[CV]  subsample=0.6, n_estimators=500, min_child_weight=1, max_depth=5, learning_rate=0.01, gamma=1, colsample_bytree=0.9, total=23.7min\n",
      "[CV] subsample=1.0, n_estimators=1000, min_child_weight=10, max_depth=5, learning_rate=0.03, gamma=1, colsample_bytree=0.9 \n"
     ]
    },
    {
     "name": "stderr",
     "output_type": "stream",
     "text": [
      "/Users/joannaouyang/anaconda3/lib/python3.6/site-packages/sklearn/preprocessing/label.py:151: DeprecationWarning: The truth value of an empty array is ambiguous. Returning False, but in future this will result in an error. Use `array.size > 0` to check that an array is not empty.\n",
      "  if diff:\n",
      "/Users/joannaouyang/anaconda3/lib/python3.6/site-packages/sklearn/preprocessing/label.py:151: DeprecationWarning: The truth value of an empty array is ambiguous. Returning False, but in future this will result in an error. Use `array.size > 0` to check that an array is not empty.\n",
      "  if diff:\n"
     ]
    },
    {
     "name": "stdout",
     "output_type": "stream",
     "text": [
      "[CV]  subsample=0.6, n_estimators=500, min_child_weight=1, max_depth=5, learning_rate=0.01, gamma=1, colsample_bytree=0.9, total=23.7min\n",
      "[CV] subsample=0.6, n_estimators=80, min_child_weight=1, max_depth=5, learning_rate=0.01, gamma=5, colsample_bytree=0.6 \n"
     ]
    },
    {
     "name": "stderr",
     "output_type": "stream",
     "text": [
      "/Users/joannaouyang/anaconda3/lib/python3.6/site-packages/sklearn/preprocessing/label.py:151: DeprecationWarning: The truth value of an empty array is ambiguous. Returning False, but in future this will result in an error. Use `array.size > 0` to check that an array is not empty.\n",
      "  if diff:\n",
      "/Users/joannaouyang/anaconda3/lib/python3.6/site-packages/sklearn/preprocessing/label.py:151: DeprecationWarning: The truth value of an empty array is ambiguous. Returning False, but in future this will result in an error. Use `array.size > 0` to check that an array is not empty.\n",
      "  if diff:\n"
     ]
    },
    {
     "name": "stdout",
     "output_type": "stream",
     "text": [
      "[CV]  subsample=0.6, n_estimators=80, min_child_weight=1, max_depth=5, learning_rate=0.01, gamma=5, colsample_bytree=0.6, total= 2.8min\n",
      "[CV] subsample=0.6, n_estimators=80, min_child_weight=1, max_depth=5, learning_rate=0.01, gamma=5, colsample_bytree=0.6 \n"
     ]
    },
    {
     "name": "stderr",
     "output_type": "stream",
     "text": [
      "/Users/joannaouyang/anaconda3/lib/python3.6/site-packages/sklearn/preprocessing/label.py:151: DeprecationWarning: The truth value of an empty array is ambiguous. Returning False, but in future this will result in an error. Use `array.size > 0` to check that an array is not empty.\n",
      "  if diff:\n",
      "/Users/joannaouyang/anaconda3/lib/python3.6/site-packages/sklearn/preprocessing/label.py:151: DeprecationWarning: The truth value of an empty array is ambiguous. Returning False, but in future this will result in an error. Use `array.size > 0` to check that an array is not empty.\n",
      "  if diff:\n"
     ]
    },
    {
     "name": "stdout",
     "output_type": "stream",
     "text": [
      "[CV]  subsample=0.6, n_estimators=80, min_child_weight=1, max_depth=5, learning_rate=0.01, gamma=5, colsample_bytree=0.6, total= 2.7min\n",
      "[CV] subsample=0.6, n_estimators=80, min_child_weight=1, max_depth=5, learning_rate=0.01, gamma=5, colsample_bytree=0.6 \n"
     ]
    },
    {
     "name": "stderr",
     "output_type": "stream",
     "text": [
      "/Users/joannaouyang/anaconda3/lib/python3.6/site-packages/sklearn/preprocessing/label.py:151: DeprecationWarning: The truth value of an empty array is ambiguous. Returning False, but in future this will result in an error. Use `array.size > 0` to check that an array is not empty.\n",
      "  if diff:\n",
      "/Users/joannaouyang/anaconda3/lib/python3.6/site-packages/sklearn/preprocessing/label.py:151: DeprecationWarning: The truth value of an empty array is ambiguous. Returning False, but in future this will result in an error. Use `array.size > 0` to check that an array is not empty.\n",
      "  if diff:\n"
     ]
    },
    {
     "name": "stdout",
     "output_type": "stream",
     "text": [
      "[CV]  subsample=0.6, n_estimators=80, min_child_weight=1, max_depth=5, learning_rate=0.01, gamma=5, colsample_bytree=0.6, total= 2.8min\n",
      "[CV] subsample=1.0, n_estimators=300, min_child_weight=10, max_depth=6, learning_rate=0.03, gamma=1, colsample_bytree=0.6 \n"
     ]
    },
    {
     "name": "stderr",
     "output_type": "stream",
     "text": [
      "/Users/joannaouyang/anaconda3/lib/python3.6/site-packages/sklearn/preprocessing/label.py:151: DeprecationWarning: The truth value of an empty array is ambiguous. Returning False, but in future this will result in an error. Use `array.size > 0` to check that an array is not empty.\n",
      "  if diff:\n",
      "/Users/joannaouyang/anaconda3/lib/python3.6/site-packages/sklearn/preprocessing/label.py:151: DeprecationWarning: The truth value of an empty array is ambiguous. Returning False, but in future this will result in an error. Use `array.size > 0` to check that an array is not empty.\n",
      "  if diff:\n"
     ]
    },
    {
     "name": "stdout",
     "output_type": "stream",
     "text": [
      "[CV]  subsample=1.0, n_estimators=300, min_child_weight=10, max_depth=6, learning_rate=0.03, gamma=1, colsample_bytree=0.6, total=12.2min\n",
      "[CV] subsample=1.0, n_estimators=300, min_child_weight=10, max_depth=6, learning_rate=0.03, gamma=1, colsample_bytree=0.6 \n"
     ]
    },
    {
     "name": "stderr",
     "output_type": "stream",
     "text": [
      "/Users/joannaouyang/anaconda3/lib/python3.6/site-packages/sklearn/preprocessing/label.py:151: DeprecationWarning: The truth value of an empty array is ambiguous. Returning False, but in future this will result in an error. Use `array.size > 0` to check that an array is not empty.\n",
      "  if diff:\n",
      "/Users/joannaouyang/anaconda3/lib/python3.6/site-packages/sklearn/preprocessing/label.py:151: DeprecationWarning: The truth value of an empty array is ambiguous. Returning False, but in future this will result in an error. Use `array.size > 0` to check that an array is not empty.\n",
      "  if diff:\n"
     ]
    },
    {
     "name": "stdout",
     "output_type": "stream",
     "text": [
      "[CV]  subsample=1.0, n_estimators=1000, min_child_weight=10, max_depth=5, learning_rate=0.03, gamma=1, colsample_bytree=0.9, total=46.9min\n",
      "[CV] subsample=1.0, n_estimators=300, min_child_weight=10, max_depth=6, learning_rate=0.03, gamma=1, colsample_bytree=0.6 \n"
     ]
    },
    {
     "name": "stderr",
     "output_type": "stream",
     "text": [
      "/Users/joannaouyang/anaconda3/lib/python3.6/site-packages/sklearn/preprocessing/label.py:151: DeprecationWarning: The truth value of an empty array is ambiguous. Returning False, but in future this will result in an error. Use `array.size > 0` to check that an array is not empty.\n",
      "  if diff:\n",
      "/Users/joannaouyang/anaconda3/lib/python3.6/site-packages/sklearn/preprocessing/label.py:151: DeprecationWarning: The truth value of an empty array is ambiguous. Returning False, but in future this will result in an error. Use `array.size > 0` to check that an array is not empty.\n",
      "  if diff:\n"
     ]
    },
    {
     "name": "stdout",
     "output_type": "stream",
     "text": [
      "[CV]  subsample=1.0, n_estimators=1000, min_child_weight=10, max_depth=5, learning_rate=0.03, gamma=1, colsample_bytree=0.9, total=46.7min\n",
      "[CV] subsample=0.6, n_estimators=800, min_child_weight=1, max_depth=5, learning_rate=0.03, gamma=1, colsample_bytree=0.4 \n"
     ]
    },
    {
     "name": "stderr",
     "output_type": "stream",
     "text": [
      "/Users/joannaouyang/anaconda3/lib/python3.6/site-packages/sklearn/preprocessing/label.py:151: DeprecationWarning: The truth value of an empty array is ambiguous. Returning False, but in future this will result in an error. Use `array.size > 0` to check that an array is not empty.\n",
      "  if diff:\n",
      "/Users/joannaouyang/anaconda3/lib/python3.6/site-packages/sklearn/preprocessing/label.py:151: DeprecationWarning: The truth value of an empty array is ambiguous. Returning False, but in future this will result in an error. Use `array.size > 0` to check that an array is not empty.\n",
      "  if diff:\n"
     ]
    },
    {
     "name": "stdout",
     "output_type": "stream",
     "text": [
      "[CV]  subsample=1.0, n_estimators=300, min_child_weight=10, max_depth=6, learning_rate=0.03, gamma=1, colsample_bytree=0.6, total=12.3min\n",
      "[CV] subsample=0.6, n_estimators=800, min_child_weight=1, max_depth=5, learning_rate=0.03, gamma=1, colsample_bytree=0.4 \n"
     ]
    },
    {
     "name": "stderr",
     "output_type": "stream",
     "text": [
      "/Users/joannaouyang/anaconda3/lib/python3.6/site-packages/sklearn/preprocessing/label.py:151: DeprecationWarning: The truth value of an empty array is ambiguous. Returning False, but in future this will result in an error. Use `array.size > 0` to check that an array is not empty.\n",
      "  if diff:\n",
      "/Users/joannaouyang/anaconda3/lib/python3.6/site-packages/sklearn/preprocessing/label.py:151: DeprecationWarning: The truth value of an empty array is ambiguous. Returning False, but in future this will result in an error. Use `array.size > 0` to check that an array is not empty.\n",
      "  if diff:\n"
     ]
    },
    {
     "name": "stdout",
     "output_type": "stream",
     "text": [
      "[CV]  subsample=1.0, n_estimators=300, min_child_weight=10, max_depth=6, learning_rate=0.03, gamma=1, colsample_bytree=0.6, total=12.3min\n",
      "[CV] subsample=0.6, n_estimators=800, min_child_weight=1, max_depth=5, learning_rate=0.03, gamma=1, colsample_bytree=0.4 \n"
     ]
    },
    {
     "name": "stderr",
     "output_type": "stream",
     "text": [
      "/Users/joannaouyang/anaconda3/lib/python3.6/site-packages/sklearn/preprocessing/label.py:151: DeprecationWarning: The truth value of an empty array is ambiguous. Returning False, but in future this will result in an error. Use `array.size > 0` to check that an array is not empty.\n",
      "  if diff:\n",
      "/Users/joannaouyang/anaconda3/lib/python3.6/site-packages/sklearn/preprocessing/label.py:151: DeprecationWarning: The truth value of an empty array is ambiguous. Returning False, but in future this will result in an error. Use `array.size > 0` to check that an array is not empty.\n",
      "  if diff:\n"
     ]
    },
    {
     "name": "stdout",
     "output_type": "stream",
     "text": [
      "[CV]  subsample=1.0, n_estimators=1000, min_child_weight=10, max_depth=5, learning_rate=0.03, gamma=1, colsample_bytree=0.9, total=46.8min\n",
      "[CV] subsample=0.8, n_estimators=100, min_child_weight=10, max_depth=3, learning_rate=0.02, gamma=0, colsample_bytree=0.4 \n"
     ]
    },
    {
     "name": "stderr",
     "output_type": "stream",
     "text": [
      "/Users/joannaouyang/anaconda3/lib/python3.6/site-packages/sklearn/preprocessing/label.py:151: DeprecationWarning: The truth value of an empty array is ambiguous. Returning False, but in future this will result in an error. Use `array.size > 0` to check that an array is not empty.\n",
      "  if diff:\n",
      "/Users/joannaouyang/anaconda3/lib/python3.6/site-packages/sklearn/preprocessing/label.py:151: DeprecationWarning: The truth value of an empty array is ambiguous. Returning False, but in future this will result in an error. Use `array.size > 0` to check that an array is not empty.\n",
      "  if diff:\n"
     ]
    },
    {
     "name": "stdout",
     "output_type": "stream",
     "text": [
      "[CV]  subsample=0.8, n_estimators=100, min_child_weight=10, max_depth=3, learning_rate=0.02, gamma=0, colsample_bytree=0.4, total= 1.6min\n",
      "[CV] subsample=0.8, n_estimators=100, min_child_weight=10, max_depth=3, learning_rate=0.02, gamma=0, colsample_bytree=0.4 \n"
     ]
    },
    {
     "name": "stderr",
     "output_type": "stream",
     "text": [
      "/Users/joannaouyang/anaconda3/lib/python3.6/site-packages/sklearn/preprocessing/label.py:151: DeprecationWarning: The truth value of an empty array is ambiguous. Returning False, but in future this will result in an error. Use `array.size > 0` to check that an array is not empty.\n",
      "  if diff:\n",
      "/Users/joannaouyang/anaconda3/lib/python3.6/site-packages/sklearn/preprocessing/label.py:151: DeprecationWarning: The truth value of an empty array is ambiguous. Returning False, but in future this will result in an error. Use `array.size > 0` to check that an array is not empty.\n",
      "  if diff:\n"
     ]
    },
    {
     "name": "stdout",
     "output_type": "stream",
     "text": [
      "[CV]  subsample=0.8, n_estimators=100, min_child_weight=10, max_depth=3, learning_rate=0.02, gamma=0, colsample_bytree=0.4, total= 1.6min\n",
      "[CV] subsample=0.8, n_estimators=100, min_child_weight=10, max_depth=3, learning_rate=0.02, gamma=0, colsample_bytree=0.4 \n"
     ]
    },
    {
     "name": "stderr",
     "output_type": "stream",
     "text": [
      "/Users/joannaouyang/anaconda3/lib/python3.6/site-packages/sklearn/preprocessing/label.py:151: DeprecationWarning: The truth value of an empty array is ambiguous. Returning False, but in future this will result in an error. Use `array.size > 0` to check that an array is not empty.\n",
      "  if diff:\n",
      "/Users/joannaouyang/anaconda3/lib/python3.6/site-packages/sklearn/preprocessing/label.py:151: DeprecationWarning: The truth value of an empty array is ambiguous. Returning False, but in future this will result in an error. Use `array.size > 0` to check that an array is not empty.\n",
      "  if diff:\n"
     ]
    },
    {
     "name": "stdout",
     "output_type": "stream",
     "text": [
      "[CV]  subsample=0.8, n_estimators=100, min_child_weight=10, max_depth=3, learning_rate=0.02, gamma=0, colsample_bytree=0.4, total= 1.6min\n",
      "[CV] subsample=1.0, n_estimators=80, min_child_weight=5, max_depth=6, learning_rate=0.01, gamma=1, colsample_bytree=0.8 \n"
     ]
    },
    {
     "name": "stderr",
     "output_type": "stream",
     "text": [
      "/Users/joannaouyang/anaconda3/lib/python3.6/site-packages/sklearn/preprocessing/label.py:151: DeprecationWarning: The truth value of an empty array is ambiguous. Returning False, but in future this will result in an error. Use `array.size > 0` to check that an array is not empty.\n",
      "  if diff:\n",
      "/Users/joannaouyang/anaconda3/lib/python3.6/site-packages/sklearn/preprocessing/label.py:151: DeprecationWarning: The truth value of an empty array is ambiguous. Returning False, but in future this will result in an error. Use `array.size > 0` to check that an array is not empty.\n",
      "  if diff:\n"
     ]
    },
    {
     "name": "stdout",
     "output_type": "stream",
     "text": [
      "[CV]  subsample=0.6, n_estimators=800, min_child_weight=1, max_depth=5, learning_rate=0.03, gamma=1, colsample_bytree=0.4, total=19.7min\n",
      "[CV] subsample=1.0, n_estimators=80, min_child_weight=5, max_depth=6, learning_rate=0.01, gamma=1, colsample_bytree=0.8 \n"
     ]
    },
    {
     "name": "stderr",
     "output_type": "stream",
     "text": [
      "/Users/joannaouyang/anaconda3/lib/python3.6/site-packages/sklearn/preprocessing/label.py:151: DeprecationWarning: The truth value of an empty array is ambiguous. Returning False, but in future this will result in an error. Use `array.size > 0` to check that an array is not empty.\n",
      "  if diff:\n",
      "/Users/joannaouyang/anaconda3/lib/python3.6/site-packages/sklearn/preprocessing/label.py:151: DeprecationWarning: The truth value of an empty array is ambiguous. Returning False, but in future this will result in an error. Use `array.size > 0` to check that an array is not empty.\n",
      "  if diff:\n"
     ]
    },
    {
     "name": "stdout",
     "output_type": "stream",
     "text": [
      "[CV]  subsample=1.0, n_estimators=80, min_child_weight=5, max_depth=6, learning_rate=0.01, gamma=1, colsample_bytree=0.8, total= 4.2min\n",
      "[CV] subsample=1.0, n_estimators=80, min_child_weight=5, max_depth=6, learning_rate=0.01, gamma=1, colsample_bytree=0.8 \n"
     ]
    },
    {
     "name": "stderr",
     "output_type": "stream",
     "text": [
      "/Users/joannaouyang/anaconda3/lib/python3.6/site-packages/sklearn/preprocessing/label.py:151: DeprecationWarning: The truth value of an empty array is ambiguous. Returning False, but in future this will result in an error. Use `array.size > 0` to check that an array is not empty.\n",
      "  if diff:\n",
      "/Users/joannaouyang/anaconda3/lib/python3.6/site-packages/sklearn/preprocessing/label.py:151: DeprecationWarning: The truth value of an empty array is ambiguous. Returning False, but in future this will result in an error. Use `array.size > 0` to check that an array is not empty.\n",
      "  if diff:\n"
     ]
    },
    {
     "name": "stdout",
     "output_type": "stream",
     "text": [
      "[CV]  subsample=0.6, n_estimators=800, min_child_weight=1, max_depth=5, learning_rate=0.03, gamma=1, colsample_bytree=0.4, total=19.8min\n",
      "[CV] subsample=0.8, n_estimators=500, min_child_weight=10, max_depth=5, learning_rate=0.02, gamma=5, colsample_bytree=0.9 \n"
     ]
    },
    {
     "name": "stderr",
     "output_type": "stream",
     "text": [
      "/Users/joannaouyang/anaconda3/lib/python3.6/site-packages/sklearn/preprocessing/label.py:151: DeprecationWarning: The truth value of an empty array is ambiguous. Returning False, but in future this will result in an error. Use `array.size > 0` to check that an array is not empty.\n",
      "  if diff:\n",
      "/Users/joannaouyang/anaconda3/lib/python3.6/site-packages/sklearn/preprocessing/label.py:151: DeprecationWarning: The truth value of an empty array is ambiguous. Returning False, but in future this will result in an error. Use `array.size > 0` to check that an array is not empty.\n",
      "  if diff:\n"
     ]
    },
    {
     "name": "stdout",
     "output_type": "stream",
     "text": [
      "[CV]  subsample=1.0, n_estimators=80, min_child_weight=5, max_depth=6, learning_rate=0.01, gamma=1, colsample_bytree=0.8, total= 4.3min\n",
      "[CV] subsample=0.8, n_estimators=500, min_child_weight=10, max_depth=5, learning_rate=0.02, gamma=5, colsample_bytree=0.9 \n"
     ]
    },
    {
     "name": "stderr",
     "output_type": "stream",
     "text": [
      "/Users/joannaouyang/anaconda3/lib/python3.6/site-packages/sklearn/preprocessing/label.py:151: DeprecationWarning: The truth value of an empty array is ambiguous. Returning False, but in future this will result in an error. Use `array.size > 0` to check that an array is not empty.\n",
      "  if diff:\n",
      "/Users/joannaouyang/anaconda3/lib/python3.6/site-packages/sklearn/preprocessing/label.py:151: DeprecationWarning: The truth value of an empty array is ambiguous. Returning False, but in future this will result in an error. Use `array.size > 0` to check that an array is not empty.\n",
      "  if diff:\n"
     ]
    },
    {
     "name": "stdout",
     "output_type": "stream",
     "text": [
      "[CV]  subsample=1.0, n_estimators=80, min_child_weight=5, max_depth=6, learning_rate=0.01, gamma=1, colsample_bytree=0.8, total= 4.3min\n",
      "[CV] subsample=0.8, n_estimators=500, min_child_weight=10, max_depth=5, learning_rate=0.02, gamma=5, colsample_bytree=0.9 \n"
     ]
    },
    {
     "name": "stderr",
     "output_type": "stream",
     "text": [
      "/Users/joannaouyang/anaconda3/lib/python3.6/site-packages/sklearn/preprocessing/label.py:151: DeprecationWarning: The truth value of an empty array is ambiguous. Returning False, but in future this will result in an error. Use `array.size > 0` to check that an array is not empty.\n",
      "  if diff:\n",
      "/Users/joannaouyang/anaconda3/lib/python3.6/site-packages/sklearn/preprocessing/label.py:151: DeprecationWarning: The truth value of an empty array is ambiguous. Returning False, but in future this will result in an error. Use `array.size > 0` to check that an array is not empty.\n",
      "  if diff:\n"
     ]
    },
    {
     "name": "stdout",
     "output_type": "stream",
     "text": [
      "[CV]  subsample=0.6, n_estimators=800, min_child_weight=1, max_depth=5, learning_rate=0.03, gamma=1, colsample_bytree=0.4, total=19.9min\n",
      "[CV] subsample=0.6, n_estimators=500, min_child_weight=5, max_depth=5, learning_rate=0.02, gamma=5, colsample_bytree=0.8 \n"
     ]
    },
    {
     "name": "stderr",
     "output_type": "stream",
     "text": [
      "/Users/joannaouyang/anaconda3/lib/python3.6/site-packages/sklearn/preprocessing/label.py:151: DeprecationWarning: The truth value of an empty array is ambiguous. Returning False, but in future this will result in an error. Use `array.size > 0` to check that an array is not empty.\n",
      "  if diff:\n",
      "/Users/joannaouyang/anaconda3/lib/python3.6/site-packages/sklearn/preprocessing/label.py:151: DeprecationWarning: The truth value of an empty array is ambiguous. Returning False, but in future this will result in an error. Use `array.size > 0` to check that an array is not empty.\n",
      "  if diff:\n"
     ]
    },
    {
     "name": "stdout",
     "output_type": "stream",
     "text": [
      "[CV]  subsample=0.8, n_estimators=500, min_child_weight=10, max_depth=5, learning_rate=0.02, gamma=5, colsample_bytree=0.9, total=23.5min\n",
      "[CV] subsample=0.6, n_estimators=500, min_child_weight=5, max_depth=5, learning_rate=0.02, gamma=5, colsample_bytree=0.8 \n"
     ]
    },
    {
     "name": "stderr",
     "output_type": "stream",
     "text": [
      "/Users/joannaouyang/anaconda3/lib/python3.6/site-packages/sklearn/preprocessing/label.py:151: DeprecationWarning: The truth value of an empty array is ambiguous. Returning False, but in future this will result in an error. Use `array.size > 0` to check that an array is not empty.\n",
      "  if diff:\n",
      "/Users/joannaouyang/anaconda3/lib/python3.6/site-packages/sklearn/preprocessing/label.py:151: DeprecationWarning: The truth value of an empty array is ambiguous. Returning False, but in future this will result in an error. Use `array.size > 0` to check that an array is not empty.\n",
      "  if diff:\n",
      "/Users/joannaouyang/anaconda3/lib/python3.6/site-packages/sklearn/preprocessing/label.py:151: DeprecationWarning: The truth value of an empty array is ambiguous. Returning False, but in future this will result in an error. Use `array.size > 0` to check that an array is not empty.\n",
      "  if diff:\n"
     ]
    },
    {
     "name": "stdout",
     "output_type": "stream",
     "text": [
      "[CV]  subsample=0.6, n_estimators=500, min_child_weight=5, max_depth=5, learning_rate=0.02, gamma=5, colsample_bytree=0.8, total=21.1min\n",
      "[CV] subsample=0.6, n_estimators=500, min_child_weight=5, max_depth=5, learning_rate=0.02, gamma=5, colsample_bytree=0.8 \n"
     ]
    },
    {
     "name": "stderr",
     "output_type": "stream",
     "text": [
      "/Users/joannaouyang/anaconda3/lib/python3.6/site-packages/sklearn/preprocessing/label.py:151: DeprecationWarning: The truth value of an empty array is ambiguous. Returning False, but in future this will result in an error. Use `array.size > 0` to check that an array is not empty.\n",
      "  if diff:\n"
     ]
    },
    {
     "name": "stdout",
     "output_type": "stream",
     "text": [
      "[CV]  subsample=0.8, n_estimators=500, min_child_weight=10, max_depth=5, learning_rate=0.02, gamma=5, colsample_bytree=0.9, total=23.5min\n",
      "[CV] subsample=1.0, n_estimators=800, min_child_weight=10, max_depth=6, learning_rate=0.02, gamma=1, colsample_bytree=0.8 \n"
     ]
    },
    {
     "name": "stderr",
     "output_type": "stream",
     "text": [
      "/Users/joannaouyang/anaconda3/lib/python3.6/site-packages/sklearn/preprocessing/label.py:151: DeprecationWarning: The truth value of an empty array is ambiguous. Returning False, but in future this will result in an error. Use `array.size > 0` to check that an array is not empty.\n",
      "  if diff:\n",
      "/Users/joannaouyang/anaconda3/lib/python3.6/site-packages/sklearn/preprocessing/label.py:151: DeprecationWarning: The truth value of an empty array is ambiguous. Returning False, but in future this will result in an error. Use `array.size > 0` to check that an array is not empty.\n",
      "  if diff:\n"
     ]
    },
    {
     "name": "stdout",
     "output_type": "stream",
     "text": [
      "[CV]  subsample=0.8, n_estimators=500, min_child_weight=10, max_depth=5, learning_rate=0.02, gamma=5, colsample_bytree=0.9, total=23.6min\n",
      "[CV] subsample=1.0, n_estimators=800, min_child_weight=10, max_depth=6, learning_rate=0.02, gamma=1, colsample_bytree=0.8 \n"
     ]
    },
    {
     "name": "stderr",
     "output_type": "stream",
     "text": [
      "/Users/joannaouyang/anaconda3/lib/python3.6/site-packages/sklearn/preprocessing/label.py:151: DeprecationWarning: The truth value of an empty array is ambiguous. Returning False, but in future this will result in an error. Use `array.size > 0` to check that an array is not empty.\n",
      "  if diff:\n",
      "/Users/joannaouyang/anaconda3/lib/python3.6/site-packages/sklearn/preprocessing/label.py:151: DeprecationWarning: The truth value of an empty array is ambiguous. Returning False, but in future this will result in an error. Use `array.size > 0` to check that an array is not empty.\n",
      "  if diff:\n"
     ]
    },
    {
     "name": "stdout",
     "output_type": "stream",
     "text": [
      "[CV]  subsample=0.6, n_estimators=500, min_child_weight=5, max_depth=5, learning_rate=0.02, gamma=5, colsample_bytree=0.8, total=21.4min\n",
      "[CV] subsample=1.0, n_estimators=800, min_child_weight=10, max_depth=6, learning_rate=0.02, gamma=1, colsample_bytree=0.8 \n"
     ]
    },
    {
     "name": "stderr",
     "output_type": "stream",
     "text": [
      "/Users/joannaouyang/anaconda3/lib/python3.6/site-packages/sklearn/preprocessing/label.py:151: DeprecationWarning: The truth value of an empty array is ambiguous. Returning False, but in future this will result in an error. Use `array.size > 0` to check that an array is not empty.\n",
      "  if diff:\n",
      "/Users/joannaouyang/anaconda3/lib/python3.6/site-packages/sklearn/preprocessing/label.py:151: DeprecationWarning: The truth value of an empty array is ambiguous. Returning False, but in future this will result in an error. Use `array.size > 0` to check that an array is not empty.\n",
      "  if diff:\n"
     ]
    },
    {
     "name": "stdout",
     "output_type": "stream",
     "text": [
      "[CV]  subsample=0.6, n_estimators=500, min_child_weight=5, max_depth=5, learning_rate=0.02, gamma=5, colsample_bytree=0.8, total=21.5min\n",
      "[CV] subsample=1.0, n_estimators=800, min_child_weight=1, max_depth=6, learning_rate=0.02, gamma=1, colsample_bytree=0.8 \n"
     ]
    },
    {
     "name": "stderr",
     "output_type": "stream",
     "text": [
      "/Users/joannaouyang/anaconda3/lib/python3.6/site-packages/sklearn/preprocessing/label.py:151: DeprecationWarning: The truth value of an empty array is ambiguous. Returning False, but in future this will result in an error. Use `array.size > 0` to check that an array is not empty.\n",
      "  if diff:\n",
      "/Users/joannaouyang/anaconda3/lib/python3.6/site-packages/sklearn/preprocessing/label.py:151: DeprecationWarning: The truth value of an empty array is ambiguous. Returning False, but in future this will result in an error. Use `array.size > 0` to check that an array is not empty.\n",
      "  if diff:\n",
      "/Users/joannaouyang/anaconda3/lib/python3.6/site-packages/sklearn/preprocessing/label.py:151: DeprecationWarning: The truth value of an empty array is ambiguous. Returning False, but in future this will result in an error. Use `array.size > 0` to check that an array is not empty.\n",
      "  if diff:\n"
     ]
    },
    {
     "name": "stdout",
     "output_type": "stream",
     "text": [
      "[CV]  subsample=1.0, n_estimators=800, min_child_weight=10, max_depth=6, learning_rate=0.02, gamma=1, colsample_bytree=0.8, total=41.1min\n",
      "[CV] subsample=1.0, n_estimators=800, min_child_weight=1, max_depth=6, learning_rate=0.02, gamma=1, colsample_bytree=0.8 \n"
     ]
    },
    {
     "name": "stderr",
     "output_type": "stream",
     "text": [
      "/Users/joannaouyang/anaconda3/lib/python3.6/site-packages/sklearn/preprocessing/label.py:151: DeprecationWarning: The truth value of an empty array is ambiguous. Returning False, but in future this will result in an error. Use `array.size > 0` to check that an array is not empty.\n",
      "  if diff:\n"
     ]
    },
    {
     "name": "stdout",
     "output_type": "stream",
     "text": [
      "[CV]  subsample=1.0, n_estimators=800, min_child_weight=10, max_depth=6, learning_rate=0.02, gamma=1, colsample_bytree=0.8, total=41.0min\n",
      "[CV] subsample=1.0, n_estimators=800, min_child_weight=1, max_depth=6, learning_rate=0.02, gamma=1, colsample_bytree=0.8 \n"
     ]
    },
    {
     "name": "stderr",
     "output_type": "stream",
     "text": [
      "/Users/joannaouyang/anaconda3/lib/python3.6/site-packages/sklearn/preprocessing/label.py:151: DeprecationWarning: The truth value of an empty array is ambiguous. Returning False, but in future this will result in an error. Use `array.size > 0` to check that an array is not empty.\n",
      "  if diff:\n",
      "/Users/joannaouyang/anaconda3/lib/python3.6/site-packages/sklearn/preprocessing/label.py:151: DeprecationWarning: The truth value of an empty array is ambiguous. Returning False, but in future this will result in an error. Use `array.size > 0` to check that an array is not empty.\n",
      "  if diff:\n",
      "/Users/joannaouyang/anaconda3/lib/python3.6/site-packages/sklearn/preprocessing/label.py:151: DeprecationWarning: The truth value of an empty array is ambiguous. Returning False, but in future this will result in an error. Use `array.size > 0` to check that an array is not empty.\n",
      "  if diff:\n"
     ]
    },
    {
     "name": "stdout",
     "output_type": "stream",
     "text": [
      "[CV]  subsample=1.0, n_estimators=800, min_child_weight=10, max_depth=6, learning_rate=0.02, gamma=1, colsample_bytree=0.8, total=41.0min\n",
      "[CV] subsample=0.6, n_estimators=100, min_child_weight=10, max_depth=5, learning_rate=0.01, gamma=5, colsample_bytree=0.9 \n"
     ]
    },
    {
     "name": "stderr",
     "output_type": "stream",
     "text": [
      "/Users/joannaouyang/anaconda3/lib/python3.6/site-packages/sklearn/preprocessing/label.py:151: DeprecationWarning: The truth value of an empty array is ambiguous. Returning False, but in future this will result in an error. Use `array.size > 0` to check that an array is not empty.\n",
      "  if diff:\n"
     ]
    },
    {
     "name": "stdout",
     "output_type": "stream",
     "text": [
      "[CV]  subsample=1.0, n_estimators=800, min_child_weight=1, max_depth=6, learning_rate=0.02, gamma=1, colsample_bytree=0.8, total=41.2min\n",
      "[CV] subsample=0.6, n_estimators=100, min_child_weight=10, max_depth=5, learning_rate=0.01, gamma=5, colsample_bytree=0.9 \n"
     ]
    },
    {
     "name": "stderr",
     "output_type": "stream",
     "text": [
      "/Users/joannaouyang/anaconda3/lib/python3.6/site-packages/sklearn/preprocessing/label.py:151: DeprecationWarning: The truth value of an empty array is ambiguous. Returning False, but in future this will result in an error. Use `array.size > 0` to check that an array is not empty.\n",
      "  if diff:\n",
      "/Users/joannaouyang/anaconda3/lib/python3.6/site-packages/sklearn/preprocessing/label.py:151: DeprecationWarning: The truth value of an empty array is ambiguous. Returning False, but in future this will result in an error. Use `array.size > 0` to check that an array is not empty.\n",
      "  if diff:\n"
     ]
    },
    {
     "name": "stdout",
     "output_type": "stream",
     "text": [
      "[CV]  subsample=0.6, n_estimators=100, min_child_weight=10, max_depth=5, learning_rate=0.01, gamma=5, colsample_bytree=0.9, total= 4.8min\n",
      "[CV] subsample=0.6, n_estimators=100, min_child_weight=10, max_depth=5, learning_rate=0.01, gamma=5, colsample_bytree=0.9 \n"
     ]
    },
    {
     "name": "stderr",
     "output_type": "stream",
     "text": [
      "/Users/joannaouyang/anaconda3/lib/python3.6/site-packages/sklearn/preprocessing/label.py:151: DeprecationWarning: The truth value of an empty array is ambiguous. Returning False, but in future this will result in an error. Use `array.size > 0` to check that an array is not empty.\n",
      "  if diff:\n",
      "/Users/joannaouyang/anaconda3/lib/python3.6/site-packages/sklearn/preprocessing/label.py:151: DeprecationWarning: The truth value of an empty array is ambiguous. Returning False, but in future this will result in an error. Use `array.size > 0` to check that an array is not empty.\n",
      "  if diff:\n"
     ]
    },
    {
     "name": "stdout",
     "output_type": "stream",
     "text": [
      "[CV]  subsample=0.6, n_estimators=100, min_child_weight=10, max_depth=5, learning_rate=0.01, gamma=5, colsample_bytree=0.9, total= 4.7min\n",
      "[CV] subsample=0.6, n_estimators=500, min_child_weight=5, max_depth=5, learning_rate=0.01, gamma=0, colsample_bytree=0.9 \n"
     ]
    },
    {
     "name": "stderr",
     "output_type": "stream",
     "text": [
      "/Users/joannaouyang/anaconda3/lib/python3.6/site-packages/sklearn/preprocessing/label.py:151: DeprecationWarning: The truth value of an empty array is ambiguous. Returning False, but in future this will result in an error. Use `array.size > 0` to check that an array is not empty.\n",
      "  if diff:\n",
      "/Users/joannaouyang/anaconda3/lib/python3.6/site-packages/sklearn/preprocessing/label.py:151: DeprecationWarning: The truth value of an empty array is ambiguous. Returning False, but in future this will result in an error. Use `array.size > 0` to check that an array is not empty.\n",
      "  if diff:\n"
     ]
    },
    {
     "name": "stdout",
     "output_type": "stream",
     "text": [
      "[CV]  subsample=0.6, n_estimators=100, min_child_weight=10, max_depth=5, learning_rate=0.01, gamma=5, colsample_bytree=0.9, total= 4.8min\n",
      "[CV] subsample=0.6, n_estimators=500, min_child_weight=5, max_depth=5, learning_rate=0.01, gamma=0, colsample_bytree=0.9 \n"
     ]
    },
    {
     "name": "stderr",
     "output_type": "stream",
     "text": [
      "/Users/joannaouyang/anaconda3/lib/python3.6/site-packages/sklearn/preprocessing/label.py:151: DeprecationWarning: The truth value of an empty array is ambiguous. Returning False, but in future this will result in an error. Use `array.size > 0` to check that an array is not empty.\n",
      "  if diff:\n",
      "/Users/joannaouyang/anaconda3/lib/python3.6/site-packages/sklearn/preprocessing/label.py:151: DeprecationWarning: The truth value of an empty array is ambiguous. Returning False, but in future this will result in an error. Use `array.size > 0` to check that an array is not empty.\n",
      "  if diff:\n",
      "/Users/joannaouyang/anaconda3/lib/python3.6/site-packages/sklearn/preprocessing/label.py:151: DeprecationWarning: The truth value of an empty array is ambiguous. Returning False, but in future this will result in an error. Use `array.size > 0` to check that an array is not empty.\n",
      "  if diff:\n"
     ]
    },
    {
     "name": "stdout",
     "output_type": "stream",
     "text": [
      "[CV]  subsample=1.0, n_estimators=800, min_child_weight=1, max_depth=6, learning_rate=0.02, gamma=1, colsample_bytree=0.8, total=41.2min\n",
      "[CV] subsample=0.6, n_estimators=500, min_child_weight=5, max_depth=5, learning_rate=0.01, gamma=0, colsample_bytree=0.9 \n"
     ]
    },
    {
     "name": "stderr",
     "output_type": "stream",
     "text": [
      "/Users/joannaouyang/anaconda3/lib/python3.6/site-packages/sklearn/preprocessing/label.py:151: DeprecationWarning: The truth value of an empty array is ambiguous. Returning False, but in future this will result in an error. Use `array.size > 0` to check that an array is not empty.\n",
      "  if diff:\n"
     ]
    },
    {
     "name": "stdout",
     "output_type": "stream",
     "text": [
      "[CV]  subsample=1.0, n_estimators=800, min_child_weight=1, max_depth=6, learning_rate=0.02, gamma=1, colsample_bytree=0.8, total=41.4min\n"
     ]
    },
    {
     "name": "stderr",
     "output_type": "stream",
     "text": [
      "/Users/joannaouyang/anaconda3/lib/python3.6/site-packages/sklearn/preprocessing/label.py:151: DeprecationWarning: The truth value of an empty array is ambiguous. Returning False, but in future this will result in an error. Use `array.size > 0` to check that an array is not empty.\n",
      "  if diff:\n",
      "/Users/joannaouyang/anaconda3/lib/python3.6/site-packages/sklearn/preprocessing/label.py:151: DeprecationWarning: The truth value of an empty array is ambiguous. Returning False, but in future this will result in an error. Use `array.size > 0` to check that an array is not empty.\n",
      "  if diff:\n"
     ]
    },
    {
     "name": "stdout",
     "output_type": "stream",
     "text": [
      "[CV]  subsample=0.6, n_estimators=500, min_child_weight=5, max_depth=5, learning_rate=0.01, gamma=0, colsample_bytree=0.9, total=22.6min\n"
     ]
    },
    {
     "name": "stderr",
     "output_type": "stream",
     "text": [
      "/Users/joannaouyang/anaconda3/lib/python3.6/site-packages/sklearn/preprocessing/label.py:151: DeprecationWarning: The truth value of an empty array is ambiguous. Returning False, but in future this will result in an error. Use `array.size > 0` to check that an array is not empty.\n",
      "  if diff:\n",
      "/Users/joannaouyang/anaconda3/lib/python3.6/site-packages/sklearn/preprocessing/label.py:151: DeprecationWarning: The truth value of an empty array is ambiguous. Returning False, but in future this will result in an error. Use `array.size > 0` to check that an array is not empty.\n",
      "  if diff:\n"
     ]
    },
    {
     "name": "stdout",
     "output_type": "stream",
     "text": [
      "[CV]  subsample=0.6, n_estimators=500, min_child_weight=5, max_depth=5, learning_rate=0.01, gamma=0, colsample_bytree=0.9, total=21.2min\n"
     ]
    },
    {
     "name": "stderr",
     "output_type": "stream",
     "text": [
      "/Users/joannaouyang/anaconda3/lib/python3.6/site-packages/sklearn/preprocessing/label.py:151: DeprecationWarning: The truth value of an empty array is ambiguous. Returning False, but in future this will result in an error. Use `array.size > 0` to check that an array is not empty.\n",
      "  if diff:\n",
      "/Users/joannaouyang/anaconda3/lib/python3.6/site-packages/sklearn/preprocessing/label.py:151: DeprecationWarning: The truth value of an empty array is ambiguous. Returning False, but in future this will result in an error. Use `array.size > 0` to check that an array is not empty.\n",
      "  if diff:\n"
     ]
    },
    {
     "name": "stdout",
     "output_type": "stream",
     "text": [
      "[CV]  subsample=0.6, n_estimators=500, min_child_weight=5, max_depth=5, learning_rate=0.01, gamma=0, colsample_bytree=0.9, total=16.2min\n"
     ]
    },
    {
     "name": "stderr",
     "output_type": "stream",
     "text": [
      "[Parallel(n_jobs=-1)]: Done 150 out of 150 | elapsed: 701.4min finished\n"
     ]
    },
    {
     "data": {
      "text/plain": [
       "RandomizedSearchCV(cv=3, error_score='raise',\n",
       "          estimator=XGBClassifier(base_score=0.5, booster='gbtree', colsample_bylevel=1,\n",
       "       colsample_bytree=1, gamma=0, learning_rate=0.1, max_delta_step=0,\n",
       "       max_depth=3, min_child_weight=1, missing=None, n_estimators=100,\n",
       "       n_jobs=1, nthread=None, objective='binary:logistic', random_state=0,\n",
       "       reg_alpha=0, reg_lambda=1, scale_pos_weight=1, seed=None,\n",
       "       silent=True, subsample=1),\n",
       "          fit_params=None, iid=True, n_iter=50, n_jobs=-1,\n",
       "          param_distributions={'min_child_weight': [1, 5, 10], 'gamma': [0, 1, 5], 'subsample': [0.6, 0.8, 1.0], 'colsample_bytree': [0.4, 0.6, 0.8, 0.9], 'max_depth': [3, 4, 5, 6], 'learning_rate': [0.01, 0.02, 0.03], 'n_estimators': [80, 100, 300, 500, 800, 1000]},\n",
       "          pre_dispatch='2*n_jobs', random_state=None, refit=True,\n",
       "          return_train_score='warn', scoring='f1', verbose=2)"
      ]
     },
     "execution_count": 152,
     "metadata": {},
     "output_type": "execute_result"
    }
   ],
   "source": [
    "# Build XGB model\n",
    "xgb = XGBClassifier(objective = 'binary:logistic')\n",
    "\n",
    "# Random search of parameters, using 3 fold cross validation, \n",
    "# search across 100 different combinations, and use all available cores\n",
    "xgb_random = RandomizedSearchCV(estimator = xgb, \n",
    "                               param_distributions = random_grid, \n",
    "                               n_iter = 50, \n",
    "                               cv = 3, \n",
    "                               verbose = 2,\n",
    "                               scoring = 'f1',\n",
    "                               n_jobs = -1)\n",
    "\n",
    "# Fit the random search model\n",
    "xgb_random.fit(X_train_xgb, y_binary_train)"
   ]
  },
  {
   "cell_type": "code",
   "execution_count": 154,
   "metadata": {},
   "outputs": [
    {
     "data": {
      "text/plain": [
       "{'colsample_bytree': 0.6,\n",
       " 'gamma': 1,\n",
       " 'learning_rate': 0.02,\n",
       " 'max_depth': 6,\n",
       " 'min_child_weight': 10,\n",
       " 'n_estimators': 1000,\n",
       " 'subsample': 0.8}"
      ]
     },
     "execution_count": 154,
     "metadata": {},
     "output_type": "execute_result"
    }
   ],
   "source": [
    "xgb_random.best_params_"
   ]
  },
  {
   "cell_type": "code",
   "execution_count": 153,
   "metadata": {},
   "outputs": [
    {
     "name": "stderr",
     "output_type": "stream",
     "text": [
      "/Users/joannaouyang/anaconda3/lib/python3.6/site-packages/sklearn/preprocessing/label.py:151: DeprecationWarning: The truth value of an empty array is ambiguous. Returning False, but in future this will result in an error. Use `array.size > 0` to check that an array is not empty.\n",
      "  if diff:\n"
     ]
    },
    {
     "name": "stdout",
     "output_type": "stream",
     "text": [
      "             precision    recall  f1-score   support\n",
      "\n",
      "        0.0       0.92      0.98      0.95    440791\n",
      "        1.0       0.85      0.61      0.71     93520\n",
      "\n",
      "avg / total       0.91      0.91      0.91    534311\n",
      "\n"
     ]
    }
   ],
   "source": [
    "# Evaluate the new parameters by predicting the test set results\n",
    "best_random = xgb_random.best_estimator_\n",
    "best_random_prediction = best_random.predict(X_test_xgb)\n",
    "\n",
    "# Evaluate model accuracy on testing set\n",
    "from sklearn.metrics import classification_report\n",
    "print(classification_report(y_binary_test, best_random_prediction))"
   ]
  },
  {
   "cell_type": "code",
   "execution_count": 155,
   "metadata": {},
   "outputs": [
    {
     "name": "stderr",
     "output_type": "stream",
     "text": [
      "/Users/joannaouyang/anaconda3/lib/python3.6/site-packages/sklearn/preprocessing/label.py:151: DeprecationWarning: The truth value of an empty array is ambiguous. Returning False, but in future this will result in an error. Use `array.size > 0` to check that an array is not empty.\n",
      "  if diff:\n"
     ]
    },
    {
     "name": "stdout",
     "output_type": "stream",
     "text": [
      "             precision    recall  f1-score   support\n",
      "\n",
      "        0.0       0.80      0.98      0.88    327793\n",
      "        1.0       0.83      0.32      0.46    117246\n",
      "\n",
      "avg / total       0.81      0.80      0.77    445039\n",
      "\n"
     ]
    }
   ],
   "source": [
    "# Evaluate model accuracy on OOT\n",
    "best_random_prediction_oot = best_random.predict(oot_X_xgb)\n",
    "\n",
    "from sklearn.metrics import classification_report\n",
    "print(classification_report(oot_y, best_random_prediction_oot))"
   ]
  },
  {
   "cell_type": "code",
   "execution_count": 156,
   "metadata": {},
   "outputs": [
    {
     "name": "stderr",
     "output_type": "stream",
     "text": [
      "/Users/joannaouyang/anaconda3/lib/python3.6/site-packages/sklearn/preprocessing/label.py:151: DeprecationWarning: The truth value of an empty array is ambiguous. Returning False, but in future this will result in an error. Use `array.size > 0` to check that an array is not empty.\n",
      "  if diff:\n"
     ]
    },
    {
     "name": "stdout",
     "output_type": "stream",
     "text": [
      "             precision    recall  f1-score   support\n",
      "\n",
      "        0.0       0.92      0.98      0.95   1026842\n",
      "        1.0       0.86      0.61      0.71    219883\n",
      "\n",
      "avg / total       0.91      0.91      0.91   1246725\n",
      "\n"
     ]
    }
   ],
   "source": [
    "# Evaluate model accuracy on training set\n",
    "best_random_prediction_train = best_random.predict(X_train_xgb)\n",
    "\n",
    "from sklearn.metrics import classification_report\n",
    "print(classification_report(y_binary_train, best_random_prediction_train))"
   ]
  }
 ],
 "metadata": {
  "kernelspec": {
   "display_name": "Python 3",
   "language": "python",
   "name": "python3"
  },
  "language_info": {
   "codemirror_mode": {
    "name": "ipython",
    "version": 3
   },
   "file_extension": ".py",
   "mimetype": "text/x-python",
   "name": "python",
   "nbconvert_exporter": "python",
   "pygments_lexer": "ipython3",
   "version": "3.6.3"
  }
 },
 "nbformat": 4,
 "nbformat_minor": 2
}
