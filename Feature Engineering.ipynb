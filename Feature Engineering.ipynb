{
 "cells": [
  {
   "cell_type": "markdown",
   "metadata": {},
   "source": [
    "## Feature Enginnering\n",
    "1. Dividing dataset into modeling part and out-of-time part\n",
    "2. Constructing variables separately on two datasets"
   ]
  },
  {
   "cell_type": "code",
   "execution_count": 59,
   "metadata": {},
   "outputs": [],
   "source": [
    "import pandas as pd\n",
    "import numpy as np\n",
    "import time"
   ]
  },
  {
   "cell_type": "code",
   "execution_count": 37,
   "metadata": {},
   "outputs": [],
   "source": [
    "# Read in cleaned dataset\n",
    "data = pd.read_csv('data_0416.csv')"
   ]
  },
  {
   "cell_type": "code",
   "execution_count": 38,
   "metadata": {},
   "outputs": [],
   "source": [
    "# Remove index columns and unify date format\n",
    "data = data.drop(data.columns[0:2], axis = 1)\n",
    "data['DATE'] = pd.to_datetime(data['DATE']).dt.date\n",
    "data['RELEASE_DATE'] = pd.to_datetime(data['RELEASE_DATE']).dt.date"
   ]
  },
  {
   "cell_type": "code",
   "execution_count": 139,
   "metadata": {},
   "outputs": [
    {
     "name": "stdout",
     "output_type": "stream",
     "text": [
      "<class 'pandas.core.frame.DataFrame'>\n",
      "Int64Index: 2226075 entries, 1804633 to 1609613\n",
      "Data columns (total 15 columns):\n",
      "Unnamed: 0                                     int64\n",
      "Unnamed: 0.1                                   int64\n",
      "HASHED_ATOM_CUSTOMER_ID                        object\n",
      "OS_TYPE_e                                      object\n",
      "PRODUCTION_ID                                  int64\n",
      "RATINGS                                        int64\n",
      "MOVIE_DETAILS_PAGES_VIEWED_BY_CUSTOMER         int64\n",
      "MOVIE_DETAILS_PAGES_VIEWED_BY_ALL_CUSTOMERS    int64\n",
      "USER_SHARE_OF_ALL_MOVIE_DETAIL_PAGES           float64\n",
      "WANT_TO_SEE_CLICKS                             int64\n",
      "TRAILER_VIEWS                                  int64\n",
      "LOAD_TIME_e                                    object\n",
      "TICKETS                                        float64\n",
      "RELEASE_DATE                                   object\n",
      "DATE                                           datetime64[ns]\n",
      "dtypes: datetime64[ns](1), float64(2), int64(8), object(4)\n",
      "memory usage: 271.7+ MB\n"
     ]
    }
   ],
   "source": [
    "data.info()"
   ]
  },
  {
   "cell_type": "markdown",
   "metadata": {},
   "source": [
    "## Dividing Dataset"
   ]
  },
  {
   "cell_type": "code",
   "execution_count": 50,
   "metadata": {},
   "outputs": [
    {
     "name": "stdout",
     "output_type": "stream",
     "text": [
      "2017-04-01 2019-01-08\n"
     ]
    }
   ],
   "source": [
    "# subset an out-of-time dataset for future testing\n",
    "data = data.sort_values(by = ['DATE'])\n",
    "print(data['DATE'].min(), data['DATE'].max())"
   ]
  },
  {
   "cell_type": "code",
   "execution_count": 51,
   "metadata": {},
   "outputs": [
    {
     "data": {
      "text/plain": [
       "243679    2018-06-22\n",
       "Name: DATE, dtype: object"
      ]
     },
     "execution_count": 51,
     "metadata": {},
     "output_type": "execute_result"
    }
   ],
   "source": [
    "# Check the date at 80% of the dataset\n",
    "data.iloc[[int(len(data) * 0.8)]]['DATE'] #2018-06-22"
   ]
  },
  {
   "cell_type": "code",
   "execution_count": 68,
   "metadata": {},
   "outputs": [
    {
     "name": "stdout",
     "output_type": "stream",
     "text": [
      "oot dataset covers 19.99209370753456 % of the entire datset\n",
      "oot dataset covers 80.00790629246544 % of the entire datset\n"
     ]
    }
   ],
   "source": [
    "# All rows after 2018-06-22, excluding 2018-06-22, will be subset into out-of-time dataset\n",
    "print(\"oot dataset covers\", \n",
    "      data[data.DATE > pd.to_datetime('2018-06-22').date()].shape[0] / len(data) * 100, \n",
    "      \"% of the entire datset\")\n",
    "oot_data = data[data.DATE > pd.to_datetime('2018-06-22').date()]\n",
    "print(\"the rest of the dataset covers\", \n",
    "      data[data.DATE <= pd.to_datetime('2018-06-22').date()].shape[0] / len(data) * 100, \n",
    "      \"% of the entire datset\")\n",
    "data_for_model = data[data.DATE <= pd.to_datetime('2018-06-22').date()]"
   ]
  },
  {
   "cell_type": "markdown",
   "metadata": {},
   "source": [
    "## Variable Construction"
   ]
  },
  {
   "cell_type": "code",
   "execution_count": 120,
   "metadata": {},
   "outputs": [],
   "source": [
    "# Prepare data for rolling window calculation\n",
    "data_for_model['DATE'] = pd.to_datetime(data_for_model['DATE'])"
   ]
  },
  {
   "cell_type": "code",
   "execution_count": 74,
   "metadata": {},
   "outputs": [
    {
     "name": "stdout",
     "output_type": "stream",
     "text": [
      "--- 18278.720068216324 seconds ---\n"
     ]
    }
   ],
   "source": [
    "#Pages-window\n",
    "start_time = time.time()\n",
    "data_for_model = data_for_model.sort_values(by = ['HASHED_ATOM_CUSTOMER_ID', 'DATE'])\n",
    "data_index = data_for_model.set_index('DATE')\n",
    "for agg in ['mean', 'max', 'median', 'sum', 'count']: \n",
    "    for days in ['1d', '3d', '7d', '14d', '30d']:\n",
    "        data_for_model[agg + '_' + 'HASHED_ATOM_CUSTOMER_ID' + \"_\" + days+'_pages'] = getattr(data_index.groupby('HASHED_ATOM_CUSTOMER_ID')['MOVIE_DETAILS_PAGES_VIEWED_BY_CUSTOMER'].rolling(days),agg)().values\n",
    "       # data['Actual/' + agg + \"_\" + 'HASHED_ATOM_CUSTOMER_ID' + \"_\" + days] = data['MOVIE_DETAILS_PAGES_VIEWED_BY_CUSTOMER']/data[agg + '_' + 'HASHED_ATOM_CUSTOMER_ID' + \"_\" + days]\n",
    "print(\"--- %s seconds ---\" % (time.time() - start_time))"
   ]
  },
  {
   "cell_type": "code",
   "execution_count": 122,
   "metadata": {},
   "outputs": [
    {
     "name": "stdout",
     "output_type": "stream",
     "text": [
      "--- 15435.411114931107 seconds ---\n"
     ]
    }
   ],
   "source": [
    "# Pages-window (extend window)\n",
    "start_time = time.time()\n",
    "data_for_model = data_for_model.sort_values(by = ['HASHED_ATOM_CUSTOMER_ID', 'DATE'])\n",
    "data_index = data_for_model.set_index('DATE')\n",
    "for agg in ['mean', 'max', 'median', 'sum', 'count']: \n",
    "    for days in ['28d', '35d', '42d', '49d', '56d']:\n",
    "        data_for_model[agg + '_' + 'HASHED_ATOM_CUSTOMER_ID' + \"_\" + days + '_pages'] = getattr(data_index.groupby('HASHED_ATOM_CUSTOMER_ID')['MOVIE_DETAILS_PAGES_VIEWED_BY_CUSTOMER'].rolling(days),agg)().values\n",
    "       # data['Actual/' + agg + \"_\" + 'HASHED_ATOM_CUSTOMER_ID' + \"_\" + days] = data['MOVIE_DETAILS_PAGES_VIEWED_BY_CUSTOMER']/data[agg + '_' + 'HASHED_ATOM_CUSTOMER_ID' + \"_\" + days]\n",
    "print(\"--- %s seconds ---\" % (time.time() - start_time))"
   ]
  },
  {
   "cell_type": "code",
   "execution_count": 131,
   "metadata": {},
   "outputs": [
    {
     "name": "stdout",
     "output_type": "stream",
     "text": [
      "--- 31028.102921009064 seconds ---\n"
     ]
    }
   ],
   "source": [
    "# RATINGS-window\n",
    "start_time = time.time()\n",
    "data_for_model = data_for_model.sort_values(by = ['HASHED_ATOM_CUSTOMER_ID', 'DATE'])\n",
    "data_index = data_for_model.set_index('DATE')\n",
    "for agg in ['mean', 'max', 'median', 'sum', 'count']: \n",
    "    for days in ['1d', '3d', '7d', '14d', '28d', '30d', '35d', '42d', '49d', '56d']:\n",
    "        data_for_model[agg + '_' + 'HASHED_ATOM_CUSTOMER_ID' + \"_\" + days + '_ratings'] = getattr(data_index.groupby('HASHED_ATOM_CUSTOMER_ID')['RATINGS'].rolling(days),agg)().values\n",
    "        #data['Actual/' + agg + \"_\" + 'HASHED_ATOM_CUSTOMER_ID' + \"_\" + days] = data['RATINGS']/data[agg + '_' + 'HASHED_ATOM_CUSTOMER_ID' + \"_\" + days]\n",
    "print(\"--- %s seconds ---\" % (time.time() - start_time))"
   ]
  },
  {
   "cell_type": "code",
   "execution_count": 79,
   "metadata": {},
   "outputs": [],
   "source": [
    "# drop unnecessary column\n",
    "data_for_model = data_for_model.drop(columns = ['LOAD_TIME_e'])"
   ]
  },
  {
   "cell_type": "code",
   "execution_count": 86,
   "metadata": {},
   "outputs": [],
   "source": [
    "# Variable DATE_TO_RELEASE\n",
    "data_for_model['RELEASE_DATE'] = pd.to_datetime(data_for_model['RELEASE_DATE']).dt.date\n",
    "data_for_model['DATE'] = pd.to_datetime(data_for_model['DATE']).dt.date\n",
    "data_for_model['DATE_TO_RELEASE'] = data_for_model['DATE'] - data_for_model['RELEASE_DATE']"
   ]
  },
  {
   "cell_type": "code",
   "execution_count": 87,
   "metadata": {},
   "outputs": [],
   "source": [
    "# sort dataset by date\n",
    "data_for_model = data_for_model.sort_values(by = 'DATE')"
   ]
  },
  {
   "cell_type": "code",
   "execution_count": 88,
   "metadata": {},
   "outputs": [],
   "source": [
    "# Variable CNT_ENGAGE\n",
    "data_for_model['CNT_ENGAGE'] = data_for_model.groupby('HASHED_ATOM_CUSTOMER_ID').cumcount()"
   ]
  },
  {
   "cell_type": "code",
   "execution_count": 91,
   "metadata": {},
   "outputs": [
    {
     "data": {
      "text/plain": [
       "count    1.781036e+06\n",
       "mean     1.088320e+02\n",
       "std      1.173593e+03\n",
       "min      0.000000e+00\n",
       "25%      0.000000e+00\n",
       "50%      0.000000e+00\n",
       "75%      1.000000e+00\n",
       "max      1.950300e+04\n",
       "Name: CNT_ENGAGE, dtype: float64"
      ]
     },
     "execution_count": 91,
     "metadata": {},
     "output_type": "execute_result"
    }
   ],
   "source": [
    "data_for_model['CNT_ENGAGE'].describe()"
   ]
  },
  {
   "cell_type": "code",
   "execution_count": 92,
   "metadata": {},
   "outputs": [],
   "source": [
    "# Variable CNT_WANT_TO_SEE_CLICKS\n",
    "data_for_model['CNT_WANT_TO_SEE_CLICKS'] = data_for_model.groupby('PRODUCTION_ID')['WANT_TO_SEE_CLICKS'].cumsum()"
   ]
  },
  {
   "cell_type": "code",
   "execution_count": 93,
   "metadata": {},
   "outputs": [],
   "source": [
    "# Variable: CNT_TRAILER_VIEWS\n",
    "data_for_model['CNT_TRAILER_VIEWS'] = data_for_model.groupby('PRODUCTION_ID')['TRAILER_VIEWS'].cumsum()"
   ]
  },
  {
   "cell_type": "code",
   "execution_count": 94,
   "metadata": {},
   "outputs": [],
   "source": [
    "# Variable CNT_MOVIE_ENGAGEMENT\n",
    "data_for_model['CNT_MOVIE_ENGAGEMENT'] = data_for_model.groupby('HASHED_ATOM_CUSTOMER_ID')['PRODUCTION_ID'].cumcount()"
   ]
  },
  {
   "cell_type": "code",
   "execution_count": 95,
   "metadata": {},
   "outputs": [
    {
     "data": {
      "text/plain": [
       "count    1.781036e+06\n",
       "mean     1.088320e+02\n",
       "std      1.173593e+03\n",
       "min      0.000000e+00\n",
       "25%      0.000000e+00\n",
       "50%      0.000000e+00\n",
       "75%      1.000000e+00\n",
       "max      1.950300e+04\n",
       "Name: CNT_MOVIE_ENGAGEMENT, dtype: float64"
      ]
     },
     "execution_count": 95,
     "metadata": {},
     "output_type": "execute_result"
    }
   ],
   "source": [
    "data_for_model['CNT_MOVIE_ENGAGEMENT'].describe()"
   ]
  },
  {
   "cell_type": "code",
   "execution_count": 96,
   "metadata": {},
   "outputs": [],
   "source": [
    "# Variable TICKETS_CLASS\n",
    "data_for_model['TICKETS_CLASS'] = data_for_model['TICKETS'].apply(lambda x: 3 if x >= 3 else x)"
   ]
  },
  {
   "cell_type": "code",
   "execution_count": 98,
   "metadata": {},
   "outputs": [],
   "source": [
    "# Variable WEEKDAY_OF_ENGAGEMENT\n",
    "data_for_model['WEEKDAY_OF_ENGAGEMENT'] = data_for_model['DATE'].apply(lambda x: x.weekday())"
   ]
  },
  {
   "cell_type": "code",
   "execution_count": 143,
   "metadata": {},
   "outputs": [
    {
     "name": "stdout",
     "output_type": "stream",
     "text": [
      "<class 'pandas.core.frame.DataFrame'>\n",
      "Int64Index: 1781036 entries, 1804633 to 1609613\n",
      "Data columns (total 119 columns):\n",
      "HASHED_ATOM_CUSTOMER_ID                        1781036 non-null object\n",
      "OS_TYPE_e                                      1781036 non-null object\n",
      "PRODUCTION_ID                                  1781036 non-null int64\n",
      "RATINGS                                        1781036 non-null int64\n",
      "MOVIE_DETAILS_PAGES_VIEWED_BY_CUSTOMER         1781036 non-null int64\n",
      "MOVIE_DETAILS_PAGES_VIEWED_BY_ALL_CUSTOMERS    1781036 non-null int64\n",
      "USER_SHARE_OF_ALL_MOVIE_DETAIL_PAGES           1781036 non-null float64\n",
      "WANT_TO_SEE_CLICKS                             1781036 non-null int64\n",
      "TRAILER_VIEWS                                  1781036 non-null int64\n",
      "TICKETS                                        1781036 non-null float64\n",
      "RELEASE_DATE                                   1781036 non-null object\n",
      "DATE                                           1781036 non-null datetime64[ns]\n",
      "mean_HASHED_ATOM_CUSTOMER_ID_1d_pages          1781036 non-null float64\n",
      "mean_HASHED_ATOM_CUSTOMER_ID_3d_pages          1781036 non-null float64\n",
      "mean_HASHED_ATOM_CUSTOMER_ID_7d_pages          1781036 non-null float64\n",
      "mean_HASHED_ATOM_CUSTOMER_ID_14d_pages         1781036 non-null float64\n",
      "mean_HASHED_ATOM_CUSTOMER_ID_30d_pages         1781036 non-null float64\n",
      "max_HASHED_ATOM_CUSTOMER_ID_1d_pages           1781036 non-null float64\n",
      "max_HASHED_ATOM_CUSTOMER_ID_3d_pages           1781036 non-null float64\n",
      "max_HASHED_ATOM_CUSTOMER_ID_7d_pages           1781036 non-null float64\n",
      "max_HASHED_ATOM_CUSTOMER_ID_14d_pages          1781036 non-null float64\n",
      "max_HASHED_ATOM_CUSTOMER_ID_30d_pages          1781036 non-null float64\n",
      "median_HASHED_ATOM_CUSTOMER_ID_1d_pages        1781036 non-null float64\n",
      "median_HASHED_ATOM_CUSTOMER_ID_3d_pages        1781036 non-null float64\n",
      "median_HASHED_ATOM_CUSTOMER_ID_7d_pages        1781036 non-null float64\n",
      "median_HASHED_ATOM_CUSTOMER_ID_14d_pages       1781036 non-null float64\n",
      "median_HASHED_ATOM_CUSTOMER_ID_30d_pages       1781036 non-null float64\n",
      "sum_HASHED_ATOM_CUSTOMER_ID_1d_pages           1781036 non-null float64\n",
      "sum_HASHED_ATOM_CUSTOMER_ID_3d_pages           1781036 non-null float64\n",
      "sum_HASHED_ATOM_CUSTOMER_ID_7d_pages           1781036 non-null float64\n",
      "sum_HASHED_ATOM_CUSTOMER_ID_14d_pages          1781036 non-null float64\n",
      "sum_HASHED_ATOM_CUSTOMER_ID_30d_pages          1781036 non-null float64\n",
      "count_HASHED_ATOM_CUSTOMER_ID_1d_pages         1781036 non-null float64\n",
      "count_HASHED_ATOM_CUSTOMER_ID_3d_pages         1781036 non-null float64\n",
      "count_HASHED_ATOM_CUSTOMER_ID_7d_pages         1781036 non-null float64\n",
      "count_HASHED_ATOM_CUSTOMER_ID_14d_pages        1781036 non-null float64\n",
      "count_HASHED_ATOM_CUSTOMER_ID_30d_pages        1781036 non-null float64\n",
      "DATE_TO_RELEASE                                1781036 non-null timedelta64[ns]\n",
      "CNT_ENGAGE                                     1781036 non-null int64\n",
      "CNT_WANT_TO_SEE_CLICKS                         1781036 non-null int64\n",
      "CNT_TRAILER_VIEWS                              1781036 non-null int64\n",
      "CNT_MOVIE_ENGAGEMENT                           1781036 non-null int64\n",
      "TICKETS_CLASS                                  1781036 non-null float64\n",
      "WEEKDAY_OF_ENGAGEMENT                          1781036 non-null int64\n",
      "mean_HASHED_ATOM_CUSTOMER_ID_28d_pages         1781036 non-null float64\n",
      "mean_HASHED_ATOM_CUSTOMER_ID_35d_pages         1781036 non-null float64\n",
      "mean_HASHED_ATOM_CUSTOMER_ID_42d_pages         1781036 non-null float64\n",
      "mean_HASHED_ATOM_CUSTOMER_ID_49d_pages         1781036 non-null float64\n",
      "mean_HASHED_ATOM_CUSTOMER_ID_56d_pages         1781036 non-null float64\n",
      "max_HASHED_ATOM_CUSTOMER_ID_28d_pages          1781036 non-null float64\n",
      "max_HASHED_ATOM_CUSTOMER_ID_35d_pages          1781036 non-null float64\n",
      "max_HASHED_ATOM_CUSTOMER_ID_42d_pages          1781036 non-null float64\n",
      "max_HASHED_ATOM_CUSTOMER_ID_49d_pages          1781036 non-null float64\n",
      "max_HASHED_ATOM_CUSTOMER_ID_56d_pages          1781036 non-null float64\n",
      "median_HASHED_ATOM_CUSTOMER_ID_28d_pages       1781036 non-null float64\n",
      "median_HASHED_ATOM_CUSTOMER_ID_35d_pages       1781036 non-null float64\n",
      "median_HASHED_ATOM_CUSTOMER_ID_42d_pages       1781036 non-null float64\n",
      "median_HASHED_ATOM_CUSTOMER_ID_49d_pages       1781036 non-null float64\n",
      "median_HASHED_ATOM_CUSTOMER_ID_56d_pages       1781036 non-null float64\n",
      "sum_HASHED_ATOM_CUSTOMER_ID_28d_pages          1781036 non-null float64\n",
      "sum_HASHED_ATOM_CUSTOMER_ID_35d_pages          1781036 non-null float64\n",
      "sum_HASHED_ATOM_CUSTOMER_ID_42d_pages          1781036 non-null float64\n",
      "sum_HASHED_ATOM_CUSTOMER_ID_49d_pages          1781036 non-null float64\n",
      "sum_HASHED_ATOM_CUSTOMER_ID_56d_pages          1781036 non-null float64\n",
      "count_HASHED_ATOM_CUSTOMER_ID_28d_pages        1781036 non-null float64\n",
      "count_HASHED_ATOM_CUSTOMER_ID_35d_pages        1781036 non-null float64\n",
      "count_HASHED_ATOM_CUSTOMER_ID_42d_pages        1781036 non-null float64\n",
      "count_HASHED_ATOM_CUSTOMER_ID_49d_pages        1781036 non-null float64\n",
      "count_HASHED_ATOM_CUSTOMER_ID_56d_pages        1781036 non-null float64\n",
      "mean_HASHED_ATOM_CUSTOMER_ID_1d_ratings        1781036 non-null float64\n",
      "mean_HASHED_ATOM_CUSTOMER_ID_3d_ratings        1781036 non-null float64\n",
      "mean_HASHED_ATOM_CUSTOMER_ID_7d_ratings        1781036 non-null float64\n",
      "mean_HASHED_ATOM_CUSTOMER_ID_14d_ratings       1781036 non-null float64\n",
      "mean_HASHED_ATOM_CUSTOMER_ID_28d_ratings       1781036 non-null float64\n",
      "mean_HASHED_ATOM_CUSTOMER_ID_30d_ratings       1781036 non-null float64\n",
      "mean_HASHED_ATOM_CUSTOMER_ID_35d_ratings       1781036 non-null float64\n",
      "mean_HASHED_ATOM_CUSTOMER_ID_42d_ratings       1781036 non-null float64\n",
      "mean_HASHED_ATOM_CUSTOMER_ID_49d_ratings       1781036 non-null float64\n",
      "mean_HASHED_ATOM_CUSTOMER_ID_56d_ratings       1781036 non-null float64\n",
      "max_HASHED_ATOM_CUSTOMER_ID_1d_ratings         1781036 non-null float64\n",
      "max_HASHED_ATOM_CUSTOMER_ID_3d_ratings         1781036 non-null float64\n",
      "max_HASHED_ATOM_CUSTOMER_ID_7d_ratings         1781036 non-null float64\n",
      "max_HASHED_ATOM_CUSTOMER_ID_14d_ratings        1781036 non-null float64\n",
      "max_HASHED_ATOM_CUSTOMER_ID_28d_ratings        1781036 non-null float64\n",
      "max_HASHED_ATOM_CUSTOMER_ID_30d_ratings        1781036 non-null float64\n",
      "max_HASHED_ATOM_CUSTOMER_ID_35d_ratings        1781036 non-null float64\n",
      "max_HASHED_ATOM_CUSTOMER_ID_42d_ratings        1781036 non-null float64\n",
      "max_HASHED_ATOM_CUSTOMER_ID_49d_ratings        1781036 non-null float64\n",
      "max_HASHED_ATOM_CUSTOMER_ID_56d_ratings        1781036 non-null float64\n",
      "median_HASHED_ATOM_CUSTOMER_ID_1d_ratings      1781036 non-null float64\n",
      "median_HASHED_ATOM_CUSTOMER_ID_3d_ratings      1781036 non-null float64\n",
      "median_HASHED_ATOM_CUSTOMER_ID_7d_ratings      1781036 non-null float64\n",
      "median_HASHED_ATOM_CUSTOMER_ID_14d_ratings     1781036 non-null float64\n",
      "median_HASHED_ATOM_CUSTOMER_ID_28d_ratings     1781036 non-null float64\n",
      "median_HASHED_ATOM_CUSTOMER_ID_30d_ratings     1781036 non-null float64\n",
      "median_HASHED_ATOM_CUSTOMER_ID_35d_ratings     1781036 non-null float64\n",
      "median_HASHED_ATOM_CUSTOMER_ID_42d_ratings     1781036 non-null float64\n",
      "median_HASHED_ATOM_CUSTOMER_ID_49d_ratings     1781036 non-null float64\n",
      "median_HASHED_ATOM_CUSTOMER_ID_56d_ratings     1781036 non-null float64\n",
      "sum_HASHED_ATOM_CUSTOMER_ID_1d_ratings         1781036 non-null float64\n",
      "sum_HASHED_ATOM_CUSTOMER_ID_3d_ratings         1781036 non-null float64\n",
      "sum_HASHED_ATOM_CUSTOMER_ID_7d_ratings         1781036 non-null float64\n",
      "sum_HASHED_ATOM_CUSTOMER_ID_14d_ratings        1781036 non-null float64\n",
      "sum_HASHED_ATOM_CUSTOMER_ID_28d_ratings        1781036 non-null float64\n",
      "sum_HASHED_ATOM_CUSTOMER_ID_30d_ratings        1781036 non-null float64\n",
      "sum_HASHED_ATOM_CUSTOMER_ID_35d_ratings        1781036 non-null float64\n",
      "sum_HASHED_ATOM_CUSTOMER_ID_42d_ratings        1781036 non-null float64\n",
      "sum_HASHED_ATOM_CUSTOMER_ID_49d_ratings        1781036 non-null float64\n",
      "sum_HASHED_ATOM_CUSTOMER_ID_56d_ratings        1781036 non-null float64\n",
      "count_HASHED_ATOM_CUSTOMER_ID_1d_ratings       1781036 non-null float64\n",
      "count_HASHED_ATOM_CUSTOMER_ID_3d_ratings       1781036 non-null float64\n",
      "count_HASHED_ATOM_CUSTOMER_ID_7d_ratings       1781036 non-null float64\n",
      "count_HASHED_ATOM_CUSTOMER_ID_14d_ratings      1781036 non-null float64\n",
      "count_HASHED_ATOM_CUSTOMER_ID_28d_ratings      1781036 non-null float64\n",
      "count_HASHED_ATOM_CUSTOMER_ID_30d_ratings      1781036 non-null float64\n",
      "count_HASHED_ATOM_CUSTOMER_ID_35d_ratings      1781036 non-null float64\n",
      "count_HASHED_ATOM_CUSTOMER_ID_42d_ratings      1781036 non-null float64\n",
      "count_HASHED_ATOM_CUSTOMER_ID_49d_ratings      1781036 non-null float64\n",
      "count_HASHED_ATOM_CUSTOMER_ID_56d_ratings      1781036 non-null float64\n",
      "dtypes: datetime64[ns](1), float64(103), int64(11), object(3), timedelta64[ns](1)\n",
      "memory usage: 1.6+ GB\n"
     ]
    }
   ],
   "source": [
    "data_for_model.info(verbose = True, null_counts = True)"
   ]
  },
  {
   "cell_type": "markdown",
   "metadata": {},
   "source": [
    "### Repeat the same variable construction process for OOT dataset"
   ]
  },
  {
   "cell_type": "code",
   "execution_count": 133,
   "metadata": {},
   "outputs": [],
   "source": [
    "# Prepare OOT data for rolling window calculation\n",
    "oot_data['DATE'] = pd.to_datetime(oot_data['DATE'])"
   ]
  },
  {
   "cell_type": "code",
   "execution_count": 77,
   "metadata": {},
   "outputs": [
    {
     "name": "stdout",
     "output_type": "stream",
     "text": [
      "--- 2812.2667944431305 seconds ---\n"
     ]
    }
   ],
   "source": [
    "#Pages-window (OOT)\n",
    "start_time = time.time()\n",
    "oot_data = oot_data.sort_values(by = ['HASHED_ATOM_CUSTOMER_ID', 'DATE'])\n",
    "data_index = oot_data.set_index('DATE')\n",
    "for agg in ['mean', 'max', 'median', 'sum', 'count']: \n",
    "    for days in ['1d', '3d', '7d', '14d', '30d']:\n",
    "        oot_data[agg + '_' + 'HASHED_ATOM_CUSTOMER_ID' + \"_\" + days+'_pages'] = getattr(data_index.groupby('HASHED_ATOM_CUSTOMER_ID')['MOVIE_DETAILS_PAGES_VIEWED_BY_CUSTOMER'].rolling(days),agg)().values\n",
    "       # data['Actual/' + agg + \"_\" + 'HASHED_ATOM_CUSTOMER_ID' + \"_\" + days] = data['MOVIE_DETAILS_PAGES_VIEWED_BY_CUSTOMER']/data[agg + '_' + 'HASHED_ATOM_CUSTOMER_ID' + \"_\" + days]\n",
    "print(\"--- %s seconds ---\" % (time.time() - start_time))"
   ]
  },
  {
   "cell_type": "code",
   "execution_count": 134,
   "metadata": {},
   "outputs": [
    {
     "name": "stdout",
     "output_type": "stream",
     "text": [
      "--- 2826.1970880031586 seconds ---\n"
     ]
    }
   ],
   "source": [
    "#Pages-window (OOT) extend\n",
    "start_time = time.time()\n",
    "oot_data = oot_data.sort_values(by = ['HASHED_ATOM_CUSTOMER_ID', 'DATE'])\n",
    "data_index = oot_data.set_index('DATE')\n",
    "for agg in ['mean', 'max', 'median', 'sum', 'count']: \n",
    "    for days in ['28d', '35d', '42d', '49d', '56d']:\n",
    "        oot_data[agg + '_' + 'HASHED_ATOM_CUSTOMER_ID' + \"_\" + days+'_pages'] = getattr(data_index.groupby('HASHED_ATOM_CUSTOMER_ID')['MOVIE_DETAILS_PAGES_VIEWED_BY_CUSTOMER'].rolling(days),agg)().values\n",
    "       # data['Actual/' + agg + \"_\" + 'HASHED_ATOM_CUSTOMER_ID' + \"_\" + days] = data['MOVIE_DETAILS_PAGES_VIEWED_BY_CUSTOMER']/data[agg + '_' + 'HASHED_ATOM_CUSTOMER_ID' + \"_\" + days]\n",
    "print(\"--- %s seconds ---\" % (time.time() - start_time))"
   ]
  },
  {
   "cell_type": "code",
   "execution_count": 135,
   "metadata": {},
   "outputs": [
    {
     "name": "stdout",
     "output_type": "stream",
     "text": [
      "--- 5614.406920194626 seconds ---\n"
     ]
    }
   ],
   "source": [
    "#RATINGS-window (OOT)\n",
    "start_time = time.time()\n",
    "oot_data = oot_data.sort_values(by = ['HASHED_ATOM_CUSTOMER_ID', 'DATE'])\n",
    "data_index = oot_data.set_index('DATE')\n",
    "for agg in ['mean', 'max', 'median', 'sum', 'count']: \n",
    "    for days in ['1d', '3d', '7d', '14d', '28d', '30d', '35d', '42d', '49d', '56d']:\n",
    "        oot_data[agg + '_' + 'HASHED_ATOM_CUSTOMER_ID' + \"_\" + days + '_ratings'] = getattr(data_index.groupby('HASHED_ATOM_CUSTOMER_ID')['RATINGS'].rolling(days),agg)().values\n",
    "        #data['Actual/' + agg + \"_\" + 'HASHED_ATOM_CUSTOMER_ID' + \"_\" + days] = data['RATINGS']/data[agg + '_' + 'HASHED_ATOM_CUSTOMER_ID' + \"_\" + days]\n",
    "print(\"--- %s seconds ---\" % (time.time() - start_time))"
   ]
  },
  {
   "cell_type": "code",
   "execution_count": 99,
   "metadata": {},
   "outputs": [
    {
     "data": {
      "text/plain": [
       "count    445039.000000\n",
       "mean        391.931379\n",
       "std        2166.873331\n",
       "min           0.000000\n",
       "25%           0.000000\n",
       "50%           0.000000\n",
       "75%           2.000000\n",
       "max       18637.000000\n",
       "Name: CNT_ENGAGE, dtype: float64"
      ]
     },
     "execution_count": 99,
     "metadata": {},
     "output_type": "execute_result"
    }
   ],
   "source": [
    "oot_data = oot_data.drop(columns = ['LOAD_TIME_e'])\n",
    "\n",
    "# Variable DATE_TO_RELEASE\n",
    "oot_data['RELEASE_DATE'] = pd.to_datetime(oot_data['RELEASE_DATE']).dt.date\n",
    "oot_data['DATE'] = pd.to_datetime(oot_data['DATE']).dt.date\n",
    "oot_data['DATE_TO_RELEASE'] = oot_data['DATE'] - oot_data['RELEASE_DATE']\n",
    "\n",
    "oot_data = oot_data.sort_values(by = 'DATE')\n",
    "\n",
    "# Variable CNT_ENGAGE\n",
    "oot_data['CNT_ENGAGE'] = oot_data.groupby('HASHED_ATOM_CUSTOMER_ID').cumcount()\n",
    "\n",
    "oot_data['CNT_ENGAGE'].describe()"
   ]
  },
  {
   "cell_type": "code",
   "execution_count": 100,
   "metadata": {},
   "outputs": [
    {
     "data": {
      "text/plain": [
       "count    445039.000000\n",
       "mean        391.931379\n",
       "std        2166.873331\n",
       "min           0.000000\n",
       "25%           0.000000\n",
       "50%           0.000000\n",
       "75%           2.000000\n",
       "max       18637.000000\n",
       "Name: CNT_MOVIE_ENGAGEMENT, dtype: float64"
      ]
     },
     "execution_count": 100,
     "metadata": {},
     "output_type": "execute_result"
    }
   ],
   "source": [
    "# Variable CNT_WANT_TO_SEE_CLICKS\n",
    "oot_data['CNT_WANT_TO_SEE_CLICKS'] = oot_data.groupby('PRODUCTION_ID')['WANT_TO_SEE_CLICKS'].cumsum()\n",
    "\n",
    "# Variable: CNT_TRAILER_VIEWS\n",
    "oot_data['CNT_TRAILER_VIEWS'] = oot_data.groupby('PRODUCTION_ID')['TRAILER_VIEWS'].cumsum()\n",
    "\n",
    "# Variable CNT_MOVIE_ENGAGEMENT\n",
    "oot_data['CNT_MOVIE_ENGAGEMENT'] = oot_data.groupby('HASHED_ATOM_CUSTOMER_ID')['PRODUCTION_ID'].cumcount()\n",
    "\n",
    "oot_data['CNT_MOVIE_ENGAGEMENT'].describe()"
   ]
  },
  {
   "cell_type": "code",
   "execution_count": 101,
   "metadata": {},
   "outputs": [
    {
     "data": {
      "text/plain": [
       "count    445039.000000\n",
       "mean          0.367871\n",
       "std           0.693109\n",
       "min           0.000000\n",
       "25%           0.000000\n",
       "50%           0.000000\n",
       "75%           1.000000\n",
       "max           3.000000\n",
       "Name: TICKETS_CLASS, dtype: float64"
      ]
     },
     "execution_count": 101,
     "metadata": {},
     "output_type": "execute_result"
    }
   ],
   "source": [
    "# Variable TICKETS_CLASS\n",
    "oot_data['TICKETS_CLASS'] = oot_data['TICKETS'].apply(lambda x: 3 if x >= 3 else x)\n",
    "oot_data['TICKETS_CLASS'].describe()"
   ]
  },
  {
   "cell_type": "code",
   "execution_count": 144,
   "metadata": {},
   "outputs": [
    {
     "data": {
      "text/plain": [
       "array([0., 1., 2., 3.])"
      ]
     },
     "execution_count": 144,
     "metadata": {},
     "output_type": "execute_result"
    }
   ],
   "source": [
    "oot_data['TICKETS_CLASS'].unique()"
   ]
  },
  {
   "cell_type": "code",
   "execution_count": 145,
   "metadata": {},
   "outputs": [],
   "source": [
    "# Variable WEEKDAY_OF_ENGAGEMENT\n",
    "oot_data['WEEKDAY_OF_ENGAGEMENT'] = oot_data['DATE'].apply(lambda x: x.weekday())"
   ]
  },
  {
   "cell_type": "code",
   "execution_count": 142,
   "metadata": {},
   "outputs": [
    {
     "name": "stdout",
     "output_type": "stream",
     "text": [
      "<class 'pandas.core.frame.DataFrame'>\n",
      "Int64Index: 445039 entries, 266724 to 278173\n",
      "Data columns (total 119 columns):\n",
      "HASHED_ATOM_CUSTOMER_ID                        445039 non-null object\n",
      "OS_TYPE_e                                      445039 non-null object\n",
      "PRODUCTION_ID                                  445039 non-null int64\n",
      "RATINGS                                        445039 non-null int64\n",
      "MOVIE_DETAILS_PAGES_VIEWED_BY_CUSTOMER         445039 non-null int64\n",
      "MOVIE_DETAILS_PAGES_VIEWED_BY_ALL_CUSTOMERS    445039 non-null int64\n",
      "USER_SHARE_OF_ALL_MOVIE_DETAIL_PAGES           445039 non-null float64\n",
      "WANT_TO_SEE_CLICKS                             445039 non-null int64\n",
      "TRAILER_VIEWS                                  445039 non-null int64\n",
      "TICKETS                                        445039 non-null float64\n",
      "RELEASE_DATE                                   445039 non-null object\n",
      "DATE                                           445039 non-null datetime64[ns]\n",
      "mean_HASHED_ATOM_CUSTOMER_ID_1d_pages          445039 non-null float64\n",
      "mean_HASHED_ATOM_CUSTOMER_ID_3d_pages          445039 non-null float64\n",
      "mean_HASHED_ATOM_CUSTOMER_ID_7d_pages          445039 non-null float64\n",
      "mean_HASHED_ATOM_CUSTOMER_ID_14d_pages         445039 non-null float64\n",
      "mean_HASHED_ATOM_CUSTOMER_ID_30d_pages         445039 non-null float64\n",
      "max_HASHED_ATOM_CUSTOMER_ID_1d_pages           445039 non-null float64\n",
      "max_HASHED_ATOM_CUSTOMER_ID_3d_pages           445039 non-null float64\n",
      "max_HASHED_ATOM_CUSTOMER_ID_7d_pages           445039 non-null float64\n",
      "max_HASHED_ATOM_CUSTOMER_ID_14d_pages          445039 non-null float64\n",
      "max_HASHED_ATOM_CUSTOMER_ID_30d_pages          445039 non-null float64\n",
      "median_HASHED_ATOM_CUSTOMER_ID_1d_pages        445039 non-null float64\n",
      "median_HASHED_ATOM_CUSTOMER_ID_3d_pages        445039 non-null float64\n",
      "median_HASHED_ATOM_CUSTOMER_ID_7d_pages        445039 non-null float64\n",
      "median_HASHED_ATOM_CUSTOMER_ID_14d_pages       445039 non-null float64\n",
      "median_HASHED_ATOM_CUSTOMER_ID_30d_pages       445039 non-null float64\n",
      "sum_HASHED_ATOM_CUSTOMER_ID_1d_pages           445039 non-null float64\n",
      "sum_HASHED_ATOM_CUSTOMER_ID_3d_pages           445039 non-null float64\n",
      "sum_HASHED_ATOM_CUSTOMER_ID_7d_pages           445039 non-null float64\n",
      "sum_HASHED_ATOM_CUSTOMER_ID_14d_pages          445039 non-null float64\n",
      "sum_HASHED_ATOM_CUSTOMER_ID_30d_pages          445039 non-null float64\n",
      "count_HASHED_ATOM_CUSTOMER_ID_1d_pages         445039 non-null float64\n",
      "count_HASHED_ATOM_CUSTOMER_ID_3d_pages         445039 non-null float64\n",
      "count_HASHED_ATOM_CUSTOMER_ID_7d_pages         445039 non-null float64\n",
      "count_HASHED_ATOM_CUSTOMER_ID_14d_pages        445039 non-null float64\n",
      "count_HASHED_ATOM_CUSTOMER_ID_30d_pages        445039 non-null float64\n",
      "mean_HASHED_ATOM_CUSTOMER_ID_1d_ratings        445039 non-null float64\n",
      "mean_HASHED_ATOM_CUSTOMER_ID_3d_ratings        445039 non-null float64\n",
      "mean_HASHED_ATOM_CUSTOMER_ID_7d_ratings        445039 non-null float64\n",
      "mean_HASHED_ATOM_CUSTOMER_ID_14d_ratings       445039 non-null float64\n",
      "mean_HASHED_ATOM_CUSTOMER_ID_30d_ratings       445039 non-null float64\n",
      "max_HASHED_ATOM_CUSTOMER_ID_1d_ratings         445039 non-null float64\n",
      "max_HASHED_ATOM_CUSTOMER_ID_3d_ratings         445039 non-null float64\n",
      "max_HASHED_ATOM_CUSTOMER_ID_7d_ratings         445039 non-null float64\n",
      "max_HASHED_ATOM_CUSTOMER_ID_14d_ratings        445039 non-null float64\n",
      "max_HASHED_ATOM_CUSTOMER_ID_30d_ratings        445039 non-null float64\n",
      "median_HASHED_ATOM_CUSTOMER_ID_1d_ratings      445039 non-null float64\n",
      "median_HASHED_ATOM_CUSTOMER_ID_3d_ratings      445039 non-null float64\n",
      "median_HASHED_ATOM_CUSTOMER_ID_7d_ratings      445039 non-null float64\n",
      "median_HASHED_ATOM_CUSTOMER_ID_14d_ratings     445039 non-null float64\n",
      "median_HASHED_ATOM_CUSTOMER_ID_30d_ratings     445039 non-null float64\n",
      "sum_HASHED_ATOM_CUSTOMER_ID_1d_ratings         445039 non-null float64\n",
      "sum_HASHED_ATOM_CUSTOMER_ID_3d_ratings         445039 non-null float64\n",
      "sum_HASHED_ATOM_CUSTOMER_ID_7d_ratings         445039 non-null float64\n",
      "sum_HASHED_ATOM_CUSTOMER_ID_14d_ratings        445039 non-null float64\n",
      "sum_HASHED_ATOM_CUSTOMER_ID_30d_ratings        445039 non-null float64\n",
      "count_HASHED_ATOM_CUSTOMER_ID_1d_ratings       445039 non-null float64\n",
      "count_HASHED_ATOM_CUSTOMER_ID_3d_ratings       445039 non-null float64\n",
      "count_HASHED_ATOM_CUSTOMER_ID_7d_ratings       445039 non-null float64\n",
      "count_HASHED_ATOM_CUSTOMER_ID_14d_ratings      445039 non-null float64\n",
      "count_HASHED_ATOM_CUSTOMER_ID_30d_ratings      445039 non-null float64\n",
      "DATE_TO_RELEASE                                445039 non-null timedelta64[ns]\n",
      "CNT_ENGAGE                                     445039 non-null int64\n",
      "CNT_WANT_TO_SEE_CLICKS                         445039 non-null int64\n",
      "CNT_TRAILER_VIEWS                              445039 non-null int64\n",
      "CNT_MOVIE_ENGAGEMENT                           445039 non-null int64\n",
      "TICKETS_CLASS                                  445039 non-null float64\n",
      "WEEKDAY_OF_ENGAGEMENT                          445039 non-null int64\n",
      "mean_HASHED_ATOM_CUSTOMER_ID_28d_pages         445039 non-null float64\n",
      "mean_HASHED_ATOM_CUSTOMER_ID_35d_pages         445039 non-null float64\n",
      "mean_HASHED_ATOM_CUSTOMER_ID_42d_pages         445039 non-null float64\n",
      "mean_HASHED_ATOM_CUSTOMER_ID_49d_pages         445039 non-null float64\n",
      "mean_HASHED_ATOM_CUSTOMER_ID_56d_pages         445039 non-null float64\n",
      "max_HASHED_ATOM_CUSTOMER_ID_28d_pages          445039 non-null float64\n",
      "max_HASHED_ATOM_CUSTOMER_ID_35d_pages          445039 non-null float64\n",
      "max_HASHED_ATOM_CUSTOMER_ID_42d_pages          445039 non-null float64\n",
      "max_HASHED_ATOM_CUSTOMER_ID_49d_pages          445039 non-null float64\n",
      "max_HASHED_ATOM_CUSTOMER_ID_56d_pages          445039 non-null float64\n",
      "median_HASHED_ATOM_CUSTOMER_ID_28d_pages       445039 non-null float64\n",
      "median_HASHED_ATOM_CUSTOMER_ID_35d_pages       445039 non-null float64\n",
      "median_HASHED_ATOM_CUSTOMER_ID_42d_pages       445039 non-null float64\n",
      "median_HASHED_ATOM_CUSTOMER_ID_49d_pages       445039 non-null float64\n",
      "median_HASHED_ATOM_CUSTOMER_ID_56d_pages       445039 non-null float64\n",
      "sum_HASHED_ATOM_CUSTOMER_ID_28d_pages          445039 non-null float64\n",
      "sum_HASHED_ATOM_CUSTOMER_ID_35d_pages          445039 non-null float64\n",
      "sum_HASHED_ATOM_CUSTOMER_ID_42d_pages          445039 non-null float64\n",
      "sum_HASHED_ATOM_CUSTOMER_ID_49d_pages          445039 non-null float64\n",
      "sum_HASHED_ATOM_CUSTOMER_ID_56d_pages          445039 non-null float64\n",
      "count_HASHED_ATOM_CUSTOMER_ID_28d_pages        445039 non-null float64\n",
      "count_HASHED_ATOM_CUSTOMER_ID_35d_pages        445039 non-null float64\n",
      "count_HASHED_ATOM_CUSTOMER_ID_42d_pages        445039 non-null float64\n",
      "count_HASHED_ATOM_CUSTOMER_ID_49d_pages        445039 non-null float64\n",
      "count_HASHED_ATOM_CUSTOMER_ID_56d_pages        445039 non-null float64\n",
      "mean_HASHED_ATOM_CUSTOMER_ID_28d_ratings       445039 non-null float64\n",
      "mean_HASHED_ATOM_CUSTOMER_ID_35d_ratings       445039 non-null float64\n",
      "mean_HASHED_ATOM_CUSTOMER_ID_42d_ratings       445039 non-null float64\n",
      "mean_HASHED_ATOM_CUSTOMER_ID_49d_ratings       445039 non-null float64\n",
      "mean_HASHED_ATOM_CUSTOMER_ID_56d_ratings       445039 non-null float64\n",
      "max_HASHED_ATOM_CUSTOMER_ID_28d_ratings        445039 non-null float64\n",
      "max_HASHED_ATOM_CUSTOMER_ID_35d_ratings        445039 non-null float64\n",
      "max_HASHED_ATOM_CUSTOMER_ID_42d_ratings        445039 non-null float64\n",
      "max_HASHED_ATOM_CUSTOMER_ID_49d_ratings        445039 non-null float64\n",
      "max_HASHED_ATOM_CUSTOMER_ID_56d_ratings        445039 non-null float64\n",
      "median_HASHED_ATOM_CUSTOMER_ID_28d_ratings     445039 non-null float64\n",
      "median_HASHED_ATOM_CUSTOMER_ID_35d_ratings     445039 non-null float64\n",
      "median_HASHED_ATOM_CUSTOMER_ID_42d_ratings     445039 non-null float64\n",
      "median_HASHED_ATOM_CUSTOMER_ID_49d_ratings     445039 non-null float64\n",
      "median_HASHED_ATOM_CUSTOMER_ID_56d_ratings     445039 non-null float64\n",
      "sum_HASHED_ATOM_CUSTOMER_ID_28d_ratings        445039 non-null float64\n",
      "sum_HASHED_ATOM_CUSTOMER_ID_35d_ratings        445039 non-null float64\n",
      "sum_HASHED_ATOM_CUSTOMER_ID_42d_ratings        445039 non-null float64\n",
      "sum_HASHED_ATOM_CUSTOMER_ID_49d_ratings        445039 non-null float64\n",
      "sum_HASHED_ATOM_CUSTOMER_ID_56d_ratings        445039 non-null float64\n",
      "count_HASHED_ATOM_CUSTOMER_ID_28d_ratings      445039 non-null float64\n",
      "count_HASHED_ATOM_CUSTOMER_ID_35d_ratings      445039 non-null float64\n",
      "count_HASHED_ATOM_CUSTOMER_ID_42d_ratings      445039 non-null float64\n",
      "count_HASHED_ATOM_CUSTOMER_ID_49d_ratings      445039 non-null float64\n",
      "count_HASHED_ATOM_CUSTOMER_ID_56d_ratings      445039 non-null float64\n",
      "dtypes: datetime64[ns](1), float64(103), int64(11), object(3), timedelta64[ns](1)\n",
      "memory usage: 407.4+ MB\n"
     ]
    }
   ],
   "source": [
    "oot_data.info(verbose = True, null_counts = True)"
   ]
  },
  {
   "cell_type": "code",
   "execution_count": 22,
   "metadata": {},
   "outputs": [
    {
     "data": {
      "text/plain": [
       "14860"
      ]
     },
     "execution_count": 22,
     "metadata": {},
     "output_type": "execute_result"
    }
   ],
   "source": [
    "data[data['DATE']=='2017-04-01']['MOVIE_DETAILS_PAGES_VIEWED_BY_CUSTOMER'].sum()"
   ]
  },
  {
   "cell_type": "code",
   "execution_count": 23,
   "metadata": {},
   "outputs": [
    {
     "data": {
      "text/plain": [
       "array([223920])"
      ]
     },
     "execution_count": 23,
     "metadata": {},
     "output_type": "execute_result"
    }
   ],
   "source": [
    "data[data['DATE']=='2017-04-01']['MOVIE_DETAILS_PAGES_VIEWED_BY_ALL_CUSTOMERS'].unique()"
   ]
  },
  {
   "cell_type": "code",
   "execution_count": 138,
   "metadata": {},
   "outputs": [
    {
     "name": "stdout",
     "output_type": "stream",
     "text": [
      "(1781036, 119) (445039, 119)\n"
     ]
    }
   ],
   "source": [
    "print(data_for_model.shape, oot_data.shape)"
   ]
  },
  {
   "cell_type": "code",
   "execution_count": 146,
   "metadata": {},
   "outputs": [],
   "source": [
    "# Exporting the datasets\n",
    "data_for_model.to_csv('modeling_data_v2.csv', index = False)"
   ]
  },
  {
   "cell_type": "code",
   "execution_count": 147,
   "metadata": {},
   "outputs": [],
   "source": [
    "oot_data.to_csv('oot_data_v2.csv', index = False)"
   ]
  }
 ],
 "metadata": {
  "kernelspec": {
   "display_name": "Python 3",
   "language": "python",
   "name": "python3"
  },
  "language_info": {
   "codemirror_mode": {
    "name": "ipython",
    "version": 3
   },
   "file_extension": ".py",
   "mimetype": "text/x-python",
   "name": "python",
   "nbconvert_exporter": "python",
   "pygments_lexer": "ipython3",
   "version": "3.6.5"
  }
 },
 "nbformat": 4,
 "nbformat_minor": 2
}
